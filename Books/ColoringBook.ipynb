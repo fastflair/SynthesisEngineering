{
 "cells": [
  {
   "cell_type": "markdown",
   "id": "25bfe3e0",
   "metadata": {},
   "source": [
    "# Synthesize a coloring book"
   ]
  },
  {
   "cell_type": "code",
   "execution_count": 1,
   "id": "de242f4d",
   "metadata": {},
   "outputs": [
    {
     "name": "stderr",
     "output_type": "stream",
     "text": [
      "2023-05-04 19:42:52.045693: I tensorflow/core/platform/cpu_feature_guard.cc:182] This TensorFlow binary is optimized to use available CPU instructions in performance-critical operations.\n",
      "To enable the following instructions: AVX2 FMA, in other operations, rebuild TensorFlow with the appropriate compiler flags.\n"
     ]
    }
   ],
   "source": [
    "import os\n",
    "import numpy as np\n",
    "import skimage\n",
    "from PIL import Image\n",
    "from PIL.Image import Image as PilImage\n",
    "\n",
    "from diffusers import StableDiffusionPipeline\n",
    "from transformers import AutoTokenizer, AutoModelForCausalLM, AutoImageProcessor, Swin2SRForImageSuperResolution\n",
    "import torch\n",
    "from torch import inf\n",
    "\n",
    "import openai\n",
    "\n",
    "# !pip install python-docx \n",
    "from docx import Document\n",
    "from docx.shared import Inches, Mm\n",
    "import re"
   ]
  },
  {
   "cell_type": "markdown",
   "id": "dafc11b4",
   "metadata": {},
   "source": [
    "## Inputs"
   ]
  },
  {
   "cell_type": "code",
   "execution_count": 2,
   "id": "c53006e2",
   "metadata": {},
   "outputs": [],
   "source": [
    "title = \"Kids playing musical instruments\"\n",
    "topic = \"Fantastic ways kids play musical instruments\"\n",
    "number_pages = 50\n",
    "images_to_generate = 16\n",
    "# upscale image\n",
    "enhance_images = False\n",
    "image_width = 768\n",
    "image_height = 1024\n",
    "image_dir = \"./images\""
   ]
  },
  {
   "cell_type": "markdown",
   "id": "24616ce4",
   "metadata": {},
   "source": [
    "## Define keys and load models"
   ]
  },
  {
   "cell_type": "code",
   "execution_count": 3,
   "id": "05b7486b",
   "metadata": {},
   "outputs": [
    {
     "name": "stderr",
     "output_type": "stream",
     "text": [
      "/home/gensyn/anaconda3/lib/python3.10/site-packages/safetensors/torch.py:98: UserWarning: TypedStorage is deprecated. It will be removed in the future and UntypedStorage will be the only storage class. This should only matter to you if you are using storages directly.  To access UntypedStorage directly, use tensor.untyped_storage() instead of tensor.storage()\n",
      "  with safe_open(filename, framework=\"pt\", device=device) as f:\n",
      "/home/gensyn/anaconda3/lib/python3.10/site-packages/torch/_utils.py:776: UserWarning: TypedStorage is deprecated. It will be removed in the future and UntypedStorage will be the only storage class. This should only matter to you if you are using storages directly.  To access UntypedStorage directly, use tensor.untyped_storage() instead of tensor.storage()\n",
      "  return self.fget.__get__(instance, owner)()\n",
      "/home/gensyn/anaconda3/lib/python3.10/site-packages/torch/storage.py:899: UserWarning: TypedStorage is deprecated. It will be removed in the future and UntypedStorage will be the only storage class. This should only matter to you if you are using storages directly.  To access UntypedStorage directly, use tensor.untyped_storage() instead of tensor.storage()\n",
      "  storage = cls(wrap_storage=untyped_storage)\n",
      "/home/gensyn/anaconda3/lib/python3.10/site-packages/transformers/modeling_utils.py:429: UserWarning: TypedStorage is deprecated. It will be removed in the future and UntypedStorage will be the only storage class. This should only matter to you if you are using storages directly.  To access UntypedStorage directly, use tensor.untyped_storage() instead of tensor.storage()\n",
      "  with safe_open(checkpoint_file, framework=\"pt\") as f:\n"
     ]
    }
   ],
   "source": [
    " # Azure Instance\n",
    "\n",
    "openai.api_key = \"\"\n",
    "# your endpoint should look like the following https://YOUR_RESOURCE_NAME.openai.azure.com/\n",
    "openai.api_base =  \"\" \n",
    "openai.api_version = '2022-12-01' # this may change in the future\n",
    "openai.api_type = 'azure'\n",
    "#This will correspond to the custom name you chose for your deployment when you deployed a model. \n",
    "deployment_name='' \n",
    "\n",
    "def load_prompter():\n",
    "    prompter_model = AutoModelForCausalLM.from_pretrained(\"microsoft/Promptist\")\n",
    "    tokenizer = AutoTokenizer.from_pretrained(\"gpt2\")\n",
    "    tokenizer.pad_token = tokenizer.eos_token\n",
    "    tokenizer.padding_side = \"left\"\n",
    "    return prompter_model, tokenizer\n",
    "\n",
    "prompter_model, prompter_tokenizer = load_prompter()\n",
    "\n",
    "def load_upscaler():\n",
    "    processor = AutoImageProcessor.from_pretrained(\"caidas/swin2SR-classical-sr-x2-64\")\n",
    "    model = Swin2SRForImageSuperResolution.from_pretrained(\"caidas/swin2SR-classical-sr-x2-64\")\n",
    "    return model, processor\n",
    "    \n",
    "upscale_model, upscale_processor = load_upscaler()\n",
    "\n",
    "model_id = \"dreamlike-art/dreamlike-photoreal-2.0\"\n",
    "pipe = StableDiffusionPipeline.from_pretrained(model_id, torch_dtype=torch.float16)\n",
    "pipe = pipe.to(\"cuda\")"
   ]
  },
  {
   "cell_type": "markdown",
   "id": "2c959427",
   "metadata": {},
   "source": [
    "## Helper functions"
   ]
  },
  {
   "cell_type": "code",
   "execution_count": 4,
   "id": "54f61319",
   "metadata": {},
   "outputs": [],
   "source": [
    "# create a sketch for coloring based in an input image\n",
    "def generate_coloring_page(input: PilImage) -> PilImage:\n",
    "    # Convert to grayscale if needed\n",
    "    if input.mode != \"L\":\n",
    "        input = input.convert(\"L\")\n",
    "    np_image = np.asarray(input)\n",
    "    \n",
    "    # detect edges\n",
    "    np_image = skimage.filters.sobel(np_image)\n",
    "    # convert to 8 bpp\n",
    "    np_image = skimage.util.img_as_ubyte(np_image)\n",
    "    # Invert to get dark edges on a light background\n",
    "    np_image = 255 - np_image\n",
    "    # Improve the contrast\n",
    "    np_image = skimage.exposure.rescale_intensity(np_image)\n",
    "    \n",
    "    return Image.fromarray(np_image)\n",
    "\n",
    "# Create ideas for each desired page of the coloring book\n",
    "def generate_coloring_book_page_descriptions(topic, number_pages):\n",
    "    prompt = \"Create \"+str(number_pages)+\" unique ideas for a coloring book on the topic of \"+topic+\"/n/nUnique ideas for coloring book topic:\"\n",
    "    response = openai.Completion.create(\n",
    "            engine=deployment_name,\n",
    "            prompt=prompt,\n",
    "            temperature=0.7,\n",
    "            max_tokens=1500\n",
    "        )\n",
    "    result = response.choices[0].text.strip()\n",
    "    return result\n",
    "\n",
    "# Create fun facts about the image\n",
    "def generate_fun_facts(topic):\n",
    "    prompt = \"Create fun facts about \"+topic+\"/n/nFun facts:\"\n",
    "    response = openai.Completion.create(\n",
    "            engine=deployment_name,\n",
    "            prompt=prompt,\n",
    "            temperature=0.7,\n",
    "            max_tokens=1500\n",
    "        )\n",
    "    result = remove_after_create(response.choices[0].text.strip())\n",
    "    return result\n",
    "\n",
    "# Create fun facts about the image\n",
    "def generate_summary(prompt: str):\n",
    "    response = openai.Completion.create(\n",
    "            engine=deployment_name,\n",
    "            prompt=prompt,\n",
    "            temperature=0.5,\n",
    "            max_tokens=1500\n",
    "        )\n",
    "    result = response.choices[0].text.strip()\n",
    "    return result\n",
    "\n",
    "# parse a string to list based on return characters\n",
    "def parse_string(input_string: str) -> list:\n",
    "    result = []\n",
    "    lines = input_string.split('\\n')\n",
    "    for line in lines:\n",
    "        if not 'Create ' in line and not line == \"\":\n",
    "            result.append(remove_number_period(line.strip()))\n",
    "    return result\n",
    "\n",
    "def remove_after_create(s: str) -> str:\n",
    "    keyword = \"Create \"\n",
    "    index = s.find(keyword)\n",
    "    \n",
    "    if index == -1:\n",
    "        # If \"Create \" is not found, return the original string\n",
    "        return s\n",
    "    \n",
    "    # Find the end index of the keyword\n",
    "    end_index = index + len(keyword)\n",
    "    \n",
    "    # Return the string up to the end of the keyword\n",
    "    return s[:end_index]\n",
    "\n",
    "def remove_number_period(s: str) -> str:\n",
    "    # Use a regular expression to match a number followed by a period and a space\n",
    "    pattern = r'^\\d+\\.\\s'\n",
    "    \n",
    "    # Remove the matched pattern and return the modified string\n",
    "    return re.sub(pattern, '', s).strip()\n",
    "\n",
    "def generate(plain_text: str) -> str:\n",
    "    input_ids = prompter_tokenizer(plain_text.strip()+\" Rephrase:\", return_tensors=\"pt\").input_ids\n",
    "    eos_id = prompter_tokenizer.eos_token_id\n",
    "    outputs = prompter_model.generate(input_ids, do_sample=False, max_new_tokens=75, num_beams=8, num_return_sequences=8, eos_token_id=eos_id, pad_token_id=eos_id, length_penalty=-1.0)\n",
    "    output_texts = prompter_tokenizer.batch_decode(outputs, skip_special_tokens=True)\n",
    "    res = output_texts[0].replace(plain_text+\" Rephrase:\", \"\").strip()\n",
    "    return res\n",
    "\n",
    "def enhance_image(image):\n",
    "    # prepare image for the model\n",
    "    inputs = upscale_processor(image, return_tensors=\"pt\")\n",
    "\n",
    "    # forward pass\n",
    "    with torch.no_grad():\n",
    "        outputs = upscale_model(**inputs)\n",
    "\n",
    "    # postprocess\n",
    "    output = outputs.reconstruction.data.squeeze().float().cpu().clamp_(0, 1).numpy()\n",
    "    output = np.moveaxis(output, source=0, destination=-1)\n",
    "    output = (output * 255.0).round().astype(np.uint8)  # float32 to uint8\n",
    "    \n",
    "    return Image.fromarray(output)\n",
    "\n",
    "def create_directory_if_not_exists(path:str):\n",
    "    \"\"\"\n",
    "    Creates a directory at the specified path if it does not already exist.\n",
    "    \"\"\"\n",
    "    if not os.path.exists(path):\n",
    "        os.makedirs(path)\n",
    "    return"
   ]
  },
  {
   "cell_type": "markdown",
   "id": "8392241b",
   "metadata": {},
   "source": [
    "## Workflow"
   ]
  },
  {
   "cell_type": "code",
   "execution_count": 5,
   "id": "9aa4b9eb",
   "metadata": {},
   "outputs": [
    {
     "name": "stdout",
     "output_type": "stream",
     "text": [
      "1. Kids playing the violin with a magical bow\n",
      "2. Kids using magical powers to play the guitar\n",
      "3. Kids playing the trumpet with a genie's help\n",
      "4. Kids playing the flute with a mermaid's assistance\n",
      "5. Kids playing the drums with the help of a fairy\n",
      "6. Kids playing the piano with the assistance of a leprechaun\n",
      "7. Kids using a wizard's wand to play the harp\n",
      "8. Kids playing the xylophone with the help of a unicorn\n",
      "9. Kids playing the banjo with the help of a dragon\n",
      "10. Kids playing the harmonica with the help of a phoenix\n",
      "11. Kids playing the saxophone with the help of an elf\n",
      "12. Kids playing the tuba with the help of a giant\n",
      "13. Kids playing the trombone with the help of a troll\n",
      "14. Kids playing the kazoo with the help of a fairy godmother\n",
      "15. Kids playing the harmonium with the help of a giant eagle\n",
      "16. Kids playing the oboe with the help of a centaur\n",
      "17. Kids playing the guitar with the help of a wizard's spell\n",
      "18. Kids playing the clarinet with the help of a sea monster\n",
      "19. Kids playing the bagpipes with the help of a mermaid\n",
      "20. Kids playing the cello with the help of a witch\n",
      "21. Kids playing the mandolin with the help of a narwhal\n",
      "22. Kids playing the ukulele with the help of a sea dragon\n",
      "23. Kids playing the lute with the help of a giant squid\n",
      "24. Kids playing the lyre with the help of a sea turtle\n",
      "25. Kids playing the maracas with the help of a merman\n",
      "26. Kids playing a steel drum with the help of a magical octopus\n",
      "27. Kids playing the sitar with the help of a mystical bird\n",
      "28. Kids playing the triangle with the help of a magical butterfly\n",
      "29. Kids playing the zither with the help of a goblin\n",
      "30. Kids playing the accordion with the help of a leviathan\n",
      "31. Kids playing the French horn with the help of a kraken\n",
      "32. Kids playing the dulcimer with the help of a fairy godfather\n",
      "33. Kids playing the bassoon with the help of a centaur\n",
      "34. Kids playing the glockenspiel with the help of a dragon\n",
      "35. Kids playing the shofar with the help of an angel\n",
      "36. Kids playing a didgeridoo with the help of a troll\n",
      "37. Kids playing the conch shell with the help of a giant\n",
      "38. Kids playing the recorder with the help of a unicorn\n",
      "39. Kids playing a bongo drum with the help of a phoenix\n",
      "40. Kids playing the vibraphone with the help of a leprechaun\n",
      "41. Kids playing the xylophone with the help of a fairy\n",
      "42. Kids playing the snare drum with the help of a wizard\n",
      "43. Kids playing the ocarina with the help of a mermaid\n",
      "44. Kids playing the timpani with the help of a giant eagle\n",
      "45. Kids playing the pan flute with the help of a sea monster\n",
      "46. Kids playing the lute with the help of a witch\n",
      "47. Kids playing the marimba with the help of a narwhal\n",
      "48. Kids playing the cajon with the help of a sea dragon\n",
      "49. Kids playing the gong with the help of a magical octopus\n",
      "50. Kids playing the jew's harp with the help of a mystical bird\n"
     ]
    }
   ],
   "source": [
    "# Create page ideas given the desired topic\n",
    "page_ideas = generate_coloring_book_page_descriptions(topic, number_pages)\n",
    "print(page_ideas)"
   ]
  },
  {
   "cell_type": "code",
   "execution_count": 6,
   "id": "6e53fbc4",
   "metadata": {},
   "outputs": [
    {
     "name": "stdout",
     "output_type": "stream",
     "text": [
      "['Kids playing the violin with a magical bow', 'Kids using magical powers to play the guitar', \"Kids playing the trumpet with a genie's help\", \"Kids playing the flute with a mermaid's assistance\", 'Kids playing the drums with the help of a fairy', 'Kids playing the piano with the assistance of a leprechaun', \"Kids using a wizard's wand to play the harp\", 'Kids playing the xylophone with the help of a unicorn', 'Kids playing the banjo with the help of a dragon', 'Kids playing the harmonica with the help of a phoenix', 'Kids playing the saxophone with the help of an elf', 'Kids playing the tuba with the help of a giant', 'Kids playing the trombone with the help of a troll', 'Kids playing the kazoo with the help of a fairy godmother', 'Kids playing the harmonium with the help of a giant eagle', 'Kids playing the oboe with the help of a centaur', \"Kids playing the guitar with the help of a wizard's spell\", 'Kids playing the clarinet with the help of a sea monster', 'Kids playing the bagpipes with the help of a mermaid', 'Kids playing the cello with the help of a witch', 'Kids playing the mandolin with the help of a narwhal', 'Kids playing the ukulele with the help of a sea dragon', 'Kids playing the lute with the help of a giant squid', 'Kids playing the lyre with the help of a sea turtle', 'Kids playing the maracas with the help of a merman', 'Kids playing a steel drum with the help of a magical octopus', 'Kids playing the sitar with the help of a mystical bird', 'Kids playing the triangle with the help of a magical butterfly', 'Kids playing the zither with the help of a goblin', 'Kids playing the accordion with the help of a leviathan', 'Kids playing the French horn with the help of a kraken', 'Kids playing the dulcimer with the help of a fairy godfather', 'Kids playing the bassoon with the help of a centaur', 'Kids playing the glockenspiel with the help of a dragon', 'Kids playing the shofar with the help of an angel', 'Kids playing a didgeridoo with the help of a troll', 'Kids playing the conch shell with the help of a giant', 'Kids playing the recorder with the help of a unicorn', 'Kids playing a bongo drum with the help of a phoenix', 'Kids playing the vibraphone with the help of a leprechaun', 'Kids playing the xylophone with the help of a fairy', 'Kids playing the snare drum with the help of a wizard', 'Kids playing the ocarina with the help of a mermaid', 'Kids playing the timpani with the help of a giant eagle', 'Kids playing the pan flute with the help of a sea monster', 'Kids playing the lute with the help of a witch', 'Kids playing the marimba with the help of a narwhal', 'Kids playing the cajon with the help of a sea dragon', 'Kids playing the gong with the help of a magical octopus', \"Kids playing the jew's harp with the help of a mystical bird\"]\n"
     ]
    }
   ],
   "source": [
    "# parse the page ideas into a list for each page\n",
    "pages = parse_string(page_ideas)\n",
    "print(pages)"
   ]
  },
  {
   "cell_type": "code",
   "execution_count": 7,
   "id": "b96bac35",
   "metadata": {},
   "outputs": [
    {
     "data": {
      "text/plain": [
       "'This fun and educational coloring book introduces children to the wonderful world of musical instruments! Kids will explore a variety of instruments, from traditional instruments like the piano and guitar to more modern instruments like the electronic keyboard and drum machine. Through vibrant illustrations, children will learn about the different sounds each instrument makes and how they can be combined to create unique music. As they color, they will be encouraged to use their imagination and express themselves musically. With Fantastic Ways Kids Play Musical Instruments, kids will have hours of creative fun while learning about the joys of music-making!'"
      ]
     },
     "execution_count": 7,
     "metadata": {},
     "output_type": "execute_result"
    }
   ],
   "source": [
    "# create a summary\n",
    "prompt = \"Create a summary for a coloring book about \"+topic\n",
    "summary = generate_summary(prompt)\n",
    "summary"
   ]
  },
  {
   "cell_type": "code",
   "execution_count": null,
   "id": "1c3755d4",
   "metadata": {
    "scrolled": true
   },
   "outputs": [
    {
     "data": {
      "application/vnd.jupyter.widget-view+json": {
       "model_id": "5094c627246e4997ad47360bddb47e84",
       "version_major": 2,
       "version_minor": 0
      },
      "text/plain": [
       "  0%|          | 0/80 [00:00<?, ?it/s]"
      ]
     },
     "metadata": {},
     "output_type": "display_data"
    },
    {
     "data": {
      "application/vnd.jupyter.widget-view+json": {
       "model_id": "b6fc647a9a75448888bb244040e47368",
       "version_major": 2,
       "version_minor": 0
      },
      "text/plain": [
       "  0%|          | 0/80 [00:00<?, ?it/s]"
      ]
     },
     "metadata": {},
     "output_type": "display_data"
    },
    {
     "data": {
      "application/vnd.jupyter.widget-view+json": {
       "model_id": "d496b7c79242475cb61e827fe203a227",
       "version_major": 2,
       "version_minor": 0
      },
      "text/plain": [
       "  0%|          | 0/80 [00:00<?, ?it/s]"
      ]
     },
     "metadata": {},
     "output_type": "display_data"
    },
    {
     "data": {
      "application/vnd.jupyter.widget-view+json": {
       "model_id": "16de4c122af04a2cac68d413488bbe69",
       "version_major": 2,
       "version_minor": 0
      },
      "text/plain": [
       "  0%|          | 0/80 [00:00<?, ?it/s]"
      ]
     },
     "metadata": {},
     "output_type": "display_data"
    },
    {
     "data": {
      "application/vnd.jupyter.widget-view+json": {
       "model_id": "cdc6aeac211940b29e28ef8dea11d3d7",
       "version_major": 2,
       "version_minor": 0
      },
      "text/plain": [
       "  0%|          | 0/80 [00:00<?, ?it/s]"
      ]
     },
     "metadata": {},
     "output_type": "display_data"
    },
    {
     "data": {
      "application/vnd.jupyter.widget-view+json": {
       "model_id": "bf29ee394ad74348a1e799678cfc03b0",
       "version_major": 2,
       "version_minor": 0
      },
      "text/plain": [
       "  0%|          | 0/80 [00:00<?, ?it/s]"
      ]
     },
     "metadata": {},
     "output_type": "display_data"
    },
    {
     "data": {
      "application/vnd.jupyter.widget-view+json": {
       "model_id": "3c7bf173ba874d568f78cf1122ebec10",
       "version_major": 2,
       "version_minor": 0
      },
      "text/plain": [
       "  0%|          | 0/80 [00:00<?, ?it/s]"
      ]
     },
     "metadata": {},
     "output_type": "display_data"
    },
    {
     "data": {
      "application/vnd.jupyter.widget-view+json": {
       "model_id": "35564fa9d5114ad6b56570086e9f8c32",
       "version_major": 2,
       "version_minor": 0
      },
      "text/plain": [
       "  0%|          | 0/80 [00:00<?, ?it/s]"
      ]
     },
     "metadata": {},
     "output_type": "display_data"
    },
    {
     "data": {
      "application/vnd.jupyter.widget-view+json": {
       "model_id": "5c7d66fe73b943f6ba6f8bc9a37e9b5c",
       "version_major": 2,
       "version_minor": 0
      },
      "text/plain": [
       "  0%|          | 0/80 [00:00<?, ?it/s]"
      ]
     },
     "metadata": {},
     "output_type": "display_data"
    },
    {
     "data": {
      "application/vnd.jupyter.widget-view+json": {
       "model_id": "cda2d913311b4f02836545d1422ec2fd",
       "version_major": 2,
       "version_minor": 0
      },
      "text/plain": [
       "  0%|          | 0/80 [00:00<?, ?it/s]"
      ]
     },
     "metadata": {},
     "output_type": "display_data"
    },
    {
     "data": {
      "application/vnd.jupyter.widget-view+json": {
       "model_id": "ecea29c2f76a416fa9720dc02c1b3026",
       "version_major": 2,
       "version_minor": 0
      },
      "text/plain": [
       "  0%|          | 0/80 [00:00<?, ?it/s]"
      ]
     },
     "metadata": {},
     "output_type": "display_data"
    },
    {
     "data": {
      "application/vnd.jupyter.widget-view+json": {
       "model_id": "981e972de1204da3b1aa1a2314aac0f9",
       "version_major": 2,
       "version_minor": 0
      },
      "text/plain": [
       "  0%|          | 0/80 [00:00<?, ?it/s]"
      ]
     },
     "metadata": {},
     "output_type": "display_data"
    },
    {
     "data": {
      "application/vnd.jupyter.widget-view+json": {
       "model_id": "9dbc5efacded48fc9f754ba853351ae4",
       "version_major": 2,
       "version_minor": 0
      },
      "text/plain": [
       "  0%|          | 0/80 [00:00<?, ?it/s]"
      ]
     },
     "metadata": {},
     "output_type": "display_data"
    },
    {
     "data": {
      "application/vnd.jupyter.widget-view+json": {
       "model_id": "f142a8f5b03849a4807b75e09cf3306c",
       "version_major": 2,
       "version_minor": 0
      },
      "text/plain": [
       "  0%|          | 0/80 [00:00<?, ?it/s]"
      ]
     },
     "metadata": {},
     "output_type": "display_data"
    },
    {
     "data": {
      "application/vnd.jupyter.widget-view+json": {
       "model_id": "90290e00c829447dab76fd5f5085431c",
       "version_major": 2,
       "version_minor": 0
      },
      "text/plain": [
       "  0%|          | 0/80 [00:00<?, ?it/s]"
      ]
     },
     "metadata": {},
     "output_type": "display_data"
    },
    {
     "data": {
      "application/vnd.jupyter.widget-view+json": {
       "model_id": "265f725cd51e453a89d7f6d4288deb69",
       "version_major": 2,
       "version_minor": 0
      },
      "text/plain": [
       "  0%|          | 0/80 [00:00<?, ?it/s]"
      ]
     },
     "metadata": {},
     "output_type": "display_data"
    },
    {
     "data": {
      "application/vnd.jupyter.widget-view+json": {
       "model_id": "78357e2629ca47c99ef6c73fed2e419b",
       "version_major": 2,
       "version_minor": 0
      },
      "text/plain": [
       "  0%|          | 0/80 [00:00<?, ?it/s]"
      ]
     },
     "metadata": {},
     "output_type": "display_data"
    },
    {
     "data": {
      "application/vnd.jupyter.widget-view+json": {
       "model_id": "5a70da65292341e9acb1250c0df480d3",
       "version_major": 2,
       "version_minor": 0
      },
      "text/plain": [
       "  0%|          | 0/80 [00:00<?, ?it/s]"
      ]
     },
     "metadata": {},
     "output_type": "display_data"
    },
    {
     "data": {
      "application/vnd.jupyter.widget-view+json": {
       "model_id": "be771bd656a3497c972595096aafb252",
       "version_major": 2,
       "version_minor": 0
      },
      "text/plain": [
       "  0%|          | 0/80 [00:00<?, ?it/s]"
      ]
     },
     "metadata": {},
     "output_type": "display_data"
    },
    {
     "data": {
      "application/vnd.jupyter.widget-view+json": {
       "model_id": "4f99a184a365442d895f004dd27ed0d1",
       "version_major": 2,
       "version_minor": 0
      },
      "text/plain": [
       "  0%|          | 0/80 [00:00<?, ?it/s]"
      ]
     },
     "metadata": {},
     "output_type": "display_data"
    },
    {
     "data": {
      "application/vnd.jupyter.widget-view+json": {
       "model_id": "d916bb34e1d74c14baf1967cf184f0de",
       "version_major": 2,
       "version_minor": 0
      },
      "text/plain": [
       "  0%|          | 0/80 [00:00<?, ?it/s]"
      ]
     },
     "metadata": {},
     "output_type": "display_data"
    },
    {
     "data": {
      "application/vnd.jupyter.widget-view+json": {
       "model_id": "b3f44e4a5fde4b50b4b6a43c436b2e3e",
       "version_major": 2,
       "version_minor": 0
      },
      "text/plain": [
       "  0%|          | 0/80 [00:00<?, ?it/s]"
      ]
     },
     "metadata": {},
     "output_type": "display_data"
    },
    {
     "data": {
      "application/vnd.jupyter.widget-view+json": {
       "model_id": "30c3e19f51d8453383d2943d361b0ac0",
       "version_major": 2,
       "version_minor": 0
      },
      "text/plain": [
       "  0%|          | 0/80 [00:00<?, ?it/s]"
      ]
     },
     "metadata": {},
     "output_type": "display_data"
    },
    {
     "data": {
      "application/vnd.jupyter.widget-view+json": {
       "model_id": "22faaabeede04bd7bc1875a8104d7a1e",
       "version_major": 2,
       "version_minor": 0
      },
      "text/plain": [
       "  0%|          | 0/80 [00:00<?, ?it/s]"
      ]
     },
     "metadata": {},
     "output_type": "display_data"
    },
    {
     "data": {
      "application/vnd.jupyter.widget-view+json": {
       "model_id": "aac663975dc24d2199744ee3612bd86a",
       "version_major": 2,
       "version_minor": 0
      },
      "text/plain": [
       "  0%|          | 0/80 [00:00<?, ?it/s]"
      ]
     },
     "metadata": {},
     "output_type": "display_data"
    },
    {
     "data": {
      "application/vnd.jupyter.widget-view+json": {
       "model_id": "bd47143072094f9da784eafc8312c13f",
       "version_major": 2,
       "version_minor": 0
      },
      "text/plain": [
       "  0%|          | 0/80 [00:00<?, ?it/s]"
      ]
     },
     "metadata": {},
     "output_type": "display_data"
    },
    {
     "data": {
      "application/vnd.jupyter.widget-view+json": {
       "model_id": "6eeec298f3094705ba1b5f866972fcea",
       "version_major": 2,
       "version_minor": 0
      },
      "text/plain": [
       "  0%|          | 0/80 [00:00<?, ?it/s]"
      ]
     },
     "metadata": {},
     "output_type": "display_data"
    },
    {
     "data": {
      "application/vnd.jupyter.widget-view+json": {
       "model_id": "50ba4e22ca76447f8a79a6b3640fde87",
       "version_major": 2,
       "version_minor": 0
      },
      "text/plain": [
       "  0%|          | 0/80 [00:00<?, ?it/s]"
      ]
     },
     "metadata": {},
     "output_type": "display_data"
    },
    {
     "data": {
      "application/vnd.jupyter.widget-view+json": {
       "model_id": "aef1611d41c34ea8b0cc2c036990dbe7",
       "version_major": 2,
       "version_minor": 0
      },
      "text/plain": [
       "  0%|          | 0/80 [00:00<?, ?it/s]"
      ]
     },
     "metadata": {},
     "output_type": "display_data"
    },
    {
     "data": {
      "application/vnd.jupyter.widget-view+json": {
       "model_id": "fa7dc898360b4146a5a37872c0d12f8b",
       "version_major": 2,
       "version_minor": 0
      },
      "text/plain": [
       "  0%|          | 0/80 [00:00<?, ?it/s]"
      ]
     },
     "metadata": {},
     "output_type": "display_data"
    },
    {
     "data": {
      "application/vnd.jupyter.widget-view+json": {
       "model_id": "fc81d75e26a84f61961dd1f3c18546e7",
       "version_major": 2,
       "version_minor": 0
      },
      "text/plain": [
       "  0%|          | 0/80 [00:00<?, ?it/s]"
      ]
     },
     "metadata": {},
     "output_type": "display_data"
    },
    {
     "data": {
      "application/vnd.jupyter.widget-view+json": {
       "model_id": "6c6ad0b9e66744c5b0972e67547aaf76",
       "version_major": 2,
       "version_minor": 0
      },
      "text/plain": [
       "  0%|          | 0/80 [00:00<?, ?it/s]"
      ]
     },
     "metadata": {},
     "output_type": "display_data"
    },
    {
     "data": {
      "application/vnd.jupyter.widget-view+json": {
       "model_id": "9eb2fb227d054ee3a614eaf62524e5c0",
       "version_major": 2,
       "version_minor": 0
      },
      "text/plain": [
       "  0%|          | 0/80 [00:00<?, ?it/s]"
      ]
     },
     "metadata": {},
     "output_type": "display_data"
    },
    {
     "data": {
      "application/vnd.jupyter.widget-view+json": {
       "model_id": "54ca19c9488643a1a3c2ec646adea87e",
       "version_major": 2,
       "version_minor": 0
      },
      "text/plain": [
       "  0%|          | 0/80 [00:00<?, ?it/s]"
      ]
     },
     "metadata": {},
     "output_type": "display_data"
    },
    {
     "data": {
      "application/vnd.jupyter.widget-view+json": {
       "model_id": "8c0f964e53e9400db49b04e91cce1205",
       "version_major": 2,
       "version_minor": 0
      },
      "text/plain": [
       "  0%|          | 0/80 [00:00<?, ?it/s]"
      ]
     },
     "metadata": {},
     "output_type": "display_data"
    },
    {
     "data": {
      "application/vnd.jupyter.widget-view+json": {
       "model_id": "8ef1395172134ecebd0bca24781a998e",
       "version_major": 2,
       "version_minor": 0
      },
      "text/plain": [
       "  0%|          | 0/80 [00:00<?, ?it/s]"
      ]
     },
     "metadata": {},
     "output_type": "display_data"
    },
    {
     "data": {
      "application/vnd.jupyter.widget-view+json": {
       "model_id": "5ab8e068d05f4547858462850e9e9aad",
       "version_major": 2,
       "version_minor": 0
      },
      "text/plain": [
       "  0%|          | 0/80 [00:00<?, ?it/s]"
      ]
     },
     "metadata": {},
     "output_type": "display_data"
    },
    {
     "data": {
      "application/vnd.jupyter.widget-view+json": {
       "model_id": "ff4159670e1748618755fba6cafdf62c",
       "version_major": 2,
       "version_minor": 0
      },
      "text/plain": [
       "  0%|          | 0/80 [00:00<?, ?it/s]"
      ]
     },
     "metadata": {},
     "output_type": "display_data"
    },
    {
     "data": {
      "application/vnd.jupyter.widget-view+json": {
       "model_id": "493c2036f3a942c49e2f3d67f6144859",
       "version_major": 2,
       "version_minor": 0
      },
      "text/plain": [
       "  0%|          | 0/80 [00:00<?, ?it/s]"
      ]
     },
     "metadata": {},
     "output_type": "display_data"
    },
    {
     "data": {
      "application/vnd.jupyter.widget-view+json": {
       "model_id": "368fa1e9201846a191cd61c6140524c4",
       "version_major": 2,
       "version_minor": 0
      },
      "text/plain": [
       "  0%|          | 0/80 [00:00<?, ?it/s]"
      ]
     },
     "metadata": {},
     "output_type": "display_data"
    },
    {
     "data": {
      "application/vnd.jupyter.widget-view+json": {
       "model_id": "0fb3c43d53a34bbea834248f66168ccc",
       "version_major": 2,
       "version_minor": 0
      },
      "text/plain": [
       "  0%|          | 0/80 [00:00<?, ?it/s]"
      ]
     },
     "metadata": {},
     "output_type": "display_data"
    },
    {
     "data": {
      "application/vnd.jupyter.widget-view+json": {
       "model_id": "a59916cdc5a14974b75016f8c9ee6e67",
       "version_major": 2,
       "version_minor": 0
      },
      "text/plain": [
       "  0%|          | 0/80 [00:00<?, ?it/s]"
      ]
     },
     "metadata": {},
     "output_type": "display_data"
    },
    {
     "data": {
      "application/vnd.jupyter.widget-view+json": {
       "model_id": "1edcaef9f87e408dac90e65430d4549b",
       "version_major": 2,
       "version_minor": 0
      },
      "text/plain": [
       "  0%|          | 0/80 [00:00<?, ?it/s]"
      ]
     },
     "metadata": {},
     "output_type": "display_data"
    },
    {
     "data": {
      "application/vnd.jupyter.widget-view+json": {
       "model_id": "dead6fefad38409aa043267584735b1d",
       "version_major": 2,
       "version_minor": 0
      },
      "text/plain": [
       "  0%|          | 0/80 [00:00<?, ?it/s]"
      ]
     },
     "metadata": {},
     "output_type": "display_data"
    },
    {
     "data": {
      "application/vnd.jupyter.widget-view+json": {
       "model_id": "90a549d895ae4e458e3f70654694e06d",
       "version_major": 2,
       "version_minor": 0
      },
      "text/plain": [
       "  0%|          | 0/80 [00:00<?, ?it/s]"
      ]
     },
     "metadata": {},
     "output_type": "display_data"
    },
    {
     "data": {
      "application/vnd.jupyter.widget-view+json": {
       "model_id": "8177255abb0a48de907d0b6f153606e2",
       "version_major": 2,
       "version_minor": 0
      },
      "text/plain": [
       "  0%|          | 0/80 [00:00<?, ?it/s]"
      ]
     },
     "metadata": {},
     "output_type": "display_data"
    },
    {
     "data": {
      "application/vnd.jupyter.widget-view+json": {
       "model_id": "2c8d5d10981543b5805034a9cf24ae6e",
       "version_major": 2,
       "version_minor": 0
      },
      "text/plain": [
       "  0%|          | 0/80 [00:00<?, ?it/s]"
      ]
     },
     "metadata": {},
     "output_type": "display_data"
    },
    {
     "data": {
      "application/vnd.jupyter.widget-view+json": {
       "model_id": "81eba0db345d4074b2538d5262c40c0a",
       "version_major": 2,
       "version_minor": 0
      },
      "text/plain": [
       "  0%|          | 0/80 [00:00<?, ?it/s]"
      ]
     },
     "metadata": {},
     "output_type": "display_data"
    },
    {
     "data": {
      "application/vnd.jupyter.widget-view+json": {
       "model_id": "0b1a2e23c74445ae9d4884622c58afd1",
       "version_major": 2,
       "version_minor": 0
      },
      "text/plain": [
       "  0%|          | 0/80 [00:00<?, ?it/s]"
      ]
     },
     "metadata": {},
     "output_type": "display_data"
    },
    {
     "data": {
      "application/vnd.jupyter.widget-view+json": {
       "model_id": "53e77469f0124772ad4e0e06eb4dfe3c",
       "version_major": 2,
       "version_minor": 0
      },
      "text/plain": [
       "  0%|          | 0/80 [00:00<?, ?it/s]"
      ]
     },
     "metadata": {},
     "output_type": "display_data"
    },
    {
     "data": {
      "application/vnd.jupyter.widget-view+json": {
       "model_id": "2dd74e00f7e14324a91a8e916edeac32",
       "version_major": 2,
       "version_minor": 0
      },
      "text/plain": [
       "  0%|          | 0/80 [00:00<?, ?it/s]"
      ]
     },
     "metadata": {},
     "output_type": "display_data"
    },
    {
     "data": {
      "application/vnd.jupyter.widget-view+json": {
       "model_id": "11e0cc62179947e8abc36a7f21f80247",
       "version_major": 2,
       "version_minor": 0
      },
      "text/plain": [
       "  0%|          | 0/80 [00:00<?, ?it/s]"
      ]
     },
     "metadata": {},
     "output_type": "display_data"
    },
    {
     "data": {
      "application/vnd.jupyter.widget-view+json": {
       "model_id": "91539d79b8e342199830d4ac1294a9fb",
       "version_major": 2,
       "version_minor": 0
      },
      "text/plain": [
       "  0%|          | 0/80 [00:00<?, ?it/s]"
      ]
     },
     "metadata": {},
     "output_type": "display_data"
    },
    {
     "data": {
      "application/vnd.jupyter.widget-view+json": {
       "model_id": "2ed930fc87f2455d901da090c510afe5",
       "version_major": 2,
       "version_minor": 0
      },
      "text/plain": [
       "  0%|          | 0/80 [00:00<?, ?it/s]"
      ]
     },
     "metadata": {},
     "output_type": "display_data"
    },
    {
     "data": {
      "application/vnd.jupyter.widget-view+json": {
       "model_id": "ca067818884d47339dcf8af021bf49e8",
       "version_major": 2,
       "version_minor": 0
      },
      "text/plain": [
       "  0%|          | 0/80 [00:00<?, ?it/s]"
      ]
     },
     "metadata": {},
     "output_type": "display_data"
    },
    {
     "data": {
      "application/vnd.jupyter.widget-view+json": {
       "model_id": "45bd8576452944299000f7a884decba4",
       "version_major": 2,
       "version_minor": 0
      },
      "text/plain": [
       "  0%|          | 0/80 [00:00<?, ?it/s]"
      ]
     },
     "metadata": {},
     "output_type": "display_data"
    },
    {
     "data": {
      "application/vnd.jupyter.widget-view+json": {
       "model_id": "b178de9bdaf64c40bc39a40a4be26a08",
       "version_major": 2,
       "version_minor": 0
      },
      "text/plain": [
       "  0%|          | 0/80 [00:00<?, ?it/s]"
      ]
     },
     "metadata": {},
     "output_type": "display_data"
    },
    {
     "data": {
      "application/vnd.jupyter.widget-view+json": {
       "model_id": "630dfc55adb94110943f04ace7b28872",
       "version_major": 2,
       "version_minor": 0
      },
      "text/plain": [
       "  0%|          | 0/80 [00:00<?, ?it/s]"
      ]
     },
     "metadata": {},
     "output_type": "display_data"
    },
    {
     "data": {
      "application/vnd.jupyter.widget-view+json": {
       "model_id": "c5e2b8cbfd6b4a7092b8f77009f7f64d",
       "version_major": 2,
       "version_minor": 0
      },
      "text/plain": [
       "  0%|          | 0/80 [00:00<?, ?it/s]"
      ]
     },
     "metadata": {},
     "output_type": "display_data"
    },
    {
     "data": {
      "application/vnd.jupyter.widget-view+json": {
       "model_id": "dc0b66eeb4d342fbacfa0f3fd7c86910",
       "version_major": 2,
       "version_minor": 0
      },
      "text/plain": [
       "  0%|          | 0/80 [00:00<?, ?it/s]"
      ]
     },
     "metadata": {},
     "output_type": "display_data"
    },
    {
     "data": {
      "application/vnd.jupyter.widget-view+json": {
       "model_id": "5fa6294b689d4ab8ad07bb846f54f032",
       "version_major": 2,
       "version_minor": 0
      },
      "text/plain": [
       "  0%|          | 0/80 [00:00<?, ?it/s]"
      ]
     },
     "metadata": {},
     "output_type": "display_data"
    },
    {
     "data": {
      "application/vnd.jupyter.widget-view+json": {
       "model_id": "ff900c3a762c4fcd9860926e4c9190bb",
       "version_major": 2,
       "version_minor": 0
      },
      "text/plain": [
       "  0%|          | 0/80 [00:00<?, ?it/s]"
      ]
     },
     "metadata": {},
     "output_type": "display_data"
    },
    {
     "data": {
      "application/vnd.jupyter.widget-view+json": {
       "model_id": "d79066b5dee44c7e9dcf12bed62521c3",
       "version_major": 2,
       "version_minor": 0
      },
      "text/plain": [
       "  0%|          | 0/80 [00:00<?, ?it/s]"
      ]
     },
     "metadata": {},
     "output_type": "display_data"
    },
    {
     "data": {
      "application/vnd.jupyter.widget-view+json": {
       "model_id": "89dbc0ca791e421086823d5748a0f14a",
       "version_major": 2,
       "version_minor": 0
      },
      "text/plain": [
       "  0%|          | 0/80 [00:00<?, ?it/s]"
      ]
     },
     "metadata": {},
     "output_type": "display_data"
    },
    {
     "data": {
      "application/vnd.jupyter.widget-view+json": {
       "model_id": "a97647426ab84e52832499f478db5f97",
       "version_major": 2,
       "version_minor": 0
      },
      "text/plain": [
       "  0%|          | 0/80 [00:00<?, ?it/s]"
      ]
     },
     "metadata": {},
     "output_type": "display_data"
    },
    {
     "data": {
      "application/vnd.jupyter.widget-view+json": {
       "model_id": "3a554e3a133a473ba794ba5eaafa808a",
       "version_major": 2,
       "version_minor": 0
      },
      "text/plain": [
       "  0%|          | 0/80 [00:00<?, ?it/s]"
      ]
     },
     "metadata": {},
     "output_type": "display_data"
    },
    {
     "data": {
      "application/vnd.jupyter.widget-view+json": {
       "model_id": "c45457be1b9d4956806cc4edbd6d093c",
       "version_major": 2,
       "version_minor": 0
      },
      "text/plain": [
       "  0%|          | 0/80 [00:00<?, ?it/s]"
      ]
     },
     "metadata": {},
     "output_type": "display_data"
    },
    {
     "data": {
      "application/vnd.jupyter.widget-view+json": {
       "model_id": "f71e2484f39843008bcb060b0f6fab6f",
       "version_major": 2,
       "version_minor": 0
      },
      "text/plain": [
       "  0%|          | 0/80 [00:00<?, ?it/s]"
      ]
     },
     "metadata": {},
     "output_type": "display_data"
    },
    {
     "data": {
      "application/vnd.jupyter.widget-view+json": {
       "model_id": "f2b53432d68f4da7a5468249207e7967",
       "version_major": 2,
       "version_minor": 0
      },
      "text/plain": [
       "  0%|          | 0/80 [00:00<?, ?it/s]"
      ]
     },
     "metadata": {},
     "output_type": "display_data"
    },
    {
     "data": {
      "application/vnd.jupyter.widget-view+json": {
       "model_id": "07c2d1054bb54d6ab68e1139a3ee4bbb",
       "version_major": 2,
       "version_minor": 0
      },
      "text/plain": [
       "  0%|          | 0/80 [00:00<?, ?it/s]"
      ]
     },
     "metadata": {},
     "output_type": "display_data"
    },
    {
     "data": {
      "application/vnd.jupyter.widget-view+json": {
       "model_id": "c772af93ab894fd490fb613eaf55778b",
       "version_major": 2,
       "version_minor": 0
      },
      "text/plain": [
       "  0%|          | 0/80 [00:00<?, ?it/s]"
      ]
     },
     "metadata": {},
     "output_type": "display_data"
    },
    {
     "data": {
      "application/vnd.jupyter.widget-view+json": {
       "model_id": "7c853b142e024254bebf6910fa38539b",
       "version_major": 2,
       "version_minor": 0
      },
      "text/plain": [
       "  0%|          | 0/80 [00:00<?, ?it/s]"
      ]
     },
     "metadata": {},
     "output_type": "display_data"
    },
    {
     "data": {
      "application/vnd.jupyter.widget-view+json": {
       "model_id": "0f87e8d9d73b4faba1d3bad9f7b8c70f",
       "version_major": 2,
       "version_minor": 0
      },
      "text/plain": [
       "  0%|          | 0/80 [00:00<?, ?it/s]"
      ]
     },
     "metadata": {},
     "output_type": "display_data"
    },
    {
     "data": {
      "application/vnd.jupyter.widget-view+json": {
       "model_id": "26adc68af3de4557b018f099549eeec8",
       "version_major": 2,
       "version_minor": 0
      },
      "text/plain": [
       "  0%|          | 0/80 [00:00<?, ?it/s]"
      ]
     },
     "metadata": {},
     "output_type": "display_data"
    },
    {
     "data": {
      "application/vnd.jupyter.widget-view+json": {
       "model_id": "c1df66663a3f4b659604ae6298dabc83",
       "version_major": 2,
       "version_minor": 0
      },
      "text/plain": [
       "  0%|          | 0/80 [00:00<?, ?it/s]"
      ]
     },
     "metadata": {},
     "output_type": "display_data"
    },
    {
     "data": {
      "application/vnd.jupyter.widget-view+json": {
       "model_id": "8706d333dcb546748608c0378968f7fd",
       "version_major": 2,
       "version_minor": 0
      },
      "text/plain": [
       "  0%|          | 0/80 [00:00<?, ?it/s]"
      ]
     },
     "metadata": {},
     "output_type": "display_data"
    },
    {
     "data": {
      "application/vnd.jupyter.widget-view+json": {
       "model_id": "f09334bb4da34d2c8ceee7210e8c310d",
       "version_major": 2,
       "version_minor": 0
      },
      "text/plain": [
       "  0%|          | 0/80 [00:00<?, ?it/s]"
      ]
     },
     "metadata": {},
     "output_type": "display_data"
    },
    {
     "data": {
      "application/vnd.jupyter.widget-view+json": {
       "model_id": "87fcc6ca0ea644e59f6c893bf22aaac9",
       "version_major": 2,
       "version_minor": 0
      },
      "text/plain": [
       "  0%|          | 0/80 [00:00<?, ?it/s]"
      ]
     },
     "metadata": {},
     "output_type": "display_data"
    },
    {
     "data": {
      "application/vnd.jupyter.widget-view+json": {
       "model_id": "5c6d80fb51464d7b909329b915385689",
       "version_major": 2,
       "version_minor": 0
      },
      "text/plain": [
       "  0%|          | 0/80 [00:00<?, ?it/s]"
      ]
     },
     "metadata": {},
     "output_type": "display_data"
    },
    {
     "data": {
      "application/vnd.jupyter.widget-view+json": {
       "model_id": "6f3a7848be664b8db81520528e122ef8",
       "version_major": 2,
       "version_minor": 0
      },
      "text/plain": [
       "  0%|          | 0/80 [00:00<?, ?it/s]"
      ]
     },
     "metadata": {},
     "output_type": "display_data"
    },
    {
     "data": {
      "application/vnd.jupyter.widget-view+json": {
       "model_id": "29a9d4da153d4e21b07685c7102dc465",
       "version_major": 2,
       "version_minor": 0
      },
      "text/plain": [
       "  0%|          | 0/80 [00:00<?, ?it/s]"
      ]
     },
     "metadata": {},
     "output_type": "display_data"
    },
    {
     "data": {
      "application/vnd.jupyter.widget-view+json": {
       "model_id": "f48ef9723e804811a8e18e1f75b750fa",
       "version_major": 2,
       "version_minor": 0
      },
      "text/plain": [
       "  0%|          | 0/80 [00:00<?, ?it/s]"
      ]
     },
     "metadata": {},
     "output_type": "display_data"
    },
    {
     "data": {
      "application/vnd.jupyter.widget-view+json": {
       "model_id": "0b884f02db3f49168c3bd4ca3a375baf",
       "version_major": 2,
       "version_minor": 0
      },
      "text/plain": [
       "  0%|          | 0/80 [00:00<?, ?it/s]"
      ]
     },
     "metadata": {},
     "output_type": "display_data"
    },
    {
     "data": {
      "application/vnd.jupyter.widget-view+json": {
       "model_id": "e8f2599c1b124f10a71af725785d1c06",
       "version_major": 2,
       "version_minor": 0
      },
      "text/plain": [
       "  0%|          | 0/80 [00:00<?, ?it/s]"
      ]
     },
     "metadata": {},
     "output_type": "display_data"
    },
    {
     "data": {
      "application/vnd.jupyter.widget-view+json": {
       "model_id": "9b8b8b756a5f466a96fcac83ac01f01c",
       "version_major": 2,
       "version_minor": 0
      },
      "text/plain": [
       "  0%|          | 0/80 [00:00<?, ?it/s]"
      ]
     },
     "metadata": {},
     "output_type": "display_data"
    },
    {
     "data": {
      "application/vnd.jupyter.widget-view+json": {
       "model_id": "88e2d7c70bbc45e4a0cfbba97e541c44",
       "version_major": 2,
       "version_minor": 0
      },
      "text/plain": [
       "  0%|          | 0/80 [00:00<?, ?it/s]"
      ]
     },
     "metadata": {},
     "output_type": "display_data"
    },
    {
     "data": {
      "application/vnd.jupyter.widget-view+json": {
       "model_id": "8b51a21a63cf49e1b4e8dec75ceb17cb",
       "version_major": 2,
       "version_minor": 0
      },
      "text/plain": [
       "  0%|          | 0/80 [00:00<?, ?it/s]"
      ]
     },
     "metadata": {},
     "output_type": "display_data"
    },
    {
     "data": {
      "application/vnd.jupyter.widget-view+json": {
       "model_id": "fe52cb8ffcdb4243846053c83575b283",
       "version_major": 2,
       "version_minor": 0
      },
      "text/plain": [
       "  0%|          | 0/80 [00:00<?, ?it/s]"
      ]
     },
     "metadata": {},
     "output_type": "display_data"
    },
    {
     "data": {
      "application/vnd.jupyter.widget-view+json": {
       "model_id": "095212fc07714e12b3e6b9161b6e29fc",
       "version_major": 2,
       "version_minor": 0
      },
      "text/plain": [
       "  0%|          | 0/80 [00:00<?, ?it/s]"
      ]
     },
     "metadata": {},
     "output_type": "display_data"
    },
    {
     "data": {
      "application/vnd.jupyter.widget-view+json": {
       "model_id": "a8fe84a8d53e474fba172a889a8b322d",
       "version_major": 2,
       "version_minor": 0
      },
      "text/plain": [
       "  0%|          | 0/80 [00:00<?, ?it/s]"
      ]
     },
     "metadata": {},
     "output_type": "display_data"
    },
    {
     "data": {
      "application/vnd.jupyter.widget-view+json": {
       "model_id": "9573f7ea3c2e4f5bbf0fe8c24ce83b7f",
       "version_major": 2,
       "version_minor": 0
      },
      "text/plain": [
       "  0%|          | 0/80 [00:00<?, ?it/s]"
      ]
     },
     "metadata": {},
     "output_type": "display_data"
    },
    {
     "data": {
      "application/vnd.jupyter.widget-view+json": {
       "model_id": "32371150b90f46fc80028af2e59e43dc",
       "version_major": 2,
       "version_minor": 0
      },
      "text/plain": [
       "  0%|          | 0/80 [00:00<?, ?it/s]"
      ]
     },
     "metadata": {},
     "output_type": "display_data"
    },
    {
     "data": {
      "application/vnd.jupyter.widget-view+json": {
       "model_id": "e03533cd17094fb1883f868b48d92196",
       "version_major": 2,
       "version_minor": 0
      },
      "text/plain": [
       "  0%|          | 0/80 [00:00<?, ?it/s]"
      ]
     },
     "metadata": {},
     "output_type": "display_data"
    },
    {
     "data": {
      "application/vnd.jupyter.widget-view+json": {
       "model_id": "ff58bd96ac3b4165aa7bccd4a821caea",
       "version_major": 2,
       "version_minor": 0
      },
      "text/plain": [
       "  0%|          | 0/80 [00:00<?, ?it/s]"
      ]
     },
     "metadata": {},
     "output_type": "display_data"
    },
    {
     "data": {
      "application/vnd.jupyter.widget-view+json": {
       "model_id": "138103a9509d4a84897d8a04cf2bb5fb",
       "version_major": 2,
       "version_minor": 0
      },
      "text/plain": [
       "  0%|          | 0/80 [00:00<?, ?it/s]"
      ]
     },
     "metadata": {},
     "output_type": "display_data"
    },
    {
     "data": {
      "application/vnd.jupyter.widget-view+json": {
       "model_id": "c2801a3f20714047b555ff9f548f83f3",
       "version_major": 2,
       "version_minor": 0
      },
      "text/plain": [
       "  0%|          | 0/80 [00:00<?, ?it/s]"
      ]
     },
     "metadata": {},
     "output_type": "display_data"
    },
    {
     "data": {
      "application/vnd.jupyter.widget-view+json": {
       "model_id": "5fc83371d7c4413db4f15e9b69e01962",
       "version_major": 2,
       "version_minor": 0
      },
      "text/plain": [
       "  0%|          | 0/80 [00:00<?, ?it/s]"
      ]
     },
     "metadata": {},
     "output_type": "display_data"
    },
    {
     "data": {
      "application/vnd.jupyter.widget-view+json": {
       "model_id": "edf6523bd0b74c6ca0e6568b6e2094b7",
       "version_major": 2,
       "version_minor": 0
      },
      "text/plain": [
       "  0%|          | 0/80 [00:00<?, ?it/s]"
      ]
     },
     "metadata": {},
     "output_type": "display_data"
    },
    {
     "data": {
      "application/vnd.jupyter.widget-view+json": {
       "model_id": "0833a9c0d0214c3ca7a195a0b92813df",
       "version_major": 2,
       "version_minor": 0
      },
      "text/plain": [
       "  0%|          | 0/80 [00:00<?, ?it/s]"
      ]
     },
     "metadata": {},
     "output_type": "display_data"
    },
    {
     "data": {
      "application/vnd.jupyter.widget-view+json": {
       "model_id": "ad1459fab6d942ef9d0b68ab94a09283",
       "version_major": 2,
       "version_minor": 0
      },
      "text/plain": [
       "  0%|          | 0/80 [00:00<?, ?it/s]"
      ]
     },
     "metadata": {},
     "output_type": "display_data"
    },
    {
     "data": {
      "application/vnd.jupyter.widget-view+json": {
       "model_id": "c429655026a345f59b63c7882fdcba4c",
       "version_major": 2,
       "version_minor": 0
      },
      "text/plain": [
       "  0%|          | 0/80 [00:00<?, ?it/s]"
      ]
     },
     "metadata": {},
     "output_type": "display_data"
    },
    {
     "data": {
      "application/vnd.jupyter.widget-view+json": {
       "model_id": "b16622ae2a4f4c8eb4b554b8f1473f04",
       "version_major": 2,
       "version_minor": 0
      },
      "text/plain": [
       "  0%|          | 0/80 [00:00<?, ?it/s]"
      ]
     },
     "metadata": {},
     "output_type": "display_data"
    },
    {
     "data": {
      "application/vnd.jupyter.widget-view+json": {
       "model_id": "86129a18a00d47cf913968a33e945b48",
       "version_major": 2,
       "version_minor": 0
      },
      "text/plain": [
       "  0%|          | 0/80 [00:00<?, ?it/s]"
      ]
     },
     "metadata": {},
     "output_type": "display_data"
    },
    {
     "data": {
      "application/vnd.jupyter.widget-view+json": {
       "model_id": "57479d254d98472aa21c07400508b757",
       "version_major": 2,
       "version_minor": 0
      },
      "text/plain": [
       "  0%|          | 0/80 [00:00<?, ?it/s]"
      ]
     },
     "metadata": {},
     "output_type": "display_data"
    },
    {
     "data": {
      "application/vnd.jupyter.widget-view+json": {
       "model_id": "07d95ee599974d57bf39590e53ba17df",
       "version_major": 2,
       "version_minor": 0
      },
      "text/plain": [
       "  0%|          | 0/80 [00:00<?, ?it/s]"
      ]
     },
     "metadata": {},
     "output_type": "display_data"
    },
    {
     "data": {
      "application/vnd.jupyter.widget-view+json": {
       "model_id": "d82b13c06ca44693940418d0c388bc2c",
       "version_major": 2,
       "version_minor": 0
      },
      "text/plain": [
       "  0%|          | 0/80 [00:00<?, ?it/s]"
      ]
     },
     "metadata": {},
     "output_type": "display_data"
    },
    {
     "data": {
      "application/vnd.jupyter.widget-view+json": {
       "model_id": "ace2bccb72bc4092916b9dd66be341f5",
       "version_major": 2,
       "version_minor": 0
      },
      "text/plain": [
       "  0%|          | 0/80 [00:00<?, ?it/s]"
      ]
     },
     "metadata": {},
     "output_type": "display_data"
    },
    {
     "data": {
      "application/vnd.jupyter.widget-view+json": {
       "model_id": "a98a329f046248139ca920c23248582f",
       "version_major": 2,
       "version_minor": 0
      },
      "text/plain": [
       "  0%|          | 0/80 [00:00<?, ?it/s]"
      ]
     },
     "metadata": {},
     "output_type": "display_data"
    },
    {
     "data": {
      "application/vnd.jupyter.widget-view+json": {
       "model_id": "4c3c4ae7115c4c0bb2bf2c88b4cf8993",
       "version_major": 2,
       "version_minor": 0
      },
      "text/plain": [
       "  0%|          | 0/80 [00:00<?, ?it/s]"
      ]
     },
     "metadata": {},
     "output_type": "display_data"
    },
    {
     "data": {
      "application/vnd.jupyter.widget-view+json": {
       "model_id": "27b2e88101664a22b30aa7f482c1c474",
       "version_major": 2,
       "version_minor": 0
      },
      "text/plain": [
       "  0%|          | 0/80 [00:00<?, ?it/s]"
      ]
     },
     "metadata": {},
     "output_type": "display_data"
    },
    {
     "data": {
      "application/vnd.jupyter.widget-view+json": {
       "model_id": "09e956b989044ce78f285fb2f434bc8a",
       "version_major": 2,
       "version_minor": 0
      },
      "text/plain": [
       "  0%|          | 0/80 [00:00<?, ?it/s]"
      ]
     },
     "metadata": {},
     "output_type": "display_data"
    },
    {
     "data": {
      "application/vnd.jupyter.widget-view+json": {
       "model_id": "5689262b6e2a4b14864ff08898186ee5",
       "version_major": 2,
       "version_minor": 0
      },
      "text/plain": [
       "  0%|          | 0/80 [00:00<?, ?it/s]"
      ]
     },
     "metadata": {},
     "output_type": "display_data"
    }
   ],
   "source": [
    "# create fun facts and images for each page\n",
    "fun_facts = []\n",
    "images = []\n",
    "count = 0\n",
    "negative_prompt = \"watermark, text, shading, gradient, shadows, transparency, noisy, blurred, deformed, distorted, extra limbs, bad anatomy\"\n",
    "create_directory_if_not_exists(image_dir)\n",
    "# iterate for each desired page\n",
    "for page in pages:\n",
    "    prompt = \"photograph, \"+page+\", beautiful, cute, adorable, intricate details, centered\"\n",
    "    # improve the image prompt with a model\n",
    "    new_prompt = generate(prompt)\n",
    "    # iterate for the desired number of images to choose from for each page\n",
    "    for image_num in range(0, images_to_generate):\n",
    "        # create an image based on the improved prompt\n",
    "        image = pipe(new_prompt, guidance_scale=8, num_inference_steps=80, height=image_height, width=image_width).images[0]\n",
    "        # enhance/upscale the generated image\n",
    "        if enhance_images:\n",
    "            enhanced_image = enhance_image(image)\n",
    "            # create a coloring book image based on the generated image\n",
    "            coloring_book_image = generate_coloring_page(enhanced_image)\n",
    "        else:\n",
    "            coloring_book_image = generate_coloring_page(image)\n",
    "        # save the image with the format image_pageNumber_imageNumber as jpg\n",
    "        coloring_book_image.save(image_dir+\"/image_\"+str(count)+\"_\"+str(image_num)+\".jpg\")\n",
    "        image.save(image_dir+\"/photo_\"+str(count)+\"_\"+str(image_num)+\".jpg\")\n",
    "    # add the fun facts for each page in a list\n",
    "    fun_facts.append(remove_after_create(generate_fun_facts(page)))\n",
    "    count = count + 1"
   ]
  },
  {
   "cell_type": "code",
   "execution_count": null,
   "id": "6b6c7fef",
   "metadata": {},
   "outputs": [],
   "source": [
    "# write to a word document\n",
    "# create a new docx document object\n",
    "document = Document()\n",
    "\n",
    "# set the document size and margins\n",
    "section = document.sections[0]\n",
    "section.page_width = Inches(8.5)\n",
    "section.page_height = Inches(11.0)\n",
    "section.left_margin = Inches(1.0)\n",
    "section.right_margin = Inches(1.0)\n",
    "section.top_margin = Inches(0.5)\n",
    "section.bottom_margin = Inches(0.5)\n",
    "\n",
    "# Add a title page\n",
    "document.add_heading(title, 0)\n",
    "p = document.add_paragraph('A coloring book about '+topic)\n",
    "p = document.add_paragraph(summary)\n",
    "\n",
    "count = 0\n",
    "for page in pages:\n",
    "    document.add_page_break()\n",
    "    document.add_heading(pages[count], level=1)\n",
    "    document.add_picture(image_dir+\"/image_\"+str(count)+\"_0.jpg\", width=Inches(6.5))\n",
    "    document.add_page_break()\n",
    "    document.add_paragraph('Fun facts about '+pages[count], style='Intense Quote')\n",
    "    document.add_paragraph(fun_facts[count])\n",
    "    count += 1\n",
    "\n",
    "document.save('demo_coloring.docx')\n",
    "\n",
    "# write to a word document\n",
    "# create a new docx document object\n",
    "document = Document()\n",
    "\n",
    "# set the document size and margins\n",
    "section = document.sections[0]\n",
    "section.page_width = Inches(6.0)\n",
    "section.page_height = Inches(9.0)\n",
    "section.left_margin = Inches(0.375)\n",
    "section.right_margin = Inches(0.375)\n",
    "section.top_margin = Inches(0.5)\n",
    "section.bottom_margin = Inches(0.5)\n",
    "\n",
    "# Add a title page\n",
    "document.add_heading(title, 0)\n",
    "p = document.add_paragraph('A coloring book about '+topic)\n",
    "p = document.add_paragraph(summary)\n",
    "\n",
    "count = 0\n",
    "for page in pages:\n",
    "    document.add_page_break()\n",
    "    document.add_heading(pages[count], level=1)\n",
    "    document.add_picture(image_dir+\"/photo_\"+str(count)+\"_0.jpg\", width=Inches(5.25))\n",
    "    document.add_page_break()\n",
    "    document.add_paragraph('Fun facts about '+pages[count], style='Intense Quote')\n",
    "    document.add_paragraph(fun_facts[count])\n",
    "    count += 1\n",
    "\n",
    "document.save('demo_illustrated.docx')"
   ]
  },
  {
   "cell_type": "code",
   "execution_count": null,
   "id": "9915cc1e",
   "metadata": {},
   "outputs": [],
   "source": [
    "!explorer.exe ."
   ]
  },
  {
   "cell_type": "code",
   "execution_count": null,
   "id": "e0e57641",
   "metadata": {},
   "outputs": [],
   "source": []
  }
 ],
 "metadata": {
  "kernelspec": {
   "display_name": "Python 3 (ipykernel)",
   "language": "python",
   "name": "python3"
  },
  "language_info": {
   "codemirror_mode": {
    "name": "ipython",
    "version": 3
   },
   "file_extension": ".py",
   "mimetype": "text/x-python",
   "name": "python",
   "nbconvert_exporter": "python",
   "pygments_lexer": "ipython3",
   "version": "3.10.11"
  }
 },
 "nbformat": 4,
 "nbformat_minor": 5
}

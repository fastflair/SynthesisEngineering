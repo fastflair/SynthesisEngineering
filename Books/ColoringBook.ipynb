{
 "cells": [
  {
   "cell_type": "markdown",
   "id": "25bfe3e0",
   "metadata": {},
   "source": [
    "# Synthesize a coloring book"
   ]
  },
  {
   "cell_type": "code",
   "execution_count": 4,
   "id": "de242f4d",
   "metadata": {},
   "outputs": [],
   "source": [
    "import numpy as np\n",
    "import skimage\n",
    "from PIL import Image\n",
    "from PIL.Image import Image as PilImage\n",
    "\n",
    "from diffusers import StableDiffusionPipeline\n",
    "from transformers import AutoTokenizer, AutoModelForCausalLM, AutoImageProcessor, Swin2SRForImageSuperResolution\n",
    "import torch\n",
    "\n",
    "import openai\n",
    "\n",
    "# !pip install python-docx \n",
    "from docx import Document\n",
    "from docx.shared import Inches"
   ]
  },
  {
   "cell_type": "markdown",
   "id": "24616ce4",
   "metadata": {},
   "source": [
    "## Define keys and load models"
   ]
  },
  {
   "cell_type": "code",
   "execution_count": 5,
   "id": "05b7486b",
   "metadata": {},
   "outputs": [],
   "source": [
    "# openAI key\n",
    "openai.api_key = \"\"\n",
    "# for azure openAI\n",
    "# your endpoint should look like the following https://YOUR_RESOURCE_NAME.openai.azure.com/\n",
    "openai.api_base =  \"\" \n",
    "openai.api_version = '2022-12-01' # this may change in the future\n",
    "openai.api_type = 'azure'\n",
    "#This will correspond to the custom name you chose for your deployment when you deployed a model. \n",
    "deployment_name='' \n",
    "\n",
    "def load_prompter():\n",
    "    prompter_model = AutoModelForCausalLM.from_pretrained(\"microsoft/Promptist\")\n",
    "    tokenizer = AutoTokenizer.from_pretrained(\"gpt2\")\n",
    "    tokenizer.pad_token = tokenizer.eos_token\n",
    "    tokenizer.padding_side = \"left\"\n",
    "    return prompter_model, tokenizer\n",
    "\n",
    "prompter_model, prompter_tokenizer = load_prompter()\n",
    "\n",
    "def load_upscaler():\n",
    "    processor = AutoImageProcessor.from_pretrained(\"caidas/swin2SR-classical-sr-x2-64\")\n",
    "    model = Swin2SRForImageSuperResolution.from_pretrained(\"caidas/swin2SR-classical-sr-x2-64\")\n",
    "    return model, processor\n",
    "    \n",
    "upscale_model, upscale_processor = load_upscaler()\n",
    "\n",
    "model_id = \"dreamlike-art/dreamlike-photoreal-2.0\"\n",
    "pipe = StableDiffusionPipeline.from_pretrained(model_id, torch_dtype=torch.float16)\n",
    "pipe = pipe.to(\"cuda\")"
   ]
  },
  {
   "cell_type": "markdown",
   "id": "1cdfea82",
   "metadata": {},
   "source": [
    "## Inputs"
   ]
  },
  {
   "cell_type": "code",
   "execution_count": 11,
   "id": "7f9e4621",
   "metadata": {},
   "outputs": [],
   "source": [
    "topic = \"anthropormophic zoo animals playing sports\"\n",
    "number_pages = 40\n",
    "images_to_generate = 5\n",
    "# upscale image\n",
    "enhance_images = False"
   ]
  },
  {
   "cell_type": "markdown",
   "id": "2c959427",
   "metadata": {},
   "source": [
    "## Helper functions"
   ]
  },
  {
   "cell_type": "code",
   "execution_count": 7,
   "id": "54f61319",
   "metadata": {},
   "outputs": [],
   "source": [
    "# create a sketch for coloring based in an input image\n",
    "def generate_coloring_page(input: PilImage) -> PilImage:\n",
    "    # Convert to grayscale if needed\n",
    "    if input.mode != \"L\":\n",
    "        input = input.convert(\"L\")\n",
    "    np_image = np.asarray(input)\n",
    "    \n",
    "    # detect edges\n",
    "    np_image = skimage.filters.sobel(np_image)\n",
    "    # convert to 8 bpp\n",
    "    np_image = skimage.util.img_as_ubyte(np_image)\n",
    "    # Invert to get dark edges on a light background\n",
    "    np_image = 255 - np_image\n",
    "    # Improve the contrast\n",
    "    np_image = skimage.exposure.rescale_intensity(np_image)\n",
    "    \n",
    "    return Image.fromarray(np_image)\n",
    "\n",
    "# Create ideas for each desired page of the coloring book\n",
    "def generate_coloring_book_page_descriptions(topic, number_pages):\n",
    "    prompt = \"Create \"+str(number_pages)+\" ideas for a coloring book on the topic of \"+topic+\"/n/nIdeas for coloring book topic:\"\n",
    "    response = openai.Completion.create(\n",
    "            engine=deployment_name,\n",
    "            prompt=prompt,\n",
    "            temperature=0.7,\n",
    "            max_tokens=1500\n",
    "        )\n",
    "    result = response.choices[0].text.strip()\n",
    "    return result, prompt\n",
    "\n",
    "# Create fun facts about the image\n",
    "def generate_fun_facts(topic):\n",
    "    prompt = \"Create fun facts about \"+topic+\"/n/nFun facts:\"\n",
    "    response = openai.Completion.create(\n",
    "            engine=deployment_name,\n",
    "            prompt=prompt,\n",
    "            temperature=0.7,\n",
    "            max_tokens=1500\n",
    "        )\n",
    "    result = response.choices[0].text.strip()\n",
    "    return result, prompt\n",
    "\n",
    "# parse a string to list based on return characters\n",
    "def parse_string(input_string):\n",
    "    result = []\n",
    "    lines = input_string.split('\\n')\n",
    "    for line in lines:\n",
    "        if not 'Create ' in line and not line == \"\":\n",
    "            result.append(line.strip())\n",
    "    return result\n",
    "\n",
    "def generate(plain_text):\n",
    "    input_ids = prompter_tokenizer(plain_text.strip()+\" Rephrase:\", return_tensors=\"pt\").input_ids\n",
    "    eos_id = prompter_tokenizer.eos_token_id\n",
    "    outputs = prompter_model.generate(input_ids, do_sample=False, max_new_tokens=75, num_beams=8, num_return_sequences=8, eos_token_id=eos_id, pad_token_id=eos_id, length_penalty=-1.0)\n",
    "    output_texts = prompter_tokenizer.batch_decode(outputs, skip_special_tokens=True)\n",
    "    res = output_texts[0].replace(plain_text+\" Rephrase:\", \"\").strip()\n",
    "    return res\n",
    "\n",
    "def enhance_image(image):\n",
    "    # prepare image for the model\n",
    "    inputs = upscale_processor(image, return_tensors=\"pt\")\n",
    "\n",
    "    # forward pass\n",
    "    with torch.no_grad():\n",
    "        outputs = upscale_model(**inputs)\n",
    "\n",
    "    # postprocess\n",
    "    output = outputs.reconstruction.data.squeeze().float().cpu().clamp_(0, 1).numpy()\n",
    "    output = np.moveaxis(output, source=0, destination=-1)\n",
    "    output = (output * 255.0).round().astype(np.uint8)  # float32 to uint8\n",
    "    \n",
    "    return Image.fromarray(output)"
   ]
  },
  {
   "cell_type": "markdown",
   "id": "8392241b",
   "metadata": {},
   "source": [
    "## Workflow"
   ]
  },
  {
   "cell_type": "code",
   "execution_count": 8,
   "id": "9aa4b9eb",
   "metadata": {},
   "outputs": [
    {
     "name": "stdout",
     "output_type": "stream",
     "text": [
      "('Anthropomorphic Zoo Animals Playing Sports\\n\\n1. Elephant playing soccer\\n2. Lion playing basketball\\n3. Giraffe playing tennis\\n4. Monkey playing baseball\\n5. Hippopotamus playing hockey\\n6. Gorilla playing football\\n7. Rhinoceros playing lacrosse\\n8. Cheetah playing badminton\\n9. Camel playing golf\\n10. Tiger playing volleyball\\n11. Alligator playing rugby\\n12. Polar bear playing cricket\\n13. Zebra playing frisbee\\n14. Bear playing handball\\n15. Kangaroo playing water polo\\n16. Wolf playing squash\\n17. Fox playing softball\\n18. Coyote playing dodgeball\\n19. Porcupine playing croquet\\n20. Vulture playing billiards\\n21. Hawk playing horseshoes\\n22. Ostrich playing archery\\n23. Emu playing table tennis\\n24. Beaver playing curling\\n25. Dolphin playing track and field\\n26. Walrus playing martial arts\\n27. Seal playing kickball\\n28. Sea lion playing bocce\\n29. Penguin playing skittles\\n30. Pelican playing bowling\\n31. Flamingo playing beach volleyball\\n32. Toucan playing roller hockey\\n33. Parrot playing bingo\\n34. Loon playing tetherball\\n35. Turkey playing darts\\n36. Pigeon playing kabaddi\\n37. Swan playing speed skating\\n38. Osprey playing discus\\n39. Raccoon playing racquetball\\n40. Owl playing shuffleboard', 'Create 40 ideas for a coloring book on the topic of anthropormophic zoo animals playing sports/n/nIdeas for coloring book topic:')\n"
     ]
    }
   ],
   "source": [
    "# Create page ideas given the desired topic\n",
    "page_ideas = generate_coloring_book_page_descriptions(topic, number_pages)\n",
    "print(page_ideas)"
   ]
  },
  {
   "cell_type": "code",
   "execution_count": 9,
   "id": "6e53fbc4",
   "metadata": {},
   "outputs": [
    {
     "name": "stdout",
     "output_type": "stream",
     "text": [
      "['Anthropomorphic Zoo Animals Playing Sports', '1. Elephant playing soccer', '2. Lion playing basketball', '3. Giraffe playing tennis', '4. Monkey playing baseball', '5. Hippopotamus playing hockey', '6. Gorilla playing football', '7. Rhinoceros playing lacrosse', '8. Cheetah playing badminton', '9. Camel playing golf', '10. Tiger playing volleyball', '11. Alligator playing rugby', '12. Polar bear playing cricket', '13. Zebra playing frisbee', '14. Bear playing handball', '15. Kangaroo playing water polo', '16. Wolf playing squash', '17. Fox playing softball', '18. Coyote playing dodgeball', '19. Porcupine playing croquet', '20. Vulture playing billiards', '21. Hawk playing horseshoes', '22. Ostrich playing archery', '23. Emu playing table tennis', '24. Beaver playing curling', '25. Dolphin playing track and field', '26. Walrus playing martial arts', '27. Seal playing kickball', '28. Sea lion playing bocce', '29. Penguin playing skittles', '30. Pelican playing bowling', '31. Flamingo playing beach volleyball', '32. Toucan playing roller hockey', '33. Parrot playing bingo', '34. Loon playing tetherball', '35. Turkey playing darts', '36. Pigeon playing kabaddi', '37. Swan playing speed skating', '38. Osprey playing discus', '39. Raccoon playing racquetball', '40. Owl playing shuffleboard']\n"
     ]
    }
   ],
   "source": [
    "# parse the page ideas into a list for each page\n",
    "pages = parse_string(page_ideas[0])\n",
    "print(pages)"
   ]
  },
  {
   "cell_type": "code",
   "execution_count": null,
   "id": "1c3755d4",
   "metadata": {},
   "outputs": [
    {
     "data": {
      "application/vnd.jupyter.widget-view+json": {
       "model_id": "cff79ea4573f446998ea6b9c0c42f6aa",
       "version_major": 2,
       "version_minor": 0
      },
      "text/plain": [
       "  0%|          | 0/50 [00:00<?, ?it/s]"
      ]
     },
     "metadata": {},
     "output_type": "display_data"
    },
    {
     "data": {
      "application/vnd.jupyter.widget-view+json": {
       "model_id": "ceab9e52d76b4eacab0e28f17cc90c34",
       "version_major": 2,
       "version_minor": 0
      },
      "text/plain": [
       "  0%|          | 0/50 [00:00<?, ?it/s]"
      ]
     },
     "metadata": {},
     "output_type": "display_data"
    },
    {
     "data": {
      "application/vnd.jupyter.widget-view+json": {
       "model_id": "78bebd4844884e3aa971a6e6fd4fa313",
       "version_major": 2,
       "version_minor": 0
      },
      "text/plain": [
       "  0%|          | 0/50 [00:00<?, ?it/s]"
      ]
     },
     "metadata": {},
     "output_type": "display_data"
    },
    {
     "data": {
      "application/vnd.jupyter.widget-view+json": {
       "model_id": "e9f3d3a486c6421a8e54a503c004f082",
       "version_major": 2,
       "version_minor": 0
      },
      "text/plain": [
       "  0%|          | 0/50 [00:00<?, ?it/s]"
      ]
     },
     "metadata": {},
     "output_type": "display_data"
    },
    {
     "data": {
      "application/vnd.jupyter.widget-view+json": {
       "model_id": "f4c35236e72c4d428b8446a44519c42f",
       "version_major": 2,
       "version_minor": 0
      },
      "text/plain": [
       "  0%|          | 0/50 [00:00<?, ?it/s]"
      ]
     },
     "metadata": {},
     "output_type": "display_data"
    }
   ],
   "source": [
    "# create fun facts and images for each page\n",
    "fun_facts = []\n",
    "images = []\n",
    "count = 0\n",
    "# iterate for each desired page\n",
    "for page in pages:\n",
    "    prompt = \"photo, anthropormophic \"+page\n",
    "    # improve the image prompt with a model\n",
    "    new_prompt = generate(prompt)\n",
    "    # iterate for the desired number of images to choose from for each page\n",
    "    for image_num in range(0, images_to_generate):\n",
    "        # create an image based on the improved prompt\n",
    "        image = pipe(new_prompt).images[0]\n",
    "        # enhance/upscale the generated image\n",
    "        if enhance_images:\n",
    "            enhanced_image = enhance_image(image)\n",
    "            # create a coloring book image based on the generated image\n",
    "            coloring_book_image = generate_coloring_page(enhanced_image)\n",
    "        else:\n",
    "            coloring_book_image = generate_coloring_page(image)\n",
    "        # save the image with the format image_pageNumber_imageNumber as jpg\n",
    "        coloring_book_image.save(\"image_\"+str(count)+\"_\"+str(image_num)+\".jpg\")\n",
    "    # add the fun facts for each page in a list\n",
    "    fun_facts.append(generate_fun_facts(page))\n",
    "    count = count + 1"
   ]
  },
  {
   "cell_type": "code",
   "execution_count": null,
   "id": "6b6c7fef",
   "metadata": {},
   "outputs": [],
   "source": [
    "# write to a word document\n",
    "document = Document()\n",
    "document.add_heading('Coloring Book', 0)\n",
    "\n",
    "p = document.add_paragraph('A coloring book about '+topic)\n",
    "#p.add_run('bold').bold = True\n",
    "#p.add_run(' and some ')\n",
    "#p.add_run('italic.').italic = True\n",
    "\n",
    "count = 0\n",
    "for page in pages:\n",
    "    document.add_page_break()\n",
    "    document.add_heading('Heading, level 1', level=1)\n",
    "    document.add_paragraph('Fun facts about '+pages[count], style='Intense Quote')\n",
    "    document.add_picture(\"image_\"+str(count)+\"_0.jpg\", width=Inches(5.0))\n",
    "    document.add_paragraph(fun_facts[count])\n",
    "    count += 1\n",
    "#document.add_paragraph(\n",
    "#    'first item in ordered list', style='List Number'\n",
    "#)\n",
    "\n",
    "\n",
    "\n",
    "#records = (\n",
    "#    (3, '101', 'Spam'),\n",
    "#    (7, '422', 'Eggs'),\n",
    "#    (4, '631', 'Spam, spam, eggs, and spam')\n",
    "#)\n",
    "\n",
    "#table = document.add_table(rows=1, cols=3)\n",
    "#hdr_cells = table.rows[0].cells\n",
    "#hdr_cells[0].text = 'Qty'\n",
    "#hdr_cells[1].text = 'Id'\n",
    "#hdr_cells[2].text = 'Desc'\n",
    "#for qty, id, desc in records:\n",
    "#    row_cells = table.add_row().cells\n",
    "#    row_cells[0].text = str(qty)\n",
    "#    row_cells[1].text = id\n",
    "#    row_cells[2].text = desc\n",
    "\n",
    "document.save('demo.docx')"
   ]
  },
  {
   "cell_type": "code",
   "execution_count": null,
   "id": "c0af37a5",
   "metadata": {},
   "outputs": [],
   "source": []
  }
 ],
 "metadata": {
  "kernelspec": {
   "display_name": "Python 3 (ipykernel)",
   "language": "python",
   "name": "python3"
  },
  "language_info": {
   "codemirror_mode": {
    "name": "ipython",
    "version": 3
   },
   "file_extension": ".py",
   "mimetype": "text/x-python",
   "name": "python",
   "nbconvert_exporter": "python",
   "pygments_lexer": "ipython3",
   "version": "3.9.13"
  }
 },
 "nbformat": 4,
 "nbformat_minor": 5
}

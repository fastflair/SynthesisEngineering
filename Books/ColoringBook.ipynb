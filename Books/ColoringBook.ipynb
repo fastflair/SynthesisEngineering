{
 "cells": [
  {
   "cell_type": "markdown",
   "id": "25bfe3e0",
   "metadata": {},
   "source": [
    "# Synthesize a coloring book"
   ]
  },
  {
   "cell_type": "code",
   "execution_count": 1,
   "id": "de242f4d",
   "metadata": {},
   "outputs": [
    {
     "name": "stderr",
     "output_type": "stream",
     "text": [
      "2023-04-28 08:35:08.113042: I tensorflow/core/platform/cpu_feature_guard.cc:182] This TensorFlow binary is optimized to use available CPU instructions in performance-critical operations.\n",
      "To enable the following instructions: AVX2 FMA, in other operations, rebuild TensorFlow with the appropriate compiler flags.\n"
     ]
    }
   ],
   "source": [
    "import numpy as np\n",
    "import skimage\n",
    "from PIL import Image\n",
    "from PIL.Image import Image as PilImage\n",
    "\n",
    "from diffusers import StableDiffusionPipeline\n",
    "from transformers import AutoTokenizer, AutoModelForCausalLM, AutoImageProcessor, Swin2SRForImageSuperResolution\n",
    "import torch\n",
    "\n",
    "import openai\n",
    "\n",
    "# !pip install python-docx \n",
    "from docx import Document\n",
    "from docx.shared import Inches"
   ]
  },
  {
   "cell_type": "code",
   "execution_count": 4,
   "id": "05b7486b",
   "metadata": {},
   "outputs": [],
   "source": [
    "# openAI key\n",
    "openai.api_key = \"\"\n",
    "# for azure openAI\n",
    "# your endpoint should look like the following https://YOUR_RESOURCE_NAME.openai.azure.com/\n",
    "openai.api_base =  \"\" \n",
    "openai.api_version = '' # this may change in the future\n",
    "openai.api_type = 'azure'\n",
    "#This will correspond to the custom name you chose for your deployment when you deployed a model. \n",
    "deployment_name='' \n",
    "\n",
    "def load_prompter():\n",
    "    prompter_model = AutoModelForCausalLM.from_pretrained(\"microsoft/Promptist\")\n",
    "    tokenizer = AutoTokenizer.from_pretrained(\"gpt2\")\n",
    "    tokenizer.pad_token = tokenizer.eos_token\n",
    "    tokenizer.padding_side = \"left\"\n",
    "    return prompter_model, tokenizer\n",
    "\n",
    "prompter_model, prompter_tokenizer = load_prompter()\n",
    "\n",
    "def load_upscaler():\n",
    "    processor = AutoImageProcessor.from_pretrained(\"caidas/swin2SR-classical-sr-x2-64\")\n",
    "    model = Swin2SRForImageSuperResolution.from_pretrained(\"caidas/swin2SR-classical-sr-x2-64\")\n",
    "    return model, processor\n",
    "    \n",
    "upscale_model, upscale_processor = load_upscaler()"
   ]
  },
  {
   "cell_type": "markdown",
   "id": "1cdfea82",
   "metadata": {},
   "source": [
    "## Inputs"
   ]
  },
  {
   "cell_type": "code",
   "execution_count": 5,
   "id": "7f9e4621",
   "metadata": {},
   "outputs": [],
   "source": [
    "topic = \"zoo animals playing sports\"\n",
    "number_pages = 40\n",
    "images_to_generate = 5"
   ]
  },
  {
   "cell_type": "markdown",
   "id": "60b44a12",
   "metadata": {},
   "source": [
    "## Load models"
   ]
  },
  {
   "cell_type": "code",
   "execution_count": 6,
   "id": "6902cb25",
   "metadata": {},
   "outputs": [
    {
     "name": "stderr",
     "output_type": "stream",
     "text": [
      "/home/titan/anaconda3/lib/python3.9/site-packages/safetensors/torch.py:98: UserWarning: TypedStorage is deprecated. It will be removed in the future and UntypedStorage will be the only storage class. This should only matter to you if you are using storages directly.  To access UntypedStorage directly, use tensor.untyped_storage() instead of tensor.storage()\n",
      "  with safe_open(filename, framework=\"pt\", device=device) as f:\n",
      "/home/titan/anaconda3/lib/python3.9/site-packages/torch/_utils.py:776: UserWarning: TypedStorage is deprecated. It will be removed in the future and UntypedStorage will be the only storage class. This should only matter to you if you are using storages directly.  To access UntypedStorage directly, use tensor.untyped_storage() instead of tensor.storage()\n",
      "  return self.fget.__get__(instance, owner)()\n",
      "/home/titan/anaconda3/lib/python3.9/site-packages/torch/storage.py:899: UserWarning: TypedStorage is deprecated. It will be removed in the future and UntypedStorage will be the only storage class. This should only matter to you if you are using storages directly.  To access UntypedStorage directly, use tensor.untyped_storage() instead of tensor.storage()\n",
      "  storage = cls(wrap_storage=untyped_storage)\n",
      "/home/titan/anaconda3/lib/python3.9/site-packages/transformers/modeling_utils.py:429: UserWarning: TypedStorage is deprecated. It will be removed in the future and UntypedStorage will be the only storage class. This should only matter to you if you are using storages directly.  To access UntypedStorage directly, use tensor.untyped_storage() instead of tensor.storage()\n",
      "  with safe_open(checkpoint_file, framework=\"pt\") as f:\n"
     ]
    }
   ],
   "source": [
    "model_id = \"dreamlike-art/dreamlike-photoreal-2.0\"\n",
    "pipe = StableDiffusionPipeline.from_pretrained(model_id, torch_dtype=torch.float16)\n",
    "pipe = pipe.to(\"cuda\")"
   ]
  },
  {
   "cell_type": "markdown",
   "id": "2c959427",
   "metadata": {},
   "source": [
    "## Helper functions"
   ]
  },
  {
   "cell_type": "code",
   "execution_count": 7,
   "id": "54f61319",
   "metadata": {},
   "outputs": [],
   "source": [
    "# create a sketch for coloring based in an input image\n",
    "def generate_coloring_page(input: PilImage) -> PilImage:\n",
    "    # Convert to grayscale if needed\n",
    "    if input.mode != \"L\":\n",
    "        input = input.convert(\"L\")\n",
    "    np_image = np.asarray(input)\n",
    "    \n",
    "    # detect edges\n",
    "    np_image = skimage.filters.sobel(np_image)\n",
    "    # convert to 8 bpp\n",
    "    np_image = skimage.util.img_as_ubyte(np_image)\n",
    "    # Invert to get dark edges on a light background\n",
    "    np_image = 255 - np_image\n",
    "    # Improve the contrast\n",
    "    np_image = skimage.exposure.rescale_intensity(np_image)\n",
    "    \n",
    "    return Image.fromarray(np_image)\n",
    "\n",
    "# Create ideas for each desired page of the coloring book\n",
    "def generate_coloring_book_page_descriptions(topic, number_pages):\n",
    "    prompt = \"Create \"+str(number_pages)+\" ideas for a coloring book on the topic of \"+topic+\"/n/nIdeas for coloring book topic:\"\n",
    "    response = openai.Completion.create(\n",
    "            engine=deployment_name,\n",
    "            prompt=prompt,\n",
    "            temperature=0.7,\n",
    "            max_tokens=1500\n",
    "        )\n",
    "    result = response.choices[0].text.strip()\n",
    "    return result, prompt\n",
    "\n",
    "# Create fun facts about the image\n",
    "def generate_fun_facts(topic):\n",
    "    prompt = \"Create fun facts about \"+topic+\"/n/nFun facts:\"\n",
    "    response = openai.Completion.create(\n",
    "            engine=deployment_name,\n",
    "            prompt=prompt,\n",
    "            temperature=0.7,\n",
    "            max_tokens=1500\n",
    "        )\n",
    "    result = response.choices[0].text.strip()\n",
    "    return result, prompt\n",
    "\n",
    "# parse a string to list based on return characters\n",
    "def parse_string(input_string):\n",
    "    result = []\n",
    "    lines = input_string.split('\\n')\n",
    "    for line in lines:\n",
    "        if 'playing' in line:\n",
    "            result.append(line.strip())\n",
    "    return result\n",
    "\n",
    "def generate(plain_text):\n",
    "    input_ids = prompter_tokenizer(plain_text.strip()+\" Rephrase:\", return_tensors=\"pt\").input_ids\n",
    "    eos_id = prompter_tokenizer.eos_token_id\n",
    "    outputs = prompter_model.generate(input_ids, do_sample=False, max_new_tokens=75, num_beams=8, num_return_sequences=8, eos_token_id=eos_id, pad_token_id=eos_id, length_penalty=-1.0)\n",
    "    output_texts = prompter_tokenizer.batch_decode(outputs, skip_special_tokens=True)\n",
    "    res = output_texts[0].replace(plain_text+\" Rephrase:\", \"\").strip()\n",
    "    return res\n",
    "\n",
    "def enhance_image(image):\n",
    "    # prepare image for the model\n",
    "    inputs = upscale_processor(image, return_tensors=\"pt\")\n",
    "\n",
    "    # forward pass\n",
    "    with torch.no_grad():\n",
    "        outputs = upscale_model(**inputs)\n",
    "\n",
    "    # postprocess\n",
    "    output = outputs.reconstruction.data.squeeze().float().cpu().clamp_(0, 1).numpy()\n",
    "    output = np.moveaxis(output, source=0, destination=-1)\n",
    "    output = (output * 255.0).round().astype(np.uint8)  # float32 to uint8\n",
    "    \n",
    "    return Image.fromarray(output)"
   ]
  },
  {
   "cell_type": "markdown",
   "id": "8392241b",
   "metadata": {},
   "source": [
    "## Workflow"
   ]
  },
  {
   "cell_type": "code",
   "execution_count": 8,
   "id": "9aa4b9eb",
   "metadata": {},
   "outputs": [
    {
     "name": "stdout",
     "output_type": "stream",
     "text": [
      "('Zoo Animals Playing Sports\\n\\n1. Gorilla playing basketball\\n2. Elephant playing soccer\\n3. Zebra playing baseball\\n4. Tiger playing golf\\n5. Giraffe playing tennis\\n6. Kangaroo playing hockey\\n7. Koala playing cricket\\n8. Chimpanzee playing volleyball\\n9. Ostrich playing badminton\\n10. Lemur playing rugby\\n11. Hippo playing cricket\\n12. Warthog playing lacrosse\\n13. Llama playing football\\n14. Sloth playing softball\\n15. Gorilla playing bowling\\n16. Elephant playing golf\\n17. Zebra playing Frisbee\\n18. Tiger playing soccer\\n19. Giraffe playing rugby\\n20. Kangaroo playing dodgeball\\n21. Koala playing basketball\\n22. Chimpanzee playing hockey\\n23. Ostrich playing baseball\\n24. Lemur playing badminton\\n25. Hippo playing tennis\\n26. Warthog playing croquet\\n27. Llama playing volleyball\\n28. Sloth playing Frisbee\\n29. Gorilla playing tennis\\n30. Elephant playing softball\\n31. Zebra playing cricket\\n32. Tiger playing dodgeball\\n33. Giraffe playing badminton\\n34. Kangaroo playing rugby\\n35. Koala playing lacrosse\\n36. Chimpanzee playing football\\n37. Ostrich playing golf\\n38. Lemur playing croquet\\n39. Hippo playing bowling\\n40. Warthog playing volleyball', 'Create 40 ideas for a coloring book on the topic of zoo animals playing sports/n/nIdeas for coloring book topic:')\n"
     ]
    }
   ],
   "source": [
    "# Create page ideas given the desired topic\n",
    "page_ideas = generate_coloring_book_page_descriptions(topic, number_pages)\n",
    "print(page_ideas)"
   ]
  },
  {
   "cell_type": "code",
   "execution_count": 9,
   "id": "6e53fbc4",
   "metadata": {},
   "outputs": [
    {
     "name": "stdout",
     "output_type": "stream",
     "text": [
      "['1. Gorilla playing basketball', '2. Elephant playing soccer', '3. Zebra playing baseball', '4. Tiger playing golf', '5. Giraffe playing tennis', '6. Kangaroo playing hockey', '7. Koala playing cricket', '8. Chimpanzee playing volleyball', '9. Ostrich playing badminton', '10. Lemur playing rugby', '11. Hippo playing cricket', '12. Warthog playing lacrosse', '13. Llama playing football', '14. Sloth playing softball', '15. Gorilla playing bowling', '16. Elephant playing golf', '17. Zebra playing Frisbee', '18. Tiger playing soccer', '19. Giraffe playing rugby', '20. Kangaroo playing dodgeball', '21. Koala playing basketball', '22. Chimpanzee playing hockey', '23. Ostrich playing baseball', '24. Lemur playing badminton', '25. Hippo playing tennis', '26. Warthog playing croquet', '27. Llama playing volleyball', '28. Sloth playing Frisbee', '29. Gorilla playing tennis', '30. Elephant playing softball', '31. Zebra playing cricket', '32. Tiger playing dodgeball', '33. Giraffe playing badminton', '34. Kangaroo playing rugby', '35. Koala playing lacrosse', '36. Chimpanzee playing football', '37. Ostrich playing golf', '38. Lemur playing croquet', '39. Hippo playing bowling', '40. Warthog playing volleyball']\n"
     ]
    }
   ],
   "source": [
    "# parse the page ideas into a list for each page\n",
    "pages = parse_string(page_ideas[0])\n",
    "print(pages)"
   ]
  },
  {
   "cell_type": "code",
   "execution_count": null,
   "id": "1c3755d4",
   "metadata": {},
   "outputs": [
    {
     "data": {
      "application/vnd.jupyter.widget-view+json": {
       "model_id": "d578ee8fb9dd4cfab1c5f2bf4ab12e5e",
       "version_major": 2,
       "version_minor": 0
      },
      "text/plain": [
       "  0%|          | 0/50 [00:00<?, ?it/s]"
      ]
     },
     "metadata": {},
     "output_type": "display_data"
    },
    {
     "data": {
      "application/vnd.jupyter.widget-view+json": {
       "model_id": "a00c6e660bae4faaa4d7285a11c32540",
       "version_major": 2,
       "version_minor": 0
      },
      "text/plain": [
       "  0%|          | 0/50 [00:00<?, ?it/s]"
      ]
     },
     "metadata": {},
     "output_type": "display_data"
    },
    {
     "data": {
      "application/vnd.jupyter.widget-view+json": {
       "model_id": "bc0c2e97a59040a89db71bbb8104cc0e",
       "version_major": 2,
       "version_minor": 0
      },
      "text/plain": [
       "  0%|          | 0/50 [00:00<?, ?it/s]"
      ]
     },
     "metadata": {},
     "output_type": "display_data"
    }
   ],
   "source": [
    "# create fun facts and images for each page\n",
    "fun_facts = []\n",
    "images = []\n",
    "count = 0\n",
    "# iterate for each desired page\n",
    "for page in pages:\n",
    "    prompt = \"photo, \"+page\n",
    "    # improve the image prompt with a model\n",
    "    new_prompt = generate(prompt)\n",
    "    # iterate for the desired number of images to choose from for each page\n",
    "    for image_num in range(0, images_to_generate):\n",
    "        # create an image based on the improved prompt\n",
    "        image = pipe(new_prompt).images[0]\n",
    "        # enhance/upscale the generated image\n",
    "        enhanced_image = enhance_image(image)\n",
    "        # create a coloring book image based on the generated image\n",
    "        coloring_book_image = generate_coloring_page(enhanced_image)\n",
    "        # save the image with the format image_pageNumber_imageNumber as jpg\n",
    "        coloring_book_image.save(\"image_\"+str(count)+\"_\"+str(image_num)+\".jpg\")\n",
    "    # add the last image generated for each page as a placeholder for the generated word document\n",
    "    images.append(enhanced_image)\n",
    "    # add the fun facts for each page in a list\n",
    "    fun_facts.append(generate_fun_facts(page))\n",
    "    count = count + 1"
   ]
  },
  {
   "cell_type": "code",
   "execution_count": null,
   "id": "6b6c7fef",
   "metadata": {},
   "outputs": [],
   "source": [
    "# write to a word document\n",
    "document = Document()\n",
    "document.add_heading('Coloring Book', 0)\n",
    "\n",
    "p = document.add_paragraph('A coloring book about '+topic)\n",
    "#p.add_run('bold').bold = True\n",
    "#p.add_run(' and some ')\n",
    "#p.add_run('italic.').italic = True\n",
    "\n",
    "count = 0\n",
    "for page in pages:\n",
    "    document.add_page_break()\n",
    "    document.add_heading('Heading, level 1', level=1)\n",
    "    document.add_paragraph('Fun facts about '+pages[count], style='Intense Quote')\n",
    "    document.add_picture(\"image_\"+str(count)+\".jpg\", width=Inches(5.0))\n",
    "    document.add_paragraph(fun_facts[count])\n",
    "#document.add_paragraph(\n",
    "#    'first item in ordered list', style='List Number'\n",
    "#)\n",
    "\n",
    "\n",
    "\n",
    "#records = (\n",
    "#    (3, '101', 'Spam'),\n",
    "#    (7, '422', 'Eggs'),\n",
    "#    (4, '631', 'Spam, spam, eggs, and spam')\n",
    "#)\n",
    "\n",
    "#table = document.add_table(rows=1, cols=3)\n",
    "#hdr_cells = table.rows[0].cells\n",
    "#hdr_cells[0].text = 'Qty'\n",
    "#hdr_cells[1].text = 'Id'\n",
    "#hdr_cells[2].text = 'Desc'\n",
    "#for qty, id, desc in records:\n",
    "#    row_cells = table.add_row().cells\n",
    "#    row_cells[0].text = str(qty)\n",
    "#    row_cells[1].text = id\n",
    "#    row_cells[2].text = desc\n",
    "\n",
    "document.save('demo.docx')"
   ]
  }
 ],
 "metadata": {
  "kernelspec": {
   "display_name": "Python 3 (ipykernel)",
   "language": "python",
   "name": "python3"
  },
  "language_info": {
   "codemirror_mode": {
    "name": "ipython",
    "version": 3
   },
   "file_extension": ".py",
   "mimetype": "text/x-python",
   "name": "python",
   "nbconvert_exporter": "python",
   "pygments_lexer": "ipython3",
   "version": "3.9.13"
  }
 },
 "nbformat": 4,
 "nbformat_minor": 5
}

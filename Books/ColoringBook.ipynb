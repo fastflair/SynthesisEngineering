{
 "cells": [
  {
   "cell_type": "markdown",
   "id": "25bfe3e0",
   "metadata": {},
   "source": [
    "# Synthesize a coloring book"
   ]
  },
  {
   "cell_type": "code",
   "execution_count": 2,
   "id": "de242f4d",
   "metadata": {},
   "outputs": [],
   "source": [
    "import numpy as np\n",
    "import skimage\n",
    "from PIL import Image\n",
    "from PIL.Image import Image as PilImage\n",
    "\n",
    "from diffusers import StableDiffusionPipeline\n",
    "from transformers import AutoTokenizer, AutoModelForCausalLM, AutoImageProcessor, Swin2SRForImageSuperResolution\n",
    "import torch\n",
    "\n",
    "import openai\n",
    "\n",
    "# !pip install python-docx \n",
    "from docx import Document\n",
    "from docx.shared import Inches"
   ]
  },
  {
   "cell_type": "markdown",
   "id": "8efd9ead",
   "metadata": {},
   "source": [
    "## Define keys and load models"
   ]
  },
  {
   "cell_type": "code",
   "execution_count": 9,
   "id": "05b7486b",
   "metadata": {},
   "outputs": [],
   "source": [
    "# openAI key\n",
    "openai.api_key = \"\"\n",
    "# for azure openAI\n",
    "# your endpoint should look like the following https://YOUR_RESOURCE_NAME.openai.azure.com/\n",
    "openai.api_base =  \"\" \n",
    "openai.api_version = '2022-12-01' # this may change in the future\n",
    "openai.api_type = 'azure'\n",
    "#This will correspond to the custom name you chose for your deployment when you deployed a model. \n",
    "deployment_name=''\n",
    "\n",
    "def load_prompter():\n",
    "    prompter_model = AutoModelForCausalLM.from_pretrained(\"microsoft/Promptist\")\n",
    "    tokenizer = AutoTokenizer.from_pretrained(\"gpt2\")\n",
    "    tokenizer.pad_token = tokenizer.eos_token\n",
    "    tokenizer.padding_side = \"left\"\n",
    "    return prompter_model, tokenizer\n",
    "\n",
    "prompter_model, prompter_tokenizer = load_prompter()\n",
    "\n",
    "def load_upscaler():\n",
    "    processor = AutoImageProcessor.from_pretrained(\"caidas/swin2SR-classical-sr-x2-64\")\n",
    "    model = Swin2SRForImageSuperResolution.from_pretrained(\"caidas/swin2SR-classical-sr-x2-64\")\n",
    "    return model, processor\n",
    "    \n",
    "upscale_model, upscale_processor = load_upscaler()\n",
    "\n",
    "model_id = \"dreamlike-art/dreamlike-photoreal-2.0\"\n",
    "pipe = StableDiffusionPipeline.from_pretrained(model_id, torch_dtype=torch.float16)\n",
    "pipe = pipe.to(\"cuda\")"
   ]
  },
  {
   "cell_type": "markdown",
   "id": "1cdfea82",
   "metadata": {},
   "source": [
    "## Inputs"
   ]
  },
  {
   "cell_type": "code",
   "execution_count": 12,
   "id": "7f9e4621",
   "metadata": {},
   "outputs": [],
   "source": [
    "topic = \"zoo animals playing sports\"\n",
    "number_pages = 40\n",
    "images_to_generate = 1"
   ]
  },
  {
   "cell_type": "markdown",
   "id": "2c959427",
   "metadata": {},
   "source": [
    "## Helper functions"
   ]
  },
  {
   "cell_type": "code",
   "execution_count": 7,
   "id": "54f61319",
   "metadata": {},
   "outputs": [],
   "source": [
    "# create a sketch for coloring based in an input image\n",
    "def generate_coloring_page(input: PilImage) -> PilImage:\n",
    "    # Convert to grayscale if needed\n",
    "    if input.mode != \"L\":\n",
    "        input = input.convert(\"L\")\n",
    "    np_image = np.asarray(input)\n",
    "    \n",
    "    # detect edges\n",
    "    np_image = skimage.filters.sobel(np_image)\n",
    "    # convert to 8 bpp\n",
    "    np_image = skimage.util.img_as_ubyte(np_image)\n",
    "    # Invert to get dark edges on a light background\n",
    "    np_image = 255 - np_image\n",
    "    # Improve the contrast\n",
    "    np_image = skimage.exposure.rescale_intensity(np_image)\n",
    "    \n",
    "    return Image.fromarray(np_image)\n",
    "\n",
    "# Create ideas for each desired page of the coloring book\n",
    "def generate_coloring_book_page_descriptions(topic, number_pages):\n",
    "    prompt = \"Create \"+str(number_pages)+\" ideas for a coloring book on the topic of \"+topic+\"/n/nIdeas for coloring book topic:\"\n",
    "    response = openai.Completion.create(\n",
    "            engine=deployment_name,\n",
    "            prompt=prompt,\n",
    "            temperature=0.7,\n",
    "            max_tokens=1500\n",
    "        )\n",
    "    result = response.choices[0].text.strip()\n",
    "    return result, prompt\n",
    "\n",
    "# Create fun facts about the image\n",
    "def generate_fun_facts(topic):\n",
    "    prompt = \"Create fun facts about \"+topic+\"/n/nFun facts:\"\n",
    "    response = openai.Completion.create(\n",
    "            engine=deployment_name,\n",
    "            prompt=prompt,\n",
    "            temperature=0.7,\n",
    "            max_tokens=1500\n",
    "        )\n",
    "    result = response.choices[0].text.strip()\n",
    "    return result, prompt\n",
    "\n",
    "# parse a string to list based on return characters\n",
    "def parse_string(input_string):\n",
    "    result = []\n",
    "    lines = input_string.split('\\n')\n",
    "    for line in lines:\n",
    "        if 'playing' in line:\n",
    "            result.append(line.strip())\n",
    "    return result\n",
    "\n",
    "def generate(plain_text):\n",
    "    input_ids = prompter_tokenizer(plain_text.strip()+\" Rephrase:\", return_tensors=\"pt\").input_ids\n",
    "    eos_id = prompter_tokenizer.eos_token_id\n",
    "    outputs = prompter_model.generate(input_ids, do_sample=False, max_new_tokens=75, num_beams=8, num_return_sequences=8, eos_token_id=eos_id, pad_token_id=eos_id, length_penalty=-1.0)\n",
    "    output_texts = prompter_tokenizer.batch_decode(outputs, skip_special_tokens=True)\n",
    "    res = output_texts[0].replace(plain_text+\" Rephrase:\", \"\").strip()\n",
    "    return res\n",
    "\n",
    "def enhance_image(image):\n",
    "    # prepare image for the model\n",
    "    inputs = upscale_processor(image, return_tensors=\"pt\")\n",
    "\n",
    "    # forward pass\n",
    "    with torch.no_grad():\n",
    "        outputs = upscale_model(**inputs)\n",
    "\n",
    "    # postprocess\n",
    "    output = outputs.reconstruction.data.squeeze().float().cpu().clamp_(0, 1).numpy()\n",
    "    output = np.moveaxis(output, source=0, destination=-1)\n",
    "    output = (output * 255.0).round().astype(np.uint8)  # float32 to uint8\n",
    "    \n",
    "    return Image.fromarray(output)"
   ]
  },
  {
   "cell_type": "markdown",
   "id": "8392241b",
   "metadata": {},
   "source": [
    "## Workflow"
   ]
  },
  {
   "cell_type": "code",
   "execution_count": 10,
   "id": "9aa4b9eb",
   "metadata": {},
   "outputs": [
    {
     "name": "stdout",
     "output_type": "stream",
     "text": [
      "('Zoo Animals Playing Sports\\n\\n1. Panda playing basketball\\n2. Gorilla playing baseball\\n3. Elephant playing soccer\\n4. Lion playing rugby\\n5. Giraffe playing tennis\\n6. Tiger playing golf\\n7. Polar bear playing hockey\\n8. Chimpanzee playing American football\\n9. Alligator playing volleyball\\n10. Zebra playing cricket\\n11. Ostrich playing basketball\\n12. Hippopotamus playing softball\\n13. Meerkat playing badminton\\n14. Warthog playing baseball\\n15. Aardvark playing soccer\\n16. Kudu playing rugby\\n17. Pangolin playing tennis\\n18. Emu playing golf\\n19. Fox playing hockey\\n20. Cheetah playing American football\\n21. Raccoon playing volleyball\\n22. Porcupine playing cricket\\n23. Anaconda playing basketball\\n24. Llama playing softball\\n25. Caribou playing baseball\\n26. Cobra playing soccer\\n27. Lynx playing rugby\\n28. Puma playing tennis\\n29. Wolverine playing golf\\n30. Jackal playing hockey\\n31. Badger playing American football\\n32. Skunk playing volleyball\\n33. Mongoose playing cricket\\n34. Hyena playing basketball\\n35. Squirrel playing softball\\n36. Armadillo playing baseball\\n37. Hedgehog playing soccer\\n38. Beaver playing rugby\\n39. Rhea playing tennis\\n40. Ibex playing golf', 'Create 40 ideas for a coloring book on the topic of zoo animals playing sports/n/nIdeas for coloring book topic:')\n"
     ]
    }
   ],
   "source": [
    "# Create page ideas given the desired topic\n",
    "page_ideas = generate_coloring_book_page_descriptions(topic, number_pages)\n",
    "print(page_ideas)"
   ]
  },
  {
   "cell_type": "code",
   "execution_count": 11,
   "id": "6e53fbc4",
   "metadata": {},
   "outputs": [
    {
     "name": "stdout",
     "output_type": "stream",
     "text": [
      "['1. Panda playing basketball', '2. Gorilla playing baseball', '3. Elephant playing soccer', '4. Lion playing rugby', '5. Giraffe playing tennis', '6. Tiger playing golf', '7. Polar bear playing hockey', '8. Chimpanzee playing American football', '9. Alligator playing volleyball', '10. Zebra playing cricket', '11. Ostrich playing basketball', '12. Hippopotamus playing softball', '13. Meerkat playing badminton', '14. Warthog playing baseball', '15. Aardvark playing soccer', '16. Kudu playing rugby', '17. Pangolin playing tennis', '18. Emu playing golf', '19. Fox playing hockey', '20. Cheetah playing American football', '21. Raccoon playing volleyball', '22. Porcupine playing cricket', '23. Anaconda playing basketball', '24. Llama playing softball', '25. Caribou playing baseball', '26. Cobra playing soccer', '27. Lynx playing rugby', '28. Puma playing tennis', '29. Wolverine playing golf', '30. Jackal playing hockey', '31. Badger playing American football', '32. Skunk playing volleyball', '33. Mongoose playing cricket', '34. Hyena playing basketball', '35. Squirrel playing softball', '36. Armadillo playing baseball', '37. Hedgehog playing soccer', '38. Beaver playing rugby', '39. Rhea playing tennis', '40. Ibex playing golf']\n"
     ]
    }
   ],
   "source": [
    "# parse the page ideas into a list for each page\n",
    "pages = parse_string(page_ideas[0])\n",
    "print(pages)"
   ]
  },
  {
   "cell_type": "code",
   "execution_count": null,
   "id": "1c3755d4",
   "metadata": {},
   "outputs": [
    {
     "data": {
      "application/vnd.jupyter.widget-view+json": {
       "model_id": "22e1b8aca1ea40579cfb026890b4f698",
       "version_major": 2,
       "version_minor": 0
      },
      "text/plain": [
       "  0%|          | 0/50 [00:00<?, ?it/s]"
      ]
     },
     "metadata": {},
     "output_type": "display_data"
    }
   ],
   "source": [
    "# create fun facts and images for each page\n",
    "fun_facts = []\n",
    "images = []\n",
    "count = 0\n",
    "# iterate for each desired page\n",
    "for page in pages:\n",
    "    prompt = \"photo, \"+page\n",
    "    # improve the image prompt with a model\n",
    "    new_prompt = generate(prompt)\n",
    "    # iterate for the desired number of images to choose from for each page\n",
    "    for image_num in range(0, images_to_generate):\n",
    "        # create an image based on the improved prompt\n",
    "        image = pipe(new_prompt).images[0]\n",
    "        # enhance/upscale the generated image\n",
    "        enhanced_image = enhance_image(image)\n",
    "        # create a coloring book image based on the generated image\n",
    "        coloring_book_image = generate_coloring_page(enhanced_image)\n",
    "        # save the image with the format image_pageNumber_imageNumber as jpg\n",
    "        coloring_book_image.save(\"image_\"+str(count)+\"_\"+str(image_num)+\".jpg\")\n",
    "    # add the last image generated for each page as a placeholder for the generated word document\n",
    "    images.append(enhanced_image)\n",
    "    # add the fun facts for each page in a list\n",
    "    fun_facts.append(generate_fun_facts(page))\n",
    "    count = count + 1"
   ]
  },
  {
   "cell_type": "code",
   "execution_count": null,
   "id": "6b6c7fef",
   "metadata": {},
   "outputs": [],
   "source": [
    "# write to a word document\n",
    "document = Document()\n",
    "document.add_heading('Coloring Book', 0)\n",
    "\n",
    "p = document.add_paragraph('A coloring book about '+topic)\n",
    "#p.add_run('bold').bold = True\n",
    "#p.add_run(' and some ')\n",
    "#p.add_run('italic.').italic = True\n",
    "\n",
    "count = 0\n",
    "for page in pages:\n",
    "    document.add_page_break()\n",
    "    document.add_heading('Heading, level 1', level=1)\n",
    "    document.add_paragraph('Fun facts about '+pages[count], style='Intense Quote')\n",
    "    document.add_picture(\"image_\"+str(count)+\".jpg\", width=Inches(5.0))\n",
    "    document.add_paragraph(fun_facts[count])\n",
    "#document.add_paragraph(\n",
    "#    'first item in ordered list', style='List Number'\n",
    "#)\n",
    "\n",
    "\n",
    "\n",
    "#records = (\n",
    "#    (3, '101', 'Spam'),\n",
    "#    (7, '422', 'Eggs'),\n",
    "#    (4, '631', 'Spam, spam, eggs, and spam')\n",
    "#)\n",
    "\n",
    "#table = document.add_table(rows=1, cols=3)\n",
    "#hdr_cells = table.rows[0].cells\n",
    "#hdr_cells[0].text = 'Qty'\n",
    "#hdr_cells[1].text = 'Id'\n",
    "#hdr_cells[2].text = 'Desc'\n",
    "#for qty, id, desc in records:\n",
    "#    row_cells = table.add_row().cells\n",
    "#    row_cells[0].text = str(qty)\n",
    "#    row_cells[1].text = id\n",
    "#    row_cells[2].text = desc\n",
    "\n",
    "document.save('demo.docx')"
   ]
  },
  {
   "cell_type": "code",
   "execution_count": null,
   "id": "c4e81724",
   "metadata": {},
   "outputs": [],
   "source": []
  }
 ],
 "metadata": {
  "kernelspec": {
   "display_name": "Python 3 (ipykernel)",
   "language": "python",
   "name": "python3"
  },
  "language_info": {
   "codemirror_mode": {
    "name": "ipython",
    "version": 3
   },
   "file_extension": ".py",
   "mimetype": "text/x-python",
   "name": "python",
   "nbconvert_exporter": "python",
   "pygments_lexer": "ipython3",
   "version": "3.9.13"
  }
 },
 "nbformat": 4,
 "nbformat_minor": 5
}

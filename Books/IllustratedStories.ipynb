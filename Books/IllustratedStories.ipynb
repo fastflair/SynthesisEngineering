{
 "cells": [
  {
   "cell_type": "markdown",
   "id": "25bfe3e0",
   "metadata": {},
   "source": [
    "# Synthesize a coloring book"
   ]
  },
  {
   "cell_type": "code",
   "execution_count": 1,
   "id": "de242f4d",
   "metadata": {},
   "outputs": [
    {
     "name": "stderr",
     "output_type": "stream",
     "text": [
      "2023-05-14 08:46:17.460742: I tensorflow/core/platform/cpu_feature_guard.cc:182] This TensorFlow binary is optimized to use available CPU instructions in performance-critical operations.\n",
      "To enable the following instructions: AVX2 FMA, in other operations, rebuild TensorFlow with the appropriate compiler flags.\n"
     ]
    }
   ],
   "source": [
    "import os\n",
    "import numpy as np\n",
    "import skimage\n",
    "from PIL import Image\n",
    "from PIL.Image import Image as PilImage\n",
    "import json\n",
    "\n",
    "from diffusers import StableDiffusionPipeline, DPMSolverMultistepScheduler\n",
    "from transformers import AutoTokenizer, AutoModelForCausalLM, AutoImageProcessor, Swin2SRForImageSuperResolution\n",
    "import torch\n",
    "from torch import inf\n",
    "\n",
    "import openai\n",
    "\n",
    "# !pip install python-docx \n",
    "from docx import Document\n",
    "from docx.shared import Inches, Mm\n",
    "import re\n",
    "\n",
    "from transformers.testing_utils import torch_device"
   ]
  },
  {
   "cell_type": "markdown",
   "id": "dafc11b4",
   "metadata": {},
   "source": [
    "## Inputs"
   ]
  },
  {
   "cell_type": "code",
   "execution_count": 2,
   "id": "c53006e2",
   "metadata": {},
   "outputs": [],
   "source": [
    "images_to_generate = 16\n",
    "# upscale image\n",
    "enhance_images = True\n",
    "image_width = 768\n",
    "image_height = 1024\n",
    "image_dir = \"./images\"\n",
    "use_Azure = False"
   ]
  },
  {
   "cell_type": "markdown",
   "id": "24616ce4",
   "metadata": {},
   "source": [
    "## Define keys and load models"
   ]
  },
  {
   "cell_type": "code",
   "execution_count": 10,
   "id": "05b7486b",
   "metadata": {},
   "outputs": [
    {
     "name": "stderr",
     "output_type": "stream",
     "text": [
      "Some weights of the model checkpoint at /home/gensyn/.cache/huggingface/hub/models--LottePeisch--RevAnimated-Diffusers/snapshots/f6e4b90661088dda86f53ebb1518876b65c7dea6/text_encoder were not used when initializing CLIPTextModel: ['text_model.encoder.layers.11.layer_norm2.weight', 'text_model.encoder.layers.11.self_attn.q_proj.weight', 'text_model.encoder.layers.11.self_attn.v_proj.bias', 'text_model.encoder.layers.11.mlp.fc1.weight', 'text_model.encoder.layers.11.mlp.fc2.weight', 'text_model.encoder.layers.11.layer_norm2.bias', 'text_model.encoder.layers.11.mlp.fc2.bias', 'text_model.encoder.layers.11.self_attn.v_proj.weight', 'text_model.encoder.layers.11.self_attn.out_proj.bias', 'text_model.encoder.layers.11.self_attn.q_proj.bias', 'text_model.encoder.layers.11.self_attn.out_proj.weight', 'text_model.encoder.layers.11.self_attn.k_proj.bias', 'text_model.encoder.layers.11.mlp.fc1.bias', 'text_model.encoder.layers.11.layer_norm1.bias', 'text_model.encoder.layers.11.self_attn.k_proj.weight', 'text_model.encoder.layers.11.layer_norm1.weight']\n",
      "- This IS expected if you are initializing CLIPTextModel from the checkpoint of a model trained on another task or with another architecture (e.g. initializing a BertForSequenceClassification model from a BertForPreTraining model).\n",
      "- This IS NOT expected if you are initializing CLIPTextModel from the checkpoint of a model that you expect to be exactly identical (initializing a BertForSequenceClassification model from a BertForSequenceClassification model).\n",
      "You have disabled the safety checker for <class 'diffusers.pipelines.stable_diffusion.pipeline_stable_diffusion.StableDiffusionPipeline'> by passing `safety_checker=None`. Ensure that you abide to the conditions of the Stable Diffusion license and do not expose unfiltered results in services or applications open to the public. Both the diffusers team and Hugging Face strongly recommend to keep the safety filter enabled in all public facing circumstances, disabling it only for use-cases that involve analyzing network behavior or auditing its results. For more information, please have a look at https://github.com/huggingface/diffusers/pull/254 .\n"
     ]
    }
   ],
   "source": [
    "openai.api_key = \"\"\n",
    " # Azure Instance\n",
    "if use_Azure:\n",
    "    openai.api_key = \"\"\n",
    "    # your endpoint should look like the following https://YOUR_RESOURCE_NAME.openai.azure.com/\n",
    "    openai.api_base =  \"\" \n",
    "    openai.api_version = '2022-12-01' # this may change in the future\n",
    "    openai.api_type = 'azure'\n",
    "    #This will correspond to the custom name you chose for your deployment when you deployed a model. \n",
    "    deployment_name='' \n",
    "else:\n",
    "    deployment_name = 'text-davinci-003'\n",
    "\n",
    "def load_prompter():\n",
    "    prompter_model = AutoModelForCausalLM.from_pretrained(\"microsoft/Promptist\")\n",
    "    tokenizer = AutoTokenizer.from_pretrained(\"gpt2\")\n",
    "    tokenizer.pad_token = tokenizer.eos_token\n",
    "    tokenizer.padding_side = \"left\"\n",
    "    return prompter_model, tokenizer\n",
    "\n",
    "prompter_model, prompter_tokenizer = load_prompter()\n",
    "\n",
    "def load_upscaler():\n",
    "    model_name = 'caidas/swin2SR-classical-sr-x2-64'\n",
    "    processor = AutoImageProcessor.from_pretrained(model_name)\n",
    "    model = Swin2SRForImageSuperResolution.from_pretrained(model_name).to(torch_device)\n",
    "    return model, processor\n",
    "    \n",
    "upscale_model, upscale_processor = load_upscaler()\n",
    "\n",
    "#model_id = \"dreamlike-art/dreamlike-photoreal-2.0\"\n",
    "#model_id = \"darkstorm2150/Protogen_Infinity_Official_Release\"\n",
    "model_id = \"LottePeisch/RevAnimated-Diffusers\"\n",
    "pipe = StableDiffusionPipeline.from_pretrained(model_id, torch_dtype=torch.float16, safety_checker = None)\n",
    "pipe.scheduler = DPMSolverMultistepScheduler.from_config(pipe.scheduler.config)\n",
    "pipe = pipe.to(\"cuda\")"
   ]
  },
  {
   "cell_type": "markdown",
   "id": "2c959427",
   "metadata": {},
   "source": [
    "## Helper functions"
   ]
  },
  {
   "cell_type": "code",
   "execution_count": 11,
   "id": "54f61319",
   "metadata": {},
   "outputs": [],
   "source": [
    "def read_file_to_list(file_path):\n",
    "    with open(file_path, 'r') as file:\n",
    "        data = file.read().splitlines()\n",
    "    return data\n",
    "\n",
    "# create a sketch for coloring based in an input image\n",
    "def generate_coloring_page(input: PilImage) -> PilImage:\n",
    "    # Convert to grayscale if needed\n",
    "    if input.mode != \"L\":\n",
    "        input = input.convert(\"L\")\n",
    "    np_image = np.asarray(input)\n",
    "    \n",
    "    # detect edges\n",
    "    np_image = skimage.filters.sobel(np_image)\n",
    "    # convert to 8 bpp\n",
    "    np_image = skimage.util.img_as_ubyte(np_image)\n",
    "    # Invert to get dark edges on a light background\n",
    "    np_image = 255 - np_image\n",
    "    # Improve the contrast\n",
    "    np_image = skimage.exposure.rescale_intensity(np_image)\n",
    "    \n",
    "    return Image.fromarray(np_image)\n",
    "\n",
    "# Create ideas for each desired page of the coloring book\n",
    "def generate_coloring_book_page_descriptions(topic, number_pages):\n",
    "    prompt = \"Create \"+str(number_pages)+\" unique ideas for a coloring book on the topic of \"+topic+\"/n/nUnique ideas for coloring book topic:\"\n",
    "    response = openai.Completion.create(\n",
    "            engine=deployment_name,\n",
    "            prompt=prompt,\n",
    "            temperature=0.7,\n",
    "            max_tokens=1500\n",
    "        )\n",
    "    result = response.choices[0].text.strip()\n",
    "    return result\n",
    "\n",
    "# Create titles from story idea\n",
    "def generate_title(idea):\n",
    "    prompt = \"Create a title for this story idea: \"+idea\n",
    "    response = openai.Completion.create(\n",
    "            engine=deployment_name,\n",
    "            prompt=prompt,\n",
    "            temperature=0.7,\n",
    "            max_tokens=500\n",
    "        )\n",
    "    result = response.choices[0].text.strip()\n",
    "    return result\n",
    "\n",
    "# Create fabe fro idea and title\n",
    "def generate_fable(idea, title):\n",
    "    prompt = \"Create a best selling, award winning, and imaginative fable with the moral atriculated as the end.  The fable should be a few pages in length and include character development, an amazing adventure, and a moral at the end.\\n\\nA plot summary is: \"+idea+\" and the tile is: \"+title+\"\\n\\nFable:\"\n",
    "    response = openai.Completion.create(\n",
    "            engine=deployment_name,\n",
    "            prompt=prompt,\n",
    "            temperature=0.7,\n",
    "            max_tokens=500\n",
    "        )\n",
    "    result = response.choices[0].text.strip()\n",
    "    return result\n",
    "\n",
    "\n",
    "# Create fun facts about the image\n",
    "def generate_fun_facts(topic):\n",
    "    prompt = \"Create fun facts about \"+topic+\"/n/nFun facts:\"\n",
    "    response = openai.Completion.create(\n",
    "            engine=deployment_name,\n",
    "            prompt=prompt,\n",
    "            temperature=0.7,\n",
    "            max_tokens=1500\n",
    "        )\n",
    "    result = remove_after_create(response.choices[0].text.strip())\n",
    "    return result\n",
    "\n",
    "# Create fun facts about the image\n",
    "def generate_summary(prompt: str):\n",
    "    response = openai.Completion.create(\n",
    "            engine=deployment_name,\n",
    "            prompt=prompt,\n",
    "            temperature=0.5,\n",
    "            max_tokens=1500\n",
    "        )\n",
    "    result = response.choices[0].text.strip()\n",
    "    return result\n",
    "\n",
    "# parse a string to list based on return characters\n",
    "def parse_string(input_string: str) -> list:\n",
    "    result = []\n",
    "    lines = input_string.split('\\n')\n",
    "    for line in lines:\n",
    "        if not 'Create ' in line and not line == \"\":\n",
    "            result.append(remove_number_period(line.strip()))\n",
    "    return result\n",
    "\n",
    "def remove_after_create(s: str) -> str:\n",
    "    keyword = \"Create \"\n",
    "    index = s.find(keyword)\n",
    "    \n",
    "    if index == -1:\n",
    "        # If \"Create \" is not found, return the original string\n",
    "        return s\n",
    "    \n",
    "    # Find the end index of the keyword\n",
    "    end_index = index + len(keyword)\n",
    "    \n",
    "    # Return the string up to the end of the keyword\n",
    "    return s[:end_index]\n",
    "\n",
    "def remove_number_period(s: str) -> str:\n",
    "    # Use a regular expression to match a number followed by a period and a space\n",
    "    pattern = r'^\\d+\\.\\s'\n",
    "    \n",
    "    # Remove the matched pattern and return the modified string\n",
    "    return re.sub(pattern, '', s).strip()\n",
    "\n",
    "def generate(plain_text: str) -> str:\n",
    "    input_ids = prompter_tokenizer(plain_text.strip()+\" Rephrase:\", return_tensors=\"pt\").input_ids\n",
    "    eos_id = prompter_tokenizer.eos_token_id\n",
    "    outputs = prompter_model.generate(input_ids, do_sample=False, max_new_tokens=75, num_beams=8, num_return_sequences=8, eos_token_id=eos_id, pad_token_id=eos_id, length_penalty=-1.0)\n",
    "    output_texts = prompter_tokenizer.batch_decode(outputs, skip_special_tokens=True)\n",
    "    res = output_texts[0].replace(plain_text+\" Rephrase:\", \"\").strip()\n",
    "    return res\n",
    "\n",
    "def enhance_image(image):\n",
    "    # prepare image for the model\n",
    "    inputs = upscale_processor(image, return_tensors=\"pt\").to(torch_device)\n",
    "\n",
    "    # forward pass\n",
    "    with torch.no_grad():\n",
    "        outputs = upscale_model(**inputs)\n",
    "\n",
    "    # postprocess\n",
    "    output = outputs.reconstruction.data.squeeze().float().cpu().clamp_(0, 1).numpy()\n",
    "    output = np.moveaxis(output, source=0, destination=-1)\n",
    "    output = (output * 255.0).round().astype(np.uint8)  # float32 to uint8\n",
    "    \n",
    "    return Image.fromarray(output)\n",
    "\n",
    "def create_directory_if_not_exists(path:str):\n",
    "    \"\"\"\n",
    "    Creates a directory at the specified path if it does not already exist.\n",
    "    \"\"\"\n",
    "    if not os.path.exists(path):\n",
    "        os.makedirs(path)\n",
    "    return\n",
    "\n",
    "def load_file_lines(filename):\n",
    "    with open(filename, 'r') as file:\n",
    "        lines = file.readlines()\n",
    "    lines = [line.strip() for line in lines]  # Remove trailing newline characters and leading/trailing whitespace\n",
    "    return lines\n",
    "\n",
    "def load_file_items(filename):\n",
    "    with open(filename, 'r') as file:\n",
    "        content = file.read()\n",
    "    items = content.split(',')  # Split the content using commas as separators\n",
    "    items = [item.strip() for item in items]  # Remove leading/trailing whitespace from each item\n",
    "    return items\n",
    "\n",
    "def write_list_to_file(filename, lines):\n",
    "    with open(filename, 'w') as file:\n",
    "        for line in lines:\n",
    "            file.write(line + '\\n')\n",
    "            \n",
    "def store_list_as_jsonl(filename, lines):\n",
    "    with open(filename, 'w') as file:\n",
    "        for line in lines:\n",
    "            json.dump(line, file)\n",
    "            file.write('\\n')\n",
    "            \n",
    "def read_jsonl_as_list(filename):\n",
    "    lines = []\n",
    "    with open(filename, 'r') as file:\n",
    "        for line in file:\n",
    "            line = line.strip()\n",
    "            if line:\n",
    "                lines.append(json.loads(line))\n",
    "    return lines\n",
    "\n",
    "# Create titles from story idea\n",
    "def generate_book_title(topic):\n",
    "    prompt = \"Create a book title for a book about: \"+topic\n",
    "    response = openai.Completion.create(\n",
    "            engine=deployment_name,\n",
    "            prompt=prompt,\n",
    "            temperature=0.7,\n",
    "            max_tokens=500\n",
    "        )\n",
    "    result = response.choices[0].text.strip()\n",
    "    return result"
   ]
  },
  {
   "cell_type": "markdown",
   "id": "8392241b",
   "metadata": {},
   "source": [
    "## Workflow"
   ]
  },
  {
   "cell_type": "code",
   "execution_count": 12,
   "id": "9aa4b9eb",
   "metadata": {},
   "outputs": [
    {
     "data": {
      "text/plain": [
       "['\"The Day the Sun Slept In\": An adventure where children around the world must wake up the sun when it oversleeps.',\n",
       " '\"Elvin the Miniature Elephant\": The journey of a small elephant who uses his size to do big things.',\n",
       " '\"Haley\\'s Hiccups\": A magical story about a girl whose hiccups make crazy things happen.',\n",
       " '\"The Boy Who Drew the Future\": A story about a boy whose drawings come to life.',\n",
       " '\"Sammy\\'s Magic Glasses\": A tale of a boy who sees hidden magical creatures through his glasses.',\n",
       " '\"Planet of the Candy Aliens\": The adventure of children discovering a planet full of sweet, living candies.',\n",
       " '\"The Stargazer\\'s Map\": A tale about a map that can navigate through constellations.',\n",
       " '\"Flora\\'s Flower\": A story about a magical flower that grants wishes.',\n",
       " '\"The Tale of the Talking Turtle\": A story about a wise old turtle that can talk.',\n",
       " '\"Molly and the Moon Moth\": A girl befriends a magical moon moth that takes her to different dimensions.',\n",
       " '\"The Invisible Island\": An island that only appears when children truly believe.',\n",
       " '\"Benji\\'s Time Travelling Watch\": A story about a watch that allows its wearer to time travel.',\n",
       " '\"The Whispering Willows\": Trees that share ancient wisdom with a curious child.',\n",
       " '\"The Rainbow River\": A story about a river that flows with colors of the rainbow.',\n",
       " '\"Liam and the Leprechaun\": A tale about a boy helping a leprechaun find his lost gold.',\n",
       " '\"The Penguin Who Loved to Dance\": The journey of a penguin who wants to dance on Broadway.',\n",
       " '\"Amelia\\'s Cloud Castle\": A girl discovers a castle in the clouds and its sky-dwelling inhabitants.',\n",
       " '\"The Tiny Dinosaur in the Backyard\": A story about a child who finds a real, tiny dinosaur in their garden.',\n",
       " '\"The Pirate Pigs and the Treasure of Mud Island\": An adventure with pirate pigs in search of muddy treasure.',\n",
       " '\"The Secret Library\": A magical library where the characters in the books come to life at night.',\n",
       " '\"The Bear who wanted to be a Ballet Dancer\": A bear breaks stereotypes to follow his passion.',\n",
       " '\"The Day Gravity Went on Vacation\": A day when everything starts floating, leading to a great adventure.',\n",
       " '\"The Dragon\\'s Toothbrush\": A dragon with flaming breath needs a special toothbrush.',\n",
       " '\"The Adventures of the Sandwich Spacecraft\": A story about a flying sandwich spacecraft exploring the galaxy.',\n",
       " '\"The Missing Color\": A world where all the colors disappear, and a brave child must find them.',\n",
       " '\"The Magical Music Box\": A music box that makes toys come to life.',\n",
       " '\"Unicorn Under the Bed\": A tale about a shy unicorn that lives under a child\\'s bed.',\n",
       " '\"Invisible Inkwell\": A story about an inkwell that makes anyone who uses it invisible.',\n",
       " '\"The Shoe House in the Woods\": A giant shoe house appears in the woods, housing fairy-tale creatures.',\n",
       " '\"The Singing Seahorses of the Silver Sea\": An undersea adventure with a chorus of seahorses.',\n",
       " '\"The Boy Who Could Hear Flowers\": A story about a boy who can hear the whispers of plants.',\n",
       " '\"The Day the Toys Woke Up\": A tale about the secret life of toys.',\n",
       " '\"The Moon\\'s Cheese Factory\": An adventure to the moon to find out if it\\'s really made of cheese.',\n",
       " 'A lonely cloud finds friendship with a kite lost during a storm.',\n",
       " 'A group of animals tries to bring back the rainbow after it disappears from the sky.',\n",
       " 'A young boy with the ability to speak to trees goes on a quest to save his forest home.',\n",
       " 'A family of time-traveling dinosaurs on a mission to document the history of Earth.',\n",
       " 'An alien child lands on Earth and learns about human customs while trying to fix his spaceship.',\n",
       " 'A puppy with the ability to dream about the future and uses this to help his friends.',\n",
       " 'A little girl discovers a portal in her closet that leads to the Land of Lost Socks.',\n",
       " 'A young mermaid ventures to the surface for the first time to return a lost trinket.',\n",
       " 'An adventurous bunny rabbit travels the world to collect stories from different cultures.',\n",
       " 'A group of kids invents a machine that turns nightmares into dreams.',\n",
       " 'A talking teddy bear helps a shy child make friends at a new school.',\n",
       " 'A young witch uses her magic to grow magical plants that cure any illness.',\n",
       " 'A child befriends a ghost living in his new house and they solve mysteries together.',\n",
       " 'A brave mouse knight embarks on a journey to rescue the cheese princess from the evil cat king.',\n",
       " 'A young robot discovers the meaning of friendship after meeting a group of lively children.',\n",
       " 'A boy finds a magical book where everything he draws comes to life.',\n",
       " \"A girl discovers her grandmother's magical recipe book and starts cooking up some enchanting meals.\",\n",
       " 'A family of squirrels prepares for winter by embarking on an adventure to gather golden acorns.',\n",
       " \"A young unicorn learns that her horn's glow can create magical, beautiful dreams.\",\n",
       " 'A group of children stumbles upon an ancient map leading to a hidden playground.',\n",
       " 'A group of young pirates searching for the legendary treasure of Candy Island.',\n",
       " 'A child inventor creates a device that allows animals to talk, leading to unexpected adventures.',\n",
       " 'A little dragon that breathes bubbles instead of fire tries to find his place in the dragon world.',\n",
       " 'A young girl discovers her ability to turn into a bird and uses it to help lost animals find their homes.',\n",
       " 'A group of kids builds a rocket ship out of cardboard and travels to different galaxies.',\n",
       " \"A young boy's friendship with a cloud that can rain different types of candy.\",\n",
       " 'A brave princess saves her kingdom from an eternal winter with the power of love and friendship.',\n",
       " 'A talking pet rock guides a group of kids on an adventure to the center of the Earth.',\n",
       " 'A young boy finds a magical paintbrush where everything he paints becomes real.',\n",
       " 'A baby phoenix learning to rise from its ashes for the first time.',\n",
       " \"A gnome family's adventure to relocate their home in a human's garden.\",\n",
       " \"A young girl's magical journey into a mirror world where everything is opposite.\",\n",
       " 'A boy finds a pair of magical glasses that allow him to see mythical creatures.',\n",
       " 'A group of children discovers a secret society of time-traveling historians.',\n",
       " 'A child befriends a mischievous wind spirit that causes all kinds of trouble in her town.',\n",
       " \"A young fairy that can't fly but finds her own unique way to soar.\",\n",
       " 'A family of musical instruments living in a symphony orchestra and their melodious adventures.',\n",
       " 'A group of kids forms a detective agency to solve the mystery of the missing moon.',\n",
       " 'A playful puppy finds a magical collar that grants him superpowers.',\n",
       " 'A child with the power to grow plants anywhere helps to turn his gray city green.',\n",
       " '\"A Mysterious Journey in Jellybean Land\" - A kid stumbles into a magical realm where everything is made of jellybeans.',\n",
       " '\"The Clockwork Cricket\" - A boy finds a mechanical cricket that leads him to a hidden world.',\n",
       " '\"Timmy\\'s Turnip Time Machine\" - A boy discovers his grandfather\\'s turnip can transport him back in time.',\n",
       " '\"The Invisible City of Cats\" - A young girl can see an invisible city of cats, and they need her help.',\n",
       " '\"Lottie and the Language of Flowers\" - A girl can communicate with flowers and uses this ability to solve environmental problems.',\n",
       " '\"The Tale of the Star-Weaver\" - A celestial being weaves stars into the night sky but drops one to Earth, where a child finds it.',\n",
       " '\"Zara\\'s Zany Zoo\" - A girl finds a portal to a magical zoo in her backyard, where the animals talk and have hilarious personalities.',\n",
       " '\"The Secret Symphony of the Sea\" - A boy with the ability to hear the music of the sea embarks on an underwater adventure.',\n",
       " '\"The Paintbrush of Dreams\" - A magic paintbrush allows a child to paint dreams that become real.',\n",
       " '\"The Little Astronaut\" - A kid builds a spaceship and travels through the galaxy, meeting friendly aliens and discovering new worlds.',\n",
       " '\"Biscuit the Book-Eating Dog\" - A dog that can eat books and gain their knowledge helps his young owner with school and life problems.',\n",
       " '\"The Chameleon\\'s Colorful Carnival\" - A chameleon runs a carnival where he changes the colors of everything.',\n",
       " '\"Ella\\'s Echo\" - A girl\\'s echo comes to life and takes her on an adventure in a parallel world.',\n",
       " '\"Pippa and the Penguin Parade\" - A girl rescues a lost baby penguin and helps it find its family.',\n",
       " '\"The Snowglobe Storyteller\" - Shaking a special snowglobe shows a child different magical worlds, and they must help resolve the stories within.',\n",
       " '\"The Forest of Floating Flowers\" - A young boy finds a forest where flowers float and grant wishes.',\n",
       " '\"The Dragon\\'s Toothache\" - A child helps a dragon with its toothache, leading to an unlikely friendship.',\n",
       " '\"Whispers in the Wind\" - A child with the ability to understand the wind\\'s whispers learns about nature\\'s secrets and pending disasters.',\n",
       " '\"The Rainbow Rain\" - A magical rain that turns everything into rainbow colors causes delightful chaos in a small town.',\n",
       " '\"Bubblegum Balloon Adventures\" - A kid with an endless roll of bubblegum can blow balloons that carry them on amazing adventures.',\n",
       " '\"Oliver and the Origami Owl\" - A paper owl comes to life and takes a boy on a journey through a world inspired by Japanese folklore.',\n",
       " '\"The Clocktower that Lost Time\" - A boy must help a sentient clocktower find its lost time.',\n",
       " '\"The Silly Spaceship\" - A child finds a spaceship with a sense of humor and goes on intergalactic adventures.',\n",
       " '\"Mabel\\'s Magic Music Box\" - A music box transports a girl to different periods in history, where she learns about music and culture.',\n",
       " '\"The Mischievous Moon\" - The moon comes down to Earth to play tricks and a child has to convince it to return to the sky.',\n",
       " '\"The Enchanted Eraser\" - A magic eraser can remove any problem but causes unexpected consequences.',\n",
       " '\"The Teddy Bear\\'s Picnic\" - A child attends a teddy bear\\'s picnic in a magical forest.',\n",
       " '\"The Tiny Dragon’s Bakery\" - A miniature dragon named Blaze uses her fire-breathing abilities to bake the most delicious pastries in the mystical forest.',\n",
       " '\"The Day Gravity Forgot\" - On a day when gravity suddenly stops working, a group of school kids experience a weightless adventure.',\n",
       " '\"The Sock-Eating Washing Machine\" - A curious washing machine that devours socks takes children on a journey to a parallel sock universe.',\n",
       " '\"The Cloud Shepherd\" - A young boy with the ability to control weather patterns takes on the responsibility of ensuring sunny days and rainy nights.',\n",
       " '\"The Girl Who Could Talk to Flowers\" - A girl with the ability to communicate with plants helps save her town\\'s dying botanical garden.',\n",
       " '\"The Lost Planet of Toys\" - A group of space-exploring children discover a planet inhabited by abandoned toys from across the universe.',\n",
       " '\"The Candyland Mystery\" - Children in a town wake up to find everything turned to candy and must solve the mystery before it\\'s too late.',\n",
       " '\"The Invisible Thread\" - A young boy finds an invisible thread that can connect him with different parts of the world.',\n",
       " '\"The Magic Chalkboard\" - A schoolgirl discovers her classroom\\'s chalkboard can bring anything she draws to life.',\n",
       " '\"The Land Underneath the Bed\" - A young boy discovers a tiny, magical world existing under his bed.',\n",
       " '\"Time Traveling Teddy\" - A child\\'s teddy bear has the power to take them back in time to meet famous historical figures.',\n",
       " '\"The Runaway Constellation\" - A star from a constellation descends to Earth, and a group of kids help it return to its place in the sky.',\n",
       " '\"The Whispering Woods\" - In a forest where trees can talk, a young girl must solve riddles to find her lost dog.',\n",
       " '\"The Enchanted Violin\" - A girl finds a magical violin that when played, can summon mythical creatures.',\n",
       " '\"The Rainbow Painter\" - A story about a boy who has the ability to paint real rainbows, affecting the weather and emotions around him.',\n",
       " '\"The Book of Forgotten Tales\" - Two siblings find a magical book that brings forgotten fairy tales to life, and they must ensure each story gets a happy ending.',\n",
       " '\"The Zoo of Imaginary Creatures\" - A story about a child who can draw creatures that come to life, creating a zoo of unique and imaginary animals.',\n",
       " '\"The Last Dinosaur Egg\" - A group of kids find the last dinosaur egg and must protect it from poachers.',\n",
       " '\"The Secret Language of Cats\" - A boy with the ability to understand cats unravels a feline plot to save their city from a mouse invasion.',\n",
       " '\"The Homework Machine\" - A young inventor creates a machine to do her homework, but chaos ensues when it starts overproducing.',\n",
       " '\"The Music Box Kingdom\" - A child finds a music box that transports them to a magical kingdom needing rescue from a dark sorcerer.',\n",
       " '\"The Dream Weaver\" - A girl with the ability to control her dreams gets stuck in a dream world, and her friends must journey in to save her.',\n",
       " '\"The Robot\\'s Best Friend\" - A heartwarming tale of friendship between a lonely boy and a lost, friendly robot.',\n",
       " '\"The Town That Moved\" - When a sleepy town starts to move around the world every night, the children must figure out why.',\n",
       " '\"The Butterfly Effect\" - A butterfly with the power to change color based on people\\'s emotions helps resolve conflicts in a small town.',\n",
       " 'A group of children discover that their new school is actually a training ground for young wizards and witches.',\n",
       " 'A young girl finds a magic paintbrush which brings to life anything she paints.',\n",
       " 'A talking cat helps a lonely boy make friends in his new neighborhood.',\n",
       " 'A curious child discovers that they can talk to animals after a strange encounter with a magical rabbit.',\n",
       " 'A young alien child accidentally lands on Earth and must learn about human customs while trying to fix his spaceship.',\n",
       " 'A group of children find a map leading to a hidden treasure in their small town.',\n",
       " 'A magical treehouse transports two best friends to different historical periods.',\n",
       " 'A young witch who is terrible at casting spells accidentally turns her brother into a frog.',\n",
       " 'A city kid moves to the countryside and befriends mythical creatures living in the forest.',\n",
       " 'A group of kids discover a hidden world beneath their city, inhabited by friendly mole people.',\n",
       " 'A group of children stumble upon a magic stone that grants one wish, but they must decide together what to wish for.',\n",
       " 'A magical library where the characters in the books come to life after dark.',\n",
       " 'A young boy befriends a mermaid while on summer vacation and helps her protect her ocean home.',\n",
       " 'A girl discovers she can control weather with her emotions, and she must learn to control her powers.',\n",
       " 'A child invents a machine that can turn trash into toys, transforming their town.',\n",
       " 'A young prince runs away from his kingdom and befriends a dragon.',\n",
       " 'A girl with the ability to see the future uses her power to help her friends and family.',\n",
       " 'A group of friends accidentally wake up a sleeping giant while camping in the woods.',\n",
       " 'A boy finds a magic coin that can transport him to any place in the world.',\n",
       " 'A young girl discovers a tiny door in her room that leads to a fairy kingdom.',\n",
       " 'A boy discovers his grandfather’s old map, leading him on an adventure to find a lost city of gold.',\n",
       " 'A magical pet shop where the animals have secret powers.',\n",
       " 'A girl receives a magic locket from her grandmother that allows her to time travel.',\n",
       " 'A young boy discovers he has the ability to grow plants instantaneously.',\n",
       " 'A child with the ability to speak to ghosts helps them complete their unfinished business.',\n",
       " 'A group of children discovers their treehouse is a spaceship.',\n",
       " 'A young detective and her talking dog solve mysteries in their small town.',\n",
       " 'A child befriends a shy unicorn in the local zoo and helps it return to its magical homeland.',\n",
       " 'A young girl finds a pair of glasses that allows her to see mythical creatures.',\n",
       " 'A family of children rescue and rehabilitate magical creatures in their home.',\n",
       " 'A girl discovers she can breathe underwater and befriends sea creatures.',\n",
       " 'A group of kids starts a secret club to protect their town from mischievous magical creatures.',\n",
       " 'A young prince and a garden gnome embark on an adventure to save their kingdom from a wicked sorceress.',\n",
       " 'A boy finds a magic camera that can capture not just images, but also memories.',\n",
       " 'A group of kids invent a robot to help clean up their neighborhood, but it develops a mind of its own.',\n",
       " 'A young girl’s diary comes to life, and her doodles and stories start happening in real life.',\n",
       " 'A young scientist invents a potion that can make him invisible.',\n",
       " 'A boy with the power to turn into any animal he wants uses his powers to save the local wildlife.',\n",
       " 'A girl finds a magic kaleidoscope that shows the future.',\n",
       " 'A young boy discovers a portal to the dinosaur era in his backyard.',\n",
       " 'A young dragon discovers he has a magical ability to paint rainbows in the sky.',\n",
       " 'A group of animals forms a secret society to protect their forest from human encroachment.',\n",
       " 'A time-traveling child meets famous inventors and artists throughout history.',\n",
       " 'A talking tree shares stories of its centuries-long life with a curious young girl.',\n",
       " 'A mystical land where the weather changes based on the mood of its inhabitants.',\n",
       " 'A space hamster goes on a cosmic quest to find the most delicious cheese in the universe.',\n",
       " 'A magical book transports a group of children to a realm where their drawings come to life.',\n",
       " 'A young witch struggles to control her unpredictable broomstick.',\n",
       " \"A brave knight faces challenging quests to prove herself worthy of joining the King's elite guard.\",\n",
       " 'A garden gnome comes to life at night and leads a group of insects on epic adventures.',\n",
       " 'A teddy bear gains the power of speech and helps a young boy overcome his fears.',\n",
       " 'A girl with the ability to talk to animals becomes a superhero to save endangered species.',\n",
       " 'A group of children stranded on a mysterious island must use their wits and courage to escape.',\n",
       " 'A magical creature that grants wishes in exchange for a day of kindness.',\n",
       " 'A young inventor creates a robot best friend to help him solve neighborhood mysteries.',\n",
       " 'A girl who can see into the future must use her gift to help her friends avert disaster.',\n",
       " 'A boy with the power to grow plants instantly uses his talent to fight against pollution.',\n",
       " 'A magical pen that brings drawings to life leads to a world of creative chaos.',\n",
       " 'A girl discovers she can enter her favorite stories and change their endings.',\n",
       " 'A shy alien crash-lands on Earth and must find a way back home with the help of human friends.',\n",
       " 'A mischievous imp causes trouble in a small town until a clever child outwits it.',\n",
       " 'A lonely ghost learns the power of friendship when it befriends a group of adventurous children.',\n",
       " 'A talking fish leads a young girl on a quest to find a legendary treasure hidden beneath the sea.',\n",
       " 'A magical carnival appears in a small town, bringing strange creatures and enchanting rides.',\n",
       " 'A girl discovers a portal to a hidden world where she must rescue her trapped parents.',\n",
       " 'A group of magical creatures help a young boy save his town from an evil sorcerer.',\n",
       " 'A lost unicorn finds its way back home with the help of a young adventurer.',\n",
       " 'A magical telescope reveals a hidden world of mythical creatures living among humans.',\n",
       " 'A boy discovers an enchanted compass that points the way to hidden treasure.',\n",
       " 'A girl with the ability to transform into any animal discovers an evil plot to destroy the world.',\n",
       " 'A young scientist invents a shrinking machine and accidentally shrinks herself and her friends.',\n",
       " 'A group of children is transported to a world where their favorite video games come to life.',\n",
       " \"A magical mirror that shows the person's true character leads to surprising discoveries.\",\n",
       " \"A hidden kingdom of magical creatures is discovered in a young girl's backyard.\",\n",
       " 'A girl with a magical bracelet can summon the powers of nature to save her village.',\n",
       " 'A group of animals bands together to save their home from a destructive construction project.',\n",
       " 'A young wizard accidentally turns his schoolmates into animals and must reverse the spell.',\n",
       " 'A boy discovers he can communicate with plants and must protect a magical garden.',\n",
       " 'A magical elevator transports a group of children to different worlds on each floor.',\n",
       " 'A girl befriends a tiny mermaid who needs help saving her ocean home from pollution.',\n",
       " 'A little girl finds a magical paintbrush that brings everything she paints to life.',\n",
       " 'A group of school kids stumble upon a map that leads to a hidden dinosaur land in their city.',\n",
       " 'A story about a mischievous cloud that has fun changing shapes to confuse people.',\n",
       " 'A young mermaid who is scared of the deep sea must find the courage to save her underwater kingdom.',\n",
       " 'A tiny robot from the future travels back in time to learn about human emotions.',\n",
       " 'A talking tree that tells stories from different eras to the children in a small village.',\n",
       " 'A young boy with the ability to talk to animals uses his power to save the local wildlife park.',\n",
       " 'A pixie who has lost her sparkle sets out on a journey to find it.',\n",
       " 'A group of kids discover they can travel into their favorite books, experiencing the adventures first-hand.',\n",
       " 'A teddy bear comes to life at night to protect his owner from nightmares.',\n",
       " 'A child prodigy invents a machine that can convert garbage into fresh food.',\n",
       " 'A young witch accidentally turns her teacher into a frog and must reverse the spell.',\n",
       " 'A lonely dragon learns the value of friendship when he befriends a group of village children.',\n",
       " 'A puppy with wings is afraid to fly, but when his family is in danger, he must face his fears.',\n",
       " 'A young boy discovers his shadow can move independently and they embark on secret adventures.',\n",
       " 'A child finds a magic coin that grants three wishes, learning lessons about the true value of happiness.',\n",
       " 'A group of friends have a sleepover in a haunted house and solve a hundred-year-old mystery.',\n",
       " 'A young alien visiting Earth disguises himself as a school kid to learn about human life.',\n",
       " 'A magical bookshop where the characters from the books come alive at midnight.',\n",
       " 'A girl discovers a secret door in her new house that leads to a fairy kingdom.',\n",
       " 'A squirrel embarks on a journey to save his forest from being destroyed by construction.',\n",
       " 'A young princess who prefers adventure to her royal duties escapes the castle to join a pirate crew.',\n",
       " 'A group of children invent a holiday that becomes popular all over the world.',\n",
       " 'A lonely ghost finds friendship with a young girl who moves into his haunted mansion.',\n",
       " 'A small gnome with a green thumb brings a dying garden back to life.',\n",
       " 'A pair of twins discover they have the power to control the weather with their emotions.',\n",
       " 'A little boy helps a lost star return to the night sky.',\n",
       " 'A young girl finds a magic seashell that can summon mythical sea creatures.',\n",
       " 'A unicorn who has lost its horn goes on a quest to retrieve it.',\n",
       " 'A group of friends find a portal in their treehouse leading to a world of dinosaurs.',\n",
       " \"A young boy's dreams start to come true, causing chaos and fun in his town.\",\n",
       " 'A girl with the ability to freeze time uses her power to enjoy the small moments in life.',\n",
       " 'A child befriends a lonely monster living under his bed.',\n",
       " 'A magical carousel horse escapes from the merry-go-round to explore the real world.',\n",
       " 'A family of elves living in a city park work together to keep nature thriving.',\n",
       " 'A child finds a time-traveling watch and accidentally ends up in the time of the dinosaurs.',\n",
       " 'A story about a magical music box that transports a group of friends to different parts of the world.',\n",
       " 'A young wizard is sent on a quest to retrieve a magical artifact stolen from his school.',\n",
       " 'A little girl discovers her pet cat is actually a shape-shifting alien.',\n",
       " 'A young boy finds a magical key that opens doors to different realms.',\n",
       " '\"The Mysterious Rainbow Forest\": A little girl discovers that the forest near her home turns into a vibrant rainbow world when it rains.',\n",
       " '\"Aliens in the Attic\": A group of children discover a family of friendly aliens living in their attic, with whom they embark on thrilling cosmic adventures.',\n",
       " '\"The Invisible Dragon\": A boy befriends an invisible dragon and learns how to navigate through the world unseen.',\n",
       " '\"The Penguin Who Could Fly\": A story about a penguin that develops the ability to fly and its journey to navigate both the ground and the sky.',\n",
       " '\"The Elephant\\'s Journey\": A tale about a little elephant who is trying to find his lost family across the vast African savannah.',\n",
       " '\"The Magic Paintbrush\": A child finds a magic paintbrush that brings everything they paint to life.',\n",
       " '\"The Boy in the Moon\": A tale about a boy living on the moon who dreams of visiting the earth.',\n",
       " '\"Starlight\\'s Adventure\": A young fairy who has lost her ability to create magic dust, embarks on a quest to regain it.',\n",
       " '\"The Last Dinosaur\": A story about a child who discovers a dinosaur egg that hatches the last dinosaur on earth.',\n",
       " '\"The Incredible Shrinking Kids\": Some kids accidentally drink a potion that shrinks them, leading to an adventure in their own backyard.',\n",
       " '\"The Clock that Could Time Travel\": A tale about a magical grandfather clock that takes children on adventures throughout history.',\n",
       " '\"Captain Candy\\'s Sweet Adventure\": Captain Candy and her crew sail across a sea of soda to find the legendary Sugar Island.',\n",
       " '\"The Mermaid and the Human Boy\": A story about a mermaid who saves a human boy from a shipwreck, and their ensuing adventures.',\n",
       " '\"The Teddy Bear Guardian\": A teddy bear comes to life at night to protect its child owner from nightmares.',\n",
       " '\"The Magic Library\": A story about a library where every book transports the reader into its story.',\n",
       " '\"The Land of Lost Things\": A journey into a mystical land where all lost things end up.',\n",
       " '\"The Boy Who Could Talk to Animals\": A tale about a boy with the ability to communicate with animals and his mission to save their habitat.',\n",
       " '\"The Enchanted Music Box\": A music box that transports a young girl to a world where she must help orchestrate the four seasons.',\n",
       " '\"The Day the Sun Slept In\": A story about children around the world dealing with an unusually long night when the sun oversleeps.',\n",
       " '\"The Invisible City\": A city that only appears when viewed through a special pair of glasses.',\n",
       " '\"The Robot in the Playground\": A tale of a robot who wants to understand how to play and have fun like human children.',\n",
       " '\"The Little Cloud That Couldn\\'t Rain\": A story about a small cloud\\'s journey to find its purpose.',\n",
       " '\"The Prince of Dreams\": A prince who can enter people\\'s dreams and helps them overcome their fears.',\n",
       " '\"The Littlest Giant\": A story about the smallest giant in a family, who discovers that size doesn\\'t define one\\'s worth.',\n",
       " '\"The Witch\\'s Lost Magic\": A kind-hearted witch loses her magic and has to find it with the help of her animal friends.',\n",
       " '\"The Enchanted Carousel\": A carousel that whisks children away on magical adventures when they choose the right animal to ride.',\n",
       " '\"The Boy with the Magic Pencil\": A boy finds a pencil that brings his drawings to life.',\n",
       " '\"The Pixie\\'s Puzzle\": A pixie presents a puzzle to a group of friends; solving it will reveal the path to a hidden treasure.',\n",
       " 'Aliens leave Mars as humans colonize with space travel because humans are bad neighbors.',\n",
       " 'An orphan girls discovers that plants heal sickness and tries to help people, but must battle big pharma.',\n",
       " 'An alien comes to Earth and discovers that money is good and makes lots of it to discover lots of money is harmful.',\n",
       " '\"The Adventures of the Moon Hopper\": A young girl finds a magical device that lets her travel to the moon where she meets extraterrestrial beings.',\n",
       " '\"The Secret Forest\": A group of children discovers a forest where the trees can talk and help them solve mysteries.',\n",
       " '\"Lulu\\'s Magic Paintbrush\": Lulu discovers that whatever she paints with her new brush comes to life.',\n",
       " '\"The Little Robot that Could\": A small robot overcomes challenges in a world of giant machines.',\n",
       " '\"The Dragon\\'s Egg\": A child finds a dragon\\'s egg and raises the baby dragon as a friend.',\n",
       " '\"The Time-traveling Teddy\": A teddy bear grants a boy the power to travel through time.',\n",
       " '\"The Boy Who Could Talk to Animals\": A young boy discovers he can communicate with animals and uses this ability to protect nature.',\n",
       " '\"The Invisible Princess\": A princess learns the value of humility when a witch\\'s curse makes her invisible.',\n",
       " '\"The Ocean\\'s Whisper\": A mermaid child sets out on a journey to rescue her captured father.',\n",
       " '\"The Enchanted Music Box\": A music box transports children to a world where music gives you powers.',\n",
       " '\"The Rainbow Bridge\": A child with the ability to see a special rainbow bridge helps lost mythical creatures find their way home.',\n",
       " '\"The Star Catcher\": A child who catches falling stars learns about the universe and its wonders.',\n",
       " '\"The Lost City of Toys\": A group of children finds a hidden city where all lost toys live.',\n",
       " '\"The Dream Weaver\": A girl can weave dreams into reality with her magical loom.',\n",
       " '\"Pixie Dust Trouble\": A pixie causes chaos in a small town when she loses control of her magic dust.',\n",
       " '\"The Littlest Unicorn\": The smallest unicorn in the land proves that size doesn\\'t matter when it comes to courage.',\n",
       " '\"A Planet of Candy\": Kids discover a planet made entirely of candy, but must learn moderation to avoid disaster.',\n",
       " '\"Bobby and the Bookworm\": A young boy befriends a book-loving worm who makes stories come alive.',\n",
       " '\"The Three Little Dragons and the Big Bad Knight\": A reversal of the classic tale with dragon siblings outsmarting a villainous knight.',\n",
       " '\"Bella and the Magic Mirror\": Bella uses a magic mirror to understand the feelings of others.',\n",
       " '\"The Garden Gnomes\\' Secret\": A child discovers that garden gnomes come to life at night and have a world of their own.',\n",
       " '\"The Flying Penguin\": A penguin who dreams of flying invents a way to soar in the sky.',\n",
       " '\"The Alien in the Attic\": A child finds an alien hiding in their attic and helps it return home.',\n",
       " '\"The Cloud Maker\": A child who can shape clouds brings happiness to his town by creating beautiful shapes in the sky.',\n",
       " '\"The Musical Raindrops\": A boy discovers that different raindrops produce different musical notes.',\n",
       " '\"The Mysterious Library\": Kids find a library where books transport them into the story.',\n",
       " '\"The Wizard\\'s Apprentice\": A young apprentice tries to fill in for his wizard master and accidentally turns the town\\'s animals into mini dragons.',\n",
       " '\"The Walking House\": A child wakes up to find their house has grown legs and is traveling the world.',\n",
       " '\"Sally and the Shadow Monster\": Sally befriends her scary shadow monster and together they overcome their fears.',\n",
       " '\"The Secret Life of a Snowman\": A snowman comes alive and experiences the world while everyone is asleep.',\n",
       " 'A kid invents teleporation after being inspired by Nicola Tesla, but is killed by the mean in black due to fears of foreign armies teleporting into fort knox to steal all the gold.',\n",
       " 'A kid invents low cost energy from water using acoustic energy to seperate hydrogen, which unleashes a genie that wants to rule Earth since its environment and air will be clean.',\n",
       " '\"The Day the Sun Slept In\" - A tale about a sleepy sun that oversleeps, and how all the creatures work together to wake it up and bring daylight back.',\n",
       " '\"The Invisible Elephant\" - The story of a young, invisible elephant learning to use its invisibility to help its friends in the jungle.',\n",
       " '\"The Boy Who Could Speak to Toys\" - A young boy discovers he can communicate with toys, leading to fantastic adventures.',\n",
       " '\"The Dancing Rainbow\" - A rainbow decides to move and dance, causing a splash of colors all over the world.',\n",
       " '\"The Last Dinosaur Egg\" - A group of children stumble upon the last dinosaur egg and must protect it from the evil clutches of a collector.',\n",
       " '\"The Time-traveling Hamster\" - A pet hamster finds a time machine and embarks on a journey through different eras.',\n",
       " '\"The Lollipop Forest\" - In a world where trees grow lollipops, a drought threatens the sweet forest, and a group of children must save it.',\n",
       " '\"The Little Star That Couldn\\'t Twinkle\" - A story about a small star that learns to shine its own way.',\n",
       " '\"The Land of Lost Socks\" - A boy discovers a portal to a world where all lost socks go and embarks on a mission to return them.',\n",
       " '\"The Magic Paintbrush\" - A tale of a girl whose drawings come to life with a magic paintbrush and the adventures they have.',\n",
       " '\"The Honeybee\\'s Secret\" - A honeybee who doesn\\'t like honey must find a new way to contribute to the hive.',\n",
       " '\"The Whispering Wind\" - A story about a wind that whispers secrets and the little girl who understands them.',\n",
       " '\"The Giggling Ghost\" - A friendly ghost is too shy to scare people, so it tickles them instead, causing a series of hilarious situations.',\n",
       " '\"The Clockwork Lion\" - An adventure story about a mechanical lion who lost his key and the boy who helps him find it.',\n",
       " '\"The Cloud Shepherd\" - A boy with the ability to herd clouds helps change the weather to save his village from a drought.',\n",
       " '\"The Paper Boat Sailor\" - A young girl crafts a paper boat that grows large enough for her to sail in, leading to magical maritime adventures.',\n",
       " '\"The Kingdom of Forgotten Dreams\" - A place where forgotten dreams live, and a boy who brings them back to life.',\n",
       " '\"The Tallest Flower\" - A story about a tiny seed that grows into the tallest flower, teaching a lesson about potential.',\n",
       " '\"The Caterpillar’s Quest\" - A caterpillar\\'s epic journey to find a safe place to transform into a butterfly.',\n",
       " '\"The Shoe House Mystery\" - A shoe left in the park overnight turns into a house, leading to a great mystery.',\n",
       " '\"The Wishing Fish\" - A fish has the power to grant wishes, but learns that not all wishes should come true.',\n",
       " '\"The Moon’s Missing Stars\" - The moon loses its stars, and a brave rabbit offers to retrieve them.',\n",
       " '\"The Invisible Bridge\" - Two friends discover an invisible bridge that leads them to mystical lands.',\n",
       " '\"The Girl Who Could Hear Colors\" - A story about a girl with synesthesia who uses her ability to solve problems.',\n",
       " '\"The Alphabet\\'s Day Off\" - A day when all the letters take a break, causing a language chaos.',\n",
       " '\"The Robot with a Heart\" - A robot begins to feel emotions, exploring what it means to be alive.',\n",
       " \"A man doesn't realize he's entered into an alternate universe through an energy vortex while sleeping until he returns the next day, after being confused by his friends having different jobs and relationships.\",\n",
       " 'A tiny gnome with a magical paintbrush can make his drawings come to life.',\n",
       " 'A young girl discovers her mirror is a portal to a parallel magical world.',\n",
       " 'A talking squirrel helps a boy lost in the forest find his way home.',\n",
       " 'A group of kids build a spaceship out of cardboard and accidentally launch into space.',\n",
       " 'A mischievous fairy swaps places with a human child for a day.',\n",
       " 'A young wizard must save his school from an ancient curse.',\n",
       " 'A dinosaur egg hatches in a modern-day city park.',\n",
       " 'A brave princess sets off to rescue a dragon from a knight.',\n",
       " 'An alien lands on Earth and befriends a group of kids to learn about human customs.',\n",
       " 'A young pirate on her first treasure hunt uncovers a mystical island.',\n",
       " 'A girl with the power to talk to plants helps save a dying enchanted forest.',\n",
       " 'A teddy bear comes to life at night to protect children from nightmares.',\n",
       " 'A boy finds a map that leads to a city hidden beneath the sea.',\n",
       " 'A kid discovers that his pet hamster is a secret agent.',\n",
       " 'A child with the ability to control weather must stop a permanent winter.',\n",
       " 'A group of children find a magical board game that transports them into its world.',\n",
       " 'A lonely ghost befriends the new family living in its haunted house.',\n",
       " 'A young witch struggles with spell casting until she discovers her unique magic language.',\n",
       " 'A talking cat takes a group of children on an adventure in a world where animals rule.',\n",
       " 'A kid with the ability to time travel uses it to learn about historical events.',\n",
       " 'Children discover that their school janitor is actually a magical guardian protecting them.',\n",
       " 'A shy unicorn finds the courage to use its healing magic to save its herd.',\n",
       " 'A girl discovers she can breathe life into her origami creations.',\n",
       " 'A group of kids find an ancient artifact that lets them communicate with mythical creatures.',\n",
       " 'A young mermaid is chosen to represent her kingdom in a grand undersea race.',\n",
       " \"A girl wakes up to find that she's shrunk and embarks on an adventure in her own house.\",\n",
       " 'A child stumbles upon a hidden garden where every plant tells a story.',\n",
       " 'A boy accidentally activates a robot from the future and helps it return home.',\n",
       " 'A group of children wake up in a dream world and must navigate their way back.',\n",
       " 'A young girl befriends a grumpy dragon and helps it find its lost treasure.',\n",
       " \"Children discover that their town's old legend about a sleeping giant is true.\",\n",
       " 'A boy gains the ability to bring his doodles to life and chaos ensues.',\n",
       " 'A young witch uses her magical baking skills to solve problems in her town.',\n",
       " 'A child befriends a cloud and goes on high-flying adventures.',\n",
       " 'A girl finds a magical hourglass that can freeze time for everyone but her.',\n",
       " 'A boy discovers his shadow has a life of its own and they solve mysteries together.',\n",
       " 'A child wakes up to find that all adults have disappeared for a day.',\n",
       " 'A young mermaid and a human girl switch places for a day.',\n",
       " 'A group of kids go on a quest to find a legendary rainbow bird.',\n",
       " 'A young boy discovers a magical lighthouse that guides lost sea creatures home.',\n",
       " 'A girl finds a magical locket that allows her to talk to animals.',\n",
       " 'A group of children discover a secret tunnel leading to a hidden dinosaur valley.',\n",
       " 'A shy boy becomes invisible and uses his power to overcome his fears.',\n",
       " '']"
      ]
     },
     "execution_count": 12,
     "metadata": {},
     "output_type": "execute_result"
    }
   ],
   "source": [
    "#Read in ideas from file ideas.txt\n",
    "ideas = read_file_to_list(\"ideas.txt\")\n",
    "ideas"
   ]
  },
  {
   "cell_type": "code",
   "execution_count": 13,
   "id": "e7c229cc",
   "metadata": {},
   "outputs": [
    {
     "ename": "KeyboardInterrupt",
     "evalue": "",
     "output_type": "error",
     "traceback": [
      "\u001b[0;31m---------------------------------------------------------------------------\u001b[0m",
      "\u001b[0;31mKeyboardInterrupt\u001b[0m                         Traceback (most recent call last)",
      "Cell \u001b[0;32mIn[13], line 3\u001b[0m\n\u001b[1;32m      1\u001b[0m titles \u001b[38;5;241m=\u001b[39m []\n\u001b[1;32m      2\u001b[0m \u001b[38;5;28;01mfor\u001b[39;00m idea \u001b[38;5;129;01min\u001b[39;00m ideas:\n\u001b[0;32m----> 3\u001b[0m     title \u001b[38;5;241m=\u001b[39m \u001b[43mgenerate_title\u001b[49m\u001b[43m(\u001b[49m\u001b[43midea\u001b[49m\u001b[43m)\u001b[49m\n\u001b[1;32m      4\u001b[0m     titles\u001b[38;5;241m.\u001b[39mappend(title)\n",
      "Cell \u001b[0;32mIn[11], line 39\u001b[0m, in \u001b[0;36mgenerate_title\u001b[0;34m(idea)\u001b[0m\n\u001b[1;32m     37\u001b[0m \u001b[38;5;28;01mdef\u001b[39;00m \u001b[38;5;21mgenerate_title\u001b[39m(idea):\n\u001b[1;32m     38\u001b[0m     prompt \u001b[38;5;241m=\u001b[39m \u001b[38;5;124m\"\u001b[39m\u001b[38;5;124mCreate a title for this story idea: \u001b[39m\u001b[38;5;124m\"\u001b[39m\u001b[38;5;241m+\u001b[39midea\n\u001b[0;32m---> 39\u001b[0m     response \u001b[38;5;241m=\u001b[39m \u001b[43mopenai\u001b[49m\u001b[38;5;241;43m.\u001b[39;49m\u001b[43mCompletion\u001b[49m\u001b[38;5;241;43m.\u001b[39;49m\u001b[43mcreate\u001b[49m\u001b[43m(\u001b[49m\n\u001b[1;32m     40\u001b[0m \u001b[43m            \u001b[49m\u001b[43mengine\u001b[49m\u001b[38;5;241;43m=\u001b[39;49m\u001b[43mdeployment_name\u001b[49m\u001b[43m,\u001b[49m\n\u001b[1;32m     41\u001b[0m \u001b[43m            \u001b[49m\u001b[43mprompt\u001b[49m\u001b[38;5;241;43m=\u001b[39;49m\u001b[43mprompt\u001b[49m\u001b[43m,\u001b[49m\n\u001b[1;32m     42\u001b[0m \u001b[43m            \u001b[49m\u001b[43mtemperature\u001b[49m\u001b[38;5;241;43m=\u001b[39;49m\u001b[38;5;241;43m0.7\u001b[39;49m\u001b[43m,\u001b[49m\n\u001b[1;32m     43\u001b[0m \u001b[43m            \u001b[49m\u001b[43mmax_tokens\u001b[49m\u001b[38;5;241;43m=\u001b[39;49m\u001b[38;5;241;43m500\u001b[39;49m\n\u001b[1;32m     44\u001b[0m \u001b[43m        \u001b[49m\u001b[43m)\u001b[49m\n\u001b[1;32m     45\u001b[0m     result \u001b[38;5;241m=\u001b[39m response\u001b[38;5;241m.\u001b[39mchoices[\u001b[38;5;241m0\u001b[39m]\u001b[38;5;241m.\u001b[39mtext\u001b[38;5;241m.\u001b[39mstrip()\n\u001b[1;32m     46\u001b[0m     \u001b[38;5;28;01mreturn\u001b[39;00m result\n",
      "File \u001b[0;32m~/anaconda3/lib/python3.10/site-packages/openai/api_resources/completion.py:25\u001b[0m, in \u001b[0;36mCompletion.create\u001b[0;34m(cls, *args, **kwargs)\u001b[0m\n\u001b[1;32m     23\u001b[0m \u001b[38;5;28;01mwhile\u001b[39;00m \u001b[38;5;28;01mTrue\u001b[39;00m:\n\u001b[1;32m     24\u001b[0m     \u001b[38;5;28;01mtry\u001b[39;00m:\n\u001b[0;32m---> 25\u001b[0m         \u001b[38;5;28;01mreturn\u001b[39;00m \u001b[38;5;28;43msuper\u001b[39;49m\u001b[43m(\u001b[49m\u001b[43m)\u001b[49m\u001b[38;5;241;43m.\u001b[39;49m\u001b[43mcreate\u001b[49m\u001b[43m(\u001b[49m\u001b[38;5;241;43m*\u001b[39;49m\u001b[43margs\u001b[49m\u001b[43m,\u001b[49m\u001b[43m \u001b[49m\u001b[38;5;241;43m*\u001b[39;49m\u001b[38;5;241;43m*\u001b[39;49m\u001b[43mkwargs\u001b[49m\u001b[43m)\u001b[49m\n\u001b[1;32m     26\u001b[0m     \u001b[38;5;28;01mexcept\u001b[39;00m TryAgain \u001b[38;5;28;01mas\u001b[39;00m e:\n\u001b[1;32m     27\u001b[0m         \u001b[38;5;28;01mif\u001b[39;00m timeout \u001b[38;5;129;01mis\u001b[39;00m \u001b[38;5;129;01mnot\u001b[39;00m \u001b[38;5;28;01mNone\u001b[39;00m \u001b[38;5;129;01mand\u001b[39;00m time\u001b[38;5;241m.\u001b[39mtime() \u001b[38;5;241m>\u001b[39m start \u001b[38;5;241m+\u001b[39m timeout:\n",
      "File \u001b[0;32m~/anaconda3/lib/python3.10/site-packages/openai/api_resources/abstract/engine_api_resource.py:153\u001b[0m, in \u001b[0;36mEngineAPIResource.create\u001b[0;34m(cls, api_key, api_base, api_type, request_id, api_version, organization, **params)\u001b[0m\n\u001b[1;32m    127\u001b[0m \u001b[38;5;129m@classmethod\u001b[39m\n\u001b[1;32m    128\u001b[0m \u001b[38;5;28;01mdef\u001b[39;00m \u001b[38;5;21mcreate\u001b[39m(\n\u001b[1;32m    129\u001b[0m     \u001b[38;5;28mcls\u001b[39m,\n\u001b[0;32m   (...)\u001b[0m\n\u001b[1;32m    136\u001b[0m     \u001b[38;5;241m*\u001b[39m\u001b[38;5;241m*\u001b[39mparams,\n\u001b[1;32m    137\u001b[0m ):\n\u001b[1;32m    138\u001b[0m     (\n\u001b[1;32m    139\u001b[0m         deployment_id,\n\u001b[1;32m    140\u001b[0m         engine,\n\u001b[0;32m   (...)\u001b[0m\n\u001b[1;32m    150\u001b[0m         api_key, api_base, api_type, api_version, organization, \u001b[38;5;241m*\u001b[39m\u001b[38;5;241m*\u001b[39mparams\n\u001b[1;32m    151\u001b[0m     )\n\u001b[0;32m--> 153\u001b[0m     response, _, api_key \u001b[38;5;241m=\u001b[39m \u001b[43mrequestor\u001b[49m\u001b[38;5;241;43m.\u001b[39;49m\u001b[43mrequest\u001b[49m\u001b[43m(\u001b[49m\n\u001b[1;32m    154\u001b[0m \u001b[43m        \u001b[49m\u001b[38;5;124;43m\"\u001b[39;49m\u001b[38;5;124;43mpost\u001b[39;49m\u001b[38;5;124;43m\"\u001b[39;49m\u001b[43m,\u001b[49m\n\u001b[1;32m    155\u001b[0m \u001b[43m        \u001b[49m\u001b[43murl\u001b[49m\u001b[43m,\u001b[49m\n\u001b[1;32m    156\u001b[0m \u001b[43m        \u001b[49m\u001b[43mparams\u001b[49m\u001b[38;5;241;43m=\u001b[39;49m\u001b[43mparams\u001b[49m\u001b[43m,\u001b[49m\n\u001b[1;32m    157\u001b[0m \u001b[43m        \u001b[49m\u001b[43mheaders\u001b[49m\u001b[38;5;241;43m=\u001b[39;49m\u001b[43mheaders\u001b[49m\u001b[43m,\u001b[49m\n\u001b[1;32m    158\u001b[0m \u001b[43m        \u001b[49m\u001b[43mstream\u001b[49m\u001b[38;5;241;43m=\u001b[39;49m\u001b[43mstream\u001b[49m\u001b[43m,\u001b[49m\n\u001b[1;32m    159\u001b[0m \u001b[43m        \u001b[49m\u001b[43mrequest_id\u001b[49m\u001b[38;5;241;43m=\u001b[39;49m\u001b[43mrequest_id\u001b[49m\u001b[43m,\u001b[49m\n\u001b[1;32m    160\u001b[0m \u001b[43m        \u001b[49m\u001b[43mrequest_timeout\u001b[49m\u001b[38;5;241;43m=\u001b[39;49m\u001b[43mrequest_timeout\u001b[49m\u001b[43m,\u001b[49m\n\u001b[1;32m    161\u001b[0m \u001b[43m    \u001b[49m\u001b[43m)\u001b[49m\n\u001b[1;32m    163\u001b[0m     \u001b[38;5;28;01mif\u001b[39;00m stream:\n\u001b[1;32m    164\u001b[0m         \u001b[38;5;66;03m# must be an iterator\u001b[39;00m\n\u001b[1;32m    165\u001b[0m         \u001b[38;5;28;01massert\u001b[39;00m \u001b[38;5;129;01mnot\u001b[39;00m \u001b[38;5;28misinstance\u001b[39m(response, OpenAIResponse)\n",
      "File \u001b[0;32m~/anaconda3/lib/python3.10/site-packages/openai/api_requestor.py:220\u001b[0m, in \u001b[0;36mAPIRequestor.request\u001b[0;34m(self, method, url, params, headers, files, stream, request_id, request_timeout)\u001b[0m\n\u001b[1;32m    209\u001b[0m \u001b[38;5;28;01mdef\u001b[39;00m \u001b[38;5;21mrequest\u001b[39m(\n\u001b[1;32m    210\u001b[0m     \u001b[38;5;28mself\u001b[39m,\n\u001b[1;32m    211\u001b[0m     method,\n\u001b[0;32m   (...)\u001b[0m\n\u001b[1;32m    218\u001b[0m     request_timeout: Optional[Union[\u001b[38;5;28mfloat\u001b[39m, Tuple[\u001b[38;5;28mfloat\u001b[39m, \u001b[38;5;28mfloat\u001b[39m]]] \u001b[38;5;241m=\u001b[39m \u001b[38;5;28;01mNone\u001b[39;00m,\n\u001b[1;32m    219\u001b[0m ) \u001b[38;5;241m-\u001b[39m\u001b[38;5;241m>\u001b[39m Tuple[Union[OpenAIResponse, Iterator[OpenAIResponse]], \u001b[38;5;28mbool\u001b[39m, \u001b[38;5;28mstr\u001b[39m]:\n\u001b[0;32m--> 220\u001b[0m     result \u001b[38;5;241m=\u001b[39m \u001b[38;5;28;43mself\u001b[39;49m\u001b[38;5;241;43m.\u001b[39;49m\u001b[43mrequest_raw\u001b[49m\u001b[43m(\u001b[49m\n\u001b[1;32m    221\u001b[0m \u001b[43m        \u001b[49m\u001b[43mmethod\u001b[49m\u001b[38;5;241;43m.\u001b[39;49m\u001b[43mlower\u001b[49m\u001b[43m(\u001b[49m\u001b[43m)\u001b[49m\u001b[43m,\u001b[49m\n\u001b[1;32m    222\u001b[0m \u001b[43m        \u001b[49m\u001b[43murl\u001b[49m\u001b[43m,\u001b[49m\n\u001b[1;32m    223\u001b[0m \u001b[43m        \u001b[49m\u001b[43mparams\u001b[49m\u001b[38;5;241;43m=\u001b[39;49m\u001b[43mparams\u001b[49m\u001b[43m,\u001b[49m\n\u001b[1;32m    224\u001b[0m \u001b[43m        \u001b[49m\u001b[43msupplied_headers\u001b[49m\u001b[38;5;241;43m=\u001b[39;49m\u001b[43mheaders\u001b[49m\u001b[43m,\u001b[49m\n\u001b[1;32m    225\u001b[0m \u001b[43m        \u001b[49m\u001b[43mfiles\u001b[49m\u001b[38;5;241;43m=\u001b[39;49m\u001b[43mfiles\u001b[49m\u001b[43m,\u001b[49m\n\u001b[1;32m    226\u001b[0m \u001b[43m        \u001b[49m\u001b[43mstream\u001b[49m\u001b[38;5;241;43m=\u001b[39;49m\u001b[43mstream\u001b[49m\u001b[43m,\u001b[49m\n\u001b[1;32m    227\u001b[0m \u001b[43m        \u001b[49m\u001b[43mrequest_id\u001b[49m\u001b[38;5;241;43m=\u001b[39;49m\u001b[43mrequest_id\u001b[49m\u001b[43m,\u001b[49m\n\u001b[1;32m    228\u001b[0m \u001b[43m        \u001b[49m\u001b[43mrequest_timeout\u001b[49m\u001b[38;5;241;43m=\u001b[39;49m\u001b[43mrequest_timeout\u001b[49m\u001b[43m,\u001b[49m\n\u001b[1;32m    229\u001b[0m \u001b[43m    \u001b[49m\u001b[43m)\u001b[49m\n\u001b[1;32m    230\u001b[0m     resp, got_stream \u001b[38;5;241m=\u001b[39m \u001b[38;5;28mself\u001b[39m\u001b[38;5;241m.\u001b[39m_interpret_response(result, stream)\n\u001b[1;32m    231\u001b[0m     \u001b[38;5;28;01mreturn\u001b[39;00m resp, got_stream, \u001b[38;5;28mself\u001b[39m\u001b[38;5;241m.\u001b[39mapi_key\n",
      "File \u001b[0;32m~/anaconda3/lib/python3.10/site-packages/openai/api_requestor.py:520\u001b[0m, in \u001b[0;36mAPIRequestor.request_raw\u001b[0;34m(self, method, url, params, supplied_headers, files, stream, request_id, request_timeout)\u001b[0m\n\u001b[1;32m    518\u001b[0m     _thread_context\u001b[38;5;241m.\u001b[39msession \u001b[38;5;241m=\u001b[39m _make_session()\n\u001b[1;32m    519\u001b[0m \u001b[38;5;28;01mtry\u001b[39;00m:\n\u001b[0;32m--> 520\u001b[0m     result \u001b[38;5;241m=\u001b[39m \u001b[43m_thread_context\u001b[49m\u001b[38;5;241;43m.\u001b[39;49m\u001b[43msession\u001b[49m\u001b[38;5;241;43m.\u001b[39;49m\u001b[43mrequest\u001b[49m\u001b[43m(\u001b[49m\n\u001b[1;32m    521\u001b[0m \u001b[43m        \u001b[49m\u001b[43mmethod\u001b[49m\u001b[43m,\u001b[49m\n\u001b[1;32m    522\u001b[0m \u001b[43m        \u001b[49m\u001b[43mabs_url\u001b[49m\u001b[43m,\u001b[49m\n\u001b[1;32m    523\u001b[0m \u001b[43m        \u001b[49m\u001b[43mheaders\u001b[49m\u001b[38;5;241;43m=\u001b[39;49m\u001b[43mheaders\u001b[49m\u001b[43m,\u001b[49m\n\u001b[1;32m    524\u001b[0m \u001b[43m        \u001b[49m\u001b[43mdata\u001b[49m\u001b[38;5;241;43m=\u001b[39;49m\u001b[43mdata\u001b[49m\u001b[43m,\u001b[49m\n\u001b[1;32m    525\u001b[0m \u001b[43m        \u001b[49m\u001b[43mfiles\u001b[49m\u001b[38;5;241;43m=\u001b[39;49m\u001b[43mfiles\u001b[49m\u001b[43m,\u001b[49m\n\u001b[1;32m    526\u001b[0m \u001b[43m        \u001b[49m\u001b[43mstream\u001b[49m\u001b[38;5;241;43m=\u001b[39;49m\u001b[43mstream\u001b[49m\u001b[43m,\u001b[49m\n\u001b[1;32m    527\u001b[0m \u001b[43m        \u001b[49m\u001b[43mtimeout\u001b[49m\u001b[38;5;241;43m=\u001b[39;49m\u001b[43mrequest_timeout\u001b[49m\u001b[43m \u001b[49m\u001b[38;5;28;43;01mif\u001b[39;49;00m\u001b[43m \u001b[49m\u001b[43mrequest_timeout\u001b[49m\u001b[43m \u001b[49m\u001b[38;5;28;43;01melse\u001b[39;49;00m\u001b[43m \u001b[49m\u001b[43mTIMEOUT_SECS\u001b[49m\u001b[43m,\u001b[49m\n\u001b[1;32m    528\u001b[0m \u001b[43m        \u001b[49m\u001b[43mproxies\u001b[49m\u001b[38;5;241;43m=\u001b[39;49m\u001b[43m_thread_context\u001b[49m\u001b[38;5;241;43m.\u001b[39;49m\u001b[43msession\u001b[49m\u001b[38;5;241;43m.\u001b[39;49m\u001b[43mproxies\u001b[49m\u001b[43m,\u001b[49m\n\u001b[1;32m    529\u001b[0m \u001b[43m    \u001b[49m\u001b[43m)\u001b[49m\n\u001b[1;32m    530\u001b[0m \u001b[38;5;28;01mexcept\u001b[39;00m requests\u001b[38;5;241m.\u001b[39mexceptions\u001b[38;5;241m.\u001b[39mTimeout \u001b[38;5;28;01mas\u001b[39;00m e:\n\u001b[1;32m    531\u001b[0m     \u001b[38;5;28;01mraise\u001b[39;00m error\u001b[38;5;241m.\u001b[39mTimeout(\u001b[38;5;124m\"\u001b[39m\u001b[38;5;124mRequest timed out: \u001b[39m\u001b[38;5;132;01m{}\u001b[39;00m\u001b[38;5;124m\"\u001b[39m\u001b[38;5;241m.\u001b[39mformat(e)) \u001b[38;5;28;01mfrom\u001b[39;00m \u001b[38;5;21;01me\u001b[39;00m\n",
      "File \u001b[0;32m~/anaconda3/lib/python3.10/site-packages/requests/sessions.py:587\u001b[0m, in \u001b[0;36mSession.request\u001b[0;34m(self, method, url, params, data, headers, cookies, files, auth, timeout, allow_redirects, proxies, hooks, stream, verify, cert, json)\u001b[0m\n\u001b[1;32m    582\u001b[0m send_kwargs \u001b[38;5;241m=\u001b[39m {\n\u001b[1;32m    583\u001b[0m     \u001b[38;5;124m\"\u001b[39m\u001b[38;5;124mtimeout\u001b[39m\u001b[38;5;124m\"\u001b[39m: timeout,\n\u001b[1;32m    584\u001b[0m     \u001b[38;5;124m\"\u001b[39m\u001b[38;5;124mallow_redirects\u001b[39m\u001b[38;5;124m\"\u001b[39m: allow_redirects,\n\u001b[1;32m    585\u001b[0m }\n\u001b[1;32m    586\u001b[0m send_kwargs\u001b[38;5;241m.\u001b[39mupdate(settings)\n\u001b[0;32m--> 587\u001b[0m resp \u001b[38;5;241m=\u001b[39m \u001b[38;5;28;43mself\u001b[39;49m\u001b[38;5;241;43m.\u001b[39;49m\u001b[43msend\u001b[49m\u001b[43m(\u001b[49m\u001b[43mprep\u001b[49m\u001b[43m,\u001b[49m\u001b[43m \u001b[49m\u001b[38;5;241;43m*\u001b[39;49m\u001b[38;5;241;43m*\u001b[39;49m\u001b[43msend_kwargs\u001b[49m\u001b[43m)\u001b[49m\n\u001b[1;32m    589\u001b[0m \u001b[38;5;28;01mreturn\u001b[39;00m resp\n",
      "File \u001b[0;32m~/anaconda3/lib/python3.10/site-packages/requests/sessions.py:701\u001b[0m, in \u001b[0;36mSession.send\u001b[0;34m(self, request, **kwargs)\u001b[0m\n\u001b[1;32m    698\u001b[0m start \u001b[38;5;241m=\u001b[39m preferred_clock()\n\u001b[1;32m    700\u001b[0m \u001b[38;5;66;03m# Send the request\u001b[39;00m\n\u001b[0;32m--> 701\u001b[0m r \u001b[38;5;241m=\u001b[39m \u001b[43madapter\u001b[49m\u001b[38;5;241;43m.\u001b[39;49m\u001b[43msend\u001b[49m\u001b[43m(\u001b[49m\u001b[43mrequest\u001b[49m\u001b[43m,\u001b[49m\u001b[43m \u001b[49m\u001b[38;5;241;43m*\u001b[39;49m\u001b[38;5;241;43m*\u001b[39;49m\u001b[43mkwargs\u001b[49m\u001b[43m)\u001b[49m\n\u001b[1;32m    703\u001b[0m \u001b[38;5;66;03m# Total elapsed time of the request (approximately)\u001b[39;00m\n\u001b[1;32m    704\u001b[0m elapsed \u001b[38;5;241m=\u001b[39m preferred_clock() \u001b[38;5;241m-\u001b[39m start\n",
      "File \u001b[0;32m~/anaconda3/lib/python3.10/site-packages/requests/adapters.py:487\u001b[0m, in \u001b[0;36mHTTPAdapter.send\u001b[0;34m(self, request, stream, timeout, verify, cert, proxies)\u001b[0m\n\u001b[1;32m    484\u001b[0m     timeout \u001b[38;5;241m=\u001b[39m TimeoutSauce(connect\u001b[38;5;241m=\u001b[39mtimeout, read\u001b[38;5;241m=\u001b[39mtimeout)\n\u001b[1;32m    486\u001b[0m \u001b[38;5;28;01mtry\u001b[39;00m:\n\u001b[0;32m--> 487\u001b[0m     resp \u001b[38;5;241m=\u001b[39m \u001b[43mconn\u001b[49m\u001b[38;5;241;43m.\u001b[39;49m\u001b[43murlopen\u001b[49m\u001b[43m(\u001b[49m\n\u001b[1;32m    488\u001b[0m \u001b[43m        \u001b[49m\u001b[43mmethod\u001b[49m\u001b[38;5;241;43m=\u001b[39;49m\u001b[43mrequest\u001b[49m\u001b[38;5;241;43m.\u001b[39;49m\u001b[43mmethod\u001b[49m\u001b[43m,\u001b[49m\n\u001b[1;32m    489\u001b[0m \u001b[43m        \u001b[49m\u001b[43murl\u001b[49m\u001b[38;5;241;43m=\u001b[39;49m\u001b[43murl\u001b[49m\u001b[43m,\u001b[49m\n\u001b[1;32m    490\u001b[0m \u001b[43m        \u001b[49m\u001b[43mbody\u001b[49m\u001b[38;5;241;43m=\u001b[39;49m\u001b[43mrequest\u001b[49m\u001b[38;5;241;43m.\u001b[39;49m\u001b[43mbody\u001b[49m\u001b[43m,\u001b[49m\n\u001b[1;32m    491\u001b[0m \u001b[43m        \u001b[49m\u001b[43mheaders\u001b[49m\u001b[38;5;241;43m=\u001b[39;49m\u001b[43mrequest\u001b[49m\u001b[38;5;241;43m.\u001b[39;49m\u001b[43mheaders\u001b[49m\u001b[43m,\u001b[49m\n\u001b[1;32m    492\u001b[0m \u001b[43m        \u001b[49m\u001b[43mredirect\u001b[49m\u001b[38;5;241;43m=\u001b[39;49m\u001b[38;5;28;43;01mFalse\u001b[39;49;00m\u001b[43m,\u001b[49m\n\u001b[1;32m    493\u001b[0m \u001b[43m        \u001b[49m\u001b[43massert_same_host\u001b[49m\u001b[38;5;241;43m=\u001b[39;49m\u001b[38;5;28;43;01mFalse\u001b[39;49;00m\u001b[43m,\u001b[49m\n\u001b[1;32m    494\u001b[0m \u001b[43m        \u001b[49m\u001b[43mpreload_content\u001b[49m\u001b[38;5;241;43m=\u001b[39;49m\u001b[38;5;28;43;01mFalse\u001b[39;49;00m\u001b[43m,\u001b[49m\n\u001b[1;32m    495\u001b[0m \u001b[43m        \u001b[49m\u001b[43mdecode_content\u001b[49m\u001b[38;5;241;43m=\u001b[39;49m\u001b[38;5;28;43;01mFalse\u001b[39;49;00m\u001b[43m,\u001b[49m\n\u001b[1;32m    496\u001b[0m \u001b[43m        \u001b[49m\u001b[43mretries\u001b[49m\u001b[38;5;241;43m=\u001b[39;49m\u001b[38;5;28;43mself\u001b[39;49m\u001b[38;5;241;43m.\u001b[39;49m\u001b[43mmax_retries\u001b[49m\u001b[43m,\u001b[49m\n\u001b[1;32m    497\u001b[0m \u001b[43m        \u001b[49m\u001b[43mtimeout\u001b[49m\u001b[38;5;241;43m=\u001b[39;49m\u001b[43mtimeout\u001b[49m\u001b[43m,\u001b[49m\n\u001b[1;32m    498\u001b[0m \u001b[43m        \u001b[49m\u001b[43mchunked\u001b[49m\u001b[38;5;241;43m=\u001b[39;49m\u001b[43mchunked\u001b[49m\u001b[43m,\u001b[49m\n\u001b[1;32m    499\u001b[0m \u001b[43m    \u001b[49m\u001b[43m)\u001b[49m\n\u001b[1;32m    501\u001b[0m \u001b[38;5;28;01mexcept\u001b[39;00m (ProtocolError, \u001b[38;5;167;01mOSError\u001b[39;00m) \u001b[38;5;28;01mas\u001b[39;00m err:\n\u001b[1;32m    502\u001b[0m     \u001b[38;5;28;01mraise\u001b[39;00m \u001b[38;5;167;01mConnectionError\u001b[39;00m(err, request\u001b[38;5;241m=\u001b[39mrequest)\n",
      "File \u001b[0;32m~/anaconda3/lib/python3.10/site-packages/urllib3/connectionpool.py:703\u001b[0m, in \u001b[0;36mHTTPConnectionPool.urlopen\u001b[0;34m(self, method, url, body, headers, retries, redirect, assert_same_host, timeout, pool_timeout, release_conn, chunked, body_pos, **response_kw)\u001b[0m\n\u001b[1;32m    700\u001b[0m     \u001b[38;5;28mself\u001b[39m\u001b[38;5;241m.\u001b[39m_prepare_proxy(conn)\n\u001b[1;32m    702\u001b[0m \u001b[38;5;66;03m# Make the request on the httplib connection object.\u001b[39;00m\n\u001b[0;32m--> 703\u001b[0m httplib_response \u001b[38;5;241m=\u001b[39m \u001b[38;5;28;43mself\u001b[39;49m\u001b[38;5;241;43m.\u001b[39;49m\u001b[43m_make_request\u001b[49m\u001b[43m(\u001b[49m\n\u001b[1;32m    704\u001b[0m \u001b[43m    \u001b[49m\u001b[43mconn\u001b[49m\u001b[43m,\u001b[49m\n\u001b[1;32m    705\u001b[0m \u001b[43m    \u001b[49m\u001b[43mmethod\u001b[49m\u001b[43m,\u001b[49m\n\u001b[1;32m    706\u001b[0m \u001b[43m    \u001b[49m\u001b[43murl\u001b[49m\u001b[43m,\u001b[49m\n\u001b[1;32m    707\u001b[0m \u001b[43m    \u001b[49m\u001b[43mtimeout\u001b[49m\u001b[38;5;241;43m=\u001b[39;49m\u001b[43mtimeout_obj\u001b[49m\u001b[43m,\u001b[49m\n\u001b[1;32m    708\u001b[0m \u001b[43m    \u001b[49m\u001b[43mbody\u001b[49m\u001b[38;5;241;43m=\u001b[39;49m\u001b[43mbody\u001b[49m\u001b[43m,\u001b[49m\n\u001b[1;32m    709\u001b[0m \u001b[43m    \u001b[49m\u001b[43mheaders\u001b[49m\u001b[38;5;241;43m=\u001b[39;49m\u001b[43mheaders\u001b[49m\u001b[43m,\u001b[49m\n\u001b[1;32m    710\u001b[0m \u001b[43m    \u001b[49m\u001b[43mchunked\u001b[49m\u001b[38;5;241;43m=\u001b[39;49m\u001b[43mchunked\u001b[49m\u001b[43m,\u001b[49m\n\u001b[1;32m    711\u001b[0m \u001b[43m\u001b[49m\u001b[43m)\u001b[49m\n\u001b[1;32m    713\u001b[0m \u001b[38;5;66;03m# If we're going to release the connection in ``finally:``, then\u001b[39;00m\n\u001b[1;32m    714\u001b[0m \u001b[38;5;66;03m# the response doesn't need to know about the connection. Otherwise\u001b[39;00m\n\u001b[1;32m    715\u001b[0m \u001b[38;5;66;03m# it will also try to release it and we'll have a double-release\u001b[39;00m\n\u001b[1;32m    716\u001b[0m \u001b[38;5;66;03m# mess.\u001b[39;00m\n\u001b[1;32m    717\u001b[0m response_conn \u001b[38;5;241m=\u001b[39m conn \u001b[38;5;28;01mif\u001b[39;00m \u001b[38;5;129;01mnot\u001b[39;00m release_conn \u001b[38;5;28;01melse\u001b[39;00m \u001b[38;5;28;01mNone\u001b[39;00m\n",
      "File \u001b[0;32m~/anaconda3/lib/python3.10/site-packages/urllib3/connectionpool.py:449\u001b[0m, in \u001b[0;36mHTTPConnectionPool._make_request\u001b[0;34m(self, conn, method, url, timeout, chunked, **httplib_request_kw)\u001b[0m\n\u001b[1;32m    444\u001b[0m             httplib_response \u001b[38;5;241m=\u001b[39m conn\u001b[38;5;241m.\u001b[39mgetresponse()\n\u001b[1;32m    445\u001b[0m         \u001b[38;5;28;01mexcept\u001b[39;00m \u001b[38;5;167;01mBaseException\u001b[39;00m \u001b[38;5;28;01mas\u001b[39;00m e:\n\u001b[1;32m    446\u001b[0m             \u001b[38;5;66;03m# Remove the TypeError from the exception chain in\u001b[39;00m\n\u001b[1;32m    447\u001b[0m             \u001b[38;5;66;03m# Python 3 (including for exceptions like SystemExit).\u001b[39;00m\n\u001b[1;32m    448\u001b[0m             \u001b[38;5;66;03m# Otherwise it looks like a bug in the code.\u001b[39;00m\n\u001b[0;32m--> 449\u001b[0m             \u001b[43msix\u001b[49m\u001b[38;5;241;43m.\u001b[39;49m\u001b[43mraise_from\u001b[49m\u001b[43m(\u001b[49m\u001b[43me\u001b[49m\u001b[43m,\u001b[49m\u001b[43m \u001b[49m\u001b[38;5;28;43;01mNone\u001b[39;49;00m\u001b[43m)\u001b[49m\n\u001b[1;32m    450\u001b[0m \u001b[38;5;28;01mexcept\u001b[39;00m (SocketTimeout, BaseSSLError, SocketError) \u001b[38;5;28;01mas\u001b[39;00m e:\n\u001b[1;32m    451\u001b[0m     \u001b[38;5;28mself\u001b[39m\u001b[38;5;241m.\u001b[39m_raise_timeout(err\u001b[38;5;241m=\u001b[39me, url\u001b[38;5;241m=\u001b[39murl, timeout_value\u001b[38;5;241m=\u001b[39mread_timeout)\n",
      "File \u001b[0;32m<string>:3\u001b[0m, in \u001b[0;36mraise_from\u001b[0;34m(value, from_value)\u001b[0m\n",
      "File \u001b[0;32m~/anaconda3/lib/python3.10/site-packages/urllib3/connectionpool.py:444\u001b[0m, in \u001b[0;36mHTTPConnectionPool._make_request\u001b[0;34m(self, conn, method, url, timeout, chunked, **httplib_request_kw)\u001b[0m\n\u001b[1;32m    441\u001b[0m \u001b[38;5;28;01mexcept\u001b[39;00m \u001b[38;5;167;01mTypeError\u001b[39;00m:\n\u001b[1;32m    442\u001b[0m     \u001b[38;5;66;03m# Python 3\u001b[39;00m\n\u001b[1;32m    443\u001b[0m     \u001b[38;5;28;01mtry\u001b[39;00m:\n\u001b[0;32m--> 444\u001b[0m         httplib_response \u001b[38;5;241m=\u001b[39m \u001b[43mconn\u001b[49m\u001b[38;5;241;43m.\u001b[39;49m\u001b[43mgetresponse\u001b[49m\u001b[43m(\u001b[49m\u001b[43m)\u001b[49m\n\u001b[1;32m    445\u001b[0m     \u001b[38;5;28;01mexcept\u001b[39;00m \u001b[38;5;167;01mBaseException\u001b[39;00m \u001b[38;5;28;01mas\u001b[39;00m e:\n\u001b[1;32m    446\u001b[0m         \u001b[38;5;66;03m# Remove the TypeError from the exception chain in\u001b[39;00m\n\u001b[1;32m    447\u001b[0m         \u001b[38;5;66;03m# Python 3 (including for exceptions like SystemExit).\u001b[39;00m\n\u001b[1;32m    448\u001b[0m         \u001b[38;5;66;03m# Otherwise it looks like a bug in the code.\u001b[39;00m\n\u001b[1;32m    449\u001b[0m         six\u001b[38;5;241m.\u001b[39mraise_from(e, \u001b[38;5;28;01mNone\u001b[39;00m)\n",
      "File \u001b[0;32m~/anaconda3/lib/python3.10/http/client.py:1375\u001b[0m, in \u001b[0;36mHTTPConnection.getresponse\u001b[0;34m(self)\u001b[0m\n\u001b[1;32m   1373\u001b[0m \u001b[38;5;28;01mtry\u001b[39;00m:\n\u001b[1;32m   1374\u001b[0m     \u001b[38;5;28;01mtry\u001b[39;00m:\n\u001b[0;32m-> 1375\u001b[0m         \u001b[43mresponse\u001b[49m\u001b[38;5;241;43m.\u001b[39;49m\u001b[43mbegin\u001b[49m\u001b[43m(\u001b[49m\u001b[43m)\u001b[49m\n\u001b[1;32m   1376\u001b[0m     \u001b[38;5;28;01mexcept\u001b[39;00m \u001b[38;5;167;01mConnectionError\u001b[39;00m:\n\u001b[1;32m   1377\u001b[0m         \u001b[38;5;28mself\u001b[39m\u001b[38;5;241m.\u001b[39mclose()\n",
      "File \u001b[0;32m~/anaconda3/lib/python3.10/http/client.py:318\u001b[0m, in \u001b[0;36mHTTPResponse.begin\u001b[0;34m(self)\u001b[0m\n\u001b[1;32m    316\u001b[0m \u001b[38;5;66;03m# read until we get a non-100 response\u001b[39;00m\n\u001b[1;32m    317\u001b[0m \u001b[38;5;28;01mwhile\u001b[39;00m \u001b[38;5;28;01mTrue\u001b[39;00m:\n\u001b[0;32m--> 318\u001b[0m     version, status, reason \u001b[38;5;241m=\u001b[39m \u001b[38;5;28;43mself\u001b[39;49m\u001b[38;5;241;43m.\u001b[39;49m\u001b[43m_read_status\u001b[49m\u001b[43m(\u001b[49m\u001b[43m)\u001b[49m\n\u001b[1;32m    319\u001b[0m     \u001b[38;5;28;01mif\u001b[39;00m status \u001b[38;5;241m!=\u001b[39m CONTINUE:\n\u001b[1;32m    320\u001b[0m         \u001b[38;5;28;01mbreak\u001b[39;00m\n",
      "File \u001b[0;32m~/anaconda3/lib/python3.10/http/client.py:279\u001b[0m, in \u001b[0;36mHTTPResponse._read_status\u001b[0;34m(self)\u001b[0m\n\u001b[1;32m    278\u001b[0m \u001b[38;5;28;01mdef\u001b[39;00m \u001b[38;5;21m_read_status\u001b[39m(\u001b[38;5;28mself\u001b[39m):\n\u001b[0;32m--> 279\u001b[0m     line \u001b[38;5;241m=\u001b[39m \u001b[38;5;28mstr\u001b[39m(\u001b[38;5;28;43mself\u001b[39;49m\u001b[38;5;241;43m.\u001b[39;49m\u001b[43mfp\u001b[49m\u001b[38;5;241;43m.\u001b[39;49m\u001b[43mreadline\u001b[49m\u001b[43m(\u001b[49m\u001b[43m_MAXLINE\u001b[49m\u001b[43m \u001b[49m\u001b[38;5;241;43m+\u001b[39;49m\u001b[43m \u001b[49m\u001b[38;5;241;43m1\u001b[39;49m\u001b[43m)\u001b[49m, \u001b[38;5;124m\"\u001b[39m\u001b[38;5;124miso-8859-1\u001b[39m\u001b[38;5;124m\"\u001b[39m)\n\u001b[1;32m    280\u001b[0m     \u001b[38;5;28;01mif\u001b[39;00m \u001b[38;5;28mlen\u001b[39m(line) \u001b[38;5;241m>\u001b[39m _MAXLINE:\n\u001b[1;32m    281\u001b[0m         \u001b[38;5;28;01mraise\u001b[39;00m LineTooLong(\u001b[38;5;124m\"\u001b[39m\u001b[38;5;124mstatus line\u001b[39m\u001b[38;5;124m\"\u001b[39m)\n",
      "File \u001b[0;32m~/anaconda3/lib/python3.10/socket.py:705\u001b[0m, in \u001b[0;36mSocketIO.readinto\u001b[0;34m(self, b)\u001b[0m\n\u001b[1;32m    703\u001b[0m \u001b[38;5;28;01mwhile\u001b[39;00m \u001b[38;5;28;01mTrue\u001b[39;00m:\n\u001b[1;32m    704\u001b[0m     \u001b[38;5;28;01mtry\u001b[39;00m:\n\u001b[0;32m--> 705\u001b[0m         \u001b[38;5;28;01mreturn\u001b[39;00m \u001b[38;5;28;43mself\u001b[39;49m\u001b[38;5;241;43m.\u001b[39;49m\u001b[43m_sock\u001b[49m\u001b[38;5;241;43m.\u001b[39;49m\u001b[43mrecv_into\u001b[49m\u001b[43m(\u001b[49m\u001b[43mb\u001b[49m\u001b[43m)\u001b[49m\n\u001b[1;32m    706\u001b[0m     \u001b[38;5;28;01mexcept\u001b[39;00m timeout:\n\u001b[1;32m    707\u001b[0m         \u001b[38;5;28mself\u001b[39m\u001b[38;5;241m.\u001b[39m_timeout_occurred \u001b[38;5;241m=\u001b[39m \u001b[38;5;28;01mTrue\u001b[39;00m\n",
      "File \u001b[0;32m~/anaconda3/lib/python3.10/ssl.py:1274\u001b[0m, in \u001b[0;36mSSLSocket.recv_into\u001b[0;34m(self, buffer, nbytes, flags)\u001b[0m\n\u001b[1;32m   1270\u001b[0m     \u001b[38;5;28;01mif\u001b[39;00m flags \u001b[38;5;241m!=\u001b[39m \u001b[38;5;241m0\u001b[39m:\n\u001b[1;32m   1271\u001b[0m         \u001b[38;5;28;01mraise\u001b[39;00m \u001b[38;5;167;01mValueError\u001b[39;00m(\n\u001b[1;32m   1272\u001b[0m           \u001b[38;5;124m\"\u001b[39m\u001b[38;5;124mnon-zero flags not allowed in calls to recv_into() on \u001b[39m\u001b[38;5;132;01m%s\u001b[39;00m\u001b[38;5;124m\"\u001b[39m \u001b[38;5;241m%\u001b[39m\n\u001b[1;32m   1273\u001b[0m           \u001b[38;5;28mself\u001b[39m\u001b[38;5;241m.\u001b[39m\u001b[38;5;18m__class__\u001b[39m)\n\u001b[0;32m-> 1274\u001b[0m     \u001b[38;5;28;01mreturn\u001b[39;00m \u001b[38;5;28;43mself\u001b[39;49m\u001b[38;5;241;43m.\u001b[39;49m\u001b[43mread\u001b[49m\u001b[43m(\u001b[49m\u001b[43mnbytes\u001b[49m\u001b[43m,\u001b[49m\u001b[43m \u001b[49m\u001b[43mbuffer\u001b[49m\u001b[43m)\u001b[49m\n\u001b[1;32m   1275\u001b[0m \u001b[38;5;28;01melse\u001b[39;00m:\n\u001b[1;32m   1276\u001b[0m     \u001b[38;5;28;01mreturn\u001b[39;00m \u001b[38;5;28msuper\u001b[39m()\u001b[38;5;241m.\u001b[39mrecv_into(buffer, nbytes, flags)\n",
      "File \u001b[0;32m~/anaconda3/lib/python3.10/ssl.py:1130\u001b[0m, in \u001b[0;36mSSLSocket.read\u001b[0;34m(self, len, buffer)\u001b[0m\n\u001b[1;32m   1128\u001b[0m \u001b[38;5;28;01mtry\u001b[39;00m:\n\u001b[1;32m   1129\u001b[0m     \u001b[38;5;28;01mif\u001b[39;00m buffer \u001b[38;5;129;01mis\u001b[39;00m \u001b[38;5;129;01mnot\u001b[39;00m \u001b[38;5;28;01mNone\u001b[39;00m:\n\u001b[0;32m-> 1130\u001b[0m         \u001b[38;5;28;01mreturn\u001b[39;00m \u001b[38;5;28;43mself\u001b[39;49m\u001b[38;5;241;43m.\u001b[39;49m\u001b[43m_sslobj\u001b[49m\u001b[38;5;241;43m.\u001b[39;49m\u001b[43mread\u001b[49m\u001b[43m(\u001b[49m\u001b[38;5;28;43mlen\u001b[39;49m\u001b[43m,\u001b[49m\u001b[43m \u001b[49m\u001b[43mbuffer\u001b[49m\u001b[43m)\u001b[49m\n\u001b[1;32m   1131\u001b[0m     \u001b[38;5;28;01melse\u001b[39;00m:\n\u001b[1;32m   1132\u001b[0m         \u001b[38;5;28;01mreturn\u001b[39;00m \u001b[38;5;28mself\u001b[39m\u001b[38;5;241m.\u001b[39m_sslobj\u001b[38;5;241m.\u001b[39mread(\u001b[38;5;28mlen\u001b[39m)\n",
      "\u001b[0;31mKeyboardInterrupt\u001b[0m: "
     ]
    }
   ],
   "source": [
    "titles = []\n",
    "for idea in ideas:\n",
    "    title = generate_title(idea)\n",
    "    titles.append(title)"
   ]
  },
  {
   "cell_type": "code",
   "execution_count": 27,
   "id": "8e6d34a8",
   "metadata": {},
   "outputs": [],
   "source": [
    "write_list_to_file(\"titles.txt\", titles)"
   ]
  },
  {
   "cell_type": "code",
   "execution_count": 15,
   "id": "661cb97d",
   "metadata": {},
   "outputs": [],
   "source": [
    "titles = load_file_lines(\"titles.txt\")"
   ]
  },
  {
   "cell_type": "code",
   "execution_count": 16,
   "id": "8494e177",
   "metadata": {},
   "outputs": [
    {
     "data": {
      "text/plain": [
       "['\"A Worldwide Wake-Up Call: The Day the Sun Slept In\"',\n",
       " '\"Elvin the Miniature Elephant: Achieving Big Things in a Small Package\"',\n",
       " '\"Haley\\'s Hiccup Adventures: A Magical Tale of Mischief and Mayhem\"',\n",
       " '\"The Dreamer Who Painted Prophecy\"',\n",
       " '\"Sammy\\'s Spectacular Sight: A Journey of Discovery through Magical Glasses\"',\n",
       " '\"A Sweet Discovery: Exploring the Planet of the Candy Aliens\"',\n",
       " '\"The Stargazer\\'s Guide to the Heavens: An Epic Journey with the Constellations\"',\n",
       " '\"Flora and the Wishing Flower\"',\n",
       " '\"The Wisdom of the Talking Turtle\"',\n",
       " '\"Molly and the Magic of the Moon Moth\"',\n",
       " '\"The Magic of Childhood: Discovering the Invisible Island\"',\n",
       " '\"Benji and the Chrono-Chronometer: A Time Travelling Adventure\"',\n",
       " '\"The Wisdom of the Whispering Willows\"',\n",
       " '\"The Magic of the Rainbow River\"',\n",
       " '\"Liam and the Leprechaun: A Quest for Gold\"',\n",
       " '\"Stepping Out: The Tale of the Dancing Penguin\\'s Dream\"',\n",
       " '\"The Magic of Amelia\\'s Cloud Castle\"',\n",
       " '\"The Incredible Discovery of a Tiny Dinosaur in the Backyard\"',\n",
       " '\"The Swashbuckling Pigs of Mud Island: An Epic Quest for Treasure\"',\n",
       " '\"The Enchantment of the Secret Library: A Magical Journey Where Fictional Characters Come to Life\"',\n",
       " '\"Breaking Stereotypes: The Bear Who Wanted to be a Ballet Dancer\"',\n",
       " '\"The Adventures of Gravity\\'s Vacation: A Day of Unbounded Exploration\"',\n",
       " '\"The Quest for the Dragon\\'s Toothbrush: A Fire-Breathing Tale\"',\n",
       " '\"The Epic Journey of the Sandwich Spacecraft: Exploring the Final Frontier\"',\n",
       " '\"The Search for the Lost Colors: A Child\\'s Mission to Restore Color to the World\"',\n",
       " '\"The Enchanting Melody of the Magic Music Box\"',\n",
       " '\"The Magical Unicorn Living Under the Bed\"',\n",
       " '\"The Magic of the Invisible Inkwell\"',\n",
       " '\"The Enchanted Shoe House in the Woods: A Tale of Magical Creatures\"',\n",
       " '\"The Song of the Silver Sea: An Undersea Adventure with the Chorus of Singing Seahorses\"',\n",
       " '\"The Secret Language of Flowers: A Tale of a Boy Who Listened\"',\n",
       " '\"The Awakened Toys: A Tale of Secret Lives\"',\n",
       " '\"The Lunar Quest for Cheese: An Intergalactic Journey to the Moon\\'s Cheese Factory\"',\n",
       " '\"A Cloud and a Kite: A Friendship Found Amid the Storm.\"',\n",
       " '\"The Quest for Color: The Animals\\' Journey to Restore the Rainbow\"',\n",
       " '\"The Boy Who Talked to Trees: A Journey to Save the Forest\"',\n",
       " '\"The Time-Travelling Dinosaur Chronicles: A Journey Through the Ages.\"',\n",
       " '\"A Star-Crossed Visitor: An Alien\\'s Journey to Understand Humanity\"',\n",
       " '\"The Dreaming Puppy: How Fido\\'s Foretelling Helped His Friends\"',\n",
       " '\"The Mysterious Journey to the Land of Lost Socks\"',\n",
       " '\"The Mermaid\\'s Surface Journey: A Tale of Lost and Found\"',\n",
       " '\"A Rabbit\\'s Journey Around the World: Collecting Cultural Tales\".',\n",
       " '\"Dream Weavers: How a Group of Kids Turned Nightmares into Dreams\"',\n",
       " '\"The Teddy Bear that Broke the Ice: How a Shy Child Learned to Make Friends at a New School\"',\n",
       " '\"The Witch\\'s Garden of Healing: Harnessing the Power of Nature to Cure Disease\".',\n",
       " '\"The Ghost Detective and the Little Sleuth\"',\n",
       " '\"The Mouse Knight\\'s Quest: Saving the Cheese Princess from the Cat King\\'s Grasp\"',\n",
       " '\"Robot Learns About Friendship Through a Group of Playful Kids\"',\n",
       " '\"The Boy Who Brought His Drawings to Life\"',\n",
       " '\"The Grandmother\\'s Magical Kitchen: Recipes of Enchantment\"',\n",
       " '\"The Golden Acorn Quest: A Family of Squirrels\\' Journey to Prepare for Winter\"',\n",
       " '\"Dreams of a Unicorn: Discovering the Power of a Glowing Horn\"',\n",
       " '\"The Adventure Begins: Uncovering the Secret Playground of Legend\"',\n",
       " '\"The Quest for the Sweetest Treasure: A Journey to Candy Island\"',\n",
       " '\"The Little Inventor Who Gave Voice to the Wild: Unfathomable Adventures Ahead!\"',\n",
       " '\"The Bubble-Breathing Dragon: Finding His Place in a Fire-Filled World\"',\n",
       " '\"The Winged Messenger: A Journey of Animal Rescue and Self-Discovery\"',\n",
       " '\"The Cardboard Cosmos: A Journey Through the Stars\"',\n",
       " '\"The Sweet Adventures of a Boy and His Cloud\"',\n",
       " '\"The Princess and the Winter Curse: Breaking the Spell of Eternal Cold with Love and Friendship\"',\n",
       " '\"Rocky\\'s Amazing Adventure to the Core of the Earth!\"',\n",
       " '\"The Power of Imagination: A Journey with a Magical Paintbrush\"',\n",
       " '\"The Phoenix\\'s Rebirth: A Journey of Renewal\"',\n",
       " '\"Gnome Sweet Gnome: A Family\\'s Journey to a Human Garden\"',\n",
       " '\"The Mirrored Realm: A Girl\\'s Strange Adventure Through an Upside-Down World\"',\n",
       " '\"A Magical Discovery: Uncovering the Hidden World with the Power of Special Glasses\"',\n",
       " '\"Exploring Through Time: The Mystery of the Time-Traveling Historians\"',\n",
       " '\"The Wind Spirit\\'s Mischief: A Child\\'s Unexpected Friendship\"',\n",
       " '\"Soaring Without Wings: The Journey of a Unique Fairy\"',\n",
       " '\"The Symphony of Song: The Musical Adventures of a Family of Instruments\"',\n",
       " '\"The Moonless Mystery: Uncovering the Secret of the Vanishing Lunar Light\"',\n",
       " '\"Fetching Superpowers: The Adventures of a Magical Puppy\"',\n",
       " '\"Greening the Gray City: The Amazing Plant-Growing Powers of a Child\"',\n",
       " '\"Exploring the Magical Realm of Jellybean Land\"',\n",
       " '\"The Chime of the Clockwork Cricket: Uncovering the Secrets of a Hidden World\"',\n",
       " '\"Timmy and the Turnip Time Warp\"',\n",
       " '\"The Secret Realm of the Feline Kingdom: A Girl\\'s Journey to Save the Invisible City of Cats\"',\n",
       " '\"Lottie and the Power of Flora: Saving the Planet with the Language of Flowers\"',\n",
       " '\"The Star-Weaver\\'s Lost Treasure: A Magical Journey from Heaven to Earth\"',\n",
       " '\"Zara\\'s Wild and Wacky Zoo Adventure\"',\n",
       " '\"The Mysterious Melody of the Deep: An Underwater Adventure with a Boy and His Gift\"',\n",
       " '\"The Wonder of Dreams: A Magical Journey with the Paintbrush of Imagination\"',\n",
       " '\"The Little Astronaut: An Intergalactic Journey of Discovery\"',\n",
       " '\"Biscuit the Book-Devouring Dog: Helping His Owner Master School and Life Challenges\"',\n",
       " '\"The Chameleon\\'s Colorful Caper: A Spectacular Carnival of Colorful Chaos!\"',\n",
       " '\"Ella\\'s Echo: An Adventure in a Parallel World\"',\n",
       " '\"Pippa and the Polar Adventure: A Journey to Reunite a Lost Baby Penguin with its Family\"',\n",
       " '\"The Magic of the Snowglobe Storyteller: Shaking the World of Imagination\"',\n",
       " '\"The Wishes of the Forest of Floating Flowers\"',\n",
       " '\"The Unlikely Friendship of a Child and a Dragon: Healing the Dragon\\'s Toothache\"',\n",
       " '\"Secrets of the Wind: Unveiling Nature\\'s Warnings with a Gifted Child\"',\n",
       " '\"A Delightful Rainbow Chaos: The Story of the Magical Rainbow Rain\"',\n",
       " '\"The Incredible Adventures of the Bubblegum Balloon Kid\"',\n",
       " '\"Oliver and the Origami Owl: A Journey Through Japanese Mythology\"',\n",
       " '\"Finding Lost Time: The Adventures of a Boy and a Clocktower\"',\n",
       " '\"The Wacky World of Intergalactic Adventures: A Child\\'s Journey in the Silly Spaceship\"',\n",
       " '\"Mabel\\'s Magical Melody: Exploring Music and History Through Time\"',\n",
       " '\"The Adventures of the Mischievous Moon: A Child\\'s Journey To Return the Celestial Trickster To Its Home In The Sky\"',\n",
       " '\"The Curse of the Enchanted Eraser: Unforeseen Consequences\"',\n",
       " '\"A Magical Day Out: Exploring the Teddy Bear\\'s Picnic in the Enchanting Forest\"',\n",
       " '\"The Sweet Treats of Blaze: The Enchanting Bakery of a Tiny Dragon\"',\n",
       " '\"The Day Gravity Was Lost: A Weightless Adventure for School Kids\"',\n",
       " '\"The Sock-Eating Washing Machine: A Journey to the Parallel Sock Universe\"',\n",
       " '\"The Cloud Shepherd: A Young Boy\\'s Journey to Control the Weather\"',\n",
       " '\"The Secret Language of the Garden: A Tale of a Girl Who Could Talk to Flowers\"',\n",
       " '\"The Toys of the Universe: Exploring the Lost Planet\"',\n",
       " '\"The Sweet and Sticky Mystery of Candyland\"',\n",
       " '\"The Magical Journey of an Invisible Thread\"',\n",
       " '\"From Chalkboard to Reality: Discovering the Magic of the Classroom\"',\n",
       " '\"The Magical Land of Wonder Hidden Under the Bed\"',\n",
       " '\"An Adventure Through Time with Teddy: Exploring History with a Time-Traveling Teddy Bear\"',\n",
       " '\"The Journey of the Wish-Granting Star: A Tale of the Runaway Constellation\"',\n",
       " '\"The Secrets of the Whispering Woods: A Young Girl\\'s Quest to Find Her Lost Dog\"',\n",
       " '\"The Sorcerer\\'s Strings: A Girl\\'s Journey with an Enchanted Violin\"',\n",
       " '\"The Rainbow Wizard: The Story of a Boy with the Power to Paint Perfect Rainbows\"',\n",
       " '\"The Lost Legends: A Journey to Restore Forgotten Tales\"',\n",
       " '\"The Magic Menagerie: Crafting a Zoo of Imaginary Creatures\"',\n",
       " '\"Saving the Future: The Journey to Protect the Last Dinosaur Egg\"',\n",
       " '\"The Feline Prophecy: Unraveling the Secret Language of Cats to Save their City from a Mouse Invasion\"',\n",
       " '\"The Homework Machine Gone Wild: A Tale of Invention and Chaos\"',\n",
       " '\"The Adventure of the Music Box Kingdom: A Journey to Save a Magical Land From a Dark Sorcerer\"',\n",
       " '\"The Dream Weaver: A Journey into a World of Dreams\"',\n",
       " '\"A Boy and His Robot: An Unexpected Friendship\"',\n",
       " '\"The Mystery of the Moving Town: Uncovering the Secret Behind the Wandering Streets\"',\n",
       " '\"Rainbow of Resolution: The Butterfly Effect in a Small Town\"',\n",
       " '\"The Magic of Our School: Uncovering the Secret World of Wizards and Witches\"',\n",
       " '\"The Enchantment of the Magic Paintbrush\"',\n",
       " '\"The Cat Who Brought New Friends: A Tale of a Lonely Boy and His Feline Companion\"',\n",
       " '\"The Curious Child Who Could Talk to Animals: A Magical Encounter with a Rabbit\"',\n",
       " '\"Lost in a Foreign Land: An Alien\\'s Journey to Repair his Ship and Understand Human Culture\"',\n",
       " '\"The Adventure of a Lifetime: Uncovering the Hidden Treasure of Smalltown\"',\n",
       " '\"The Time-Traveling Treehouse: An Adventure Through History With Two Best Friends\"',\n",
       " '\"Frogs and Spells: The Misadventures of a Young Witch\"',\n",
       " '\"Finding Magic in the Countryside: A City Kid\\'s Journey to Friendship with Mythical Creatures\".',\n",
       " '\"The Mole People of Subterranea: A Discovery Beneath the City!\"',\n",
       " '\"A Wish for All: The Power of a Magic Stone\"',\n",
       " '\"The Nighttime Adventures of the Living Library\"',\n",
       " '\"The Boy and the Mermaid: A Summer of Adventure and Friendship\"',\n",
       " '\"Weathering the Storm: Learning to Control Emotional Powers\"',\n",
       " '\"A Toy-Maker\\'s Dream: The Invention that Transformed a Town\"',\n",
       " '\"Prince of the Dragon: The Journey of a Young Royal\\'s Escape\"',\n",
       " '\"The Seer\\'s Gift: How a Girl\\'s Premonitions Changed the Lives of Those Around Her\"',\n",
       " '\"The Slumbering Giant Awakens: A Camping Trip Gone Awry\"',\n",
       " '\"The Magical Adventures of a Boy and His Coin: Exploring the World Through Magic!\"',\n",
       " '\"The Girl Who Found a Secret Fairy Kingdom\"',\n",
       " '\"The Golden Legacy: Unveiling the Hidden City of Fortune\"',\n",
       " '\"The Enchanted Pet Emporium: Unlocking the Mystery of the Magical Menagerie\"',\n",
       " '\"The Grandmother\\'s Magical Locket: A Journey Through Time\"',\n",
       " '\"A Boy and His Magic Garden: Discovering the Wonders of Instantaneous Plant Growth\"',\n",
       " '\"The Ghost Whisperer: Helping Spirits Find Rest\"',\n",
       " '\"A Journey to the Stars: The Astonishing Discovery of a Spacefaring Treehouse\"',\n",
       " 'The Adventures of Detective Lucy and Spot: Solving Mysteries in Small Town USA',\n",
       " '\"The Magical Journey Home: A Child\\'s Friendship with a Shy Unicorn\"',\n",
       " '\"The Spectacles of Sight: A Young Girl\\'s Journey to a Magical World\"',\n",
       " '\"Family of Magical Caretakers: A Journey of Rescue and Redemption\"',\n",
       " '\"Exploring the Depths: A Girl\\'s Journey to Breathe Underwater and Make Friends with the Ocean\\'s Wonders\"',\n",
       " '\"Defenders of the Town: The Secret Club Fighting Magical Menace\"',\n",
       " '\"The Prince and the Garden Gnome: A Quest to Defeat the Wicked Sorceress!\"',\n",
       " '\"The Magic Lens of Memory: A Boy\\'s Discovery\".',\n",
       " '\"Robots Run Amok: The Story of a Neighborhood\\'s Unintended Cleanup\"',\n",
       " '\"The Magical Journey of a Young Girl: When Her Words and Doodles Come to Life\"',\n",
       " '\"The Invisible Man: The Story of a Young Scientist\\'s Incredible Invention\"',\n",
       " '\"The Boy Who Roamed Wild: Saving the Local Wildlife with Shapeshifting Powers\"',\n",
       " '\"Kaleidoscope of Fate: A Girl\\'s Journey to Unlock the Secrets of the Future\"',\n",
       " '\"Time Warp to the Age of Dinosaurs: A Boy\\'s Incredible Journey Through a Backyard Portal\"',\n",
       " '\"The Rainbow Painter: A Young Dragon\\'s Magical Journey\"',\n",
       " '\"The Wild Guardians: A Secret Society of Animals on a Mission to Save Their Forest Home\"',\n",
       " '\"A Journey Through Time: Exploring the Lives of Famous Inventors and Artists\"',\n",
       " '\"The Tales of the Ancient Talking Tree: A Journey of Discovery with a Young Girl\"',\n",
       " '\"The Land of Emotional Climate: Discovering the Power of Moods in a Magical Realm\"',\n",
       " '\"The Ultimate Cheese Hunt: A Space Hamster\\'s Quest for Galactic Gastronomy\"',\n",
       " '\"The Enchanted Sketchbook: A Journey to a World of Imagination\"',\n",
       " '\"The Witch and Her Unruly Broomstick\"',\n",
       " '\"The Knight\\'s Quest: Proving Her Worthiness to the King\\'s Elite Guard\"',\n",
       " '\"The Adventures of Gnomeo and the Buggy Brigade\"',\n",
       " '\"The Brave Bear: How a Teddly Helped a Boy Find His Courage\"',\n",
       " '\"The Amazing Animal Whisperer: Saving the World\\'s Endangered Species\"',\n",
       " '\"The Lost Children of the Island: Stranded and Fighting for Survival\"',\n",
       " '\"The Wish Giver: A Day of Kindness Changes Everything\"',\n",
       " '\"A Boy and His Bot: Solving Mysteries in the Neighborhood\"',\n",
       " '\"The Seer\\'s Prophecy: Saving the Future With a Gift of Sight\"',\n",
       " '\"The Green Guardian: Defending the Planet from Pollution with Plant Power!\"',\n",
       " '\"The Chaos Created by a Magical Pen: The Adventures of a World Brought to Life.\"',\n",
       " '\"The Girl Who Rewrote the Endings: A Journey Through the Worlds of Fiction\"',\n",
       " '\"Lost in a New World: Finding Home with Human Friends\"',\n",
       " '\"The Troublemaker Imp and the Clever Child: A Small Town Tale\"',\n",
       " '\"The Ghost and the Brave Companions: A Tale of Unexpected Friendship\"',\n",
       " '\"The Fish\\'s Treasure Hunt: A Legendary Odyssey Beneath the Sea\"',\n",
       " '\"The Magic of the Mystical Carnival: Enchantment Comes to Town\"',\n",
       " '\"The Portal to the Lost Kingdom: A Daughter\\'s Quest to Save Her Parents\"',\n",
       " '\"The Guardians of the Town: A Magical Quest to Defeat the Evil Sorcerer\"',\n",
       " '\"The Journey Home: A Unicorn\\'s Tale of Adventure and Friendship\"',\n",
       " '\"The Mystical Views of the Hidden World: Unveiling the Magical Coexistence of Humans and Mythical Creatures.\"',\n",
       " '\"The Magic of the Enchanted Compass: A Boy\\'s Journey to Uncover Hidden Treasure\"',\n",
       " '\"The Girl with the Shapeshifting Powers: Unmasking a Deadly Conspiracy\"',\n",
       " '\"Tiny Troubles: A Scientist\\'s Shrinking Mistake\"',\n",
       " '\"The Ultimate Fantasy: Exploring the Magical World of Video Games\"',\n",
       " '\"The Reflection of Character: Unveiling Surprising Discoveries Through a Magical Mirror\"',\n",
       " '\"The Secret Kingdom of Enchantment: Unveiling the Magical Realm in a Girl\\'s Backyard\"',\n",
       " '\"The Girl with the Mystic Bracelet: A Hero\\'s Journey to Protect Her Village.\"',\n",
       " '\"United in Harmony: The Animal Rescue Mission to Save Their Home\"',\n",
       " '\"The Wizard\\'s Misadventure: Reversing the Animal Curse\"',\n",
       " '\"The Garden Keeper: A Boy\\'s Journey to Protect the Magical Realm of Nature\".',\n",
       " '\"The Infinite Adventures of the Magical Elevator\"',\n",
       " '\"The Girl and the Mermaid: Saving the Ocean, One Friendship at a Time\"',\n",
       " '\"The Magic of Imagination: A Little Girl\\'s Journey with a Mystical Paintbrush\"',\n",
       " '\"Unearthing a Secret: The Adventure of the Dinosaur Map!\"',\n",
       " '\"The Shape-Shifting Cloud: Mischief in the Sky!\"',\n",
       " '\"The Mermaid\\'s Deep Sea Challenge: Finding the Courage to Save Her Kingdom\"',\n",
       " '\"The Tiny Time Traveller: A Journey to Unlock Human Emotions\"',\n",
       " '\"Tales of Time: The Storytelling Tree of the Village\"',\n",
       " '\"The Boy Who Spoke to the Animals: Saving the Wildlife Park\"',\n",
       " '\"The Pixie\\'s Search for Her Lost Sparkle\"',\n",
       " '\"The Adventures Within: Exploring a World of Imagination Through Fiction\"',\n",
       " '\"Guardian of the Night: The Story of a Brave Teddy Bear\"',\n",
       " '\"The Garbage-to-Gourmet Machine: The Incredible Invention of a Child Prodigy\"',\n",
       " '\"The Witch\\'s Accidental Hex: Reversing the Spell of a Lifelong Lesson\"',\n",
       " '\"A Dragon\\'s Journey to Friendship: How One Lonely Creature Found Home in the Hearts of Many\".',\n",
       " '\"The Fearless Flight of the Winged Puppy\"',\n",
       " '\"The Shadow\\'s Secret Adventures: A Boy and His Moving Shadow\"',\n",
       " '\"Three Wishes and a Lesson: Discovering the True Worth of Joy.\"',\n",
       " '\"The Sleepover Adventure: Unraveling a Century-Old Mystery in a Haunted House\"',\n",
       " '\"Earth School: A Young Alien\\'s Journey to Experience Human Life\"',\n",
       " '\"The Midnight Magic of the Mystic Bookstore\"',\n",
       " '\"The Unseen Kingdom: A Girl\\'s Journey Through a Magical Portal\"',\n",
       " '\"The Brave Journey of a Determined Squirrel: Saving His Forest from Destruction\".',\n",
       " '\"Royal Renegade: The Princess and the Pirates\"',\n",
       " '\"The Worldwide Joy of Invention: How a Group of Children Created a Global Holiday\"',\n",
       " '\"A Ghostly Friendship: When a Young Girl Moves Into a Haunted Mansion\"',\n",
       " '\"The Gnome\\'s Garden Revival\"',\n",
       " '\"Storm of Emotions: The Tale of Twin Weather Masters\"',\n",
       " '\"Returning the Lost Star: A Little Boy\\'s Journey to the Heavens\"',\n",
       " '\"The Mysterious Seashell: A Young Girl\\'s Adventure with Mythical Sea Creatures\"',\n",
       " \"The Unicorn's Quest for its Horn\",\n",
       " '\"Unearthing the Ancient: A Journey Through a Portal to a Prehistoric World\"',\n",
       " '\"Dreams Come True: A Boy\\'s Wish Brings Mayhem to His Hometown\"',\n",
       " '\"Living in the Now: How One Girl Used Her Ability to Freeze Time to Cherish Life\\'s Little Moments\".',\n",
       " '\"The Monster Under the Bed: A Boy\\'s Unlikely Friendship\"',\n",
       " '\"The Runaway Carousel Horse: A Journey Through the Unknown\"',\n",
       " '\"The Elves of the City Park: Keeping Nature Alive\"',\n",
       " '\"The Time-Travelling Watch: A Child\\'s Journey Back to the Age of Dinosaurs\"',\n",
       " '\"Exploring the World with the Magic of Music!\"',\n",
       " '\"The Wizard\\'s Quest: Retrieving the Lost Artifact\"',\n",
       " '\"The Feline from Beyond: A Little Girl\\'s Surprising Discovery\"',\n",
       " '\"The Key to Other Worlds: A Boy\\'s Magical Journey\"',\n",
       " '\"The Bright and Magical Rainbow Forest: A Girl\\'s Journey of Discovery\"',\n",
       " '\"Exploring the Cosmos: The Adventures of the Aliens in the Attic\"',\n",
       " '\"The Secret World of the Invisible Dragon\"',\n",
       " '\"The Flight of the Penguin: A Journey Across Land and Sky\"',\n",
       " '\"The Elephantine Odyssey: A Little Elephant\\'s Search for Home\"',\n",
       " '\"The Enchanted Paintbrush: A Young Artist\\'s Adventure in the World of Magic\"',\n",
       " '\"The Star-Crossed Journey of the Boy in the Moon\"',\n",
       " '\"The Quest for Starlight\\'s Magic: A Fairy\\'s Journey to Restore Her Powers\"',\n",
       " '\"The Last Hope: The Discovery of a Dinosaur Egg\"',\n",
       " '\"The Miniature Misadventures of the Incredible Shrinking Kids\"',\n",
       " '\"The Adventures of the Time-Traveling Grandfather Clock\"',\n",
       " '\"A Sweet Voyage: Captain Candy\\'s Search for Sugar Island\"',\n",
       " '\"The Mermaid\\'s Rescue: A Story of Adventure and Friendship Between a Human Boy and a Mermaid\"',\n",
       " '\"The Guardian Bear: Protecting a Child from Nightmares\"',\n",
       " '\"The Portal to Imagination: Exploring the Magic Library\"',\n",
       " '\"Exploring the Mystical Land of Lost Things\"',\n",
       " '\"The Animal Whisperer: A Story of a Boy on a Mission to Save the Wild\".',\n",
       " '\"The Wonders of the Enchanted Music Box: A Journey Through Four Seasons\"',\n",
       " '\"The Eternal Night: A Global Tale of the Day the Sun Slept In\"',\n",
       " '\"Seeing the Unseen: Exploring the Mysteries of the Invisible City\"',\n",
       " '\"Robot\\'s Playtime: The Journey to Becoming a Real Kid\"',\n",
       " '\"The Big Dream of the Little Cloud: Finding Its Rainy Purpose\"',\n",
       " '\"The Prince of Dreams: A Journey to Conquer Fears\"',\n",
       " '\"The Littlest Giant: Proving That Size Doesn\\'t Matter\"',\n",
       " '\"The Witch\\'s Search for Lost Magic: An Adventure with Animal Friends\"',\n",
       " '\"The Magic of the Enchanted Carousel\"',\n",
       " '\"The Miraculous Adventures of the Boy with the Magic Pencil\"',\n",
       " '\"The Pixie\\'s Perplexing Problem: Unveiling the Path to Hidden Treasure\"',\n",
       " '\"Goodbye, Mars: Humanity\\'s Invasion of Space Leads to Alien Exodus\"',\n",
       " '\"The Orphan\\'s Herbal Fight: Battling Big Pharma for Health and Healing\"',\n",
       " '\"The Alien\\'s Unexpected Discovery: The Harmful Power of Money\"',\n",
       " '\"The Moon-Hopping Adventures of a Young Girl\"',\n",
       " '\"Unlocking the Secrets of the Talking Trees: A Journey into the Magical World of the Secret Forest\"',\n",
       " '\"Lulu\\'s Magical Adventures: The Story of the Magic Paintbrush\"',\n",
       " '\"The Incredible Journey of the Little Robot That Could\"',\n",
       " '\"A Friend For Life: The Journey of a Dragon\\'s Egg\"',\n",
       " '\"The Magical Time-Traveling Teddy: A Boy\\'s Journey Through Time\"',\n",
       " '\"The Guardian of the Wild: The Story of the Boy Who Could Talk to Animals\"',\n",
       " '\"The Humble Journey of the Invisible Princess\"',\n",
       " '\"The Call of the Sea: A Mermaid\\'s Journey to Rescue Her Father\"',\n",
       " '\"The Magic of the Enchanted Music Box\"',\n",
       " '\"Crossing the Rainbow Bridge: A Child\\'s Journey to Reunite Lost Mythical Creatures with Home\"',\n",
       " '\"The Star Catcher: A Journey Through the Universe\\'s Wonders\"',\n",
       " '\"Exploring the Forgotten City of Lost Toys\"',\n",
       " '\"The Weaving of Dreams: The Magic of the Dream Weaver\"',\n",
       " '\"Trouble in the Town: The Uncontrolled Pixie Dust\"',\n",
       " '\"The Brave Little Unicorn: Proving That Courage Comes In All Sizes\"',\n",
       " '\"Sweet Dreams and Sour Consequences: Exploring a Planet of Candy\"',\n",
       " '\"Bobby and the Bookworm: An Unlikely Friendship That Brings Stories To Life\"',\n",
       " '\"The Big Bad Knight and the Three Little Dragons\"',\n",
       " '\"Bella and the Mirror of Empathy\"',\n",
       " '\"Unlocking the Garden Gnomes\\' Hidden Realm\"',\n",
       " '\"The Dream of Flight: The Story of the Flying Penguin\"',\n",
       " '\"Lost in the Attic: The Journey Home with an Alien Friend\"',\n",
       " '\"The Cloud Shaper: Bringing Joy to a Small Town Through the Magic of Shaping the Sky\"',\n",
       " '\"The Symphony of the Skies: A Boy\\'s Discovery of the Musical Raindrops\"',\n",
       " '\"The Adventures of the Mysterious Library: Exploring a World of Imagination\"',\n",
       " '\"The Apprentice\\'s Folly: When a Wizard\\'s Apprentice Tries His Hand at Magic\"',\n",
       " '\"Around the World with the Walking House\"',\n",
       " '\"Sally and the Shadow Monster: A Tale of Bravery and Friendship\"',\n",
       " '\"The Adventures of a Midnight Snowman: Exploring the World in the Dead of Night\"',\n",
       " '\"The Invention of Teleportation: The Tragic Tale of a Young Genius and the Mean in Black\"',\n",
       " '\"The Genie of a Clean Earth: A Kid\\'s Invention Unlocks a World of Possibilities\"',\n",
       " '\"The Great Awakening: The Day the Sun Slept In and the World Unites to Bring Daylight Back\"',\n",
       " '\"Invisible Magic: The Journey of a Young Elephant in the Jungle\"',\n",
       " '\"The Adventures of the Toy Whisperer: A Young Boy\\'s Journey to a World of Wonder\"',\n",
       " '\"The World of Color: A Rainbow\\'s Dance\"',\n",
       " '\"The Great Dinosaur Rescue: Protecting the Last Egg\"',\n",
       " '\"The Incredible Adventures of the Time-Traveling Hamster\"',\n",
       " '\"The Sweet Dilemma: Saving the Lollipop Forest\"',\n",
       " '\"A Little Star\\'s Big Shine: The Journey of Learning to Twinkle Differently\"',\n",
       " '\"The Unsolved Mystery of the Lost Socks: A Journey to the Land of the Missing Socks\"',\n",
       " '\"The Enchanting Paintbrush: A Journey of Wonder and Imagination\"',\n",
       " '\"The Sweetness Beyond the Hive: Uncovering the Honeybee\\'s Secret\"',\n",
       " '\"Secrets on the Wind: The Tale of a Little Girl Who Listens to the Whispering Wind\"',\n",
       " '\"Tickled by a Giggling Ghost - Hilarity Ensues!\"',\n",
       " '\"The Key to Reawakening: An Adventure with the Clockwork Lion\"',\n",
       " '\"The Cloud Herder: A Boy\\'s Quest to Save His Village from a Dire Drought\"',\n",
       " '\"The Incredible Journey of the Paper Boat Sailor\"',\n",
       " '\"Unlocking the Secrets of the Kingdom of Forgotten Dreams\"',\n",
       " '\"The Tiny Seed That Topped Them All: A Story of Unstoppable Potential\"',\n",
       " '\"A Caterpillar\\'s Epic Journey: The Quest for a Safe Haven\"',\n",
       " '\"Sole of the Strange: Uncovering the Mystery of the Shoe House\"',\n",
       " '\"The Wishes of the Wishing Fish: Learning the Limits of Magic\"',\n",
       " '\"The Rabbit and the Lost Stars of the Moon\"',\n",
       " '\"Crossing the Threshold: Exploring the Magical Worlds Beyond the Invisible Bridge\"',\n",
       " '\"The Rainbow Detective: The Story of the Girl Who Could Hear Colors\"',\n",
       " '\"The Great Alphabetical Vacation: A Tale of Language Mayhem\"',\n",
       " '\"The Awakening of a Robot Heart\"',\n",
       " '\"Lost in a Dream: Uncovering an Alternate Universe\"',\n",
       " '\"The Amazing Adventures of Gnome the Painter\"',\n",
       " '\"The Girl Who Found Wonderland in Her Mirror\"',\n",
       " '\"The Lost Boy and the Talking Squirrel: A Journey Home\"',\n",
       " '\"A Incredible Intergalactic Adventure: The Cardboard Spaceship\\'s Unexpected Launch!\"',\n",
       " '\"A Day in the Life of a Mischievous Fairy: Swapping Places with a Human Child\"',\n",
       " '\"The Curse of the Ancient Wizard: A Young Wizard\\'s Quest to Save His School\"',\n",
       " '\"The Unanticipated Guest: The Surprise Hatching of a Dinosaur Egg in a City Park\"',\n",
       " '\"The Princess and the Dragon: A Tale of Bravery and Redemption\"',\n",
       " '\"A Stranger from the Stars: The Alien\\'s Earthly Adventure with the Kids of Earth\"',\n",
       " '\"The Pirate\\'s Quest for the Mystical Island\"',\n",
       " '\"The Forest Whisperer: A Girl\\'s Journey to Reawaken an Enchanted World\"',\n",
       " '\"Guardians of the Night: The Magical Adventures of the Living Teddy Bear\"',\n",
       " '\"The Map to Atlantis: Uncovering the Lost Undersea City\"',\n",
       " '\"The Spy in the Cage: Uncovering the Incredible Adventures of My Hamster Agent\"',\n",
       " '\"The Endless Winter: A Child\\'s Power to Save the World\".',\n",
       " '\"The Magical Board Game: A Journey Into an Unknown World\"',\n",
       " '\"The Ghost and The Newcomers: A Tale of Unexpected Friendship\"',\n",
       " '\"Unlocking the Power of Her Witchcraft: A Journey to Find Her Magic Language\"',\n",
       " '\"The Cat\\'s Magical Kingdom: An Adventure in a World Ruled by Animals\"',\n",
       " '\"Journey Through Time: A Young Time-Traveller\\'s Exploration of History\".',\n",
       " '\"The Janitor\\'s Secret Guardian: Uncovering the Magic of Protection\"',\n",
       " '\"Unicorn\\'s Courage: The Journey of a Shy Healer\"',\n",
       " '\"Origami Magic: Unveiling a Girl\\'s Ability to Bring Her Creations to Life\"',\n",
       " '\"The Portal to Mythical Realms: A Journey of Discovery for a Group of Kids\"',\n",
       " '\"The Mermaid\\'s Race: A Journey to Represent Her Kingdom\".',\n",
       " '\"Tiny Tales: A Miniature Adventure in a Big House\"',\n",
       " '\"The Secret Garden of Telling Tales\"',\n",
       " '\"A Journey Through Time: The Boy who Accidentally Activated a Robot from the Future\"',\n",
       " '\"Lost in a Dreamscape: A Journey to Find Home\"',\n",
       " '\"The Lost Treasure of the Grumpy Dragon: A Young Girl\\'s Friendship Adventure\"',\n",
       " '\"Awakening the Giant: Uncovering the Truth Behind a Town\\'s Legend\"',\n",
       " '\"Chaos Unleashed: A Boy\\'s Doodles Come to Life.\"',\n",
       " '\"The Witch and the Whisk: A Tale of Enchanting Baked Solutions\"',\n",
       " '\"The Cloudy Adventures of a Little Dreamer.\"',\n",
       " '\"The Girl Who Stopped Time: A Magical Adventure with an Hourglass.\"',\n",
       " '\"The Shadow Detective: Adventures of a Boy and His Shadow\"',\n",
       " '\"A Day Without Adults: A Child\\'s Unexpected Adventure\"',\n",
       " '\"The Day the Mermaid and the Human Swapped Places\"',\n",
       " '\"The Search for the Legendary Rainbow Bird: A Quest for Adventure\"',\n",
       " '\"The Lighthouse of Lost Souls: A Young Boy\\'s Journey to Help the Sea\\'s Lost Ones Find Their Way Home\".',\n",
       " '\"The Girl and the Magical Locket: A Journey of Animal Communication\"',\n",
       " '\"Dinosaur Valley Adventure: Uncovering the Secret Tunnel\"',\n",
       " '\"The Invisible Courage of a Shy Boy\"',\n",
       " '\"A Group of Strangers Unite to Help Save a Small Town\"',\n",
       " '',\n",
       " '\"United We Stand: The Small Town Saviors\"']"
      ]
     },
     "execution_count": 16,
     "metadata": {},
     "output_type": "execute_result"
    }
   ],
   "source": [
    "titles"
   ]
  },
  {
   "cell_type": "code",
   "execution_count": 17,
   "id": "d62e6b2b",
   "metadata": {},
   "outputs": [
    {
     "data": {
      "text/plain": [
       "[('\"The Day the Sun Slept In\": An adventure where children around the world must wake up the sun when it oversleeps.',\n",
       "  '\"A Worldwide Wake-Up Call: The Day the Sun Slept In\"'),\n",
       " ('\"Elvin the Miniature Elephant\": The journey of a small elephant who uses his size to do big things.',\n",
       "  '\"Elvin the Miniature Elephant: Achieving Big Things in a Small Package\"'),\n",
       " ('\"Haley\\'s Hiccups\": A magical story about a girl whose hiccups make crazy things happen.',\n",
       "  '\"Haley\\'s Hiccup Adventures: A Magical Tale of Mischief and Mayhem\"'),\n",
       " ('\"The Boy Who Drew the Future\": A story about a boy whose drawings come to life.',\n",
       "  '\"The Dreamer Who Painted Prophecy\"'),\n",
       " ('\"Sammy\\'s Magic Glasses\": A tale of a boy who sees hidden magical creatures through his glasses.',\n",
       "  '\"Sammy\\'s Spectacular Sight: A Journey of Discovery through Magical Glasses\"'),\n",
       " ('\"Planet of the Candy Aliens\": The adventure of children discovering a planet full of sweet, living candies.',\n",
       "  '\"A Sweet Discovery: Exploring the Planet of the Candy Aliens\"'),\n",
       " ('\"The Stargazer\\'s Map\": A tale about a map that can navigate through constellations.',\n",
       "  '\"The Stargazer\\'s Guide to the Heavens: An Epic Journey with the Constellations\"'),\n",
       " ('\"Flora\\'s Flower\": A story about a magical flower that grants wishes.',\n",
       "  '\"Flora and the Wishing Flower\"'),\n",
       " ('\"The Tale of the Talking Turtle\": A story about a wise old turtle that can talk.',\n",
       "  '\"The Wisdom of the Talking Turtle\"'),\n",
       " ('\"Molly and the Moon Moth\": A girl befriends a magical moon moth that takes her to different dimensions.',\n",
       "  '\"Molly and the Magic of the Moon Moth\"'),\n",
       " ('\"The Invisible Island\": An island that only appears when children truly believe.',\n",
       "  '\"The Magic of Childhood: Discovering the Invisible Island\"'),\n",
       " ('\"Benji\\'s Time Travelling Watch\": A story about a watch that allows its wearer to time travel.',\n",
       "  '\"Benji and the Chrono-Chronometer: A Time Travelling Adventure\"'),\n",
       " ('\"The Whispering Willows\": Trees that share ancient wisdom with a curious child.',\n",
       "  '\"The Wisdom of the Whispering Willows\"'),\n",
       " ('\"The Rainbow River\": A story about a river that flows with colors of the rainbow.',\n",
       "  '\"The Magic of the Rainbow River\"'),\n",
       " ('\"Liam and the Leprechaun\": A tale about a boy helping a leprechaun find his lost gold.',\n",
       "  '\"Liam and the Leprechaun: A Quest for Gold\"'),\n",
       " ('\"The Penguin Who Loved to Dance\": The journey of a penguin who wants to dance on Broadway.',\n",
       "  '\"Stepping Out: The Tale of the Dancing Penguin\\'s Dream\"'),\n",
       " ('\"Amelia\\'s Cloud Castle\": A girl discovers a castle in the clouds and its sky-dwelling inhabitants.',\n",
       "  '\"The Magic of Amelia\\'s Cloud Castle\"'),\n",
       " ('\"The Tiny Dinosaur in the Backyard\": A story about a child who finds a real, tiny dinosaur in their garden.',\n",
       "  '\"The Incredible Discovery of a Tiny Dinosaur in the Backyard\"'),\n",
       " ('\"The Pirate Pigs and the Treasure of Mud Island\": An adventure with pirate pigs in search of muddy treasure.',\n",
       "  '\"The Swashbuckling Pigs of Mud Island: An Epic Quest for Treasure\"'),\n",
       " ('\"The Secret Library\": A magical library where the characters in the books come to life at night.',\n",
       "  '\"The Enchantment of the Secret Library: A Magical Journey Where Fictional Characters Come to Life\"'),\n",
       " ('\"The Bear who wanted to be a Ballet Dancer\": A bear breaks stereotypes to follow his passion.',\n",
       "  '\"Breaking Stereotypes: The Bear Who Wanted to be a Ballet Dancer\"'),\n",
       " ('\"The Day Gravity Went on Vacation\": A day when everything starts floating, leading to a great adventure.',\n",
       "  '\"The Adventures of Gravity\\'s Vacation: A Day of Unbounded Exploration\"'),\n",
       " ('\"The Dragon\\'s Toothbrush\": A dragon with flaming breath needs a special toothbrush.',\n",
       "  '\"The Quest for the Dragon\\'s Toothbrush: A Fire-Breathing Tale\"'),\n",
       " ('\"The Adventures of the Sandwich Spacecraft\": A story about a flying sandwich spacecraft exploring the galaxy.',\n",
       "  '\"The Epic Journey of the Sandwich Spacecraft: Exploring the Final Frontier\"'),\n",
       " ('\"The Missing Color\": A world where all the colors disappear, and a brave child must find them.',\n",
       "  '\"The Search for the Lost Colors: A Child\\'s Mission to Restore Color to the World\"'),\n",
       " ('\"The Magical Music Box\": A music box that makes toys come to life.',\n",
       "  '\"The Enchanting Melody of the Magic Music Box\"'),\n",
       " ('\"Unicorn Under the Bed\": A tale about a shy unicorn that lives under a child\\'s bed.',\n",
       "  '\"The Magical Unicorn Living Under the Bed\"'),\n",
       " ('\"Invisible Inkwell\": A story about an inkwell that makes anyone who uses it invisible.',\n",
       "  '\"The Magic of the Invisible Inkwell\"'),\n",
       " ('\"The Shoe House in the Woods\": A giant shoe house appears in the woods, housing fairy-tale creatures.',\n",
       "  '\"The Enchanted Shoe House in the Woods: A Tale of Magical Creatures\"'),\n",
       " ('\"The Singing Seahorses of the Silver Sea\": An undersea adventure with a chorus of seahorses.',\n",
       "  '\"The Song of the Silver Sea: An Undersea Adventure with the Chorus of Singing Seahorses\"'),\n",
       " ('\"The Boy Who Could Hear Flowers\": A story about a boy who can hear the whispers of plants.',\n",
       "  '\"The Secret Language of Flowers: A Tale of a Boy Who Listened\"'),\n",
       " ('\"The Day the Toys Woke Up\": A tale about the secret life of toys.',\n",
       "  '\"The Awakened Toys: A Tale of Secret Lives\"'),\n",
       " ('\"The Moon\\'s Cheese Factory\": An adventure to the moon to find out if it\\'s really made of cheese.',\n",
       "  '\"The Lunar Quest for Cheese: An Intergalactic Journey to the Moon\\'s Cheese Factory\"'),\n",
       " ('A lonely cloud finds friendship with a kite lost during a storm.',\n",
       "  '\"A Cloud and a Kite: A Friendship Found Amid the Storm.\"'),\n",
       " ('A group of animals tries to bring back the rainbow after it disappears from the sky.',\n",
       "  '\"The Quest for Color: The Animals\\' Journey to Restore the Rainbow\"'),\n",
       " ('A young boy with the ability to speak to trees goes on a quest to save his forest home.',\n",
       "  '\"The Boy Who Talked to Trees: A Journey to Save the Forest\"'),\n",
       " ('A family of time-traveling dinosaurs on a mission to document the history of Earth.',\n",
       "  '\"The Time-Travelling Dinosaur Chronicles: A Journey Through the Ages.\"'),\n",
       " ('An alien child lands on Earth and learns about human customs while trying to fix his spaceship.',\n",
       "  '\"A Star-Crossed Visitor: An Alien\\'s Journey to Understand Humanity\"'),\n",
       " ('A puppy with the ability to dream about the future and uses this to help his friends.',\n",
       "  '\"The Dreaming Puppy: How Fido\\'s Foretelling Helped His Friends\"'),\n",
       " ('A little girl discovers a portal in her closet that leads to the Land of Lost Socks.',\n",
       "  '\"The Mysterious Journey to the Land of Lost Socks\"'),\n",
       " ('A young mermaid ventures to the surface for the first time to return a lost trinket.',\n",
       "  '\"The Mermaid\\'s Surface Journey: A Tale of Lost and Found\"'),\n",
       " ('An adventurous bunny rabbit travels the world to collect stories from different cultures.',\n",
       "  '\"A Rabbit\\'s Journey Around the World: Collecting Cultural Tales\".'),\n",
       " ('A group of kids invents a machine that turns nightmares into dreams.',\n",
       "  '\"Dream Weavers: How a Group of Kids Turned Nightmares into Dreams\"'),\n",
       " ('A talking teddy bear helps a shy child make friends at a new school.',\n",
       "  '\"The Teddy Bear that Broke the Ice: How a Shy Child Learned to Make Friends at a New School\"'),\n",
       " ('A young witch uses her magic to grow magical plants that cure any illness.',\n",
       "  '\"The Witch\\'s Garden of Healing: Harnessing the Power of Nature to Cure Disease\".'),\n",
       " ('A child befriends a ghost living in his new house and they solve mysteries together.',\n",
       "  '\"The Ghost Detective and the Little Sleuth\"'),\n",
       " ('A brave mouse knight embarks on a journey to rescue the cheese princess from the evil cat king.',\n",
       "  '\"The Mouse Knight\\'s Quest: Saving the Cheese Princess from the Cat King\\'s Grasp\"'),\n",
       " ('A young robot discovers the meaning of friendship after meeting a group of lively children.',\n",
       "  '\"Robot Learns About Friendship Through a Group of Playful Kids\"'),\n",
       " ('A boy finds a magical book where everything he draws comes to life.',\n",
       "  '\"The Boy Who Brought His Drawings to Life\"'),\n",
       " (\"A girl discovers her grandmother's magical recipe book and starts cooking up some enchanting meals.\",\n",
       "  '\"The Grandmother\\'s Magical Kitchen: Recipes of Enchantment\"'),\n",
       " ('A family of squirrels prepares for winter by embarking on an adventure to gather golden acorns.',\n",
       "  '\"The Golden Acorn Quest: A Family of Squirrels\\' Journey to Prepare for Winter\"'),\n",
       " (\"A young unicorn learns that her horn's glow can create magical, beautiful dreams.\",\n",
       "  '\"Dreams of a Unicorn: Discovering the Power of a Glowing Horn\"'),\n",
       " ('A group of children stumbles upon an ancient map leading to a hidden playground.',\n",
       "  '\"The Adventure Begins: Uncovering the Secret Playground of Legend\"'),\n",
       " ('A group of young pirates searching for the legendary treasure of Candy Island.',\n",
       "  '\"The Quest for the Sweetest Treasure: A Journey to Candy Island\"'),\n",
       " ('A child inventor creates a device that allows animals to talk, leading to unexpected adventures.',\n",
       "  '\"The Little Inventor Who Gave Voice to the Wild: Unfathomable Adventures Ahead!\"'),\n",
       " ('A little dragon that breathes bubbles instead of fire tries to find his place in the dragon world.',\n",
       "  '\"The Bubble-Breathing Dragon: Finding His Place in a Fire-Filled World\"'),\n",
       " ('A young girl discovers her ability to turn into a bird and uses it to help lost animals find their homes.',\n",
       "  '\"The Winged Messenger: A Journey of Animal Rescue and Self-Discovery\"'),\n",
       " ('A group of kids builds a rocket ship out of cardboard and travels to different galaxies.',\n",
       "  '\"The Cardboard Cosmos: A Journey Through the Stars\"'),\n",
       " (\"A young boy's friendship with a cloud that can rain different types of candy.\",\n",
       "  '\"The Sweet Adventures of a Boy and His Cloud\"'),\n",
       " ('A brave princess saves her kingdom from an eternal winter with the power of love and friendship.',\n",
       "  '\"The Princess and the Winter Curse: Breaking the Spell of Eternal Cold with Love and Friendship\"'),\n",
       " ('A talking pet rock guides a group of kids on an adventure to the center of the Earth.',\n",
       "  '\"Rocky\\'s Amazing Adventure to the Core of the Earth!\"'),\n",
       " ('A young boy finds a magical paintbrush where everything he paints becomes real.',\n",
       "  '\"The Power of Imagination: A Journey with a Magical Paintbrush\"'),\n",
       " ('A baby phoenix learning to rise from its ashes for the first time.',\n",
       "  '\"The Phoenix\\'s Rebirth: A Journey of Renewal\"'),\n",
       " (\"A gnome family's adventure to relocate their home in a human's garden.\",\n",
       "  '\"Gnome Sweet Gnome: A Family\\'s Journey to a Human Garden\"'),\n",
       " (\"A young girl's magical journey into a mirror world where everything is opposite.\",\n",
       "  '\"The Mirrored Realm: A Girl\\'s Strange Adventure Through an Upside-Down World\"'),\n",
       " ('A boy finds a pair of magical glasses that allow him to see mythical creatures.',\n",
       "  '\"A Magical Discovery: Uncovering the Hidden World with the Power of Special Glasses\"'),\n",
       " ('A group of children discovers a secret society of time-traveling historians.',\n",
       "  '\"Exploring Through Time: The Mystery of the Time-Traveling Historians\"'),\n",
       " ('A child befriends a mischievous wind spirit that causes all kinds of trouble in her town.',\n",
       "  '\"The Wind Spirit\\'s Mischief: A Child\\'s Unexpected Friendship\"'),\n",
       " (\"A young fairy that can't fly but finds her own unique way to soar.\",\n",
       "  '\"Soaring Without Wings: The Journey of a Unique Fairy\"'),\n",
       " ('A family of musical instruments living in a symphony orchestra and their melodious adventures.',\n",
       "  '\"The Symphony of Song: The Musical Adventures of a Family of Instruments\"'),\n",
       " ('A group of kids forms a detective agency to solve the mystery of the missing moon.',\n",
       "  '\"The Moonless Mystery: Uncovering the Secret of the Vanishing Lunar Light\"'),\n",
       " ('A playful puppy finds a magical collar that grants him superpowers.',\n",
       "  '\"Fetching Superpowers: The Adventures of a Magical Puppy\"'),\n",
       " ('A child with the power to grow plants anywhere helps to turn his gray city green.',\n",
       "  '\"Greening the Gray City: The Amazing Plant-Growing Powers of a Child\"'),\n",
       " ('\"A Mysterious Journey in Jellybean Land\" - A kid stumbles into a magical realm where everything is made of jellybeans.',\n",
       "  '\"Exploring the Magical Realm of Jellybean Land\"'),\n",
       " ('\"The Clockwork Cricket\" - A boy finds a mechanical cricket that leads him to a hidden world.',\n",
       "  '\"The Chime of the Clockwork Cricket: Uncovering the Secrets of a Hidden World\"'),\n",
       " ('\"Timmy\\'s Turnip Time Machine\" - A boy discovers his grandfather\\'s turnip can transport him back in time.',\n",
       "  '\"Timmy and the Turnip Time Warp\"'),\n",
       " ('\"The Invisible City of Cats\" - A young girl can see an invisible city of cats, and they need her help.',\n",
       "  '\"The Secret Realm of the Feline Kingdom: A Girl\\'s Journey to Save the Invisible City of Cats\"'),\n",
       " ('\"Lottie and the Language of Flowers\" - A girl can communicate with flowers and uses this ability to solve environmental problems.',\n",
       "  '\"Lottie and the Power of Flora: Saving the Planet with the Language of Flowers\"'),\n",
       " ('\"The Tale of the Star-Weaver\" - A celestial being weaves stars into the night sky but drops one to Earth, where a child finds it.',\n",
       "  '\"The Star-Weaver\\'s Lost Treasure: A Magical Journey from Heaven to Earth\"'),\n",
       " ('\"Zara\\'s Zany Zoo\" - A girl finds a portal to a magical zoo in her backyard, where the animals talk and have hilarious personalities.',\n",
       "  '\"Zara\\'s Wild and Wacky Zoo Adventure\"'),\n",
       " ('\"The Secret Symphony of the Sea\" - A boy with the ability to hear the music of the sea embarks on an underwater adventure.',\n",
       "  '\"The Mysterious Melody of the Deep: An Underwater Adventure with a Boy and His Gift\"'),\n",
       " ('\"The Paintbrush of Dreams\" - A magic paintbrush allows a child to paint dreams that become real.',\n",
       "  '\"The Wonder of Dreams: A Magical Journey with the Paintbrush of Imagination\"'),\n",
       " ('\"The Little Astronaut\" - A kid builds a spaceship and travels through the galaxy, meeting friendly aliens and discovering new worlds.',\n",
       "  '\"The Little Astronaut: An Intergalactic Journey of Discovery\"'),\n",
       " ('\"Biscuit the Book-Eating Dog\" - A dog that can eat books and gain their knowledge helps his young owner with school and life problems.',\n",
       "  '\"Biscuit the Book-Devouring Dog: Helping His Owner Master School and Life Challenges\"'),\n",
       " ('\"The Chameleon\\'s Colorful Carnival\" - A chameleon runs a carnival where he changes the colors of everything.',\n",
       "  '\"The Chameleon\\'s Colorful Caper: A Spectacular Carnival of Colorful Chaos!\"'),\n",
       " ('\"Ella\\'s Echo\" - A girl\\'s echo comes to life and takes her on an adventure in a parallel world.',\n",
       "  '\"Ella\\'s Echo: An Adventure in a Parallel World\"'),\n",
       " ('\"Pippa and the Penguin Parade\" - A girl rescues a lost baby penguin and helps it find its family.',\n",
       "  '\"Pippa and the Polar Adventure: A Journey to Reunite a Lost Baby Penguin with its Family\"'),\n",
       " ('\"The Snowglobe Storyteller\" - Shaking a special snowglobe shows a child different magical worlds, and they must help resolve the stories within.',\n",
       "  '\"The Magic of the Snowglobe Storyteller: Shaking the World of Imagination\"'),\n",
       " ('\"The Forest of Floating Flowers\" - A young boy finds a forest where flowers float and grant wishes.',\n",
       "  '\"The Wishes of the Forest of Floating Flowers\"'),\n",
       " ('\"The Dragon\\'s Toothache\" - A child helps a dragon with its toothache, leading to an unlikely friendship.',\n",
       "  '\"The Unlikely Friendship of a Child and a Dragon: Healing the Dragon\\'s Toothache\"'),\n",
       " ('\"Whispers in the Wind\" - A child with the ability to understand the wind\\'s whispers learns about nature\\'s secrets and pending disasters.',\n",
       "  '\"Secrets of the Wind: Unveiling Nature\\'s Warnings with a Gifted Child\"'),\n",
       " ('\"The Rainbow Rain\" - A magical rain that turns everything into rainbow colors causes delightful chaos in a small town.',\n",
       "  '\"A Delightful Rainbow Chaos: The Story of the Magical Rainbow Rain\"'),\n",
       " ('\"Bubblegum Balloon Adventures\" - A kid with an endless roll of bubblegum can blow balloons that carry them on amazing adventures.',\n",
       "  '\"The Incredible Adventures of the Bubblegum Balloon Kid\"'),\n",
       " ('\"Oliver and the Origami Owl\" - A paper owl comes to life and takes a boy on a journey through a world inspired by Japanese folklore.',\n",
       "  '\"Oliver and the Origami Owl: A Journey Through Japanese Mythology\"'),\n",
       " ('\"The Clocktower that Lost Time\" - A boy must help a sentient clocktower find its lost time.',\n",
       "  '\"Finding Lost Time: The Adventures of a Boy and a Clocktower\"'),\n",
       " ('\"The Silly Spaceship\" - A child finds a spaceship with a sense of humor and goes on intergalactic adventures.',\n",
       "  '\"The Wacky World of Intergalactic Adventures: A Child\\'s Journey in the Silly Spaceship\"'),\n",
       " ('\"Mabel\\'s Magic Music Box\" - A music box transports a girl to different periods in history, where she learns about music and culture.',\n",
       "  '\"Mabel\\'s Magical Melody: Exploring Music and History Through Time\"'),\n",
       " ('\"The Mischievous Moon\" - The moon comes down to Earth to play tricks and a child has to convince it to return to the sky.',\n",
       "  '\"The Adventures of the Mischievous Moon: A Child\\'s Journey To Return the Celestial Trickster To Its Home In The Sky\"'),\n",
       " ('\"The Enchanted Eraser\" - A magic eraser can remove any problem but causes unexpected consequences.',\n",
       "  '\"The Curse of the Enchanted Eraser: Unforeseen Consequences\"'),\n",
       " ('\"The Teddy Bear\\'s Picnic\" - A child attends a teddy bear\\'s picnic in a magical forest.',\n",
       "  '\"A Magical Day Out: Exploring the Teddy Bear\\'s Picnic in the Enchanting Forest\"'),\n",
       " ('\"The Tiny Dragon’s Bakery\" - A miniature dragon named Blaze uses her fire-breathing abilities to bake the most delicious pastries in the mystical forest.',\n",
       "  '\"The Sweet Treats of Blaze: The Enchanting Bakery of a Tiny Dragon\"'),\n",
       " ('\"The Day Gravity Forgot\" - On a day when gravity suddenly stops working, a group of school kids experience a weightless adventure.',\n",
       "  '\"The Day Gravity Was Lost: A Weightless Adventure for School Kids\"'),\n",
       " ('\"The Sock-Eating Washing Machine\" - A curious washing machine that devours socks takes children on a journey to a parallel sock universe.',\n",
       "  '\"The Sock-Eating Washing Machine: A Journey to the Parallel Sock Universe\"'),\n",
       " ('\"The Cloud Shepherd\" - A young boy with the ability to control weather patterns takes on the responsibility of ensuring sunny days and rainy nights.',\n",
       "  '\"The Cloud Shepherd: A Young Boy\\'s Journey to Control the Weather\"'),\n",
       " ('\"The Girl Who Could Talk to Flowers\" - A girl with the ability to communicate with plants helps save her town\\'s dying botanical garden.',\n",
       "  '\"The Secret Language of the Garden: A Tale of a Girl Who Could Talk to Flowers\"'),\n",
       " ('\"The Lost Planet of Toys\" - A group of space-exploring children discover a planet inhabited by abandoned toys from across the universe.',\n",
       "  '\"The Toys of the Universe: Exploring the Lost Planet\"'),\n",
       " ('\"The Candyland Mystery\" - Children in a town wake up to find everything turned to candy and must solve the mystery before it\\'s too late.',\n",
       "  '\"The Sweet and Sticky Mystery of Candyland\"'),\n",
       " ('\"The Invisible Thread\" - A young boy finds an invisible thread that can connect him with different parts of the world.',\n",
       "  '\"The Magical Journey of an Invisible Thread\"'),\n",
       " ('\"The Magic Chalkboard\" - A schoolgirl discovers her classroom\\'s chalkboard can bring anything she draws to life.',\n",
       "  '\"From Chalkboard to Reality: Discovering the Magic of the Classroom\"'),\n",
       " ('\"The Land Underneath the Bed\" - A young boy discovers a tiny, magical world existing under his bed.',\n",
       "  '\"The Magical Land of Wonder Hidden Under the Bed\"'),\n",
       " ('\"Time Traveling Teddy\" - A child\\'s teddy bear has the power to take them back in time to meet famous historical figures.',\n",
       "  '\"An Adventure Through Time with Teddy: Exploring History with a Time-Traveling Teddy Bear\"'),\n",
       " ('\"The Runaway Constellation\" - A star from a constellation descends to Earth, and a group of kids help it return to its place in the sky.',\n",
       "  '\"The Journey of the Wish-Granting Star: A Tale of the Runaway Constellation\"'),\n",
       " ('\"The Whispering Woods\" - In a forest where trees can talk, a young girl must solve riddles to find her lost dog.',\n",
       "  '\"The Secrets of the Whispering Woods: A Young Girl\\'s Quest to Find Her Lost Dog\"'),\n",
       " ('\"The Enchanted Violin\" - A girl finds a magical violin that when played, can summon mythical creatures.',\n",
       "  '\"The Sorcerer\\'s Strings: A Girl\\'s Journey with an Enchanted Violin\"'),\n",
       " ('\"The Rainbow Painter\" - A story about a boy who has the ability to paint real rainbows, affecting the weather and emotions around him.',\n",
       "  '\"The Rainbow Wizard: The Story of a Boy with the Power to Paint Perfect Rainbows\"'),\n",
       " ('\"The Book of Forgotten Tales\" - Two siblings find a magical book that brings forgotten fairy tales to life, and they must ensure each story gets a happy ending.',\n",
       "  '\"The Lost Legends: A Journey to Restore Forgotten Tales\"'),\n",
       " ('\"The Zoo of Imaginary Creatures\" - A story about a child who can draw creatures that come to life, creating a zoo of unique and imaginary animals.',\n",
       "  '\"The Magic Menagerie: Crafting a Zoo of Imaginary Creatures\"'),\n",
       " ('\"The Last Dinosaur Egg\" - A group of kids find the last dinosaur egg and must protect it from poachers.',\n",
       "  '\"Saving the Future: The Journey to Protect the Last Dinosaur Egg\"'),\n",
       " ('\"The Secret Language of Cats\" - A boy with the ability to understand cats unravels a feline plot to save their city from a mouse invasion.',\n",
       "  '\"The Feline Prophecy: Unraveling the Secret Language of Cats to Save their City from a Mouse Invasion\"'),\n",
       " ('\"The Homework Machine\" - A young inventor creates a machine to do her homework, but chaos ensues when it starts overproducing.',\n",
       "  '\"The Homework Machine Gone Wild: A Tale of Invention and Chaos\"'),\n",
       " ('\"The Music Box Kingdom\" - A child finds a music box that transports them to a magical kingdom needing rescue from a dark sorcerer.',\n",
       "  '\"The Adventure of the Music Box Kingdom: A Journey to Save a Magical Land From a Dark Sorcerer\"'),\n",
       " ('\"The Dream Weaver\" - A girl with the ability to control her dreams gets stuck in a dream world, and her friends must journey in to save her.',\n",
       "  '\"The Dream Weaver: A Journey into a World of Dreams\"'),\n",
       " ('\"The Robot\\'s Best Friend\" - A heartwarming tale of friendship between a lonely boy and a lost, friendly robot.',\n",
       "  '\"A Boy and His Robot: An Unexpected Friendship\"'),\n",
       " ('\"The Town That Moved\" - When a sleepy town starts to move around the world every night, the children must figure out why.',\n",
       "  '\"The Mystery of the Moving Town: Uncovering the Secret Behind the Wandering Streets\"'),\n",
       " ('\"The Butterfly Effect\" - A butterfly with the power to change color based on people\\'s emotions helps resolve conflicts in a small town.',\n",
       "  '\"Rainbow of Resolution: The Butterfly Effect in a Small Town\"'),\n",
       " ('A group of children discover that their new school is actually a training ground for young wizards and witches.',\n",
       "  '\"The Magic of Our School: Uncovering the Secret World of Wizards and Witches\"'),\n",
       " ('A young girl finds a magic paintbrush which brings to life anything she paints.',\n",
       "  '\"The Enchantment of the Magic Paintbrush\"'),\n",
       " ('A talking cat helps a lonely boy make friends in his new neighborhood.',\n",
       "  '\"The Cat Who Brought New Friends: A Tale of a Lonely Boy and His Feline Companion\"'),\n",
       " ('A curious child discovers that they can talk to animals after a strange encounter with a magical rabbit.',\n",
       "  '\"The Curious Child Who Could Talk to Animals: A Magical Encounter with a Rabbit\"'),\n",
       " ('A young alien child accidentally lands on Earth and must learn about human customs while trying to fix his spaceship.',\n",
       "  '\"Lost in a Foreign Land: An Alien\\'s Journey to Repair his Ship and Understand Human Culture\"'),\n",
       " ('A group of children find a map leading to a hidden treasure in their small town.',\n",
       "  '\"The Adventure of a Lifetime: Uncovering the Hidden Treasure of Smalltown\"'),\n",
       " ('A magical treehouse transports two best friends to different historical periods.',\n",
       "  '\"The Time-Traveling Treehouse: An Adventure Through History With Two Best Friends\"'),\n",
       " ('A young witch who is terrible at casting spells accidentally turns her brother into a frog.',\n",
       "  '\"Frogs and Spells: The Misadventures of a Young Witch\"'),\n",
       " ('A city kid moves to the countryside and befriends mythical creatures living in the forest.',\n",
       "  '\"Finding Magic in the Countryside: A City Kid\\'s Journey to Friendship with Mythical Creatures\".'),\n",
       " ('A group of kids discover a hidden world beneath their city, inhabited by friendly mole people.',\n",
       "  '\"The Mole People of Subterranea: A Discovery Beneath the City!\"'),\n",
       " ('A group of children stumble upon a magic stone that grants one wish, but they must decide together what to wish for.',\n",
       "  '\"A Wish for All: The Power of a Magic Stone\"'),\n",
       " ('A magical library where the characters in the books come to life after dark.',\n",
       "  '\"The Nighttime Adventures of the Living Library\"'),\n",
       " ('A young boy befriends a mermaid while on summer vacation and helps her protect her ocean home.',\n",
       "  '\"The Boy and the Mermaid: A Summer of Adventure and Friendship\"'),\n",
       " ('A girl discovers she can control weather with her emotions, and she must learn to control her powers.',\n",
       "  '\"Weathering the Storm: Learning to Control Emotional Powers\"'),\n",
       " ('A child invents a machine that can turn trash into toys, transforming their town.',\n",
       "  '\"A Toy-Maker\\'s Dream: The Invention that Transformed a Town\"'),\n",
       " ('A young prince runs away from his kingdom and befriends a dragon.',\n",
       "  '\"Prince of the Dragon: The Journey of a Young Royal\\'s Escape\"'),\n",
       " ('A girl with the ability to see the future uses her power to help her friends and family.',\n",
       "  '\"The Seer\\'s Gift: How a Girl\\'s Premonitions Changed the Lives of Those Around Her\"'),\n",
       " ('A group of friends accidentally wake up a sleeping giant while camping in the woods.',\n",
       "  '\"The Slumbering Giant Awakens: A Camping Trip Gone Awry\"'),\n",
       " ('A boy finds a magic coin that can transport him to any place in the world.',\n",
       "  '\"The Magical Adventures of a Boy and His Coin: Exploring the World Through Magic!\"'),\n",
       " ('A young girl discovers a tiny door in her room that leads to a fairy kingdom.',\n",
       "  '\"The Girl Who Found a Secret Fairy Kingdom\"'),\n",
       " ('A boy discovers his grandfather’s old map, leading him on an adventure to find a lost city of gold.',\n",
       "  '\"The Golden Legacy: Unveiling the Hidden City of Fortune\"'),\n",
       " ('A magical pet shop where the animals have secret powers.',\n",
       "  '\"The Enchanted Pet Emporium: Unlocking the Mystery of the Magical Menagerie\"'),\n",
       " ('A girl receives a magic locket from her grandmother that allows her to time travel.',\n",
       "  '\"The Grandmother\\'s Magical Locket: A Journey Through Time\"'),\n",
       " ('A young boy discovers he has the ability to grow plants instantaneously.',\n",
       "  '\"A Boy and His Magic Garden: Discovering the Wonders of Instantaneous Plant Growth\"'),\n",
       " ('A child with the ability to speak to ghosts helps them complete their unfinished business.',\n",
       "  '\"The Ghost Whisperer: Helping Spirits Find Rest\"'),\n",
       " ('A group of children discovers their treehouse is a spaceship.',\n",
       "  '\"A Journey to the Stars: The Astonishing Discovery of a Spacefaring Treehouse\"'),\n",
       " ('A young detective and her talking dog solve mysteries in their small town.',\n",
       "  'The Adventures of Detective Lucy and Spot: Solving Mysteries in Small Town USA'),\n",
       " ('A child befriends a shy unicorn in the local zoo and helps it return to its magical homeland.',\n",
       "  '\"The Magical Journey Home: A Child\\'s Friendship with a Shy Unicorn\"'),\n",
       " ('A young girl finds a pair of glasses that allows her to see mythical creatures.',\n",
       "  '\"The Spectacles of Sight: A Young Girl\\'s Journey to a Magical World\"'),\n",
       " ('A family of children rescue and rehabilitate magical creatures in their home.',\n",
       "  '\"Family of Magical Caretakers: A Journey of Rescue and Redemption\"'),\n",
       " ('A girl discovers she can breathe underwater and befriends sea creatures.',\n",
       "  '\"Exploring the Depths: A Girl\\'s Journey to Breathe Underwater and Make Friends with the Ocean\\'s Wonders\"'),\n",
       " ('A group of kids starts a secret club to protect their town from mischievous magical creatures.',\n",
       "  '\"Defenders of the Town: The Secret Club Fighting Magical Menace\"'),\n",
       " ('A young prince and a garden gnome embark on an adventure to save their kingdom from a wicked sorceress.',\n",
       "  '\"The Prince and the Garden Gnome: A Quest to Defeat the Wicked Sorceress!\"'),\n",
       " ('A boy finds a magic camera that can capture not just images, but also memories.',\n",
       "  '\"The Magic Lens of Memory: A Boy\\'s Discovery\".'),\n",
       " ('A group of kids invent a robot to help clean up their neighborhood, but it develops a mind of its own.',\n",
       "  '\"Robots Run Amok: The Story of a Neighborhood\\'s Unintended Cleanup\"'),\n",
       " ('A young girl’s diary comes to life, and her doodles and stories start happening in real life.',\n",
       "  '\"The Magical Journey of a Young Girl: When Her Words and Doodles Come to Life\"'),\n",
       " ('A young scientist invents a potion that can make him invisible.',\n",
       "  '\"The Invisible Man: The Story of a Young Scientist\\'s Incredible Invention\"'),\n",
       " ('A boy with the power to turn into any animal he wants uses his powers to save the local wildlife.',\n",
       "  '\"The Boy Who Roamed Wild: Saving the Local Wildlife with Shapeshifting Powers\"'),\n",
       " ('A girl finds a magic kaleidoscope that shows the future.',\n",
       "  '\"Kaleidoscope of Fate: A Girl\\'s Journey to Unlock the Secrets of the Future\"'),\n",
       " ('A young boy discovers a portal to the dinosaur era in his backyard.',\n",
       "  '\"Time Warp to the Age of Dinosaurs: A Boy\\'s Incredible Journey Through a Backyard Portal\"'),\n",
       " ('A young dragon discovers he has a magical ability to paint rainbows in the sky.',\n",
       "  '\"The Rainbow Painter: A Young Dragon\\'s Magical Journey\"'),\n",
       " ('A group of animals forms a secret society to protect their forest from human encroachment.',\n",
       "  '\"The Wild Guardians: A Secret Society of Animals on a Mission to Save Their Forest Home\"'),\n",
       " ('A time-traveling child meets famous inventors and artists throughout history.',\n",
       "  '\"A Journey Through Time: Exploring the Lives of Famous Inventors and Artists\"'),\n",
       " ('A talking tree shares stories of its centuries-long life with a curious young girl.',\n",
       "  '\"The Tales of the Ancient Talking Tree: A Journey of Discovery with a Young Girl\"'),\n",
       " ('A mystical land where the weather changes based on the mood of its inhabitants.',\n",
       "  '\"The Land of Emotional Climate: Discovering the Power of Moods in a Magical Realm\"'),\n",
       " ('A space hamster goes on a cosmic quest to find the most delicious cheese in the universe.',\n",
       "  '\"The Ultimate Cheese Hunt: A Space Hamster\\'s Quest for Galactic Gastronomy\"'),\n",
       " ('A magical book transports a group of children to a realm where their drawings come to life.',\n",
       "  '\"The Enchanted Sketchbook: A Journey to a World of Imagination\"'),\n",
       " ('A young witch struggles to control her unpredictable broomstick.',\n",
       "  '\"The Witch and Her Unruly Broomstick\"'),\n",
       " (\"A brave knight faces challenging quests to prove herself worthy of joining the King's elite guard.\",\n",
       "  '\"The Knight\\'s Quest: Proving Her Worthiness to the King\\'s Elite Guard\"'),\n",
       " ('A garden gnome comes to life at night and leads a group of insects on epic adventures.',\n",
       "  '\"The Adventures of Gnomeo and the Buggy Brigade\"'),\n",
       " ('A teddy bear gains the power of speech and helps a young boy overcome his fears.',\n",
       "  '\"The Brave Bear: How a Teddly Helped a Boy Find His Courage\"'),\n",
       " ('A girl with the ability to talk to animals becomes a superhero to save endangered species.',\n",
       "  '\"The Amazing Animal Whisperer: Saving the World\\'s Endangered Species\"'),\n",
       " ('A group of children stranded on a mysterious island must use their wits and courage to escape.',\n",
       "  '\"The Lost Children of the Island: Stranded and Fighting for Survival\"'),\n",
       " ('A magical creature that grants wishes in exchange for a day of kindness.',\n",
       "  '\"The Wish Giver: A Day of Kindness Changes Everything\"'),\n",
       " ('A young inventor creates a robot best friend to help him solve neighborhood mysteries.',\n",
       "  '\"A Boy and His Bot: Solving Mysteries in the Neighborhood\"'),\n",
       " ('A girl who can see into the future must use her gift to help her friends avert disaster.',\n",
       "  '\"The Seer\\'s Prophecy: Saving the Future With a Gift of Sight\"'),\n",
       " ('A boy with the power to grow plants instantly uses his talent to fight against pollution.',\n",
       "  '\"The Green Guardian: Defending the Planet from Pollution with Plant Power!\"'),\n",
       " ('A magical pen that brings drawings to life leads to a world of creative chaos.',\n",
       "  '\"The Chaos Created by a Magical Pen: The Adventures of a World Brought to Life.\"'),\n",
       " ('A girl discovers she can enter her favorite stories and change their endings.',\n",
       "  '\"The Girl Who Rewrote the Endings: A Journey Through the Worlds of Fiction\"'),\n",
       " ('A shy alien crash-lands on Earth and must find a way back home with the help of human friends.',\n",
       "  '\"Lost in a New World: Finding Home with Human Friends\"'),\n",
       " ('A mischievous imp causes trouble in a small town until a clever child outwits it.',\n",
       "  '\"The Troublemaker Imp and the Clever Child: A Small Town Tale\"'),\n",
       " ('A lonely ghost learns the power of friendship when it befriends a group of adventurous children.',\n",
       "  '\"The Ghost and the Brave Companions: A Tale of Unexpected Friendship\"'),\n",
       " ('A talking fish leads a young girl on a quest to find a legendary treasure hidden beneath the sea.',\n",
       "  '\"The Fish\\'s Treasure Hunt: A Legendary Odyssey Beneath the Sea\"'),\n",
       " ('A magical carnival appears in a small town, bringing strange creatures and enchanting rides.',\n",
       "  '\"The Magic of the Mystical Carnival: Enchantment Comes to Town\"'),\n",
       " ('A girl discovers a portal to a hidden world where she must rescue her trapped parents.',\n",
       "  '\"The Portal to the Lost Kingdom: A Daughter\\'s Quest to Save Her Parents\"'),\n",
       " ('A group of magical creatures help a young boy save his town from an evil sorcerer.',\n",
       "  '\"The Guardians of the Town: A Magical Quest to Defeat the Evil Sorcerer\"'),\n",
       " ('A lost unicorn finds its way back home with the help of a young adventurer.',\n",
       "  '\"The Journey Home: A Unicorn\\'s Tale of Adventure and Friendship\"'),\n",
       " ('A magical telescope reveals a hidden world of mythical creatures living among humans.',\n",
       "  '\"The Mystical Views of the Hidden World: Unveiling the Magical Coexistence of Humans and Mythical Creatures.\"'),\n",
       " ('A boy discovers an enchanted compass that points the way to hidden treasure.',\n",
       "  '\"The Magic of the Enchanted Compass: A Boy\\'s Journey to Uncover Hidden Treasure\"'),\n",
       " ('A girl with the ability to transform into any animal discovers an evil plot to destroy the world.',\n",
       "  '\"The Girl with the Shapeshifting Powers: Unmasking a Deadly Conspiracy\"'),\n",
       " ('A young scientist invents a shrinking machine and accidentally shrinks herself and her friends.',\n",
       "  '\"Tiny Troubles: A Scientist\\'s Shrinking Mistake\"'),\n",
       " ('A group of children is transported to a world where their favorite video games come to life.',\n",
       "  '\"The Ultimate Fantasy: Exploring the Magical World of Video Games\"'),\n",
       " (\"A magical mirror that shows the person's true character leads to surprising discoveries.\",\n",
       "  '\"The Reflection of Character: Unveiling Surprising Discoveries Through a Magical Mirror\"'),\n",
       " (\"A hidden kingdom of magical creatures is discovered in a young girl's backyard.\",\n",
       "  '\"The Secret Kingdom of Enchantment: Unveiling the Magical Realm in a Girl\\'s Backyard\"'),\n",
       " ('A girl with a magical bracelet can summon the powers of nature to save her village.',\n",
       "  '\"The Girl with the Mystic Bracelet: A Hero\\'s Journey to Protect Her Village.\"'),\n",
       " ('A group of animals bands together to save their home from a destructive construction project.',\n",
       "  '\"United in Harmony: The Animal Rescue Mission to Save Their Home\"'),\n",
       " ('A young wizard accidentally turns his schoolmates into animals and must reverse the spell.',\n",
       "  '\"The Wizard\\'s Misadventure: Reversing the Animal Curse\"'),\n",
       " ('A boy discovers he can communicate with plants and must protect a magical garden.',\n",
       "  '\"The Garden Keeper: A Boy\\'s Journey to Protect the Magical Realm of Nature\".'),\n",
       " ('A magical elevator transports a group of children to different worlds on each floor.',\n",
       "  '\"The Infinite Adventures of the Magical Elevator\"'),\n",
       " ('A girl befriends a tiny mermaid who needs help saving her ocean home from pollution.',\n",
       "  '\"The Girl and the Mermaid: Saving the Ocean, One Friendship at a Time\"'),\n",
       " ('A little girl finds a magical paintbrush that brings everything she paints to life.',\n",
       "  '\"The Magic of Imagination: A Little Girl\\'s Journey with a Mystical Paintbrush\"'),\n",
       " ('A group of school kids stumble upon a map that leads to a hidden dinosaur land in their city.',\n",
       "  '\"Unearthing a Secret: The Adventure of the Dinosaur Map!\"'),\n",
       " ('A story about a mischievous cloud that has fun changing shapes to confuse people.',\n",
       "  '\"The Shape-Shifting Cloud: Mischief in the Sky!\"'),\n",
       " ('A young mermaid who is scared of the deep sea must find the courage to save her underwater kingdom.',\n",
       "  '\"The Mermaid\\'s Deep Sea Challenge: Finding the Courage to Save Her Kingdom\"'),\n",
       " ('A tiny robot from the future travels back in time to learn about human emotions.',\n",
       "  '\"The Tiny Time Traveller: A Journey to Unlock Human Emotions\"'),\n",
       " ('A talking tree that tells stories from different eras to the children in a small village.',\n",
       "  '\"Tales of Time: The Storytelling Tree of the Village\"'),\n",
       " ('A young boy with the ability to talk to animals uses his power to save the local wildlife park.',\n",
       "  '\"The Boy Who Spoke to the Animals: Saving the Wildlife Park\"'),\n",
       " ('A pixie who has lost her sparkle sets out on a journey to find it.',\n",
       "  '\"The Pixie\\'s Search for Her Lost Sparkle\"'),\n",
       " ('A group of kids discover they can travel into their favorite books, experiencing the adventures first-hand.',\n",
       "  '\"The Adventures Within: Exploring a World of Imagination Through Fiction\"'),\n",
       " ('A teddy bear comes to life at night to protect his owner from nightmares.',\n",
       "  '\"Guardian of the Night: The Story of a Brave Teddy Bear\"'),\n",
       " ('A child prodigy invents a machine that can convert garbage into fresh food.',\n",
       "  '\"The Garbage-to-Gourmet Machine: The Incredible Invention of a Child Prodigy\"'),\n",
       " ('A young witch accidentally turns her teacher into a frog and must reverse the spell.',\n",
       "  '\"The Witch\\'s Accidental Hex: Reversing the Spell of a Lifelong Lesson\"'),\n",
       " ('A lonely dragon learns the value of friendship when he befriends a group of village children.',\n",
       "  '\"A Dragon\\'s Journey to Friendship: How One Lonely Creature Found Home in the Hearts of Many\".'),\n",
       " ('A puppy with wings is afraid to fly, but when his family is in danger, he must face his fears.',\n",
       "  '\"The Fearless Flight of the Winged Puppy\"'),\n",
       " ('A young boy discovers his shadow can move independently and they embark on secret adventures.',\n",
       "  '\"The Shadow\\'s Secret Adventures: A Boy and His Moving Shadow\"'),\n",
       " ('A child finds a magic coin that grants three wishes, learning lessons about the true value of happiness.',\n",
       "  '\"Three Wishes and a Lesson: Discovering the True Worth of Joy.\"'),\n",
       " ('A group of friends have a sleepover in a haunted house and solve a hundred-year-old mystery.',\n",
       "  '\"The Sleepover Adventure: Unraveling a Century-Old Mystery in a Haunted House\"'),\n",
       " ('A young alien visiting Earth disguises himself as a school kid to learn about human life.',\n",
       "  '\"Earth School: A Young Alien\\'s Journey to Experience Human Life\"'),\n",
       " ('A magical bookshop where the characters from the books come alive at midnight.',\n",
       "  '\"The Midnight Magic of the Mystic Bookstore\"'),\n",
       " ('A girl discovers a secret door in her new house that leads to a fairy kingdom.',\n",
       "  '\"The Unseen Kingdom: A Girl\\'s Journey Through a Magical Portal\"'),\n",
       " ('A squirrel embarks on a journey to save his forest from being destroyed by construction.',\n",
       "  '\"The Brave Journey of a Determined Squirrel: Saving His Forest from Destruction\".'),\n",
       " ('A young princess who prefers adventure to her royal duties escapes the castle to join a pirate crew.',\n",
       "  '\"Royal Renegade: The Princess and the Pirates\"'),\n",
       " ('A group of children invent a holiday that becomes popular all over the world.',\n",
       "  '\"The Worldwide Joy of Invention: How a Group of Children Created a Global Holiday\"'),\n",
       " ('A lonely ghost finds friendship with a young girl who moves into his haunted mansion.',\n",
       "  '\"A Ghostly Friendship: When a Young Girl Moves Into a Haunted Mansion\"'),\n",
       " ('A small gnome with a green thumb brings a dying garden back to life.',\n",
       "  '\"The Gnome\\'s Garden Revival\"'),\n",
       " ('A pair of twins discover they have the power to control the weather with their emotions.',\n",
       "  '\"Storm of Emotions: The Tale of Twin Weather Masters\"'),\n",
       " ('A little boy helps a lost star return to the night sky.',\n",
       "  '\"Returning the Lost Star: A Little Boy\\'s Journey to the Heavens\"'),\n",
       " ('A young girl finds a magic seashell that can summon mythical sea creatures.',\n",
       "  '\"The Mysterious Seashell: A Young Girl\\'s Adventure with Mythical Sea Creatures\"'),\n",
       " ('A unicorn who has lost its horn goes on a quest to retrieve it.',\n",
       "  \"The Unicorn's Quest for its Horn\"),\n",
       " ('A group of friends find a portal in their treehouse leading to a world of dinosaurs.',\n",
       "  '\"Unearthing the Ancient: A Journey Through a Portal to a Prehistoric World\"'),\n",
       " (\"A young boy's dreams start to come true, causing chaos and fun in his town.\",\n",
       "  '\"Dreams Come True: A Boy\\'s Wish Brings Mayhem to His Hometown\"'),\n",
       " ('A girl with the ability to freeze time uses her power to enjoy the small moments in life.',\n",
       "  '\"Living in the Now: How One Girl Used Her Ability to Freeze Time to Cherish Life\\'s Little Moments\".'),\n",
       " ('A child befriends a lonely monster living under his bed.',\n",
       "  '\"The Monster Under the Bed: A Boy\\'s Unlikely Friendship\"'),\n",
       " ('A magical carousel horse escapes from the merry-go-round to explore the real world.',\n",
       "  '\"The Runaway Carousel Horse: A Journey Through the Unknown\"'),\n",
       " ('A family of elves living in a city park work together to keep nature thriving.',\n",
       "  '\"The Elves of the City Park: Keeping Nature Alive\"'),\n",
       " ('A child finds a time-traveling watch and accidentally ends up in the time of the dinosaurs.',\n",
       "  '\"The Time-Travelling Watch: A Child\\'s Journey Back to the Age of Dinosaurs\"'),\n",
       " ('A story about a magical music box that transports a group of friends to different parts of the world.',\n",
       "  '\"Exploring the World with the Magic of Music!\"'),\n",
       " ('A young wizard is sent on a quest to retrieve a magical artifact stolen from his school.',\n",
       "  '\"The Wizard\\'s Quest: Retrieving the Lost Artifact\"'),\n",
       " ('A little girl discovers her pet cat is actually a shape-shifting alien.',\n",
       "  '\"The Feline from Beyond: A Little Girl\\'s Surprising Discovery\"'),\n",
       " ('A young boy finds a magical key that opens doors to different realms.',\n",
       "  '\"The Key to Other Worlds: A Boy\\'s Magical Journey\"'),\n",
       " ('\"The Mysterious Rainbow Forest\": A little girl discovers that the forest near her home turns into a vibrant rainbow world when it rains.',\n",
       "  '\"The Bright and Magical Rainbow Forest: A Girl\\'s Journey of Discovery\"'),\n",
       " ('\"Aliens in the Attic\": A group of children discover a family of friendly aliens living in their attic, with whom they embark on thrilling cosmic adventures.',\n",
       "  '\"Exploring the Cosmos: The Adventures of the Aliens in the Attic\"'),\n",
       " ('\"The Invisible Dragon\": A boy befriends an invisible dragon and learns how to navigate through the world unseen.',\n",
       "  '\"The Secret World of the Invisible Dragon\"'),\n",
       " ('\"The Penguin Who Could Fly\": A story about a penguin that develops the ability to fly and its journey to navigate both the ground and the sky.',\n",
       "  '\"The Flight of the Penguin: A Journey Across Land and Sky\"'),\n",
       " ('\"The Elephant\\'s Journey\": A tale about a little elephant who is trying to find his lost family across the vast African savannah.',\n",
       "  '\"The Elephantine Odyssey: A Little Elephant\\'s Search for Home\"'),\n",
       " ('\"The Magic Paintbrush\": A child finds a magic paintbrush that brings everything they paint to life.',\n",
       "  '\"The Enchanted Paintbrush: A Young Artist\\'s Adventure in the World of Magic\"'),\n",
       " ('\"The Boy in the Moon\": A tale about a boy living on the moon who dreams of visiting the earth.',\n",
       "  '\"The Star-Crossed Journey of the Boy in the Moon\"'),\n",
       " ('\"Starlight\\'s Adventure\": A young fairy who has lost her ability to create magic dust, embarks on a quest to regain it.',\n",
       "  '\"The Quest for Starlight\\'s Magic: A Fairy\\'s Journey to Restore Her Powers\"'),\n",
       " ('\"The Last Dinosaur\": A story about a child who discovers a dinosaur egg that hatches the last dinosaur on earth.',\n",
       "  '\"The Last Hope: The Discovery of a Dinosaur Egg\"'),\n",
       " ('\"The Incredible Shrinking Kids\": Some kids accidentally drink a potion that shrinks them, leading to an adventure in their own backyard.',\n",
       "  '\"The Miniature Misadventures of the Incredible Shrinking Kids\"'),\n",
       " ('\"The Clock that Could Time Travel\": A tale about a magical grandfather clock that takes children on adventures throughout history.',\n",
       "  '\"The Adventures of the Time-Traveling Grandfather Clock\"'),\n",
       " ('\"Captain Candy\\'s Sweet Adventure\": Captain Candy and her crew sail across a sea of soda to find the legendary Sugar Island.',\n",
       "  '\"A Sweet Voyage: Captain Candy\\'s Search for Sugar Island\"'),\n",
       " ('\"The Mermaid and the Human Boy\": A story about a mermaid who saves a human boy from a shipwreck, and their ensuing adventures.',\n",
       "  '\"The Mermaid\\'s Rescue: A Story of Adventure and Friendship Between a Human Boy and a Mermaid\"'),\n",
       " ('\"The Teddy Bear Guardian\": A teddy bear comes to life at night to protect its child owner from nightmares.',\n",
       "  '\"The Guardian Bear: Protecting a Child from Nightmares\"'),\n",
       " ('\"The Magic Library\": A story about a library where every book transports the reader into its story.',\n",
       "  '\"The Portal to Imagination: Exploring the Magic Library\"'),\n",
       " ('\"The Land of Lost Things\": A journey into a mystical land where all lost things end up.',\n",
       "  '\"Exploring the Mystical Land of Lost Things\"'),\n",
       " ('\"The Boy Who Could Talk to Animals\": A tale about a boy with the ability to communicate with animals and his mission to save their habitat.',\n",
       "  '\"The Animal Whisperer: A Story of a Boy on a Mission to Save the Wild\".'),\n",
       " ('\"The Enchanted Music Box\": A music box that transports a young girl to a world where she must help orchestrate the four seasons.',\n",
       "  '\"The Wonders of the Enchanted Music Box: A Journey Through Four Seasons\"'),\n",
       " ('\"The Day the Sun Slept In\": A story about children around the world dealing with an unusually long night when the sun oversleeps.',\n",
       "  '\"The Eternal Night: A Global Tale of the Day the Sun Slept In\"'),\n",
       " ('\"The Invisible City\": A city that only appears when viewed through a special pair of glasses.',\n",
       "  '\"Seeing the Unseen: Exploring the Mysteries of the Invisible City\"'),\n",
       " ('\"The Robot in the Playground\": A tale of a robot who wants to understand how to play and have fun like human children.',\n",
       "  '\"Robot\\'s Playtime: The Journey to Becoming a Real Kid\"'),\n",
       " ('\"The Little Cloud That Couldn\\'t Rain\": A story about a small cloud\\'s journey to find its purpose.',\n",
       "  '\"The Big Dream of the Little Cloud: Finding Its Rainy Purpose\"'),\n",
       " ('\"The Prince of Dreams\": A prince who can enter people\\'s dreams and helps them overcome their fears.',\n",
       "  '\"The Prince of Dreams: A Journey to Conquer Fears\"'),\n",
       " ('\"The Littlest Giant\": A story about the smallest giant in a family, who discovers that size doesn\\'t define one\\'s worth.',\n",
       "  '\"The Littlest Giant: Proving That Size Doesn\\'t Matter\"'),\n",
       " ('\"The Witch\\'s Lost Magic\": A kind-hearted witch loses her magic and has to find it with the help of her animal friends.',\n",
       "  '\"The Witch\\'s Search for Lost Magic: An Adventure with Animal Friends\"'),\n",
       " ('\"The Enchanted Carousel\": A carousel that whisks children away on magical adventures when they choose the right animal to ride.',\n",
       "  '\"The Magic of the Enchanted Carousel\"'),\n",
       " ('\"The Boy with the Magic Pencil\": A boy finds a pencil that brings his drawings to life.',\n",
       "  '\"The Miraculous Adventures of the Boy with the Magic Pencil\"'),\n",
       " ('\"The Pixie\\'s Puzzle\": A pixie presents a puzzle to a group of friends; solving it will reveal the path to a hidden treasure.',\n",
       "  '\"The Pixie\\'s Perplexing Problem: Unveiling the Path to Hidden Treasure\"'),\n",
       " ('Aliens leave Mars as humans colonize with space travel because humans are bad neighbors.',\n",
       "  '\"Goodbye, Mars: Humanity\\'s Invasion of Space Leads to Alien Exodus\"'),\n",
       " ('An orphan girls discovers that plants heal sickness and tries to help people, but must battle big pharma.',\n",
       "  '\"The Orphan\\'s Herbal Fight: Battling Big Pharma for Health and Healing\"'),\n",
       " ('An alien comes to Earth and discovers that money is good and makes lots of it to discover lots of money is harmful.',\n",
       "  '\"The Alien\\'s Unexpected Discovery: The Harmful Power of Money\"'),\n",
       " ('\"The Adventures of the Moon Hopper\": A young girl finds a magical device that lets her travel to the moon where she meets extraterrestrial beings.',\n",
       "  '\"The Moon-Hopping Adventures of a Young Girl\"'),\n",
       " ('\"The Secret Forest\": A group of children discovers a forest where the trees can talk and help them solve mysteries.',\n",
       "  '\"Unlocking the Secrets of the Talking Trees: A Journey into the Magical World of the Secret Forest\"'),\n",
       " ('\"Lulu\\'s Magic Paintbrush\": Lulu discovers that whatever she paints with her new brush comes to life.',\n",
       "  '\"Lulu\\'s Magical Adventures: The Story of the Magic Paintbrush\"'),\n",
       " ('\"The Little Robot that Could\": A small robot overcomes challenges in a world of giant machines.',\n",
       "  '\"The Incredible Journey of the Little Robot That Could\"'),\n",
       " ('\"The Dragon\\'s Egg\": A child finds a dragon\\'s egg and raises the baby dragon as a friend.',\n",
       "  '\"A Friend For Life: The Journey of a Dragon\\'s Egg\"'),\n",
       " ('\"The Time-traveling Teddy\": A teddy bear grants a boy the power to travel through time.',\n",
       "  '\"The Magical Time-Traveling Teddy: A Boy\\'s Journey Through Time\"'),\n",
       " ('\"The Boy Who Could Talk to Animals\": A young boy discovers he can communicate with animals and uses this ability to protect nature.',\n",
       "  '\"The Guardian of the Wild: The Story of the Boy Who Could Talk to Animals\"'),\n",
       " ('\"The Invisible Princess\": A princess learns the value of humility when a witch\\'s curse makes her invisible.',\n",
       "  '\"The Humble Journey of the Invisible Princess\"'),\n",
       " ('\"The Ocean\\'s Whisper\": A mermaid child sets out on a journey to rescue her captured father.',\n",
       "  '\"The Call of the Sea: A Mermaid\\'s Journey to Rescue Her Father\"'),\n",
       " ('\"The Enchanted Music Box\": A music box transports children to a world where music gives you powers.',\n",
       "  '\"The Magic of the Enchanted Music Box\"'),\n",
       " ('\"The Rainbow Bridge\": A child with the ability to see a special rainbow bridge helps lost mythical creatures find their way home.',\n",
       "  '\"Crossing the Rainbow Bridge: A Child\\'s Journey to Reunite Lost Mythical Creatures with Home\"'),\n",
       " ('\"The Star Catcher\": A child who catches falling stars learns about the universe and its wonders.',\n",
       "  '\"The Star Catcher: A Journey Through the Universe\\'s Wonders\"'),\n",
       " ('\"The Lost City of Toys\": A group of children finds a hidden city where all lost toys live.',\n",
       "  '\"Exploring the Forgotten City of Lost Toys\"'),\n",
       " ('\"The Dream Weaver\": A girl can weave dreams into reality with her magical loom.',\n",
       "  '\"The Weaving of Dreams: The Magic of the Dream Weaver\"'),\n",
       " ('\"Pixie Dust Trouble\": A pixie causes chaos in a small town when she loses control of her magic dust.',\n",
       "  '\"Trouble in the Town: The Uncontrolled Pixie Dust\"'),\n",
       " ('\"The Littlest Unicorn\": The smallest unicorn in the land proves that size doesn\\'t matter when it comes to courage.',\n",
       "  '\"The Brave Little Unicorn: Proving That Courage Comes In All Sizes\"'),\n",
       " ('\"A Planet of Candy\": Kids discover a planet made entirely of candy, but must learn moderation to avoid disaster.',\n",
       "  '\"Sweet Dreams and Sour Consequences: Exploring a Planet of Candy\"'),\n",
       " ('\"Bobby and the Bookworm\": A young boy befriends a book-loving worm who makes stories come alive.',\n",
       "  '\"Bobby and the Bookworm: An Unlikely Friendship That Brings Stories To Life\"'),\n",
       " ('\"The Three Little Dragons and the Big Bad Knight\": A reversal of the classic tale with dragon siblings outsmarting a villainous knight.',\n",
       "  '\"The Big Bad Knight and the Three Little Dragons\"'),\n",
       " ('\"Bella and the Magic Mirror\": Bella uses a magic mirror to understand the feelings of others.',\n",
       "  '\"Bella and the Mirror of Empathy\"'),\n",
       " ('\"The Garden Gnomes\\' Secret\": A child discovers that garden gnomes come to life at night and have a world of their own.',\n",
       "  '\"Unlocking the Garden Gnomes\\' Hidden Realm\"'),\n",
       " ('\"The Flying Penguin\": A penguin who dreams of flying invents a way to soar in the sky.',\n",
       "  '\"The Dream of Flight: The Story of the Flying Penguin\"'),\n",
       " ('\"The Alien in the Attic\": A child finds an alien hiding in their attic and helps it return home.',\n",
       "  '\"Lost in the Attic: The Journey Home with an Alien Friend\"'),\n",
       " ('\"The Cloud Maker\": A child who can shape clouds brings happiness to his town by creating beautiful shapes in the sky.',\n",
       "  '\"The Cloud Shaper: Bringing Joy to a Small Town Through the Magic of Shaping the Sky\"'),\n",
       " ('\"The Musical Raindrops\": A boy discovers that different raindrops produce different musical notes.',\n",
       "  '\"The Symphony of the Skies: A Boy\\'s Discovery of the Musical Raindrops\"'),\n",
       " ('\"The Mysterious Library\": Kids find a library where books transport them into the story.',\n",
       "  '\"The Adventures of the Mysterious Library: Exploring a World of Imagination\"'),\n",
       " ('\"The Wizard\\'s Apprentice\": A young apprentice tries to fill in for his wizard master and accidentally turns the town\\'s animals into mini dragons.',\n",
       "  '\"The Apprentice\\'s Folly: When a Wizard\\'s Apprentice Tries His Hand at Magic\"'),\n",
       " ('\"The Walking House\": A child wakes up to find their house has grown legs and is traveling the world.',\n",
       "  '\"Around the World with the Walking House\"'),\n",
       " ('\"Sally and the Shadow Monster\": Sally befriends her scary shadow monster and together they overcome their fears.',\n",
       "  '\"Sally and the Shadow Monster: A Tale of Bravery and Friendship\"'),\n",
       " ('\"The Secret Life of a Snowman\": A snowman comes alive and experiences the world while everyone is asleep.',\n",
       "  '\"The Adventures of a Midnight Snowman: Exploring the World in the Dead of Night\"'),\n",
       " ('A kid invents teleporation after being inspired by Nicola Tesla, but is killed by the mean in black due to fears of foreign armies teleporting into fort knox to steal all the gold.',\n",
       "  '\"The Invention of Teleportation: The Tragic Tale of a Young Genius and the Mean in Black\"'),\n",
       " ('A kid invents low cost energy from water using acoustic energy to seperate hydrogen, which unleashes a genie that wants to rule Earth since its environment and air will be clean.',\n",
       "  '\"The Genie of a Clean Earth: A Kid\\'s Invention Unlocks a World of Possibilities\"'),\n",
       " ('\"The Day the Sun Slept In\" - A tale about a sleepy sun that oversleeps, and how all the creatures work together to wake it up and bring daylight back.',\n",
       "  '\"The Great Awakening: The Day the Sun Slept In and the World Unites to Bring Daylight Back\"'),\n",
       " ('\"The Invisible Elephant\" - The story of a young, invisible elephant learning to use its invisibility to help its friends in the jungle.',\n",
       "  '\"Invisible Magic: The Journey of a Young Elephant in the Jungle\"'),\n",
       " ('\"The Boy Who Could Speak to Toys\" - A young boy discovers he can communicate with toys, leading to fantastic adventures.',\n",
       "  '\"The Adventures of the Toy Whisperer: A Young Boy\\'s Journey to a World of Wonder\"'),\n",
       " ('\"The Dancing Rainbow\" - A rainbow decides to move and dance, causing a splash of colors all over the world.',\n",
       "  '\"The World of Color: A Rainbow\\'s Dance\"'),\n",
       " ('\"The Last Dinosaur Egg\" - A group of children stumble upon the last dinosaur egg and must protect it from the evil clutches of a collector.',\n",
       "  '\"The Great Dinosaur Rescue: Protecting the Last Egg\"'),\n",
       " ('\"The Time-traveling Hamster\" - A pet hamster finds a time machine and embarks on a journey through different eras.',\n",
       "  '\"The Incredible Adventures of the Time-Traveling Hamster\"'),\n",
       " ('\"The Lollipop Forest\" - In a world where trees grow lollipops, a drought threatens the sweet forest, and a group of children must save it.',\n",
       "  '\"The Sweet Dilemma: Saving the Lollipop Forest\"'),\n",
       " ('\"The Little Star That Couldn\\'t Twinkle\" - A story about a small star that learns to shine its own way.',\n",
       "  '\"A Little Star\\'s Big Shine: The Journey of Learning to Twinkle Differently\"'),\n",
       " ('\"The Land of Lost Socks\" - A boy discovers a portal to a world where all lost socks go and embarks on a mission to return them.',\n",
       "  '\"The Unsolved Mystery of the Lost Socks: A Journey to the Land of the Missing Socks\"'),\n",
       " ('\"The Magic Paintbrush\" - A tale of a girl whose drawings come to life with a magic paintbrush and the adventures they have.',\n",
       "  '\"The Enchanting Paintbrush: A Journey of Wonder and Imagination\"'),\n",
       " ('\"The Honeybee\\'s Secret\" - A honeybee who doesn\\'t like honey must find a new way to contribute to the hive.',\n",
       "  '\"The Sweetness Beyond the Hive: Uncovering the Honeybee\\'s Secret\"'),\n",
       " ('\"The Whispering Wind\" - A story about a wind that whispers secrets and the little girl who understands them.',\n",
       "  '\"Secrets on the Wind: The Tale of a Little Girl Who Listens to the Whispering Wind\"'),\n",
       " ('\"The Giggling Ghost\" - A friendly ghost is too shy to scare people, so it tickles them instead, causing a series of hilarious situations.',\n",
       "  '\"Tickled by a Giggling Ghost - Hilarity Ensues!\"'),\n",
       " ('\"The Clockwork Lion\" - An adventure story about a mechanical lion who lost his key and the boy who helps him find it.',\n",
       "  '\"The Key to Reawakening: An Adventure with the Clockwork Lion\"'),\n",
       " ('\"The Cloud Shepherd\" - A boy with the ability to herd clouds helps change the weather to save his village from a drought.',\n",
       "  '\"The Cloud Herder: A Boy\\'s Quest to Save His Village from a Dire Drought\"'),\n",
       " ('\"The Paper Boat Sailor\" - A young girl crafts a paper boat that grows large enough for her to sail in, leading to magical maritime adventures.',\n",
       "  '\"The Incredible Journey of the Paper Boat Sailor\"'),\n",
       " ('\"The Kingdom of Forgotten Dreams\" - A place where forgotten dreams live, and a boy who brings them back to life.',\n",
       "  '\"Unlocking the Secrets of the Kingdom of Forgotten Dreams\"'),\n",
       " ('\"The Tallest Flower\" - A story about a tiny seed that grows into the tallest flower, teaching a lesson about potential.',\n",
       "  '\"The Tiny Seed That Topped Them All: A Story of Unstoppable Potential\"'),\n",
       " ('\"The Caterpillar’s Quest\" - A caterpillar\\'s epic journey to find a safe place to transform into a butterfly.',\n",
       "  '\"A Caterpillar\\'s Epic Journey: The Quest for a Safe Haven\"'),\n",
       " ('\"The Shoe House Mystery\" - A shoe left in the park overnight turns into a house, leading to a great mystery.',\n",
       "  '\"Sole of the Strange: Uncovering the Mystery of the Shoe House\"'),\n",
       " ('\"The Wishing Fish\" - A fish has the power to grant wishes, but learns that not all wishes should come true.',\n",
       "  '\"The Wishes of the Wishing Fish: Learning the Limits of Magic\"'),\n",
       " ('\"The Moon’s Missing Stars\" - The moon loses its stars, and a brave rabbit offers to retrieve them.',\n",
       "  '\"The Rabbit and the Lost Stars of the Moon\"'),\n",
       " ('\"The Invisible Bridge\" - Two friends discover an invisible bridge that leads them to mystical lands.',\n",
       "  '\"Crossing the Threshold: Exploring the Magical Worlds Beyond the Invisible Bridge\"'),\n",
       " ('\"The Girl Who Could Hear Colors\" - A story about a girl with synesthesia who uses her ability to solve problems.',\n",
       "  '\"The Rainbow Detective: The Story of the Girl Who Could Hear Colors\"'),\n",
       " ('\"The Alphabet\\'s Day Off\" - A day when all the letters take a break, causing a language chaos.',\n",
       "  '\"The Great Alphabetical Vacation: A Tale of Language Mayhem\"'),\n",
       " ('\"The Robot with a Heart\" - A robot begins to feel emotions, exploring what it means to be alive.',\n",
       "  '\"The Awakening of a Robot Heart\"'),\n",
       " (\"A man doesn't realize he's entered into an alternate universe through an energy vortex while sleeping until he returns the next day, after being confused by his friends having different jobs and relationships.\",\n",
       "  '\"Lost in a Dream: Uncovering an Alternate Universe\"'),\n",
       " ('A tiny gnome with a magical paintbrush can make his drawings come to life.',\n",
       "  '\"The Amazing Adventures of Gnome the Painter\"'),\n",
       " ('A young girl discovers her mirror is a portal to a parallel magical world.',\n",
       "  '\"The Girl Who Found Wonderland in Her Mirror\"'),\n",
       " ('A talking squirrel helps a boy lost in the forest find his way home.',\n",
       "  '\"The Lost Boy and the Talking Squirrel: A Journey Home\"'),\n",
       " ('A group of kids build a spaceship out of cardboard and accidentally launch into space.',\n",
       "  '\"A Incredible Intergalactic Adventure: The Cardboard Spaceship\\'s Unexpected Launch!\"'),\n",
       " ('A mischievous fairy swaps places with a human child for a day.',\n",
       "  '\"A Day in the Life of a Mischievous Fairy: Swapping Places with a Human Child\"'),\n",
       " ('A young wizard must save his school from an ancient curse.',\n",
       "  '\"The Curse of the Ancient Wizard: A Young Wizard\\'s Quest to Save His School\"'),\n",
       " ('A dinosaur egg hatches in a modern-day city park.',\n",
       "  '\"The Unanticipated Guest: The Surprise Hatching of a Dinosaur Egg in a City Park\"'),\n",
       " ('A brave princess sets off to rescue a dragon from a knight.',\n",
       "  '\"The Princess and the Dragon: A Tale of Bravery and Redemption\"'),\n",
       " ('An alien lands on Earth and befriends a group of kids to learn about human customs.',\n",
       "  '\"A Stranger from the Stars: The Alien\\'s Earthly Adventure with the Kids of Earth\"'),\n",
       " ('A young pirate on her first treasure hunt uncovers a mystical island.',\n",
       "  '\"The Pirate\\'s Quest for the Mystical Island\"'),\n",
       " ('A girl with the power to talk to plants helps save a dying enchanted forest.',\n",
       "  '\"The Forest Whisperer: A Girl\\'s Journey to Reawaken an Enchanted World\"'),\n",
       " ('A teddy bear comes to life at night to protect children from nightmares.',\n",
       "  '\"Guardians of the Night: The Magical Adventures of the Living Teddy Bear\"'),\n",
       " ('A boy finds a map that leads to a city hidden beneath the sea.',\n",
       "  '\"The Map to Atlantis: Uncovering the Lost Undersea City\"'),\n",
       " ('A kid discovers that his pet hamster is a secret agent.',\n",
       "  '\"The Spy in the Cage: Uncovering the Incredible Adventures of My Hamster Agent\"'),\n",
       " ('A child with the ability to control weather must stop a permanent winter.',\n",
       "  '\"The Endless Winter: A Child\\'s Power to Save the World\".'),\n",
       " ('A group of children find a magical board game that transports them into its world.',\n",
       "  '\"The Magical Board Game: A Journey Into an Unknown World\"'),\n",
       " ('A lonely ghost befriends the new family living in its haunted house.',\n",
       "  '\"The Ghost and The Newcomers: A Tale of Unexpected Friendship\"'),\n",
       " ('A young witch struggles with spell casting until she discovers her unique magic language.',\n",
       "  '\"Unlocking the Power of Her Witchcraft: A Journey to Find Her Magic Language\"'),\n",
       " ('A talking cat takes a group of children on an adventure in a world where animals rule.',\n",
       "  '\"The Cat\\'s Magical Kingdom: An Adventure in a World Ruled by Animals\"'),\n",
       " ('A kid with the ability to time travel uses it to learn about historical events.',\n",
       "  '\"Journey Through Time: A Young Time-Traveller\\'s Exploration of History\".'),\n",
       " ('Children discover that their school janitor is actually a magical guardian protecting them.',\n",
       "  '\"The Janitor\\'s Secret Guardian: Uncovering the Magic of Protection\"'),\n",
       " ('A shy unicorn finds the courage to use its healing magic to save its herd.',\n",
       "  '\"Unicorn\\'s Courage: The Journey of a Shy Healer\"'),\n",
       " ('A girl discovers she can breathe life into her origami creations.',\n",
       "  '\"Origami Magic: Unveiling a Girl\\'s Ability to Bring Her Creations to Life\"'),\n",
       " ('A group of kids find an ancient artifact that lets them communicate with mythical creatures.',\n",
       "  '\"The Portal to Mythical Realms: A Journey of Discovery for a Group of Kids\"'),\n",
       " ('A young mermaid is chosen to represent her kingdom in a grand undersea race.',\n",
       "  '\"The Mermaid\\'s Race: A Journey to Represent Her Kingdom\".'),\n",
       " (\"A girl wakes up to find that she's shrunk and embarks on an adventure in her own house.\",\n",
       "  '\"Tiny Tales: A Miniature Adventure in a Big House\"'),\n",
       " ('A child stumbles upon a hidden garden where every plant tells a story.',\n",
       "  '\"The Secret Garden of Telling Tales\"'),\n",
       " ('A boy accidentally activates a robot from the future and helps it return home.',\n",
       "  '\"A Journey Through Time: The Boy who Accidentally Activated a Robot from the Future\"'),\n",
       " ('A group of children wake up in a dream world and must navigate their way back.',\n",
       "  '\"Lost in a Dreamscape: A Journey to Find Home\"'),\n",
       " ('A young girl befriends a grumpy dragon and helps it find its lost treasure.',\n",
       "  '\"The Lost Treasure of the Grumpy Dragon: A Young Girl\\'s Friendship Adventure\"'),\n",
       " (\"Children discover that their town's old legend about a sleeping giant is true.\",\n",
       "  '\"Awakening the Giant: Uncovering the Truth Behind a Town\\'s Legend\"'),\n",
       " ('A boy gains the ability to bring his doodles to life and chaos ensues.',\n",
       "  '\"Chaos Unleashed: A Boy\\'s Doodles Come to Life.\"'),\n",
       " ('A young witch uses her magical baking skills to solve problems in her town.',\n",
       "  '\"The Witch and the Whisk: A Tale of Enchanting Baked Solutions\"'),\n",
       " ('A child befriends a cloud and goes on high-flying adventures.',\n",
       "  '\"The Cloudy Adventures of a Little Dreamer.\"'),\n",
       " ('A girl finds a magical hourglass that can freeze time for everyone but her.',\n",
       "  '\"The Girl Who Stopped Time: A Magical Adventure with an Hourglass.\"'),\n",
       " ('A boy discovers his shadow has a life of its own and they solve mysteries together.',\n",
       "  '\"The Shadow Detective: Adventures of a Boy and His Shadow\"'),\n",
       " ('A child wakes up to find that all adults have disappeared for a day.',\n",
       "  '\"A Day Without Adults: A Child\\'s Unexpected Adventure\"'),\n",
       " ('A young mermaid and a human girl switch places for a day.',\n",
       "  '\"The Day the Mermaid and the Human Swapped Places\"'),\n",
       " ('A group of kids go on a quest to find a legendary rainbow bird.',\n",
       "  '\"The Search for the Legendary Rainbow Bird: A Quest for Adventure\"'),\n",
       " ('A young boy discovers a magical lighthouse that guides lost sea creatures home.',\n",
       "  '\"The Lighthouse of Lost Souls: A Young Boy\\'s Journey to Help the Sea\\'s Lost Ones Find Their Way Home\".'),\n",
       " ('A girl finds a magical locket that allows her to talk to animals.',\n",
       "  '\"The Girl and the Magical Locket: A Journey of Animal Communication\"'),\n",
       " ('A group of children discover a secret tunnel leading to a hidden dinosaur valley.',\n",
       "  '\"Dinosaur Valley Adventure: Uncovering the Secret Tunnel\"'),\n",
       " ('A shy boy becomes invisible and uses his power to overcome his fears.',\n",
       "  '\"The Invisible Courage of a Shy Boy\"'),\n",
       " ('', '\"A Group of Strangers Unite to Help Save a Small Town\"')]"
      ]
     },
     "execution_count": 17,
     "metadata": {},
     "output_type": "execute_result"
    }
   ],
   "source": [
    "ideas_title = list(zip(ideas, titles))\n",
    "ideas_title"
   ]
  },
  {
   "cell_type": "code",
   "execution_count": 18,
   "id": "69c131d1",
   "metadata": {},
   "outputs": [
    {
     "data": {
      "text/plain": [
       "\"Once upon a time, there lived a young girl named Haley. Haley was a very hardworking and responsible girl who was adored by her family and friends. She was always on the go and never one to take a break.\\n\\nOne day, while Haley was walking home from school, she started to get a strange feeling in her stomach. She thought it was just a little stomach ache, so she continued on her way. But as she walked, the feeling in her stomach got stronger and stronger. Suddenly, Haley started to hiccup!\\n\\nAt first, Haley didn't think much about it, but soon she noticed that every time she hiccuped, something strange would happen. Every time she hiccuped, the entire world around her changed. She saw things that she'd never seen before, and experienced adventures she could never have imagined.\\n\\nHaley hiccuped her way through magical lands, deep oceans, and far-off galaxies. She met dragons, fairies, and talking animals. She soon realized that her hiccups were giving her the opportunity to explore and experience things she never knew existed.\\n\\nHaley continued on her hiccuping adventures for weeks, until one day she realized that the world around her was beginning to change back to normal. She knew that her hiccuping days were coming to an end.\\n\\nAs Haley returned back to her normal life, she realized that her hiccuping adventures had taught her a very important lesson: that the world is full of amazing things, and that if we're willing to look, we can find magic in the most unexpected places.\\n\\nMoral: We should always be open to new experiences, because you never know what amazing things you might find!\""
      ]
     },
     "execution_count": 18,
     "metadata": {},
     "output_type": "execute_result"
    }
   ],
   "source": [
    "fable = generate_fable(ideas_title[2][0], ideas_title[2][1])\n",
    "fable"
   ]
  },
  {
   "cell_type": "code",
   "execution_count": 19,
   "id": "04993944",
   "metadata": {},
   "outputs": [],
   "source": [
    "stories = []\n",
    "for item in ideas_title:\n",
    "    fable = generate_fable(item[0], item[1])\n",
    "    stories.append(fable)\n",
    "    \n",
    "store_list_as_jsonl(\"fables.jsonl\", stories)"
   ]
  },
  {
   "cell_type": "code",
   "execution_count": 9,
   "id": "4ffef2d8",
   "metadata": {},
   "outputs": [],
   "source": [
    "stories = read_jsonl_as_list(\"fables.jsonl\")"
   ]
  },
  {
   "cell_type": "code",
   "execution_count": 20,
   "id": "b270219d",
   "metadata": {},
   "outputs": [],
   "source": [
    "topic = \"365 children's stories of fables about fantasy, science fiction, adventure, magic, mystery, mythical, etc.\""
   ]
  },
  {
   "cell_type": "code",
   "execution_count": 21,
   "id": "b96bac35",
   "metadata": {},
   "outputs": [
    {
     "data": {
      "text/plain": [
       "\"This book is a collection of 365 creative, imaginative, and captivating children's stories that span a range of genres, including fables, fantasy, science fiction, adventure, magic, mystery, mythical, and more. Each story is unique and engaging, offering a unique perspective and insight into the world of make-believe. From talking animals to magical creatures, these stories will take readers on a journey of discovery and exploration, and will provide hours of entertainment for the whole family.\""
      ]
     },
     "execution_count": 21,
     "metadata": {},
     "output_type": "execute_result"
    }
   ],
   "source": [
    "# create a summary\n",
    "prompt = \"Create a summary for a book about \"+topic\n",
    "summary = generate_summary(prompt)\n",
    "summary"
   ]
  },
  {
   "cell_type": "code",
   "execution_count": 22,
   "id": "2d240b49",
   "metadata": {},
   "outputs": [
    {
     "data": {
      "text/plain": [
       "379"
      ]
     },
     "execution_count": 22,
     "metadata": {},
     "output_type": "execute_result"
    }
   ],
   "source": [
    "len(stories)"
   ]
  },
  {
   "cell_type": "code",
   "execution_count": 13,
   "id": "1c3755d4",
   "metadata": {
    "scrolled": true
   },
   "outputs": [
    {
     "data": {
      "application/vnd.jupyter.widget-view+json": {
       "model_id": "2fc37fff847244bf9cd2d3b9a7f07ae5",
       "version_major": 2,
       "version_minor": 0
      },
      "text/plain": [
       "  0%|          | 0/80 [00:00<?, ?it/s]"
      ]
     },
     "metadata": {},
     "output_type": "display_data"
    },
    {
     "data": {
      "application/vnd.jupyter.widget-view+json": {
       "model_id": "b2004de3ead04d30aad81d87f4745d52",
       "version_major": 2,
       "version_minor": 0
      },
      "text/plain": [
       "  0%|          | 0/80 [00:00<?, ?it/s]"
      ]
     },
     "metadata": {},
     "output_type": "display_data"
    },
    {
     "data": {
      "application/vnd.jupyter.widget-view+json": {
       "model_id": "876d3431eae9433e8c80aa6ec5783496",
       "version_major": 2,
       "version_minor": 0
      },
      "text/plain": [
       "  0%|          | 0/80 [00:00<?, ?it/s]"
      ]
     },
     "metadata": {},
     "output_type": "display_data"
    },
    {
     "data": {
      "application/vnd.jupyter.widget-view+json": {
       "model_id": "3012648a3c434832a02624b359cff9b2",
       "version_major": 2,
       "version_minor": 0
      },
      "text/plain": [
       "  0%|          | 0/80 [00:00<?, ?it/s]"
      ]
     },
     "metadata": {},
     "output_type": "display_data"
    },
    {
     "data": {
      "application/vnd.jupyter.widget-view+json": {
       "model_id": "c0638abaf73944639e0443623713c57f",
       "version_major": 2,
       "version_minor": 0
      },
      "text/plain": [
       "  0%|          | 0/80 [00:00<?, ?it/s]"
      ]
     },
     "metadata": {},
     "output_type": "display_data"
    },
    {
     "data": {
      "application/vnd.jupyter.widget-view+json": {
       "model_id": "4436acc2d7a84d729de05e6682678a35",
       "version_major": 2,
       "version_minor": 0
      },
      "text/plain": [
       "  0%|          | 0/80 [00:00<?, ?it/s]"
      ]
     },
     "metadata": {},
     "output_type": "display_data"
    },
    {
     "data": {
      "application/vnd.jupyter.widget-view+json": {
       "model_id": "260247d861a14df38ca0df19a3684911",
       "version_major": 2,
       "version_minor": 0
      },
      "text/plain": [
       "  0%|          | 0/80 [00:00<?, ?it/s]"
      ]
     },
     "metadata": {},
     "output_type": "display_data"
    },
    {
     "data": {
      "application/vnd.jupyter.widget-view+json": {
       "model_id": "06683fa23864480683afaffd0ca7e3fc",
       "version_major": 2,
       "version_minor": 0
      },
      "text/plain": [
       "  0%|          | 0/80 [00:00<?, ?it/s]"
      ]
     },
     "metadata": {},
     "output_type": "display_data"
    },
    {
     "data": {
      "application/vnd.jupyter.widget-view+json": {
       "model_id": "58d89626230e42be8bc6dac395670ffe",
       "version_major": 2,
       "version_minor": 0
      },
      "text/plain": [
       "  0%|          | 0/80 [00:00<?, ?it/s]"
      ]
     },
     "metadata": {},
     "output_type": "display_data"
    },
    {
     "data": {
      "application/vnd.jupyter.widget-view+json": {
       "model_id": "fcca5b60bc6c40df87bd192fe8f772d1",
       "version_major": 2,
       "version_minor": 0
      },
      "text/plain": [
       "  0%|          | 0/80 [00:00<?, ?it/s]"
      ]
     },
     "metadata": {},
     "output_type": "display_data"
    },
    {
     "data": {
      "application/vnd.jupyter.widget-view+json": {
       "model_id": "200244ec2ff643838c5ba4b2ab26f296",
       "version_major": 2,
       "version_minor": 0
      },
      "text/plain": [
       "  0%|          | 0/80 [00:00<?, ?it/s]"
      ]
     },
     "metadata": {},
     "output_type": "display_data"
    },
    {
     "data": {
      "application/vnd.jupyter.widget-view+json": {
       "model_id": "8baebfc3d76d4788887e50f833ba6a4c",
       "version_major": 2,
       "version_minor": 0
      },
      "text/plain": [
       "  0%|          | 0/80 [00:00<?, ?it/s]"
      ]
     },
     "metadata": {},
     "output_type": "display_data"
    },
    {
     "data": {
      "application/vnd.jupyter.widget-view+json": {
       "model_id": "916c05fa61d147248b37c1dcc31b24aa",
       "version_major": 2,
       "version_minor": 0
      },
      "text/plain": [
       "  0%|          | 0/80 [00:00<?, ?it/s]"
      ]
     },
     "metadata": {},
     "output_type": "display_data"
    },
    {
     "data": {
      "application/vnd.jupyter.widget-view+json": {
       "model_id": "3768b0b470b44170bee10af96b482267",
       "version_major": 2,
       "version_minor": 0
      },
      "text/plain": [
       "  0%|          | 0/80 [00:00<?, ?it/s]"
      ]
     },
     "metadata": {},
     "output_type": "display_data"
    },
    {
     "data": {
      "application/vnd.jupyter.widget-view+json": {
       "model_id": "4f3e03940bdd4dd7814208be4cfe6d3c",
       "version_major": 2,
       "version_minor": 0
      },
      "text/plain": [
       "  0%|          | 0/80 [00:00<?, ?it/s]"
      ]
     },
     "metadata": {},
     "output_type": "display_data"
    },
    {
     "data": {
      "application/vnd.jupyter.widget-view+json": {
       "model_id": "937a8c0d3089431e85efb01b868a7ba8",
       "version_major": 2,
       "version_minor": 0
      },
      "text/plain": [
       "  0%|          | 0/80 [00:00<?, ?it/s]"
      ]
     },
     "metadata": {},
     "output_type": "display_data"
    },
    {
     "data": {
      "application/vnd.jupyter.widget-view+json": {
       "model_id": "a2501161922c45e4a2f28170459c8e68",
       "version_major": 2,
       "version_minor": 0
      },
      "text/plain": [
       "  0%|          | 0/80 [00:00<?, ?it/s]"
      ]
     },
     "metadata": {},
     "output_type": "display_data"
    },
    {
     "data": {
      "application/vnd.jupyter.widget-view+json": {
       "model_id": "d95d10d6dc8b49d99f432818e192f73b",
       "version_major": 2,
       "version_minor": 0
      },
      "text/plain": [
       "  0%|          | 0/80 [00:00<?, ?it/s]"
      ]
     },
     "metadata": {},
     "output_type": "display_data"
    },
    {
     "data": {
      "application/vnd.jupyter.widget-view+json": {
       "model_id": "910cf39fc8a9495f8a51705711891af7",
       "version_major": 2,
       "version_minor": 0
      },
      "text/plain": [
       "  0%|          | 0/80 [00:00<?, ?it/s]"
      ]
     },
     "metadata": {},
     "output_type": "display_data"
    },
    {
     "data": {
      "application/vnd.jupyter.widget-view+json": {
       "model_id": "e826e1788ea94179846d8a27e46bad6e",
       "version_major": 2,
       "version_minor": 0
      },
      "text/plain": [
       "  0%|          | 0/80 [00:00<?, ?it/s]"
      ]
     },
     "metadata": {},
     "output_type": "display_data"
    },
    {
     "data": {
      "application/vnd.jupyter.widget-view+json": {
       "model_id": "0b9e7d5869334febbaee45285248de9d",
       "version_major": 2,
       "version_minor": 0
      },
      "text/plain": [
       "  0%|          | 0/80 [00:00<?, ?it/s]"
      ]
     },
     "metadata": {},
     "output_type": "display_data"
    },
    {
     "data": {
      "application/vnd.jupyter.widget-view+json": {
       "model_id": "791ab1c3b3c9471db3072e4e43cacddb",
       "version_major": 2,
       "version_minor": 0
      },
      "text/plain": [
       "  0%|          | 0/80 [00:00<?, ?it/s]"
      ]
     },
     "metadata": {},
     "output_type": "display_data"
    },
    {
     "data": {
      "application/vnd.jupyter.widget-view+json": {
       "model_id": "e0f20de855b34933895376a7f9bcab91",
       "version_major": 2,
       "version_minor": 0
      },
      "text/plain": [
       "  0%|          | 0/80 [00:00<?, ?it/s]"
      ]
     },
     "metadata": {},
     "output_type": "display_data"
    },
    {
     "data": {
      "application/vnd.jupyter.widget-view+json": {
       "model_id": "5245446a12e74552b008b4dc98ca9a82",
       "version_major": 2,
       "version_minor": 0
      },
      "text/plain": [
       "  0%|          | 0/80 [00:00<?, ?it/s]"
      ]
     },
     "metadata": {},
     "output_type": "display_data"
    },
    {
     "data": {
      "application/vnd.jupyter.widget-view+json": {
       "model_id": "34d0c10ca18449868d9eafbb101530a0",
       "version_major": 2,
       "version_minor": 0
      },
      "text/plain": [
       "  0%|          | 0/80 [00:00<?, ?it/s]"
      ]
     },
     "metadata": {},
     "output_type": "display_data"
    },
    {
     "data": {
      "application/vnd.jupyter.widget-view+json": {
       "model_id": "f57384fff0e64b80bc74f7d81de41c7a",
       "version_major": 2,
       "version_minor": 0
      },
      "text/plain": [
       "  0%|          | 0/80 [00:00<?, ?it/s]"
      ]
     },
     "metadata": {},
     "output_type": "display_data"
    },
    {
     "data": {
      "application/vnd.jupyter.widget-view+json": {
       "model_id": "d466ff7d76ca4f66bb0f407cb5c19682",
       "version_major": 2,
       "version_minor": 0
      },
      "text/plain": [
       "  0%|          | 0/80 [00:00<?, ?it/s]"
      ]
     },
     "metadata": {},
     "output_type": "display_data"
    },
    {
     "data": {
      "application/vnd.jupyter.widget-view+json": {
       "model_id": "d9315561652341d98b1520ce7d166162",
       "version_major": 2,
       "version_minor": 0
      },
      "text/plain": [
       "  0%|          | 0/80 [00:00<?, ?it/s]"
      ]
     },
     "metadata": {},
     "output_type": "display_data"
    },
    {
     "data": {
      "application/vnd.jupyter.widget-view+json": {
       "model_id": "efe679679d7d413bac520cdd5370a4d2",
       "version_major": 2,
       "version_minor": 0
      },
      "text/plain": [
       "  0%|          | 0/80 [00:00<?, ?it/s]"
      ]
     },
     "metadata": {},
     "output_type": "display_data"
    },
    {
     "data": {
      "application/vnd.jupyter.widget-view+json": {
       "model_id": "1d638b1c0b0848018d3c5bdd34bd058f",
       "version_major": 2,
       "version_minor": 0
      },
      "text/plain": [
       "  0%|          | 0/80 [00:00<?, ?it/s]"
      ]
     },
     "metadata": {},
     "output_type": "display_data"
    },
    {
     "data": {
      "application/vnd.jupyter.widget-view+json": {
       "model_id": "e28819a2be4f4efdb4f12daa91e884fa",
       "version_major": 2,
       "version_minor": 0
      },
      "text/plain": [
       "  0%|          | 0/80 [00:00<?, ?it/s]"
      ]
     },
     "metadata": {},
     "output_type": "display_data"
    },
    {
     "data": {
      "application/vnd.jupyter.widget-view+json": {
       "model_id": "23dc355057014414b2651a16ad4c9d80",
       "version_major": 2,
       "version_minor": 0
      },
      "text/plain": [
       "  0%|          | 0/80 [00:00<?, ?it/s]"
      ]
     },
     "metadata": {},
     "output_type": "display_data"
    },
    {
     "data": {
      "application/vnd.jupyter.widget-view+json": {
       "model_id": "f34605606e4441cb93b293a95f465485",
       "version_major": 2,
       "version_minor": 0
      },
      "text/plain": [
       "  0%|          | 0/80 [00:00<?, ?it/s]"
      ]
     },
     "metadata": {},
     "output_type": "display_data"
    },
    {
     "data": {
      "application/vnd.jupyter.widget-view+json": {
       "model_id": "5906974ec7c34f1897dc5ab796ad3eab",
       "version_major": 2,
       "version_minor": 0
      },
      "text/plain": [
       "  0%|          | 0/80 [00:00<?, ?it/s]"
      ]
     },
     "metadata": {},
     "output_type": "display_data"
    },
    {
     "data": {
      "application/vnd.jupyter.widget-view+json": {
       "model_id": "11c8020c39df4b22a7a1c36117a30e72",
       "version_major": 2,
       "version_minor": 0
      },
      "text/plain": [
       "  0%|          | 0/80 [00:00<?, ?it/s]"
      ]
     },
     "metadata": {},
     "output_type": "display_data"
    },
    {
     "data": {
      "application/vnd.jupyter.widget-view+json": {
       "model_id": "388310b4ba7f4abbb1f147212d50f98e",
       "version_major": 2,
       "version_minor": 0
      },
      "text/plain": [
       "  0%|          | 0/80 [00:00<?, ?it/s]"
      ]
     },
     "metadata": {},
     "output_type": "display_data"
    },
    {
     "data": {
      "application/vnd.jupyter.widget-view+json": {
       "model_id": "edf6faf082434457b9a4694e43bbeb87",
       "version_major": 2,
       "version_minor": 0
      },
      "text/plain": [
       "  0%|          | 0/80 [00:00<?, ?it/s]"
      ]
     },
     "metadata": {},
     "output_type": "display_data"
    },
    {
     "data": {
      "application/vnd.jupyter.widget-view+json": {
       "model_id": "8b3c5212260046f092ab471e018134b0",
       "version_major": 2,
       "version_minor": 0
      },
      "text/plain": [
       "  0%|          | 0/80 [00:00<?, ?it/s]"
      ]
     },
     "metadata": {},
     "output_type": "display_data"
    },
    {
     "data": {
      "application/vnd.jupyter.widget-view+json": {
       "model_id": "23021aac23594072bfa27b79eb2c62da",
       "version_major": 2,
       "version_minor": 0
      },
      "text/plain": [
       "  0%|          | 0/80 [00:00<?, ?it/s]"
      ]
     },
     "metadata": {},
     "output_type": "display_data"
    },
    {
     "data": {
      "application/vnd.jupyter.widget-view+json": {
       "model_id": "ce2a75ac124d4cf5826d2179a299bcba",
       "version_major": 2,
       "version_minor": 0
      },
      "text/plain": [
       "  0%|          | 0/80 [00:00<?, ?it/s]"
      ]
     },
     "metadata": {},
     "output_type": "display_data"
    },
    {
     "data": {
      "application/vnd.jupyter.widget-view+json": {
       "model_id": "b6f8e3f535f74ec9a420baf41718ba23",
       "version_major": 2,
       "version_minor": 0
      },
      "text/plain": [
       "  0%|          | 0/80 [00:00<?, ?it/s]"
      ]
     },
     "metadata": {},
     "output_type": "display_data"
    },
    {
     "data": {
      "application/vnd.jupyter.widget-view+json": {
       "model_id": "560768b6c97e4070831ed438e366c48d",
       "version_major": 2,
       "version_minor": 0
      },
      "text/plain": [
       "  0%|          | 0/80 [00:00<?, ?it/s]"
      ]
     },
     "metadata": {},
     "output_type": "display_data"
    },
    {
     "data": {
      "application/vnd.jupyter.widget-view+json": {
       "model_id": "99745e279a894872972ad330e86d6c98",
       "version_major": 2,
       "version_minor": 0
      },
      "text/plain": [
       "  0%|          | 0/80 [00:00<?, ?it/s]"
      ]
     },
     "metadata": {},
     "output_type": "display_data"
    },
    {
     "data": {
      "application/vnd.jupyter.widget-view+json": {
       "model_id": "f83655522c5a4ae1b39b373d7d683e0b",
       "version_major": 2,
       "version_minor": 0
      },
      "text/plain": [
       "  0%|          | 0/80 [00:00<?, ?it/s]"
      ]
     },
     "metadata": {},
     "output_type": "display_data"
    },
    {
     "data": {
      "application/vnd.jupyter.widget-view+json": {
       "model_id": "3bd8281bac684785b943dc78bf29e1e0",
       "version_major": 2,
       "version_minor": 0
      },
      "text/plain": [
       "  0%|          | 0/80 [00:00<?, ?it/s]"
      ]
     },
     "metadata": {},
     "output_type": "display_data"
    },
    {
     "data": {
      "application/vnd.jupyter.widget-view+json": {
       "model_id": "380e0c81b38041a686882730b12d83a5",
       "version_major": 2,
       "version_minor": 0
      },
      "text/plain": [
       "  0%|          | 0/80 [00:00<?, ?it/s]"
      ]
     },
     "metadata": {},
     "output_type": "display_data"
    },
    {
     "data": {
      "application/vnd.jupyter.widget-view+json": {
       "model_id": "0c280227f88342099a3ce98230c59802",
       "version_major": 2,
       "version_minor": 0
      },
      "text/plain": [
       "  0%|          | 0/80 [00:00<?, ?it/s]"
      ]
     },
     "metadata": {},
     "output_type": "display_data"
    },
    {
     "data": {
      "application/vnd.jupyter.widget-view+json": {
       "model_id": "e2d5970fa194416c9c1789b81e2f3eb0",
       "version_major": 2,
       "version_minor": 0
      },
      "text/plain": [
       "  0%|          | 0/80 [00:00<?, ?it/s]"
      ]
     },
     "metadata": {},
     "output_type": "display_data"
    },
    {
     "data": {
      "application/vnd.jupyter.widget-view+json": {
       "model_id": "a603e155c2cf4d3f83d8f02efa5d9156",
       "version_major": 2,
       "version_minor": 0
      },
      "text/plain": [
       "  0%|          | 0/80 [00:00<?, ?it/s]"
      ]
     },
     "metadata": {},
     "output_type": "display_data"
    },
    {
     "data": {
      "application/vnd.jupyter.widget-view+json": {
       "model_id": "5062331c7dc14503840793c6695c05ac",
       "version_major": 2,
       "version_minor": 0
      },
      "text/plain": [
       "  0%|          | 0/80 [00:00<?, ?it/s]"
      ]
     },
     "metadata": {},
     "output_type": "display_data"
    },
    {
     "data": {
      "application/vnd.jupyter.widget-view+json": {
       "model_id": "52c97ca786024a3c86c0bc753552243f",
       "version_major": 2,
       "version_minor": 0
      },
      "text/plain": [
       "  0%|          | 0/80 [00:00<?, ?it/s]"
      ]
     },
     "metadata": {},
     "output_type": "display_data"
    },
    {
     "data": {
      "application/vnd.jupyter.widget-view+json": {
       "model_id": "54141b19a4f3495ebe0aab9ea99f444f",
       "version_major": 2,
       "version_minor": 0
      },
      "text/plain": [
       "  0%|          | 0/80 [00:00<?, ?it/s]"
      ]
     },
     "metadata": {},
     "output_type": "display_data"
    },
    {
     "data": {
      "application/vnd.jupyter.widget-view+json": {
       "model_id": "e0f7ac5ca809491591c0f5afe8e6df2f",
       "version_major": 2,
       "version_minor": 0
      },
      "text/plain": [
       "  0%|          | 0/80 [00:00<?, ?it/s]"
      ]
     },
     "metadata": {},
     "output_type": "display_data"
    },
    {
     "data": {
      "application/vnd.jupyter.widget-view+json": {
       "model_id": "120f90cbca304570b32284020d1afded",
       "version_major": 2,
       "version_minor": 0
      },
      "text/plain": [
       "  0%|          | 0/80 [00:00<?, ?it/s]"
      ]
     },
     "metadata": {},
     "output_type": "display_data"
    },
    {
     "data": {
      "application/vnd.jupyter.widget-view+json": {
       "model_id": "35ffd968344649bab9a642d6e74b3479",
       "version_major": 2,
       "version_minor": 0
      },
      "text/plain": [
       "  0%|          | 0/80 [00:00<?, ?it/s]"
      ]
     },
     "metadata": {},
     "output_type": "display_data"
    },
    {
     "data": {
      "application/vnd.jupyter.widget-view+json": {
       "model_id": "06c749f2932b41579b611a070e62930b",
       "version_major": 2,
       "version_minor": 0
      },
      "text/plain": [
       "  0%|          | 0/80 [00:00<?, ?it/s]"
      ]
     },
     "metadata": {},
     "output_type": "display_data"
    },
    {
     "data": {
      "application/vnd.jupyter.widget-view+json": {
       "model_id": "409a0f4e50ab4e83bb96e997d031a9b3",
       "version_major": 2,
       "version_minor": 0
      },
      "text/plain": [
       "  0%|          | 0/80 [00:00<?, ?it/s]"
      ]
     },
     "metadata": {},
     "output_type": "display_data"
    },
    {
     "data": {
      "application/vnd.jupyter.widget-view+json": {
       "model_id": "357def99e1664d978e922a8801e0a7f8",
       "version_major": 2,
       "version_minor": 0
      },
      "text/plain": [
       "  0%|          | 0/80 [00:00<?, ?it/s]"
      ]
     },
     "metadata": {},
     "output_type": "display_data"
    },
    {
     "data": {
      "application/vnd.jupyter.widget-view+json": {
       "model_id": "18239caf57e54a01b13792524587e22d",
       "version_major": 2,
       "version_minor": 0
      },
      "text/plain": [
       "  0%|          | 0/80 [00:00<?, ?it/s]"
      ]
     },
     "metadata": {},
     "output_type": "display_data"
    },
    {
     "data": {
      "application/vnd.jupyter.widget-view+json": {
       "model_id": "d6a4e53f0e994fc5908cb784a07f2bae",
       "version_major": 2,
       "version_minor": 0
      },
      "text/plain": [
       "  0%|          | 0/80 [00:00<?, ?it/s]"
      ]
     },
     "metadata": {},
     "output_type": "display_data"
    },
    {
     "data": {
      "application/vnd.jupyter.widget-view+json": {
       "model_id": "0e76c3325ef04fa3a5a04ec94cab59f4",
       "version_major": 2,
       "version_minor": 0
      },
      "text/plain": [
       "  0%|          | 0/80 [00:00<?, ?it/s]"
      ]
     },
     "metadata": {},
     "output_type": "display_data"
    },
    {
     "data": {
      "application/vnd.jupyter.widget-view+json": {
       "model_id": "2b867562773e41b0a3d3cbf207cedbfa",
       "version_major": 2,
       "version_minor": 0
      },
      "text/plain": [
       "  0%|          | 0/80 [00:00<?, ?it/s]"
      ]
     },
     "metadata": {},
     "output_type": "display_data"
    },
    {
     "data": {
      "application/vnd.jupyter.widget-view+json": {
       "model_id": "b083eab91ca54bd38dc3f8f2e135d666",
       "version_major": 2,
       "version_minor": 0
      },
      "text/plain": [
       "  0%|          | 0/80 [00:00<?, ?it/s]"
      ]
     },
     "metadata": {},
     "output_type": "display_data"
    },
    {
     "data": {
      "application/vnd.jupyter.widget-view+json": {
       "model_id": "f0d9260e6cdc456ea1451fba95f3c7b2",
       "version_major": 2,
       "version_minor": 0
      },
      "text/plain": [
       "  0%|          | 0/80 [00:00<?, ?it/s]"
      ]
     },
     "metadata": {},
     "output_type": "display_data"
    },
    {
     "data": {
      "application/vnd.jupyter.widget-view+json": {
       "model_id": "1c4f8ed639bd42b48db31d34a57cfa82",
       "version_major": 2,
       "version_minor": 0
      },
      "text/plain": [
       "  0%|          | 0/80 [00:00<?, ?it/s]"
      ]
     },
     "metadata": {},
     "output_type": "display_data"
    },
    {
     "data": {
      "application/vnd.jupyter.widget-view+json": {
       "model_id": "5878c34c092848ebb839b6e14666a391",
       "version_major": 2,
       "version_minor": 0
      },
      "text/plain": [
       "  0%|          | 0/80 [00:00<?, ?it/s]"
      ]
     },
     "metadata": {},
     "output_type": "display_data"
    },
    {
     "data": {
      "application/vnd.jupyter.widget-view+json": {
       "model_id": "ba7308d4fe614275bfbda4a2c971453f",
       "version_major": 2,
       "version_minor": 0
      },
      "text/plain": [
       "  0%|          | 0/80 [00:00<?, ?it/s]"
      ]
     },
     "metadata": {},
     "output_type": "display_data"
    },
    {
     "data": {
      "application/vnd.jupyter.widget-view+json": {
       "model_id": "c7d67c64358d46e185c30420de783da4",
       "version_major": 2,
       "version_minor": 0
      },
      "text/plain": [
       "  0%|          | 0/80 [00:00<?, ?it/s]"
      ]
     },
     "metadata": {},
     "output_type": "display_data"
    },
    {
     "data": {
      "application/vnd.jupyter.widget-view+json": {
       "model_id": "c80d885e2eea4027aa93e7ed9f0b741b",
       "version_major": 2,
       "version_minor": 0
      },
      "text/plain": [
       "  0%|          | 0/80 [00:00<?, ?it/s]"
      ]
     },
     "metadata": {},
     "output_type": "display_data"
    },
    {
     "data": {
      "application/vnd.jupyter.widget-view+json": {
       "model_id": "9d0db605115949dea61b03e72b95c4da",
       "version_major": 2,
       "version_minor": 0
      },
      "text/plain": [
       "  0%|          | 0/80 [00:00<?, ?it/s]"
      ]
     },
     "metadata": {},
     "output_type": "display_data"
    },
    {
     "data": {
      "application/vnd.jupyter.widget-view+json": {
       "model_id": "91545ddcb0ff42efa5882048adbdd167",
       "version_major": 2,
       "version_minor": 0
      },
      "text/plain": [
       "  0%|          | 0/80 [00:00<?, ?it/s]"
      ]
     },
     "metadata": {},
     "output_type": "display_data"
    },
    {
     "data": {
      "application/vnd.jupyter.widget-view+json": {
       "model_id": "3bd9557c92ac42d7b0124bfd8b5c1534",
       "version_major": 2,
       "version_minor": 0
      },
      "text/plain": [
       "  0%|          | 0/80 [00:00<?, ?it/s]"
      ]
     },
     "metadata": {},
     "output_type": "display_data"
    },
    {
     "data": {
      "application/vnd.jupyter.widget-view+json": {
       "model_id": "a3690cd11e4a468291bde7bb12a841e8",
       "version_major": 2,
       "version_minor": 0
      },
      "text/plain": [
       "  0%|          | 0/80 [00:00<?, ?it/s]"
      ]
     },
     "metadata": {},
     "output_type": "display_data"
    },
    {
     "data": {
      "application/vnd.jupyter.widget-view+json": {
       "model_id": "8b82741e6af04d879009519f81bdd7c6",
       "version_major": 2,
       "version_minor": 0
      },
      "text/plain": [
       "  0%|          | 0/80 [00:00<?, ?it/s]"
      ]
     },
     "metadata": {},
     "output_type": "display_data"
    },
    {
     "data": {
      "application/vnd.jupyter.widget-view+json": {
       "model_id": "1c48730bbd944c70a18d68ef2d9cb220",
       "version_major": 2,
       "version_minor": 0
      },
      "text/plain": [
       "  0%|          | 0/80 [00:00<?, ?it/s]"
      ]
     },
     "metadata": {},
     "output_type": "display_data"
    },
    {
     "data": {
      "application/vnd.jupyter.widget-view+json": {
       "model_id": "2b359c8a3f8a48b4b6274078c3f42cf7",
       "version_major": 2,
       "version_minor": 0
      },
      "text/plain": [
       "  0%|          | 0/80 [00:00<?, ?it/s]"
      ]
     },
     "metadata": {},
     "output_type": "display_data"
    },
    {
     "data": {
      "application/vnd.jupyter.widget-view+json": {
       "model_id": "f0375085091249c9a832ae6691a336cd",
       "version_major": 2,
       "version_minor": 0
      },
      "text/plain": [
       "  0%|          | 0/80 [00:00<?, ?it/s]"
      ]
     },
     "metadata": {},
     "output_type": "display_data"
    },
    {
     "data": {
      "application/vnd.jupyter.widget-view+json": {
       "model_id": "484de7fed0b247798cd34f217db84399",
       "version_major": 2,
       "version_minor": 0
      },
      "text/plain": [
       "  0%|          | 0/80 [00:00<?, ?it/s]"
      ]
     },
     "metadata": {},
     "output_type": "display_data"
    },
    {
     "data": {
      "application/vnd.jupyter.widget-view+json": {
       "model_id": "a7a5793802264784a32ad8b1819701ca",
       "version_major": 2,
       "version_minor": 0
      },
      "text/plain": [
       "  0%|          | 0/80 [00:00<?, ?it/s]"
      ]
     },
     "metadata": {},
     "output_type": "display_data"
    },
    {
     "data": {
      "application/vnd.jupyter.widget-view+json": {
       "model_id": "42827132d41c499789c2da55836b1ec0",
       "version_major": 2,
       "version_minor": 0
      },
      "text/plain": [
       "  0%|          | 0/80 [00:00<?, ?it/s]"
      ]
     },
     "metadata": {},
     "output_type": "display_data"
    },
    {
     "data": {
      "application/vnd.jupyter.widget-view+json": {
       "model_id": "52e5aede7258443a80997db6e101e6fa",
       "version_major": 2,
       "version_minor": 0
      },
      "text/plain": [
       "  0%|          | 0/80 [00:00<?, ?it/s]"
      ]
     },
     "metadata": {},
     "output_type": "display_data"
    },
    {
     "data": {
      "application/vnd.jupyter.widget-view+json": {
       "model_id": "1b5a7805da024a73b4c759d04f05d1a0",
       "version_major": 2,
       "version_minor": 0
      },
      "text/plain": [
       "  0%|          | 0/80 [00:00<?, ?it/s]"
      ]
     },
     "metadata": {},
     "output_type": "display_data"
    },
    {
     "data": {
      "application/vnd.jupyter.widget-view+json": {
       "model_id": "6bab246493bc439b9f76b8bb85680275",
       "version_major": 2,
       "version_minor": 0
      },
      "text/plain": [
       "  0%|          | 0/80 [00:00<?, ?it/s]"
      ]
     },
     "metadata": {},
     "output_type": "display_data"
    },
    {
     "data": {
      "application/vnd.jupyter.widget-view+json": {
       "model_id": "300bc656339645e3ab63baa181f0a3ba",
       "version_major": 2,
       "version_minor": 0
      },
      "text/plain": [
       "  0%|          | 0/80 [00:00<?, ?it/s]"
      ]
     },
     "metadata": {},
     "output_type": "display_data"
    },
    {
     "data": {
      "application/vnd.jupyter.widget-view+json": {
       "model_id": "9afaf2e4a8504860aba248e5fedb7314",
       "version_major": 2,
       "version_minor": 0
      },
      "text/plain": [
       "  0%|          | 0/80 [00:00<?, ?it/s]"
      ]
     },
     "metadata": {},
     "output_type": "display_data"
    },
    {
     "data": {
      "application/vnd.jupyter.widget-view+json": {
       "model_id": "0d922946fc30488da27d8eee3ea4ef3b",
       "version_major": 2,
       "version_minor": 0
      },
      "text/plain": [
       "  0%|          | 0/80 [00:00<?, ?it/s]"
      ]
     },
     "metadata": {},
     "output_type": "display_data"
    },
    {
     "data": {
      "application/vnd.jupyter.widget-view+json": {
       "model_id": "cd29420ab1164bd098ad0aa5ecdd8c26",
       "version_major": 2,
       "version_minor": 0
      },
      "text/plain": [
       "  0%|          | 0/80 [00:00<?, ?it/s]"
      ]
     },
     "metadata": {},
     "output_type": "display_data"
    },
    {
     "data": {
      "application/vnd.jupyter.widget-view+json": {
       "model_id": "826fb1102af040f58d9842e6b120cb2b",
       "version_major": 2,
       "version_minor": 0
      },
      "text/plain": [
       "  0%|          | 0/80 [00:00<?, ?it/s]"
      ]
     },
     "metadata": {},
     "output_type": "display_data"
    },
    {
     "data": {
      "application/vnd.jupyter.widget-view+json": {
       "model_id": "15389cdae56d401dbc8fc4409ba6a9e5",
       "version_major": 2,
       "version_minor": 0
      },
      "text/plain": [
       "  0%|          | 0/80 [00:00<?, ?it/s]"
      ]
     },
     "metadata": {},
     "output_type": "display_data"
    },
    {
     "data": {
      "application/vnd.jupyter.widget-view+json": {
       "model_id": "65e08724381b45f1981a1bfe8c282cd7",
       "version_major": 2,
       "version_minor": 0
      },
      "text/plain": [
       "  0%|          | 0/80 [00:00<?, ?it/s]"
      ]
     },
     "metadata": {},
     "output_type": "display_data"
    },
    {
     "data": {
      "application/vnd.jupyter.widget-view+json": {
       "model_id": "1099cba09dea4d18a7df1d1fc64d17a4",
       "version_major": 2,
       "version_minor": 0
      },
      "text/plain": [
       "  0%|          | 0/80 [00:00<?, ?it/s]"
      ]
     },
     "metadata": {},
     "output_type": "display_data"
    },
    {
     "data": {
      "application/vnd.jupyter.widget-view+json": {
       "model_id": "41dab8dba6274d8ea56fcb23c804c479",
       "version_major": 2,
       "version_minor": 0
      },
      "text/plain": [
       "  0%|          | 0/80 [00:00<?, ?it/s]"
      ]
     },
     "metadata": {},
     "output_type": "display_data"
    },
    {
     "data": {
      "application/vnd.jupyter.widget-view+json": {
       "model_id": "6748086b9b5c4d448088533cfc9a8fd8",
       "version_major": 2,
       "version_minor": 0
      },
      "text/plain": [
       "  0%|          | 0/80 [00:00<?, ?it/s]"
      ]
     },
     "metadata": {},
     "output_type": "display_data"
    },
    {
     "data": {
      "application/vnd.jupyter.widget-view+json": {
       "model_id": "1284d034e58b4374bc0e18ee1ce55680",
       "version_major": 2,
       "version_minor": 0
      },
      "text/plain": [
       "  0%|          | 0/80 [00:00<?, ?it/s]"
      ]
     },
     "metadata": {},
     "output_type": "display_data"
    },
    {
     "data": {
      "application/vnd.jupyter.widget-view+json": {
       "model_id": "cf842d75dec24308b83825da69d11c7a",
       "version_major": 2,
       "version_minor": 0
      },
      "text/plain": [
       "  0%|          | 0/80 [00:00<?, ?it/s]"
      ]
     },
     "metadata": {},
     "output_type": "display_data"
    },
    {
     "data": {
      "application/vnd.jupyter.widget-view+json": {
       "model_id": "e9749e4f1c514abf8e15bf28a2d4384c",
       "version_major": 2,
       "version_minor": 0
      },
      "text/plain": [
       "  0%|          | 0/80 [00:00<?, ?it/s]"
      ]
     },
     "metadata": {},
     "output_type": "display_data"
    },
    {
     "data": {
      "application/vnd.jupyter.widget-view+json": {
       "model_id": "f9e786696e3a48008e07d839c5bda8f5",
       "version_major": 2,
       "version_minor": 0
      },
      "text/plain": [
       "  0%|          | 0/80 [00:00<?, ?it/s]"
      ]
     },
     "metadata": {},
     "output_type": "display_data"
    },
    {
     "data": {
      "application/vnd.jupyter.widget-view+json": {
       "model_id": "4c02110c417e4cfbb94442426ce96b33",
       "version_major": 2,
       "version_minor": 0
      },
      "text/plain": [
       "  0%|          | 0/80 [00:00<?, ?it/s]"
      ]
     },
     "metadata": {},
     "output_type": "display_data"
    },
    {
     "data": {
      "application/vnd.jupyter.widget-view+json": {
       "model_id": "faa9d201e15748aea35d0dff15f4c1a7",
       "version_major": 2,
       "version_minor": 0
      },
      "text/plain": [
       "  0%|          | 0/80 [00:00<?, ?it/s]"
      ]
     },
     "metadata": {},
     "output_type": "display_data"
    },
    {
     "data": {
      "application/vnd.jupyter.widget-view+json": {
       "model_id": "293c7165ce11474ebd936872ff19e507",
       "version_major": 2,
       "version_minor": 0
      },
      "text/plain": [
       "  0%|          | 0/80 [00:00<?, ?it/s]"
      ]
     },
     "metadata": {},
     "output_type": "display_data"
    },
    {
     "data": {
      "application/vnd.jupyter.widget-view+json": {
       "model_id": "96404785ef6b4ae98b4e83afee72dff9",
       "version_major": 2,
       "version_minor": 0
      },
      "text/plain": [
       "  0%|          | 0/80 [00:00<?, ?it/s]"
      ]
     },
     "metadata": {},
     "output_type": "display_data"
    },
    {
     "data": {
      "application/vnd.jupyter.widget-view+json": {
       "model_id": "791c4e6741bc45ada960e5992a6c0843",
       "version_major": 2,
       "version_minor": 0
      },
      "text/plain": [
       "  0%|          | 0/80 [00:00<?, ?it/s]"
      ]
     },
     "metadata": {},
     "output_type": "display_data"
    },
    {
     "data": {
      "application/vnd.jupyter.widget-view+json": {
       "model_id": "04e88086395740ad937c052a78d5669d",
       "version_major": 2,
       "version_minor": 0
      },
      "text/plain": [
       "  0%|          | 0/80 [00:00<?, ?it/s]"
      ]
     },
     "metadata": {},
     "output_type": "display_data"
    },
    {
     "data": {
      "application/vnd.jupyter.widget-view+json": {
       "model_id": "612972cdbc3f44779ca62cc365702a5e",
       "version_major": 2,
       "version_minor": 0
      },
      "text/plain": [
       "  0%|          | 0/80 [00:00<?, ?it/s]"
      ]
     },
     "metadata": {},
     "output_type": "display_data"
    },
    {
     "data": {
      "application/vnd.jupyter.widget-view+json": {
       "model_id": "c78e8dadbdf948db9156e9d351f15fc3",
       "version_major": 2,
       "version_minor": 0
      },
      "text/plain": [
       "  0%|          | 0/80 [00:00<?, ?it/s]"
      ]
     },
     "metadata": {},
     "output_type": "display_data"
    },
    {
     "data": {
      "application/vnd.jupyter.widget-view+json": {
       "model_id": "2dd7a925978a46e5a99d66b10939aab1",
       "version_major": 2,
       "version_minor": 0
      },
      "text/plain": [
       "  0%|          | 0/80 [00:00<?, ?it/s]"
      ]
     },
     "metadata": {},
     "output_type": "display_data"
    },
    {
     "data": {
      "application/vnd.jupyter.widget-view+json": {
       "model_id": "d04fb65fd90d4052b195bfee16947ca7",
       "version_major": 2,
       "version_minor": 0
      },
      "text/plain": [
       "  0%|          | 0/80 [00:00<?, ?it/s]"
      ]
     },
     "metadata": {},
     "output_type": "display_data"
    },
    {
     "data": {
      "application/vnd.jupyter.widget-view+json": {
       "model_id": "7026270a433e46428ea0e58025c13c14",
       "version_major": 2,
       "version_minor": 0
      },
      "text/plain": [
       "  0%|          | 0/80 [00:00<?, ?it/s]"
      ]
     },
     "metadata": {},
     "output_type": "display_data"
    },
    {
     "data": {
      "application/vnd.jupyter.widget-view+json": {
       "model_id": "c43a60e017fb49a38b93fb956bfc8325",
       "version_major": 2,
       "version_minor": 0
      },
      "text/plain": [
       "  0%|          | 0/80 [00:00<?, ?it/s]"
      ]
     },
     "metadata": {},
     "output_type": "display_data"
    },
    {
     "data": {
      "application/vnd.jupyter.widget-view+json": {
       "model_id": "89b0e64e849b46668c3564131a018ca6",
       "version_major": 2,
       "version_minor": 0
      },
      "text/plain": [
       "  0%|          | 0/80 [00:00<?, ?it/s]"
      ]
     },
     "metadata": {},
     "output_type": "display_data"
    },
    {
     "data": {
      "application/vnd.jupyter.widget-view+json": {
       "model_id": "2452123f84f44f389c7adea91d0e5fb0",
       "version_major": 2,
       "version_minor": 0
      },
      "text/plain": [
       "  0%|          | 0/80 [00:00<?, ?it/s]"
      ]
     },
     "metadata": {},
     "output_type": "display_data"
    },
    {
     "data": {
      "application/vnd.jupyter.widget-view+json": {
       "model_id": "0be072dab9c64ccfb845433b4e61e29d",
       "version_major": 2,
       "version_minor": 0
      },
      "text/plain": [
       "  0%|          | 0/80 [00:00<?, ?it/s]"
      ]
     },
     "metadata": {},
     "output_type": "display_data"
    },
    {
     "data": {
      "application/vnd.jupyter.widget-view+json": {
       "model_id": "10d1397a0abb49759b3d99151cb4a21d",
       "version_major": 2,
       "version_minor": 0
      },
      "text/plain": [
       "  0%|          | 0/80 [00:00<?, ?it/s]"
      ]
     },
     "metadata": {},
     "output_type": "display_data"
    },
    {
     "data": {
      "application/vnd.jupyter.widget-view+json": {
       "model_id": "eddb6a63295e4644966a1d4ff39e17b7",
       "version_major": 2,
       "version_minor": 0
      },
      "text/plain": [
       "  0%|          | 0/80 [00:00<?, ?it/s]"
      ]
     },
     "metadata": {},
     "output_type": "display_data"
    },
    {
     "data": {
      "application/vnd.jupyter.widget-view+json": {
       "model_id": "9a3198a4d8a943109b84fa210a51cd9a",
       "version_major": 2,
       "version_minor": 0
      },
      "text/plain": [
       "  0%|          | 0/80 [00:00<?, ?it/s]"
      ]
     },
     "metadata": {},
     "output_type": "display_data"
    },
    {
     "data": {
      "application/vnd.jupyter.widget-view+json": {
       "model_id": "bb9eb516caeb40a7b3cb3aa71e24df75",
       "version_major": 2,
       "version_minor": 0
      },
      "text/plain": [
       "  0%|          | 0/80 [00:00<?, ?it/s]"
      ]
     },
     "metadata": {},
     "output_type": "display_data"
    },
    {
     "data": {
      "application/vnd.jupyter.widget-view+json": {
       "model_id": "7982601a9a04434f89c92c18f44fb0ca",
       "version_major": 2,
       "version_minor": 0
      },
      "text/plain": [
       "  0%|          | 0/80 [00:00<?, ?it/s]"
      ]
     },
     "metadata": {},
     "output_type": "display_data"
    },
    {
     "data": {
      "application/vnd.jupyter.widget-view+json": {
       "model_id": "1bc4b32fa58f4872b33e7f241e0e54eb",
       "version_major": 2,
       "version_minor": 0
      },
      "text/plain": [
       "  0%|          | 0/80 [00:00<?, ?it/s]"
      ]
     },
     "metadata": {},
     "output_type": "display_data"
    },
    {
     "data": {
      "application/vnd.jupyter.widget-view+json": {
       "model_id": "76579d3e6fb0429f8fdd3e263c322105",
       "version_major": 2,
       "version_minor": 0
      },
      "text/plain": [
       "  0%|          | 0/80 [00:00<?, ?it/s]"
      ]
     },
     "metadata": {},
     "output_type": "display_data"
    },
    {
     "data": {
      "application/vnd.jupyter.widget-view+json": {
       "model_id": "69202540703841a5bbe4c53addc61ca4",
       "version_major": 2,
       "version_minor": 0
      },
      "text/plain": [
       "  0%|          | 0/80 [00:00<?, ?it/s]"
      ]
     },
     "metadata": {},
     "output_type": "display_data"
    },
    {
     "data": {
      "application/vnd.jupyter.widget-view+json": {
       "model_id": "c7781620f59f44669098be956f2ad305",
       "version_major": 2,
       "version_minor": 0
      },
      "text/plain": [
       "  0%|          | 0/80 [00:00<?, ?it/s]"
      ]
     },
     "metadata": {},
     "output_type": "display_data"
    },
    {
     "data": {
      "application/vnd.jupyter.widget-view+json": {
       "model_id": "0c1a572f1b7642a0a6b3a218c4a190ea",
       "version_major": 2,
       "version_minor": 0
      },
      "text/plain": [
       "  0%|          | 0/80 [00:00<?, ?it/s]"
      ]
     },
     "metadata": {},
     "output_type": "display_data"
    },
    {
     "data": {
      "application/vnd.jupyter.widget-view+json": {
       "model_id": "693b3342af0442ca866c106276c1123a",
       "version_major": 2,
       "version_minor": 0
      },
      "text/plain": [
       "  0%|          | 0/80 [00:00<?, ?it/s]"
      ]
     },
     "metadata": {},
     "output_type": "display_data"
    },
    {
     "data": {
      "application/vnd.jupyter.widget-view+json": {
       "model_id": "2ebfc6fe2d4d4d348098f45a0f361bf4",
       "version_major": 2,
       "version_minor": 0
      },
      "text/plain": [
       "  0%|          | 0/80 [00:00<?, ?it/s]"
      ]
     },
     "metadata": {},
     "output_type": "display_data"
    },
    {
     "data": {
      "application/vnd.jupyter.widget-view+json": {
       "model_id": "7d96735a65dc40f2930038d0d611ef93",
       "version_major": 2,
       "version_minor": 0
      },
      "text/plain": [
       "  0%|          | 0/80 [00:00<?, ?it/s]"
      ]
     },
     "metadata": {},
     "output_type": "display_data"
    },
    {
     "data": {
      "application/vnd.jupyter.widget-view+json": {
       "model_id": "906ef3ad55184714bed1b86d6ab8f313",
       "version_major": 2,
       "version_minor": 0
      },
      "text/plain": [
       "  0%|          | 0/80 [00:00<?, ?it/s]"
      ]
     },
     "metadata": {},
     "output_type": "display_data"
    },
    {
     "data": {
      "application/vnd.jupyter.widget-view+json": {
       "model_id": "b30f60f4f8a64ab68a2f0f65de71d84d",
       "version_major": 2,
       "version_minor": 0
      },
      "text/plain": [
       "  0%|          | 0/80 [00:00<?, ?it/s]"
      ]
     },
     "metadata": {},
     "output_type": "display_data"
    },
    {
     "data": {
      "application/vnd.jupyter.widget-view+json": {
       "model_id": "f4f825401d6e43c996dc3fd49255013e",
       "version_major": 2,
       "version_minor": 0
      },
      "text/plain": [
       "  0%|          | 0/80 [00:00<?, ?it/s]"
      ]
     },
     "metadata": {},
     "output_type": "display_data"
    },
    {
     "data": {
      "application/vnd.jupyter.widget-view+json": {
       "model_id": "11fd245f4c8548d2b74ca2d18b12a7e9",
       "version_major": 2,
       "version_minor": 0
      },
      "text/plain": [
       "  0%|          | 0/80 [00:00<?, ?it/s]"
      ]
     },
     "metadata": {},
     "output_type": "display_data"
    },
    {
     "data": {
      "application/vnd.jupyter.widget-view+json": {
       "model_id": "35278aef9c874dc0bcb5fadb90b2ae89",
       "version_major": 2,
       "version_minor": 0
      },
      "text/plain": [
       "  0%|          | 0/80 [00:00<?, ?it/s]"
      ]
     },
     "metadata": {},
     "output_type": "display_data"
    },
    {
     "data": {
      "application/vnd.jupyter.widget-view+json": {
       "model_id": "4572135696c04528ad713b1389c1ebb1",
       "version_major": 2,
       "version_minor": 0
      },
      "text/plain": [
       "  0%|          | 0/80 [00:00<?, ?it/s]"
      ]
     },
     "metadata": {},
     "output_type": "display_data"
    },
    {
     "data": {
      "application/vnd.jupyter.widget-view+json": {
       "model_id": "19c240e2b9274bcdb5222a44494a06aa",
       "version_major": 2,
       "version_minor": 0
      },
      "text/plain": [
       "  0%|          | 0/80 [00:00<?, ?it/s]"
      ]
     },
     "metadata": {},
     "output_type": "display_data"
    },
    {
     "data": {
      "application/vnd.jupyter.widget-view+json": {
       "model_id": "75693e5e934f478698b2f2f071852258",
       "version_major": 2,
       "version_minor": 0
      },
      "text/plain": [
       "  0%|          | 0/80 [00:00<?, ?it/s]"
      ]
     },
     "metadata": {},
     "output_type": "display_data"
    },
    {
     "data": {
      "application/vnd.jupyter.widget-view+json": {
       "model_id": "7032ef46ccac436cb3aa5894ef15f587",
       "version_major": 2,
       "version_minor": 0
      },
      "text/plain": [
       "  0%|          | 0/80 [00:00<?, ?it/s]"
      ]
     },
     "metadata": {},
     "output_type": "display_data"
    },
    {
     "data": {
      "application/vnd.jupyter.widget-view+json": {
       "model_id": "770a8ef83d1d4ae8b6b4b62ca6f6af2e",
       "version_major": 2,
       "version_minor": 0
      },
      "text/plain": [
       "  0%|          | 0/80 [00:00<?, ?it/s]"
      ]
     },
     "metadata": {},
     "output_type": "display_data"
    },
    {
     "data": {
      "application/vnd.jupyter.widget-view+json": {
       "model_id": "37a6cfbafd9c4238a789c180b2f4765d",
       "version_major": 2,
       "version_minor": 0
      },
      "text/plain": [
       "  0%|          | 0/80 [00:00<?, ?it/s]"
      ]
     },
     "metadata": {},
     "output_type": "display_data"
    },
    {
     "data": {
      "application/vnd.jupyter.widget-view+json": {
       "model_id": "03d1073ff82644e48a7b4a5ee132eec1",
       "version_major": 2,
       "version_minor": 0
      },
      "text/plain": [
       "  0%|          | 0/80 [00:00<?, ?it/s]"
      ]
     },
     "metadata": {},
     "output_type": "display_data"
    },
    {
     "data": {
      "application/vnd.jupyter.widget-view+json": {
       "model_id": "4bbe7de649fe4ed98c004293c2d8d31b",
       "version_major": 2,
       "version_minor": 0
      },
      "text/plain": [
       "  0%|          | 0/80 [00:00<?, ?it/s]"
      ]
     },
     "metadata": {},
     "output_type": "display_data"
    },
    {
     "data": {
      "application/vnd.jupyter.widget-view+json": {
       "model_id": "e4424c8e866845bb9abfe54a4a7e5aee",
       "version_major": 2,
       "version_minor": 0
      },
      "text/plain": [
       "  0%|          | 0/80 [00:00<?, ?it/s]"
      ]
     },
     "metadata": {},
     "output_type": "display_data"
    },
    {
     "data": {
      "application/vnd.jupyter.widget-view+json": {
       "model_id": "907ba9c1731c47ca8d09365d256841be",
       "version_major": 2,
       "version_minor": 0
      },
      "text/plain": [
       "  0%|          | 0/80 [00:00<?, ?it/s]"
      ]
     },
     "metadata": {},
     "output_type": "display_data"
    },
    {
     "data": {
      "application/vnd.jupyter.widget-view+json": {
       "model_id": "5f46adeaac04444386976148b59b424e",
       "version_major": 2,
       "version_minor": 0
      },
      "text/plain": [
       "  0%|          | 0/80 [00:00<?, ?it/s]"
      ]
     },
     "metadata": {},
     "output_type": "display_data"
    },
    {
     "data": {
      "application/vnd.jupyter.widget-view+json": {
       "model_id": "8a5b9b29a4b24044946569b930a1b3b3",
       "version_major": 2,
       "version_minor": 0
      },
      "text/plain": [
       "  0%|          | 0/80 [00:00<?, ?it/s]"
      ]
     },
     "metadata": {},
     "output_type": "display_data"
    },
    {
     "data": {
      "application/vnd.jupyter.widget-view+json": {
       "model_id": "d6fd7430b13c4716a5a7286f4afae4f7",
       "version_major": 2,
       "version_minor": 0
      },
      "text/plain": [
       "  0%|          | 0/80 [00:00<?, ?it/s]"
      ]
     },
     "metadata": {},
     "output_type": "display_data"
    },
    {
     "data": {
      "application/vnd.jupyter.widget-view+json": {
       "model_id": "67c202d0f9d146d88c8a9d339da1be71",
       "version_major": 2,
       "version_minor": 0
      },
      "text/plain": [
       "  0%|          | 0/80 [00:00<?, ?it/s]"
      ]
     },
     "metadata": {},
     "output_type": "display_data"
    },
    {
     "data": {
      "application/vnd.jupyter.widget-view+json": {
       "model_id": "b2668544a5464400a2af0ab11e30069e",
       "version_major": 2,
       "version_minor": 0
      },
      "text/plain": [
       "  0%|          | 0/80 [00:00<?, ?it/s]"
      ]
     },
     "metadata": {},
     "output_type": "display_data"
    },
    {
     "data": {
      "application/vnd.jupyter.widget-view+json": {
       "model_id": "73118f9fe5044dc38940bc1afc1d3820",
       "version_major": 2,
       "version_minor": 0
      },
      "text/plain": [
       "  0%|          | 0/80 [00:00<?, ?it/s]"
      ]
     },
     "metadata": {},
     "output_type": "display_data"
    },
    {
     "data": {
      "application/vnd.jupyter.widget-view+json": {
       "model_id": "0c15f684e8b04ad0a9e3bd0456ff9639",
       "version_major": 2,
       "version_minor": 0
      },
      "text/plain": [
       "  0%|          | 0/80 [00:00<?, ?it/s]"
      ]
     },
     "metadata": {},
     "output_type": "display_data"
    },
    {
     "data": {
      "application/vnd.jupyter.widget-view+json": {
       "model_id": "d21478d6f7a44d69a8ee8d4f99d5b717",
       "version_major": 2,
       "version_minor": 0
      },
      "text/plain": [
       "  0%|          | 0/80 [00:00<?, ?it/s]"
      ]
     },
     "metadata": {},
     "output_type": "display_data"
    },
    {
     "data": {
      "application/vnd.jupyter.widget-view+json": {
       "model_id": "cb50ce4d4f0f4f02bb76632eb03f91eb",
       "version_major": 2,
       "version_minor": 0
      },
      "text/plain": [
       "  0%|          | 0/80 [00:00<?, ?it/s]"
      ]
     },
     "metadata": {},
     "output_type": "display_data"
    },
    {
     "data": {
      "application/vnd.jupyter.widget-view+json": {
       "model_id": "d8e8b9cf3958470db58f40a3345fb182",
       "version_major": 2,
       "version_minor": 0
      },
      "text/plain": [
       "  0%|          | 0/80 [00:00<?, ?it/s]"
      ]
     },
     "metadata": {},
     "output_type": "display_data"
    },
    {
     "data": {
      "application/vnd.jupyter.widget-view+json": {
       "model_id": "b38a94dfc7534d539bca1fc2f55ae472",
       "version_major": 2,
       "version_minor": 0
      },
      "text/plain": [
       "  0%|          | 0/80 [00:00<?, ?it/s]"
      ]
     },
     "metadata": {},
     "output_type": "display_data"
    },
    {
     "data": {
      "application/vnd.jupyter.widget-view+json": {
       "model_id": "8ad0e991a7504f5c874ce05d33646a6b",
       "version_major": 2,
       "version_minor": 0
      },
      "text/plain": [
       "  0%|          | 0/80 [00:00<?, ?it/s]"
      ]
     },
     "metadata": {},
     "output_type": "display_data"
    },
    {
     "data": {
      "application/vnd.jupyter.widget-view+json": {
       "model_id": "5d9e16b8f73e457487d60d0a7ca0e619",
       "version_major": 2,
       "version_minor": 0
      },
      "text/plain": [
       "  0%|          | 0/80 [00:00<?, ?it/s]"
      ]
     },
     "metadata": {},
     "output_type": "display_data"
    },
    {
     "data": {
      "application/vnd.jupyter.widget-view+json": {
       "model_id": "10773810f7f348e786091bfdcbdb49a3",
       "version_major": 2,
       "version_minor": 0
      },
      "text/plain": [
       "  0%|          | 0/80 [00:00<?, ?it/s]"
      ]
     },
     "metadata": {},
     "output_type": "display_data"
    },
    {
     "data": {
      "application/vnd.jupyter.widget-view+json": {
       "model_id": "328643de98bb49a3b7f0b50534700c4b",
       "version_major": 2,
       "version_minor": 0
      },
      "text/plain": [
       "  0%|          | 0/80 [00:00<?, ?it/s]"
      ]
     },
     "metadata": {},
     "output_type": "display_data"
    },
    {
     "data": {
      "application/vnd.jupyter.widget-view+json": {
       "model_id": "a2ba5e3eec0949398a0a9d2585a1b084",
       "version_major": 2,
       "version_minor": 0
      },
      "text/plain": [
       "  0%|          | 0/80 [00:00<?, ?it/s]"
      ]
     },
     "metadata": {},
     "output_type": "display_data"
    },
    {
     "data": {
      "application/vnd.jupyter.widget-view+json": {
       "model_id": "f5ffa5b6ecca4a3298bb3708d304dc5d",
       "version_major": 2,
       "version_minor": 0
      },
      "text/plain": [
       "  0%|          | 0/80 [00:00<?, ?it/s]"
      ]
     },
     "metadata": {},
     "output_type": "display_data"
    },
    {
     "data": {
      "application/vnd.jupyter.widget-view+json": {
       "model_id": "671518f476dc4f4da369610e7b299120",
       "version_major": 2,
       "version_minor": 0
      },
      "text/plain": [
       "  0%|          | 0/80 [00:00<?, ?it/s]"
      ]
     },
     "metadata": {},
     "output_type": "display_data"
    },
    {
     "data": {
      "application/vnd.jupyter.widget-view+json": {
       "model_id": "4962b7ec00d84826982274521d297796",
       "version_major": 2,
       "version_minor": 0
      },
      "text/plain": [
       "  0%|          | 0/80 [00:00<?, ?it/s]"
      ]
     },
     "metadata": {},
     "output_type": "display_data"
    },
    {
     "data": {
      "application/vnd.jupyter.widget-view+json": {
       "model_id": "9bd58cc25b124bb79ff9008c7800bce7",
       "version_major": 2,
       "version_minor": 0
      },
      "text/plain": [
       "  0%|          | 0/80 [00:00<?, ?it/s]"
      ]
     },
     "metadata": {},
     "output_type": "display_data"
    },
    {
     "data": {
      "application/vnd.jupyter.widget-view+json": {
       "model_id": "7c79c37b54734311a0ad2f3fede68b1c",
       "version_major": 2,
       "version_minor": 0
      },
      "text/plain": [
       "  0%|          | 0/80 [00:00<?, ?it/s]"
      ]
     },
     "metadata": {},
     "output_type": "display_data"
    },
    {
     "data": {
      "application/vnd.jupyter.widget-view+json": {
       "model_id": "9f490174b5c54b1a92682245877232c1",
       "version_major": 2,
       "version_minor": 0
      },
      "text/plain": [
       "  0%|          | 0/80 [00:00<?, ?it/s]"
      ]
     },
     "metadata": {},
     "output_type": "display_data"
    },
    {
     "data": {
      "application/vnd.jupyter.widget-view+json": {
       "model_id": "79c49ecaac9b428ba383af21f13d482e",
       "version_major": 2,
       "version_minor": 0
      },
      "text/plain": [
       "  0%|          | 0/80 [00:00<?, ?it/s]"
      ]
     },
     "metadata": {},
     "output_type": "display_data"
    },
    {
     "data": {
      "application/vnd.jupyter.widget-view+json": {
       "model_id": "29f390d673a04aa3b403ccd58a65b2cc",
       "version_major": 2,
       "version_minor": 0
      },
      "text/plain": [
       "  0%|          | 0/80 [00:00<?, ?it/s]"
      ]
     },
     "metadata": {},
     "output_type": "display_data"
    },
    {
     "data": {
      "application/vnd.jupyter.widget-view+json": {
       "model_id": "a54609aef9a042d99d03bcb0cb63233d",
       "version_major": 2,
       "version_minor": 0
      },
      "text/plain": [
       "  0%|          | 0/80 [00:00<?, ?it/s]"
      ]
     },
     "metadata": {},
     "output_type": "display_data"
    },
    {
     "data": {
      "application/vnd.jupyter.widget-view+json": {
       "model_id": "1f8469b2d6dd41019be5be25549c3cfd",
       "version_major": 2,
       "version_minor": 0
      },
      "text/plain": [
       "  0%|          | 0/80 [00:00<?, ?it/s]"
      ]
     },
     "metadata": {},
     "output_type": "display_data"
    },
    {
     "data": {
      "application/vnd.jupyter.widget-view+json": {
       "model_id": "bfdbf6fbe37845a189e1b9f0b3d08d59",
       "version_major": 2,
       "version_minor": 0
      },
      "text/plain": [
       "  0%|          | 0/80 [00:00<?, ?it/s]"
      ]
     },
     "metadata": {},
     "output_type": "display_data"
    },
    {
     "data": {
      "application/vnd.jupyter.widget-view+json": {
       "model_id": "e67786c7fa8c4a4bba141fb0de000218",
       "version_major": 2,
       "version_minor": 0
      },
      "text/plain": [
       "  0%|          | 0/80 [00:00<?, ?it/s]"
      ]
     },
     "metadata": {},
     "output_type": "display_data"
    },
    {
     "data": {
      "application/vnd.jupyter.widget-view+json": {
       "model_id": "c1c388f1c2994b0fa3f6d491b406a27d",
       "version_major": 2,
       "version_minor": 0
      },
      "text/plain": [
       "  0%|          | 0/80 [00:00<?, ?it/s]"
      ]
     },
     "metadata": {},
     "output_type": "display_data"
    },
    {
     "data": {
      "application/vnd.jupyter.widget-view+json": {
       "model_id": "5af1475f8f174b5293456e198b83bdb6",
       "version_major": 2,
       "version_minor": 0
      },
      "text/plain": [
       "  0%|          | 0/80 [00:00<?, ?it/s]"
      ]
     },
     "metadata": {},
     "output_type": "display_data"
    },
    {
     "data": {
      "application/vnd.jupyter.widget-view+json": {
       "model_id": "bfe1651c069f402d8c3b6d8c1aaa680d",
       "version_major": 2,
       "version_minor": 0
      },
      "text/plain": [
       "  0%|          | 0/80 [00:00<?, ?it/s]"
      ]
     },
     "metadata": {},
     "output_type": "display_data"
    },
    {
     "data": {
      "application/vnd.jupyter.widget-view+json": {
       "model_id": "ffc179c3d65b4991b20ca2766d78c08b",
       "version_major": 2,
       "version_minor": 0
      },
      "text/plain": [
       "  0%|          | 0/80 [00:00<?, ?it/s]"
      ]
     },
     "metadata": {},
     "output_type": "display_data"
    },
    {
     "data": {
      "application/vnd.jupyter.widget-view+json": {
       "model_id": "fa211524ff8a41b282bae327a9d817b2",
       "version_major": 2,
       "version_minor": 0
      },
      "text/plain": [
       "  0%|          | 0/80 [00:00<?, ?it/s]"
      ]
     },
     "metadata": {},
     "output_type": "display_data"
    },
    {
     "data": {
      "application/vnd.jupyter.widget-view+json": {
       "model_id": "68d2b7a1b08c4fcf9cb2ccd328a59742",
       "version_major": 2,
       "version_minor": 0
      },
      "text/plain": [
       "  0%|          | 0/80 [00:00<?, ?it/s]"
      ]
     },
     "metadata": {},
     "output_type": "display_data"
    },
    {
     "data": {
      "application/vnd.jupyter.widget-view+json": {
       "model_id": "dcb4040183654dac87255bdf4c9c12fd",
       "version_major": 2,
       "version_minor": 0
      },
      "text/plain": [
       "  0%|          | 0/80 [00:00<?, ?it/s]"
      ]
     },
     "metadata": {},
     "output_type": "display_data"
    },
    {
     "data": {
      "application/vnd.jupyter.widget-view+json": {
       "model_id": "a6ca84d64ab44d75a571b4933e5c2990",
       "version_major": 2,
       "version_minor": 0
      },
      "text/plain": [
       "  0%|          | 0/80 [00:00<?, ?it/s]"
      ]
     },
     "metadata": {},
     "output_type": "display_data"
    },
    {
     "data": {
      "application/vnd.jupyter.widget-view+json": {
       "model_id": "942631a603534da99447b3b185e1c8f9",
       "version_major": 2,
       "version_minor": 0
      },
      "text/plain": [
       "  0%|          | 0/80 [00:00<?, ?it/s]"
      ]
     },
     "metadata": {},
     "output_type": "display_data"
    },
    {
     "data": {
      "application/vnd.jupyter.widget-view+json": {
       "model_id": "8defbbf7d2254bf5ae270a2d956debe7",
       "version_major": 2,
       "version_minor": 0
      },
      "text/plain": [
       "  0%|          | 0/80 [00:00<?, ?it/s]"
      ]
     },
     "metadata": {},
     "output_type": "display_data"
    },
    {
     "data": {
      "application/vnd.jupyter.widget-view+json": {
       "model_id": "a8b04f4890b344d7b793da790bc67974",
       "version_major": 2,
       "version_minor": 0
      },
      "text/plain": [
       "  0%|          | 0/80 [00:00<?, ?it/s]"
      ]
     },
     "metadata": {},
     "output_type": "display_data"
    },
    {
     "data": {
      "application/vnd.jupyter.widget-view+json": {
       "model_id": "949eebfd6047458aa1d37d34cef5974f",
       "version_major": 2,
       "version_minor": 0
      },
      "text/plain": [
       "  0%|          | 0/80 [00:00<?, ?it/s]"
      ]
     },
     "metadata": {},
     "output_type": "display_data"
    },
    {
     "data": {
      "application/vnd.jupyter.widget-view+json": {
       "model_id": "6efad8d48e0b4dee8089686a962af769",
       "version_major": 2,
       "version_minor": 0
      },
      "text/plain": [
       "  0%|          | 0/80 [00:00<?, ?it/s]"
      ]
     },
     "metadata": {},
     "output_type": "display_data"
    },
    {
     "data": {
      "application/vnd.jupyter.widget-view+json": {
       "model_id": "0b1110981e904b41a135fccae0270f57",
       "version_major": 2,
       "version_minor": 0
      },
      "text/plain": [
       "  0%|          | 0/80 [00:00<?, ?it/s]"
      ]
     },
     "metadata": {},
     "output_type": "display_data"
    },
    {
     "data": {
      "application/vnd.jupyter.widget-view+json": {
       "model_id": "e44b43e0da9a47a3a29e6fdf265b0ff9",
       "version_major": 2,
       "version_minor": 0
      },
      "text/plain": [
       "  0%|          | 0/80 [00:00<?, ?it/s]"
      ]
     },
     "metadata": {},
     "output_type": "display_data"
    },
    {
     "data": {
      "application/vnd.jupyter.widget-view+json": {
       "model_id": "cbfa00c069bf4ffc9690a965b708ed4d",
       "version_major": 2,
       "version_minor": 0
      },
      "text/plain": [
       "  0%|          | 0/80 [00:00<?, ?it/s]"
      ]
     },
     "metadata": {},
     "output_type": "display_data"
    },
    {
     "data": {
      "application/vnd.jupyter.widget-view+json": {
       "model_id": "c6f4e8a370d54c1f895e5a69995bb18a",
       "version_major": 2,
       "version_minor": 0
      },
      "text/plain": [
       "  0%|          | 0/80 [00:00<?, ?it/s]"
      ]
     },
     "metadata": {},
     "output_type": "display_data"
    },
    {
     "data": {
      "application/vnd.jupyter.widget-view+json": {
       "model_id": "89aad1fc057649f1848b4108a0648a1a",
       "version_major": 2,
       "version_minor": 0
      },
      "text/plain": [
       "  0%|          | 0/80 [00:00<?, ?it/s]"
      ]
     },
     "metadata": {},
     "output_type": "display_data"
    },
    {
     "data": {
      "application/vnd.jupyter.widget-view+json": {
       "model_id": "2f12ff4a50fd4fcc851e9b8bee4698d6",
       "version_major": 2,
       "version_minor": 0
      },
      "text/plain": [
       "  0%|          | 0/80 [00:00<?, ?it/s]"
      ]
     },
     "metadata": {},
     "output_type": "display_data"
    },
    {
     "data": {
      "application/vnd.jupyter.widget-view+json": {
       "model_id": "1d38bd48cf0845068fb4a198e78699d2",
       "version_major": 2,
       "version_minor": 0
      },
      "text/plain": [
       "  0%|          | 0/80 [00:00<?, ?it/s]"
      ]
     },
     "metadata": {},
     "output_type": "display_data"
    },
    {
     "data": {
      "application/vnd.jupyter.widget-view+json": {
       "model_id": "066cd39fe1c044228adf04a2ec7b0784",
       "version_major": 2,
       "version_minor": 0
      },
      "text/plain": [
       "  0%|          | 0/80 [00:00<?, ?it/s]"
      ]
     },
     "metadata": {},
     "output_type": "display_data"
    },
    {
     "data": {
      "application/vnd.jupyter.widget-view+json": {
       "model_id": "c83a094546964c27bb25b739477db93f",
       "version_major": 2,
       "version_minor": 0
      },
      "text/plain": [
       "  0%|          | 0/80 [00:00<?, ?it/s]"
      ]
     },
     "metadata": {},
     "output_type": "display_data"
    },
    {
     "data": {
      "application/vnd.jupyter.widget-view+json": {
       "model_id": "8ddb3352119f4d13a8f3822d7e115388",
       "version_major": 2,
       "version_minor": 0
      },
      "text/plain": [
       "  0%|          | 0/80 [00:00<?, ?it/s]"
      ]
     },
     "metadata": {},
     "output_type": "display_data"
    },
    {
     "data": {
      "application/vnd.jupyter.widget-view+json": {
       "model_id": "0cc400e8739447ba864c3b356cfacd86",
       "version_major": 2,
       "version_minor": 0
      },
      "text/plain": [
       "  0%|          | 0/80 [00:00<?, ?it/s]"
      ]
     },
     "metadata": {},
     "output_type": "display_data"
    },
    {
     "data": {
      "application/vnd.jupyter.widget-view+json": {
       "model_id": "e421804738694cdc821a867882959e41",
       "version_major": 2,
       "version_minor": 0
      },
      "text/plain": [
       "  0%|          | 0/80 [00:00<?, ?it/s]"
      ]
     },
     "metadata": {},
     "output_type": "display_data"
    },
    {
     "data": {
      "application/vnd.jupyter.widget-view+json": {
       "model_id": "a97426fd684844c980e9a2728fe0e91a",
       "version_major": 2,
       "version_minor": 0
      },
      "text/plain": [
       "  0%|          | 0/80 [00:00<?, ?it/s]"
      ]
     },
     "metadata": {},
     "output_type": "display_data"
    },
    {
     "data": {
      "application/vnd.jupyter.widget-view+json": {
       "model_id": "0b435bb5cf894877bb0d0180452bdb51",
       "version_major": 2,
       "version_minor": 0
      },
      "text/plain": [
       "  0%|          | 0/80 [00:00<?, ?it/s]"
      ]
     },
     "metadata": {},
     "output_type": "display_data"
    },
    {
     "data": {
      "application/vnd.jupyter.widget-view+json": {
       "model_id": "6a586b97aab143e28ff3c6f210af3b0f",
       "version_major": 2,
       "version_minor": 0
      },
      "text/plain": [
       "  0%|          | 0/80 [00:00<?, ?it/s]"
      ]
     },
     "metadata": {},
     "output_type": "display_data"
    },
    {
     "data": {
      "application/vnd.jupyter.widget-view+json": {
       "model_id": "6777697116e547bfac64924cea093904",
       "version_major": 2,
       "version_minor": 0
      },
      "text/plain": [
       "  0%|          | 0/80 [00:00<?, ?it/s]"
      ]
     },
     "metadata": {},
     "output_type": "display_data"
    },
    {
     "data": {
      "application/vnd.jupyter.widget-view+json": {
       "model_id": "954767cf5abe450e89b32f76c1c10612",
       "version_major": 2,
       "version_minor": 0
      },
      "text/plain": [
       "  0%|          | 0/80 [00:00<?, ?it/s]"
      ]
     },
     "metadata": {},
     "output_type": "display_data"
    },
    {
     "data": {
      "application/vnd.jupyter.widget-view+json": {
       "model_id": "b240f7d97f8946a5b7cdc8ca14f1b33a",
       "version_major": 2,
       "version_minor": 0
      },
      "text/plain": [
       "  0%|          | 0/80 [00:00<?, ?it/s]"
      ]
     },
     "metadata": {},
     "output_type": "display_data"
    },
    {
     "data": {
      "application/vnd.jupyter.widget-view+json": {
       "model_id": "64deb4b93ae14eafac30bff8d7c91e40",
       "version_major": 2,
       "version_minor": 0
      },
      "text/plain": [
       "  0%|          | 0/80 [00:00<?, ?it/s]"
      ]
     },
     "metadata": {},
     "output_type": "display_data"
    },
    {
     "data": {
      "application/vnd.jupyter.widget-view+json": {
       "model_id": "5db84a07217b4b768db442852d2c6012",
       "version_major": 2,
       "version_minor": 0
      },
      "text/plain": [
       "  0%|          | 0/80 [00:00<?, ?it/s]"
      ]
     },
     "metadata": {},
     "output_type": "display_data"
    },
    {
     "data": {
      "application/vnd.jupyter.widget-view+json": {
       "model_id": "47cca4a7475f409384e7bbcb70dc5de3",
       "version_major": 2,
       "version_minor": 0
      },
      "text/plain": [
       "  0%|          | 0/80 [00:00<?, ?it/s]"
      ]
     },
     "metadata": {},
     "output_type": "display_data"
    },
    {
     "data": {
      "application/vnd.jupyter.widget-view+json": {
       "model_id": "2610999b33384652a938ae621f00ffdb",
       "version_major": 2,
       "version_minor": 0
      },
      "text/plain": [
       "  0%|          | 0/80 [00:00<?, ?it/s]"
      ]
     },
     "metadata": {},
     "output_type": "display_data"
    },
    {
     "data": {
      "application/vnd.jupyter.widget-view+json": {
       "model_id": "590537ad906e4e1eb9847a1af8f4afff",
       "version_major": 2,
       "version_minor": 0
      },
      "text/plain": [
       "  0%|          | 0/80 [00:00<?, ?it/s]"
      ]
     },
     "metadata": {},
     "output_type": "display_data"
    },
    {
     "data": {
      "application/vnd.jupyter.widget-view+json": {
       "model_id": "c0a11999dbe64cefa50c3503a91cd5ef",
       "version_major": 2,
       "version_minor": 0
      },
      "text/plain": [
       "  0%|          | 0/80 [00:00<?, ?it/s]"
      ]
     },
     "metadata": {},
     "output_type": "display_data"
    },
    {
     "data": {
      "application/vnd.jupyter.widget-view+json": {
       "model_id": "49e4cb38748f4dc6b903f6aa4907af65",
       "version_major": 2,
       "version_minor": 0
      },
      "text/plain": [
       "  0%|          | 0/80 [00:00<?, ?it/s]"
      ]
     },
     "metadata": {},
     "output_type": "display_data"
    },
    {
     "data": {
      "application/vnd.jupyter.widget-view+json": {
       "model_id": "b6b87654327c4f6e9713fa1ad24b5f7f",
       "version_major": 2,
       "version_minor": 0
      },
      "text/plain": [
       "  0%|          | 0/80 [00:00<?, ?it/s]"
      ]
     },
     "metadata": {},
     "output_type": "display_data"
    },
    {
     "data": {
      "application/vnd.jupyter.widget-view+json": {
       "model_id": "416b06c984934810879c4b71d004b806",
       "version_major": 2,
       "version_minor": 0
      },
      "text/plain": [
       "  0%|          | 0/80 [00:00<?, ?it/s]"
      ]
     },
     "metadata": {},
     "output_type": "display_data"
    },
    {
     "data": {
      "application/vnd.jupyter.widget-view+json": {
       "model_id": "69779014522f4c0f8b9dbe01f3c7cd41",
       "version_major": 2,
       "version_minor": 0
      },
      "text/plain": [
       "  0%|          | 0/80 [00:00<?, ?it/s]"
      ]
     },
     "metadata": {},
     "output_type": "display_data"
    },
    {
     "data": {
      "application/vnd.jupyter.widget-view+json": {
       "model_id": "dc28fd51255c4df7bbafb8efa82f2377",
       "version_major": 2,
       "version_minor": 0
      },
      "text/plain": [
       "  0%|          | 0/80 [00:00<?, ?it/s]"
      ]
     },
     "metadata": {},
     "output_type": "display_data"
    },
    {
     "data": {
      "application/vnd.jupyter.widget-view+json": {
       "model_id": "0f6a447ba0f14178a1b95f9869df11a0",
       "version_major": 2,
       "version_minor": 0
      },
      "text/plain": [
       "  0%|          | 0/80 [00:00<?, ?it/s]"
      ]
     },
     "metadata": {},
     "output_type": "display_data"
    },
    {
     "data": {
      "application/vnd.jupyter.widget-view+json": {
       "model_id": "870d473adab146ffad0ff81044471b67",
       "version_major": 2,
       "version_minor": 0
      },
      "text/plain": [
       "  0%|          | 0/80 [00:00<?, ?it/s]"
      ]
     },
     "metadata": {},
     "output_type": "display_data"
    },
    {
     "data": {
      "application/vnd.jupyter.widget-view+json": {
       "model_id": "e83c9a5ecfd24092977fbac4808045eb",
       "version_major": 2,
       "version_minor": 0
      },
      "text/plain": [
       "  0%|          | 0/80 [00:00<?, ?it/s]"
      ]
     },
     "metadata": {},
     "output_type": "display_data"
    },
    {
     "data": {
      "application/vnd.jupyter.widget-view+json": {
       "model_id": "7ac2c5c5de944aa2b33854c7587aba64",
       "version_major": 2,
       "version_minor": 0
      },
      "text/plain": [
       "  0%|          | 0/80 [00:00<?, ?it/s]"
      ]
     },
     "metadata": {},
     "output_type": "display_data"
    },
    {
     "data": {
      "application/vnd.jupyter.widget-view+json": {
       "model_id": "998627d2604d4cbf8ecbd9c2d9c85715",
       "version_major": 2,
       "version_minor": 0
      },
      "text/plain": [
       "  0%|          | 0/80 [00:00<?, ?it/s]"
      ]
     },
     "metadata": {},
     "output_type": "display_data"
    },
    {
     "data": {
      "application/vnd.jupyter.widget-view+json": {
       "model_id": "08dba9438303443ab82f141c2075bbfb",
       "version_major": 2,
       "version_minor": 0
      },
      "text/plain": [
       "  0%|          | 0/80 [00:00<?, ?it/s]"
      ]
     },
     "metadata": {},
     "output_type": "display_data"
    },
    {
     "data": {
      "application/vnd.jupyter.widget-view+json": {
       "model_id": "7b2bd53e62864a7db89264ba4b173b1a",
       "version_major": 2,
       "version_minor": 0
      },
      "text/plain": [
       "  0%|          | 0/80 [00:00<?, ?it/s]"
      ]
     },
     "metadata": {},
     "output_type": "display_data"
    },
    {
     "data": {
      "application/vnd.jupyter.widget-view+json": {
       "model_id": "3dad0db56615493ab3b165a9fcaac0a0",
       "version_major": 2,
       "version_minor": 0
      },
      "text/plain": [
       "  0%|          | 0/80 [00:00<?, ?it/s]"
      ]
     },
     "metadata": {},
     "output_type": "display_data"
    },
    {
     "data": {
      "application/vnd.jupyter.widget-view+json": {
       "model_id": "8f66f03987974aa6947b3d5a3ae671ab",
       "version_major": 2,
       "version_minor": 0
      },
      "text/plain": [
       "  0%|          | 0/80 [00:00<?, ?it/s]"
      ]
     },
     "metadata": {},
     "output_type": "display_data"
    },
    {
     "data": {
      "application/vnd.jupyter.widget-view+json": {
       "model_id": "27bde4f66dc4493f8468400495f3ce9e",
       "version_major": 2,
       "version_minor": 0
      },
      "text/plain": [
       "  0%|          | 0/80 [00:00<?, ?it/s]"
      ]
     },
     "metadata": {},
     "output_type": "display_data"
    },
    {
     "data": {
      "application/vnd.jupyter.widget-view+json": {
       "model_id": "39b7e074e7054712a392f03c2ed3f710",
       "version_major": 2,
       "version_minor": 0
      },
      "text/plain": [
       "  0%|          | 0/80 [00:00<?, ?it/s]"
      ]
     },
     "metadata": {},
     "output_type": "display_data"
    },
    {
     "data": {
      "application/vnd.jupyter.widget-view+json": {
       "model_id": "97a6700405894f5b98e40f39794b33a4",
       "version_major": 2,
       "version_minor": 0
      },
      "text/plain": [
       "  0%|          | 0/80 [00:00<?, ?it/s]"
      ]
     },
     "metadata": {},
     "output_type": "display_data"
    },
    {
     "data": {
      "application/vnd.jupyter.widget-view+json": {
       "model_id": "0d40d3941d174aec852ca352155c3b9f",
       "version_major": 2,
       "version_minor": 0
      },
      "text/plain": [
       "  0%|          | 0/80 [00:00<?, ?it/s]"
      ]
     },
     "metadata": {},
     "output_type": "display_data"
    },
    {
     "data": {
      "application/vnd.jupyter.widget-view+json": {
       "model_id": "476a1815dc39457c8e8f0bca9471d36c",
       "version_major": 2,
       "version_minor": 0
      },
      "text/plain": [
       "  0%|          | 0/80 [00:00<?, ?it/s]"
      ]
     },
     "metadata": {},
     "output_type": "display_data"
    },
    {
     "data": {
      "application/vnd.jupyter.widget-view+json": {
       "model_id": "87806c2aee6f4514b0421d9ad676d81b",
       "version_major": 2,
       "version_minor": 0
      },
      "text/plain": [
       "  0%|          | 0/80 [00:00<?, ?it/s]"
      ]
     },
     "metadata": {},
     "output_type": "display_data"
    },
    {
     "data": {
      "application/vnd.jupyter.widget-view+json": {
       "model_id": "de5f47b4f4e144b9bfb809f7fb38807f",
       "version_major": 2,
       "version_minor": 0
      },
      "text/plain": [
       "  0%|          | 0/80 [00:00<?, ?it/s]"
      ]
     },
     "metadata": {},
     "output_type": "display_data"
    },
    {
     "data": {
      "application/vnd.jupyter.widget-view+json": {
       "model_id": "0acd96e6ecb24b37b6de3646c602e482",
       "version_major": 2,
       "version_minor": 0
      },
      "text/plain": [
       "  0%|          | 0/80 [00:00<?, ?it/s]"
      ]
     },
     "metadata": {},
     "output_type": "display_data"
    },
    {
     "data": {
      "application/vnd.jupyter.widget-view+json": {
       "model_id": "9f19e2911dbf4fef96282f73d9945d40",
       "version_major": 2,
       "version_minor": 0
      },
      "text/plain": [
       "  0%|          | 0/80 [00:00<?, ?it/s]"
      ]
     },
     "metadata": {},
     "output_type": "display_data"
    },
    {
     "data": {
      "application/vnd.jupyter.widget-view+json": {
       "model_id": "967592cfc38c4b57af1d2c18a03af90d",
       "version_major": 2,
       "version_minor": 0
      },
      "text/plain": [
       "  0%|          | 0/80 [00:00<?, ?it/s]"
      ]
     },
     "metadata": {},
     "output_type": "display_data"
    },
    {
     "data": {
      "application/vnd.jupyter.widget-view+json": {
       "model_id": "ce9dbb1c669f4be6bdd2371acf919c08",
       "version_major": 2,
       "version_minor": 0
      },
      "text/plain": [
       "  0%|          | 0/80 [00:00<?, ?it/s]"
      ]
     },
     "metadata": {},
     "output_type": "display_data"
    },
    {
     "data": {
      "application/vnd.jupyter.widget-view+json": {
       "model_id": "69168b7e5dff49f494bf586f6d29b2f7",
       "version_major": 2,
       "version_minor": 0
      },
      "text/plain": [
       "  0%|          | 0/80 [00:00<?, ?it/s]"
      ]
     },
     "metadata": {},
     "output_type": "display_data"
    },
    {
     "data": {
      "application/vnd.jupyter.widget-view+json": {
       "model_id": "f694d7321c714c56903660253d8a879b",
       "version_major": 2,
       "version_minor": 0
      },
      "text/plain": [
       "  0%|          | 0/80 [00:00<?, ?it/s]"
      ]
     },
     "metadata": {},
     "output_type": "display_data"
    },
    {
     "data": {
      "application/vnd.jupyter.widget-view+json": {
       "model_id": "418cade2cf0345b0af214239c76acfd3",
       "version_major": 2,
       "version_minor": 0
      },
      "text/plain": [
       "  0%|          | 0/80 [00:00<?, ?it/s]"
      ]
     },
     "metadata": {},
     "output_type": "display_data"
    },
    {
     "data": {
      "application/vnd.jupyter.widget-view+json": {
       "model_id": "885b19aeae1043dfa1fb355039db5f36",
       "version_major": 2,
       "version_minor": 0
      },
      "text/plain": [
       "  0%|          | 0/80 [00:00<?, ?it/s]"
      ]
     },
     "metadata": {},
     "output_type": "display_data"
    },
    {
     "data": {
      "application/vnd.jupyter.widget-view+json": {
       "model_id": "3622805613b443f681b78807522ee362",
       "version_major": 2,
       "version_minor": 0
      },
      "text/plain": [
       "  0%|          | 0/80 [00:00<?, ?it/s]"
      ]
     },
     "metadata": {},
     "output_type": "display_data"
    },
    {
     "data": {
      "application/vnd.jupyter.widget-view+json": {
       "model_id": "bfeae88f714d45d59351eb7fca62daeb",
       "version_major": 2,
       "version_minor": 0
      },
      "text/plain": [
       "  0%|          | 0/80 [00:00<?, ?it/s]"
      ]
     },
     "metadata": {},
     "output_type": "display_data"
    },
    {
     "data": {
      "application/vnd.jupyter.widget-view+json": {
       "model_id": "2fde30f570e24a00b73feaca53d42813",
       "version_major": 2,
       "version_minor": 0
      },
      "text/plain": [
       "  0%|          | 0/80 [00:00<?, ?it/s]"
      ]
     },
     "metadata": {},
     "output_type": "display_data"
    },
    {
     "data": {
      "application/vnd.jupyter.widget-view+json": {
       "model_id": "bd44054ea0ed4250bada76458413eb69",
       "version_major": 2,
       "version_minor": 0
      },
      "text/plain": [
       "  0%|          | 0/80 [00:00<?, ?it/s]"
      ]
     },
     "metadata": {},
     "output_type": "display_data"
    },
    {
     "data": {
      "application/vnd.jupyter.widget-view+json": {
       "model_id": "74cd1f031c3444fb806bd1f392d258ce",
       "version_major": 2,
       "version_minor": 0
      },
      "text/plain": [
       "  0%|          | 0/80 [00:00<?, ?it/s]"
      ]
     },
     "metadata": {},
     "output_type": "display_data"
    },
    {
     "data": {
      "application/vnd.jupyter.widget-view+json": {
       "model_id": "a5ecfc1aef6a4772bc7ddc4c84a77c95",
       "version_major": 2,
       "version_minor": 0
      },
      "text/plain": [
       "  0%|          | 0/80 [00:00<?, ?it/s]"
      ]
     },
     "metadata": {},
     "output_type": "display_data"
    },
    {
     "data": {
      "application/vnd.jupyter.widget-view+json": {
       "model_id": "60ec1729b3194096985d58e85dfde0af",
       "version_major": 2,
       "version_minor": 0
      },
      "text/plain": [
       "  0%|          | 0/80 [00:00<?, ?it/s]"
      ]
     },
     "metadata": {},
     "output_type": "display_data"
    },
    {
     "data": {
      "application/vnd.jupyter.widget-view+json": {
       "model_id": "aa54dc04b83a41d38e4b28709074f736",
       "version_major": 2,
       "version_minor": 0
      },
      "text/plain": [
       "  0%|          | 0/80 [00:00<?, ?it/s]"
      ]
     },
     "metadata": {},
     "output_type": "display_data"
    },
    {
     "data": {
      "application/vnd.jupyter.widget-view+json": {
       "model_id": "9ebd9f2ace614a69ba0d644117aa0277",
       "version_major": 2,
       "version_minor": 0
      },
      "text/plain": [
       "  0%|          | 0/80 [00:00<?, ?it/s]"
      ]
     },
     "metadata": {},
     "output_type": "display_data"
    },
    {
     "data": {
      "application/vnd.jupyter.widget-view+json": {
       "model_id": "5cf9816ced0749209eafeea5e7b5e4a3",
       "version_major": 2,
       "version_minor": 0
      },
      "text/plain": [
       "  0%|          | 0/80 [00:00<?, ?it/s]"
      ]
     },
     "metadata": {},
     "output_type": "display_data"
    },
    {
     "data": {
      "application/vnd.jupyter.widget-view+json": {
       "model_id": "526d008548da4c39ad097ca22c31879a",
       "version_major": 2,
       "version_minor": 0
      },
      "text/plain": [
       "  0%|          | 0/80 [00:00<?, ?it/s]"
      ]
     },
     "metadata": {},
     "output_type": "display_data"
    },
    {
     "data": {
      "application/vnd.jupyter.widget-view+json": {
       "model_id": "6084186ad12c473a997c09a27dc4ffff",
       "version_major": 2,
       "version_minor": 0
      },
      "text/plain": [
       "  0%|          | 0/80 [00:00<?, ?it/s]"
      ]
     },
     "metadata": {},
     "output_type": "display_data"
    },
    {
     "data": {
      "application/vnd.jupyter.widget-view+json": {
       "model_id": "c0ef9527b45a4ed5876054b8a29a3f09",
       "version_major": 2,
       "version_minor": 0
      },
      "text/plain": [
       "  0%|          | 0/80 [00:00<?, ?it/s]"
      ]
     },
     "metadata": {},
     "output_type": "display_data"
    },
    {
     "data": {
      "application/vnd.jupyter.widget-view+json": {
       "model_id": "1ff94e88a78d4638bf6dd009cae218ef",
       "version_major": 2,
       "version_minor": 0
      },
      "text/plain": [
       "  0%|          | 0/80 [00:00<?, ?it/s]"
      ]
     },
     "metadata": {},
     "output_type": "display_data"
    },
    {
     "data": {
      "application/vnd.jupyter.widget-view+json": {
       "model_id": "24fddae48b00425c84f5fef40af0c752",
       "version_major": 2,
       "version_minor": 0
      },
      "text/plain": [
       "  0%|          | 0/80 [00:00<?, ?it/s]"
      ]
     },
     "metadata": {},
     "output_type": "display_data"
    },
    {
     "data": {
      "application/vnd.jupyter.widget-view+json": {
       "model_id": "8398a22efafc4e1a8c8bfe1bd989e9df",
       "version_major": 2,
       "version_minor": 0
      },
      "text/plain": [
       "  0%|          | 0/80 [00:00<?, ?it/s]"
      ]
     },
     "metadata": {},
     "output_type": "display_data"
    },
    {
     "data": {
      "application/vnd.jupyter.widget-view+json": {
       "model_id": "e090e784f8554f8dbd2cd1cb33245812",
       "version_major": 2,
       "version_minor": 0
      },
      "text/plain": [
       "  0%|          | 0/80 [00:00<?, ?it/s]"
      ]
     },
     "metadata": {},
     "output_type": "display_data"
    },
    {
     "data": {
      "application/vnd.jupyter.widget-view+json": {
       "model_id": "5d818ce6d3fe4dc589fc7a6d435166fc",
       "version_major": 2,
       "version_minor": 0
      },
      "text/plain": [
       "  0%|          | 0/80 [00:00<?, ?it/s]"
      ]
     },
     "metadata": {},
     "output_type": "display_data"
    },
    {
     "data": {
      "application/vnd.jupyter.widget-view+json": {
       "model_id": "097bcf4767154d9c8d1050f7fe973551",
       "version_major": 2,
       "version_minor": 0
      },
      "text/plain": [
       "  0%|          | 0/80 [00:00<?, ?it/s]"
      ]
     },
     "metadata": {},
     "output_type": "display_data"
    },
    {
     "data": {
      "application/vnd.jupyter.widget-view+json": {
       "model_id": "c1ebb119bdc541e2ac363af9ac568c5a",
       "version_major": 2,
       "version_minor": 0
      },
      "text/plain": [
       "  0%|          | 0/80 [00:00<?, ?it/s]"
      ]
     },
     "metadata": {},
     "output_type": "display_data"
    },
    {
     "data": {
      "application/vnd.jupyter.widget-view+json": {
       "model_id": "4b6f01c5549d4f2c816d3caa92c135a1",
       "version_major": 2,
       "version_minor": 0
      },
      "text/plain": [
       "  0%|          | 0/80 [00:00<?, ?it/s]"
      ]
     },
     "metadata": {},
     "output_type": "display_data"
    },
    {
     "data": {
      "application/vnd.jupyter.widget-view+json": {
       "model_id": "baf3097ea22b43e79c1e5bd7056319ba",
       "version_major": 2,
       "version_minor": 0
      },
      "text/plain": [
       "  0%|          | 0/80 [00:00<?, ?it/s]"
      ]
     },
     "metadata": {},
     "output_type": "display_data"
    }
   ],
   "source": [
    "# create illustrations for each story\n",
    "resume_after = 0\n",
    "images = []\n",
    "count = 0\n",
    "negative_prompt = \"watermark, text, error, blurry, jpeg artifacts, cropped, worst quality, low quality, normal quality, jpeg artifacts, signature, username, artist name, bad anatomy, extra limbs, extra body parts, floating body parts, extra legs, extra hands, missing fingers, bad fingers\"\n",
    "create_directory_if_not_exists(image_dir)\n",
    "# iterate for each desired page\n",
    "for story in stories:\n",
    "    if count < resume_after:\n",
    "        count = count + 1\n",
    "        continue\n",
    "    prompt = \"award winning artwork to illustrate a fable, \"+ideas[count]+\", beautiful, imaginative, intricate details, centered\"\n",
    "    # improve the image prompt with a model\n",
    "    new_prompt = generate(prompt)\n",
    "    # iterate for the desired number of images to choose from for each page\n",
    "    for image_num in range(0, images_to_generate):\n",
    "        # create an image based on the improved prompt\n",
    "        image = pipe(new_prompt, guidance_scale=8, num_inference_steps=80, height=image_height, width=image_width).images[0]\n",
    "        # enhance/upscale the generated image\n",
    "        if enhance_images:\n",
    "            enhanced_image = enhance_image(image)\n",
    "            # create a coloring book image based on the generated image\n",
    "            coloring_book_image = generate_coloring_page(enhanced_image)\n",
    "             # save the image with the format image_pageNumber_imageNumber as jpg\n",
    "            coloring_book_image.save(image_dir+\"/image_\"+str(count)+\"_\"+str(image_num)+\".jpg\")\n",
    "            enhanced_image.save(image_dir+\"/photo_\"+str(count)+\"_\"+str(image_num)+\".jpg\")\n",
    "\n",
    "        else:\n",
    "            coloring_book_image = generate_coloring_page(image)\n",
    "            # save the image with the format image_pageNumber_imageNumber as jpg\n",
    "            coloring_book_image.save(image_dir+\"/image_\"+str(count)+\"_\"+str(image_num)+\".jpg\")\n",
    "            image.save(image_dir+\"/photo_\"+str(count)+\"_\"+str(image_num)+\".jpg\")\n",
    "    count = count + 1"
   ]
  },
  {
   "cell_type": "code",
   "execution_count": null,
   "id": "3b170dec",
   "metadata": {},
   "outputs": [],
   "source": [
    "# create art for book cover\n",
    "count = 0\n",
    "prompt = \"award winning artwork for a book cover, \"+topic+\", beautiful, imaginative, intricate details, centered\"\n",
    "# improve the image prompt with a model\n",
    "new_prompt = generate(prompt)\n",
    "# iterate for the desired number of images to choose from for each page\n",
    "for image_num in range(0, images_to_generate):\n",
    "    # create an image based on the improved prompt\n",
    "    image = pipe(new_prompt, guidance_scale=8, num_inference_steps=80, height=image_height, width=image_width).images[0]\n",
    "    # enhance/upscale the generated image\n",
    "    if enhance_images:\n",
    "        enhanced_image = enhance_image(image)\n",
    "        # create a coloring book image based on the generated image\n",
    "        coloring_book_image = generate_coloring_page(enhanced_image)\n",
    "         # save the image with the format image_pageNumber_imageNumber as jpg\n",
    "        coloring_book_image.save(image_dir+\"/image_title_\"+str(count)+\"_\"+str(image_num)+\".jpg\")\n",
    "        enhanced_image.save(image_dir+\"/photo_title_\"+str(count)+\"_\"+str(image_num)+\".jpg\")\n",
    "\n",
    "    else:\n",
    "        coloring_book_image = generate_coloring_page(image)\n",
    "        # save the image with the format image_pageNumber_imageNumber as jpg\n",
    "        coloring_book_image.save(image_dir+\"/image_title_\"+str(count)+\"_\"+str(image_num)+\".jpg\")\n",
    "        image.save(image_dir+\"/photo_title_\"+str(count)+\"_\"+str(image_num)+\".jpg\")\n",
    "    count = count + 1"
   ]
  },
  {
   "cell_type": "code",
   "execution_count": 23,
   "id": "523b3fa2",
   "metadata": {},
   "outputs": [
    {
     "data": {
      "text/plain": [
       "'\"365 Fabled Tales for Little Ones: A Journey Through Fantasy, Science Fiction, Adventure, Magic, Mystery, and Myth\"'"
      ]
     },
     "execution_count": 23,
     "metadata": {},
     "output_type": "execute_result"
    }
   ],
   "source": [
    "title = generate_book_title(topic)\n",
    "title"
   ]
  },
  {
   "cell_type": "code",
   "execution_count": 24,
   "id": "6b6c7fef",
   "metadata": {},
   "outputs": [],
   "source": [
    "# write to a word document\n",
    "# create a new docx document object\n",
    "document = Document()\n",
    "\n",
    "# set the document size and margins\n",
    "section = document.sections[0]\n",
    "section.page_width = Inches(8.5)\n",
    "section.page_height = Inches(11.0)\n",
    "section.left_margin = Inches(1.0)\n",
    "section.right_margin = Inches(1.0)\n",
    "section.top_margin = Inches(0.5)\n",
    "section.bottom_margin = Inches(0.5)\n",
    "\n",
    "# Add a title page\n",
    "document.add_heading(title, 0)\n",
    "p = document.add_paragraph('A coloring book about '+topic)\n",
    "p = document.add_paragraph(summary)\n",
    "\n",
    "count = 0\n",
    "for fable in stories:\n",
    "    document.add_page_break()\n",
    "    document.add_heading(titles[count], level=1)\n",
    "    document.add_picture(image_dir+\"/image_\"+str(count)+\"_0.jpg\", width=Inches(6.5))\n",
    "    document.add_page_break()\n",
    "    document.add_paragraph(\"Fable: \"+titles[count], style='Intense Quote')\n",
    "    document.add_paragraph(fable)\n",
    "    count += 1\n",
    "\n",
    "document.save('fables_coloring.docx')\n",
    "\n",
    "# write to a word document\n",
    "# create a new docx document object\n",
    "document = Document()\n",
    "\n",
    "# set the document size and margins\n",
    "section = document.sections[0]\n",
    "section.page_width = Inches(6.0)\n",
    "section.page_height = Inches(9.0)\n",
    "section.left_margin = Inches(0.375)\n",
    "section.right_margin = Inches(0.375)\n",
    "section.top_margin = Inches(0.5)\n",
    "section.bottom_margin = Inches(0.5)\n",
    "\n",
    "# Add a title page\n",
    "document.add_heading(title, 0)\n",
    "p = document.add_paragraph('An illustrated book about '+topic)\n",
    "p = document.add_paragraph(summary)\n",
    "\n",
    "count = 0\n",
    "for fable in stories:\n",
    "    document.add_page_break()\n",
    "    document.add_heading(titles[count], level=1)\n",
    "    document.add_picture(image_dir+\"/photo_\"+str(count)+\"_0.jpg\", width=Inches(5.25))\n",
    "    document.add_page_break()\n",
    "    document.add_paragraph('Fable: '+titles[count], style='Intense Quote')\n",
    "    document.add_paragraph(fable)\n",
    "    count += 1\n",
    "\n",
    "document.save('fables_illustrated.docx')"
   ]
  },
  {
   "cell_type": "code",
   "execution_count": 10,
   "id": "9915cc1e",
   "metadata": {},
   "outputs": [],
   "source": [
    "!explorer.exe ."
   ]
  },
  {
   "cell_type": "code",
   "execution_count": null,
   "id": "e0e57641",
   "metadata": {},
   "outputs": [],
   "source": []
  }
 ],
 "metadata": {
  "kernelspec": {
   "display_name": "Python 3 (ipykernel)",
   "language": "python",
   "name": "python3"
  },
  "language_info": {
   "codemirror_mode": {
    "name": "ipython",
    "version": 3
   },
   "file_extension": ".py",
   "mimetype": "text/x-python",
   "name": "python",
   "nbconvert_exporter": "python",
   "pygments_lexer": "ipython3",
   "version": "3.10.11"
  }
 },
 "nbformat": 4,
 "nbformat_minor": 5
}

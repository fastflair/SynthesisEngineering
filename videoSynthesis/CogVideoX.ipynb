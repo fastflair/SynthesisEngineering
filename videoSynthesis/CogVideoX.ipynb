{
 "cells": [
  {
   "cell_type": "code",
   "execution_count": 1,
   "id": "c8820d64-d525-454e-9a7e-0c0a3965635b",
   "metadata": {},
   "outputs": [
    {
     "name": "stderr",
     "output_type": "stream",
     "text": [
      "2024-10-06 13:09:19.582120: E external/local_xla/xla/stream_executor/cuda/cuda_fft.cc:485] Unable to register cuFFT factory: Attempting to register factory for plugin cuFFT when one has already been registered\n",
      "2024-10-06 13:09:20.257334: E external/local_xla/xla/stream_executor/cuda/cuda_dnn.cc:8454] Unable to register cuDNN factory: Attempting to register factory for plugin cuDNN when one has already been registered\n",
      "2024-10-06 13:09:20.432482: E external/local_xla/xla/stream_executor/cuda/cuda_blas.cc:1452] Unable to register cuBLAS factory: Attempting to register factory for plugin cuBLAS when one has already been registered\n",
      "2024-10-06 13:09:20.708319: I tensorflow/core/platform/cpu_feature_guard.cc:210] This TensorFlow binary is optimized to use available CPU instructions in performance-critical operations.\n",
      "To enable the following instructions: AVX2 FMA, in other operations, rebuild TensorFlow with the appropriate compiler flags.\n",
      "2024-10-06 13:09:22.017501: W tensorflow/compiler/tf2tensorrt/utils/py_utils.cc:38] TF-TRT Warning: Could not find TensorRT\n"
     ]
    }
   ],
   "source": [
    "import cv2\n",
    "import gc\n",
    "import imageio_ffmpeg\n",
    "import math\n",
    "import moviepy.editor as mp\n",
    "import os\n",
    "import random\n",
    "import tempfile\n",
    "import threading\n",
    "import time\n",
    "import torch\n",
    "import utils\n",
    "\n",
    "from datetime import datetime, timedelta\n",
    "from diffusers import AutoencoderKLCogVideoX, CogVideoXTransformer3DModel, CogVideoXPipeline, CogVideoXDPMScheduler\n",
    "from diffusers import CogVideoXVideoToVideoPipeline, CogVideoXImageToVideoPipeline\n",
    "from diffusers.image_processor import VaeImageProcessor\n",
    "from diffusers.utils import export_to_video, load_video, load_image\n",
    "from huggingface_hub import hf_hub_download, snapshot_download\n",
    "from PIL import Image\n",
    "from transformers import T5EncoderModel\n",
    "from torchao.quantization import quantize_, int8_weight_only, int8_dynamic_activation_int8_weight\n",
    "# https://huggingface.co/THUDM/CogVideoX-5b"
   ]
  },
  {
   "cell_type": "code",
   "execution_count": 2,
   "id": "84bd37b1-372e-46c9-a149-19733131a6f6",
   "metadata": {},
   "outputs": [],
   "source": [
    "# Helper functions\n",
    "def convert_to_gif(video_path):\n",
    "    clip = mp.VideoFileClip(video_path)\n",
    "    clip = clip.set_fps(8)\n",
    "    clip = clip.resize(height=240)\n",
    "    gif_path = video_path.replace(\".mp4\", \".gif\")\n",
    "    clip.write_gif(gif_path, fps=8)\n",
    "    return gif_path\n",
    "\n",
    "def resize_if_unfit(input_video):\n",
    "    width, height = get_video_dimensions(input_video)\n",
    "\n",
    "    if width == 720 and height == 480:\n",
    "        processed_video = input_video\n",
    "    else:\n",
    "        processed_video = center_crop_resize(input_video)\n",
    "    return processed_video\n",
    "\n",
    "\n",
    "def get_video_dimensions(input_video_path):\n",
    "    reader = imageio_ffmpeg.read_frames(input_video_path)\n",
    "    metadata = next(reader)\n",
    "    return metadata[\"size\"]\n",
    "\n",
    "\n",
    "def center_crop_resize(input_video_path, target_width=720, target_height=480):\n",
    "    cap = cv2.VideoCapture(input_video_path)\n",
    "\n",
    "    orig_width = int(cap.get(cv2.CAP_PROP_FRAME_WIDTH))\n",
    "    orig_height = int(cap.get(cv2.CAP_PROP_FRAME_HEIGHT))\n",
    "    orig_fps = cap.get(cv2.CAP_PROP_FPS)\n",
    "    total_frames = int(cap.get(cv2.CAP_PROP_FRAME_COUNT))\n",
    "\n",
    "    width_factor = target_width / orig_width\n",
    "    height_factor = target_height / orig_height\n",
    "    resize_factor = max(width_factor, height_factor)\n",
    "\n",
    "    inter_width = int(orig_width * resize_factor)\n",
    "    inter_height = int(orig_height * resize_factor)\n",
    "\n",
    "    target_fps = 8\n",
    "    ideal_skip = max(0, math.ceil(orig_fps / target_fps) - 1)\n",
    "    skip = min(5, ideal_skip)  # Cap at 5\n",
    "\n",
    "    while (total_frames / (skip + 1)) < 49 and skip > 0:\n",
    "        skip -= 1\n",
    "\n",
    "    processed_frames = []\n",
    "    frame_count = 0\n",
    "    total_read = 0\n",
    "\n",
    "    while frame_count < 49 and total_read < total_frames:\n",
    "        ret, frame = cap.read()\n",
    "        if not ret:\n",
    "            break\n",
    "\n",
    "        if total_read % (skip + 1) == 0:\n",
    "            resized = cv2.resize(frame, (inter_width, inter_height), interpolation=cv2.INTER_AREA)\n",
    "\n",
    "            start_x = (inter_width - target_width) // 2\n",
    "            start_y = (inter_height - target_height) // 2\n",
    "            cropped = resized[start_y : start_y + target_height, start_x : start_x + target_width]\n",
    "\n",
    "            processed_frames.append(cropped)\n",
    "            frame_count += 1\n",
    "\n",
    "        total_read += 1\n",
    "\n",
    "    cap.release()\n",
    "\n",
    "    with tempfile.NamedTemporaryFile(suffix=\".mp4\", delete=False) as temp_file:\n",
    "        temp_video_path = temp_file.name\n",
    "        fourcc = cv2.VideoWriter_fourcc(*\"mp4v\")\n",
    "        out = cv2.VideoWriter(temp_video_path, fourcc, target_fps, (target_width, target_height))\n",
    "\n",
    "        for frame in processed_frames:\n",
    "            out.write(frame)\n",
    "\n",
    "        out.release()\n",
    "\n",
    "    return temp_video_path\n",
    "\n",
    "def convert_prompt(prompt: str, retry_times: int = 3) -> str:\n",
    "    if not os.environ.get(\"OPENAI_API_KEY\"):\n",
    "        return prompt\n",
    "    client = OpenAI()\n",
    "    text = prompt.strip()\n",
    "\n",
    "    sys_prompt = \"\"\"You are part of a team of bots that creates videos. You work with an assistant bot that will draw anything you say in square brackets.\n",
    "    For example , outputting \" a beautiful morning in the woods with the sun peaking through the trees \" will trigger your partner bot to output an video of a forest morning , as described. You will be prompted by people looking to create detailed , amazing videos. The way to accomplish this is to take their short prompts and make them extremely detailed and descriptive.\n",
    "    There are a few rules to follow:\n",
    "    You will only ever output a single video description per user request.\n",
    "    When modifications are requested , you should not simply make the description longer . You should refactor the entire description to integrate the suggestions.\n",
    "    Other times the user will not want modifications , but instead want a new image . In this case , you should ignore your previous conversation with the user.\n",
    "    Video descriptions must have the same num of words as examples below. Extra words will be ignored.\n",
    "    \"\"\"\n",
    "\n",
    "    for i in range(retry_times):\n",
    "        response = client.chat.completions.create(\n",
    "            messages=[\n",
    "                {\"role\": \"system\", \"content\": sys_prompt},\n",
    "                {\n",
    "                    \"role\": \"user\",\n",
    "                    \"content\": 'Create an imaginative video descriptive caption or modify an earlier caption for the user input : \"a girl is on the beach\"',\n",
    "                },\n",
    "                {\n",
    "                    \"role\": \"assistant\",\n",
    "                    \"content\": \"A radiant woman stands on a deserted beach, arms outstretched, wearing a beige trench coat, white blouse, light blue jeans, and chic boots, against a backdrop of soft sky and sea. Moments later, she is seen mid-twirl, arms exuberant, with the lighting suggesting dawn or dusk. Then, she runs along the beach, her attire complemented by an off-white scarf and black ankle boots, the tranquil sea behind her. Finally, she holds a paper airplane, her pose reflecting joy and freedom, with the ocean's gentle waves and the sky's soft pastel hues enhancing the serene ambiance.\",\n",
    "                },\n",
    "                {\n",
    "                    \"role\": \"user\",\n",
    "                    \"content\": 'Create an imaginative video descriptive caption or modify an earlier caption for the user input : \"A man jogging on a football field\"',\n",
    "                },\n",
    "                {\n",
    "                    \"role\": \"assistant\",\n",
    "                    \"content\": \"A determined man in athletic attire, including a blue long-sleeve shirt, black shorts, and blue socks, jogs around a snow-covered soccer field, showcasing his solitary exercise in a quiet, overcast setting. His long dreadlocks, focused expression, and the serene winter backdrop highlight his dedication to fitness. As he moves, his attire, consisting of a blue sports sweatshirt, black athletic pants, gloves, and sneakers, grips the snowy ground. He is seen running past a chain-link fence enclosing the playground area, with a basketball hoop and children's slide, suggesting a moment of solitary exercise amidst the empty field.\",\n",
    "                },\n",
    "                {\n",
    "                    \"role\": \"user\",\n",
    "                    \"content\": 'Create an imaginative video descriptive caption or modify an earlier caption for the user input : \" A woman is dancing, HD footage, close-up\"',\n",
    "                },\n",
    "                {\n",
    "                    \"role\": \"assistant\",\n",
    "                    \"content\": \"A young woman with her hair in an updo and wearing a teal hoodie stands against a light backdrop, initially looking over her shoulder with a contemplative expression. She then confidently makes a subtle dance move, suggesting rhythm and movement. Next, she appears poised and focused, looking directly at the camera. Her expression shifts to one of introspection as she gazes downward slightly. Finally, she dances with confidence, her left hand over her heart, symbolizing a poignant moment, all while dressed in the same teal hoodie against a plain, light-colored background.\",\n",
    "                },\n",
    "                {\n",
    "                    \"role\": \"user\",\n",
    "                    \"content\": f'Create an imaginative video descriptive caption or modify an earlier caption in ENGLISH for the user input: \"{text}\"',\n",
    "                },\n",
    "            ],\n",
    "            model=\"glm-4-plus\",\n",
    "            temperature=0.01,\n",
    "            top_p=0.7,\n",
    "            stream=False,\n",
    "            max_tokens=200,\n",
    "        )\n",
    "        if response.choices:\n",
    "            return response.choices[0].message.content\n",
    "    return prompt"
   ]
  },
  {
   "cell_type": "code",
   "execution_count": 3,
   "id": "0f9e084d-3703-4b20-9431-358b5a1a40d8",
   "metadata": {},
   "outputs": [
    {
     "data": {
      "application/vnd.jupyter.widget-view+json": {
       "model_id": "9d0781276c9643728f23850d508102e8",
       "version_major": 2,
       "version_minor": 0
      },
      "text/plain": [
       "Downloading shards:   0%|          | 0/2 [00:00<?, ?it/s]"
      ]
     },
     "metadata": {},
     "output_type": "display_data"
    },
    {
     "data": {
      "application/vnd.jupyter.widget-view+json": {
       "model_id": "770352d5ae7f45979672cd4a916bd6b9",
       "version_major": 2,
       "version_minor": 0
      },
      "text/plain": [
       "Loading checkpoint shards:   0%|          | 0/2 [00:00<?, ?it/s]"
      ]
     },
     "metadata": {},
     "output_type": "display_data"
    },
    {
     "data": {
      "application/vnd.jupyter.widget-view+json": {
       "model_id": "265e40e587b145688bde9ed7c2cf0004",
       "version_major": 2,
       "version_minor": 0
      },
      "text/plain": [
       "Fetching 2 files:   0%|          | 0/2 [00:00<?, ?it/s]"
      ]
     },
     "metadata": {},
     "output_type": "display_data"
    },
    {
     "data": {
      "application/vnd.jupyter.widget-view+json": {
       "model_id": "daf729e9922946f49e6a87ec913395a1",
       "version_major": 2,
       "version_minor": 0
      },
      "text/plain": [
       "Loading pipeline components...:   0%|          | 0/5 [00:00<?, ?it/s]"
      ]
     },
     "metadata": {},
     "output_type": "display_data"
    }
   ],
   "source": [
    "device = \"cuda\" if torch.cuda.is_available() else \"cpu\"\n",
    "quantization = int8_weight_only\n",
    "\n",
    "text_encoder = T5EncoderModel.from_pretrained(\"THUDM/CogVideoX-5b\", subfolder=\"text_encoder\", torch_dtype=torch.bfloat16)\n",
    "quantize_(text_encoder, quantization())\n",
    "\n",
    "transformer = CogVideoXTransformer3DModel.from_pretrained(\"THUDM/CogVideoX-5b\", subfolder=\"transformer\", torch_dtype=torch.bfloat16)\n",
    "quantize_(transformer, quantization())\n",
    "\n",
    "vae = AutoencoderKLCogVideoX.from_pretrained(\"THUDM/CogVideoX-5b\", subfolder=\"vae\", torch_dtype=torch.bfloat16)\n",
    "quantize_(vae, quantization())\n",
    "\n",
    "# Create pipeline and run inference\n",
    "pipe = CogVideoXPipeline.from_pretrained(\n",
    "    \"THUDM/CogVideoX-5b\",\n",
    "    text_encoder=text_encoder,\n",
    "    transformer=transformer,\n",
    "    vae=vae,\n",
    "    torch_dtype=torch.bfloat16,\n",
    ")\n",
    "#pipe.enable_model_cpu_offload()\n",
    "pipe.vae.enable_tiling()\n",
    "\n",
    "pipe.scheduler = CogVideoXDPMScheduler.from_config(pipe.scheduler.config, timestep_spacing=\"trailing\")"
   ]
  },
  {
   "cell_type": "code",
   "execution_count": 4,
   "id": "5706c6cd-64e0-4b94-abe7-889552ee0430",
   "metadata": {},
   "outputs": [],
   "source": [
    "os.makedirs(\"./output\", exist_ok=True)\n",
    "\n",
    "def infer(\n",
    "    prompt: str,\n",
    "    num_inference_steps: int,\n",
    "    guidance_scale: float,\n",
    "    seed: int = -1,\n",
    "):\n",
    "    if seed == -1:\n",
    "        seed = random.randint(0, 2**8 - 1)\n",
    "\n",
    "        pipe.to(device)\n",
    "        video_pt = pipe(\n",
    "            prompt=prompt,\n",
    "            num_videos_per_prompt=1,\n",
    "            num_inference_steps=num_inference_steps,\n",
    "            num_frames=49,\n",
    "            use_dynamic_cfg=True,\n",
    "            output_type=\"pt\",\n",
    "            guidance_scale=guidance_scale,\n",
    "            generator=torch.Generator(device=device).manual_seed(seed),\n",
    "        ).frames\n",
    "        pipe.to(device)\n",
    "        gc.collect()\n",
    "    return (video_pt, seed)\n",
    "\n",
    "def generate(\n",
    "    prompt,\n",
    "    seed_value,\n",
    "):\n",
    "    latents, seed = infer(\n",
    "        prompt,\n",
    "        num_inference_steps=50,  # NOT Changed\n",
    "        guidance_scale=7.0,  # Increased to 7 from 6\n",
    "        seed=seed_value,\n",
    "    )\n",
    "    batch_size = latents.shape[0]\n",
    "    batch_video_frames = []\n",
    "    for batch_idx in range(batch_size):\n",
    "        pt_image = latents[batch_idx]\n",
    "        pt_image = torch.stack([pt_image[i] for i in range(pt_image.shape[0])])\n",
    "        image_np = VaeImageProcessor.pt_to_numpy(pt_image)\n",
    "        image_pil = VaeImageProcessor.numpy_to_pil(image_np)\n",
    "        batch_video_frames.append(image_pil)\n",
    "    video_path = utils.save_video(batch_video_frames[0], fps=math.ceil((len(batch_video_frames[0]) - 1) / 6))\n",
    "    gif_path = convert_to_gif(video_path)\n",
    "    return video_path"
   ]
  },
  {
   "cell_type": "code",
   "execution_count": 5,
   "id": "1c976070-91f1-45b7-90e3-320708b3edab",
   "metadata": {},
   "outputs": [
    {
     "data": {
      "application/vnd.jupyter.widget-view+json": {
       "model_id": "57f16c40e77d4b82844c37580d5734bd",
       "version_major": 2,
       "version_minor": 0
      },
      "text/plain": [
       "  0%|          | 0/50 [00:00<?, ?it/s]"
      ]
     },
     "metadata": {},
     "output_type": "display_data"
    },
    {
     "name": "stdout",
     "output_type": "stream",
     "text": [
      "MoviePy - Building file ./output/20240923_200108.gif with imageio.\n"
     ]
    },
    {
     "name": "stderr",
     "output_type": "stream",
     "text": [
      "t:   0%|                                                                               | 0/50 [00:00<?, ?it/s, now=None]WARNING:py.warnings:/home/gensyn/anaconda3/lib/python3.11/site-packages/moviepy/video/io/ffmpeg_reader.py:123: UserWarning: Warning: in file ./output/20240923_200108.mp4, 1036800 bytes wanted but 0 bytes read,at frame 49/50, at time 6.12/6.13 sec. Using the last valid frame instead.\n",
      "  warnings.warn(\"Warning: in file %s, \"%(self.filename)+\n",
      "\n",
      "                                                                                                                        \r"
     ]
    }
   ],
   "source": [
    "prompt = \"A kangaroo, dressed in a small, red jacket and a tiny hat, sits on a wooden stool in a serene park. The kangaroo's fluffy arms strum a miniature acoustic guitar, producing soft, melodic tunes. Nearby, a few other kangaroos gather, watching curiously and some clapping in rhythm. Sunlight filters through the clouds, casting a gentle glow on the scene. The kangaroo's face is expressive, showing concentration and joy as it plays. The background includes a small, flowing stream and vibrant green foliage, enhancing the peaceful and magical atmosphere of this unique musical performance.\"\n",
    "video_output = generate(prompt, -1)"
   ]
  },
  {
   "cell_type": "code",
   "execution_count": 6,
   "id": "b7cca678-b562-41d2-b7c2-e99cf79ff445",
   "metadata": {},
   "outputs": [
    {
     "data": {
      "text/plain": [
       "'./output/20240923_200108.mp4'"
      ]
     },
     "execution_count": 6,
     "metadata": {},
     "output_type": "execute_result"
    }
   ],
   "source": [
    "video_output"
   ]
  },
  {
   "cell_type": "code",
   "execution_count": null,
   "id": "81200e9a-94bc-43f0-8dac-c6c6ffa3cadf",
   "metadata": {},
   "outputs": [],
   "source": [
    "\n",
    "\n",
    "#video = pipe(\n",
    "#    prompt=prompt,\n",
    "#    num_videos_per_prompt=1,\n",
    "#    num_inference_steps=50,\n",
    "#    num_frames=49,\n",
    "#    guidance_scale=6,\n",
    "#    generator=torch.Generator(device=\"cuda\").manual_seed(42),\n",
    "#).frames[0]\n",
    "\n",
    "#export_to_video(video, \"output.mp4\", fps=8)"
   ]
  },
  {
   "cell_type": "markdown",
   "id": "9f742b70-5e16-4e51-830a-5420a4b60c07",
   "metadata": {},
   "source": [
    "## Image to Video Pipeline"
   ]
  },
  {
   "cell_type": "code",
   "execution_count": null,
   "id": "10aa1dc8-02d2-4e17-aeaf-0ee46206aca5",
   "metadata": {},
   "outputs": [],
   "source": [
    "image_input = \"filename\"\n",
    "\n",
    "i2v_transformer = CogVideoXTransformer3DModel.from_pretrained(\n",
    "    \"THUDM/CogVideoX-5b-I2V\", subfolder=\"transformer\", torch_dtype=torch.bfloat16\n",
    ")\n",
    "\n",
    "pipe_image = CogVideoXImageToVideoPipeline.from_pretrained(\n",
    "    \"THUDM/CogVideoX-5b-I2V\",\n",
    "    transformer=i2v_transformer,\n",
    "    vae=pipe.vae,\n",
    "    scheduler=pipe.scheduler,\n",
    "    tokenizer=pipe.tokenizer,\n",
    "    text_encoder=pipe.text_encoder,\n",
    "    torch_dtype=torch.bfloat16,\n",
    ").to(device)\n",
    "image_input = Image.fromarray(image_input).resize(size=(720, 480))  # Convert to PIL\n",
    "image = load_image(image_input)\n",
    "video_pt = pipe_image(\n",
    "    image=image,\n",
    "    prompt=prompt,\n",
    "    num_inference_steps=num_inference_steps,\n",
    "    num_videos_per_prompt=1,\n",
    "    use_dynamic_cfg=True,\n",
    "    output_type=\"pt\",\n",
    "    guidance_scale=guidance_scale,\n",
    "    generator=torch.Generator(device=\"cpu\").manual_seed(seed),\n",
    ").frames\n",
    "pipe_image.to(\"cpu\")\n",
    "del pipe_image\n",
    "gc.collect()\n",
    "torch.cuda.empty_cache()"
   ]
  },
  {
   "cell_type": "markdown",
   "id": "3e9c9a18-91a7-4160-a51c-eef294441653",
   "metadata": {},
   "source": [
    "## Video to Video pipeline"
   ]
  },
  {
   "cell_type": "code",
   "execution_count": null,
   "id": "5d5b82a2-ee8d-4247-9552-3a4b0f9f5a59",
   "metadata": {},
   "outputs": [],
   "source": [
    "video_input = \"filename\"\n",
    "video_strenght = 0.8 #default slider is .1 to 1\n",
    "\n",
    "video = load_video(video_input)[:49]  # Limit to 49 frames\n",
    "pipe_video = CogVideoXVideoToVideoPipeline.from_pretrained(\n",
    "    \"THUDM/CogVideoX-5b\",\n",
    "    transformer=pipe.transformer,\n",
    "    vae=pipe.vae,\n",
    "    scheduler=pipe.scheduler,\n",
    "    tokenizer=pipe.tokenizer,\n",
    "    text_encoder=pipe.text_encoder,\n",
    "    torch_dtype=torch.bfloat16,\n",
    ").to(device)\n",
    "video_pt = pipe_video(\n",
    "    video=video,\n",
    "    prompt=prompt,\n",
    "    num_inference_steps=num_inference_steps,\n",
    "    num_videos_per_prompt=1,\n",
    "    strength=video_strenght,\n",
    "    use_dynamic_cfg=True,\n",
    "    output_type=\"pt\",\n",
    "    guidance_scale=guidance_scale,\n",
    "    generator=torch.Generator(device=\"cpu\").manual_seed(seed),\n",
    ").frames\n",
    "pipe_video.to(\"cpu\")\n",
    "del pipe_video\n",
    "gc.collect()\n",
    "torch.cuda.empty_cache()"
   ]
  },
  {
   "cell_type": "code",
   "execution_count": null,
   "id": "b3f96263-5ac3-4676-98a9-e74baffac312",
   "metadata": {},
   "outputs": [],
   "source": []
  }
 ],
 "metadata": {
  "kernelspec": {
   "display_name": "Python 3 (ipykernel)",
   "language": "python",
   "name": "python3"
  },
  "language_info": {
   "codemirror_mode": {
    "name": "ipython",
    "version": 3
   },
   "file_extension": ".py",
   "mimetype": "text/x-python",
   "name": "python",
   "nbconvert_exporter": "python",
   "pygments_lexer": "ipython3",
   "version": "3.11.4"
  }
 },
 "nbformat": 4,
 "nbformat_minor": 5
}

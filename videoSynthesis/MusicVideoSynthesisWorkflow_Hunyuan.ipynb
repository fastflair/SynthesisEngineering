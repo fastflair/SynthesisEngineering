{
 "cells": [
  {
   "cell_type": "markdown",
   "id": "17f87d72-5305-4778-ba0c-31549333c8db",
   "metadata": {},
   "source": [
    "# Music Video Synthesis\n",
    "* Extract lyrics from song with timestamps\n",
    "* Compose scenes, include timestamps\n",
    "* Generate images for each scene\n",
    "* A human should evalute photos and scenes, creating a curated one with the desired characteristics\n",
    "* Construct video text prompt for each scene\n",
    "* Build videos for each scene, use referall link to sign up: https://www.segmind.com/invite/773118b7-41f4-4154-87f4-49326d973ec3\n",
    "* Stitch together"
   ]
  },
  {
   "cell_type": "markdown",
   "id": "a8b8b074-e32d-45f2-977f-c923878625e6",
   "metadata": {},
   "source": [
    "# We will use openai whipser for stability"
   ]
  },
  {
   "cell_type": "code",
   "execution_count": 1,
   "id": "0b45c210-fd2b-4381-9fd3-c1eb18feefe1",
   "metadata": {},
   "outputs": [],
   "source": [
    "#!pip install --quiet --upgrade pip\n",
    "#!pip3 install torch torchvision torchaudio optimum-quanto torchao --index-url https://download.pytorch.org/whl/cu126\n",
    "#!pip install --quiet --upgrade openai-whisper openai\n",
    "# Ubuntu or Debian\n",
    "#!sudo apt update && sudo apt install ffmpeg\n",
    "#!pip install setuptools-rust\n",
    "#!pip install -U diffusers imageio imageio_ffmpeg opencv-python moviepy transformers huggingface-hub optimum pillow safetensors optimum-quanto accelerate\n",
    "#!pip install git+https://github.com/xhinker/sd_embed.git@main\n",
    "#!pip install accelerate flash_attention numba -U\n",
    "#!pip install flash_attn --no-build-isolation\n",
    "#!pip install -r requirements.txt -U"
   ]
  },
  {
   "cell_type": "code",
   "execution_count": 2,
   "id": "8537e766-eab2-4757-b6f9-fbac4da44930",
   "metadata": {},
   "outputs": [
    {
     "name": "stderr",
     "output_type": "stream",
     "text": [
      "2025-02-02 11:01:31.000494: I tensorflow/core/util/port.cc:153] oneDNN custom operations are on. You may see slightly different numerical results due to floating-point round-off errors from different computation orders. To turn them off, set the environment variable `TF_ENABLE_ONEDNN_OPTS=0`.\n",
      "2025-02-02 11:01:31.153081: E external/local_xla/xla/stream_executor/cuda/cuda_fft.cc:477] Unable to register cuFFT factory: Attempting to register factory for plugin cuFFT when one has already been registered\n",
      "WARNING: All log messages before absl::InitializeLog() is called are written to STDERR\n",
      "E0000 00:00:1738515691.213136     905 cuda_dnn.cc:8310] Unable to register cuDNN factory: Attempting to register factory for plugin cuDNN when one has already been registered\n",
      "E0000 00:00:1738515691.230773     905 cuda_blas.cc:1418] Unable to register cuBLAS factory: Attempting to register factory for plugin cuBLAS when one has already been registered\n",
      "2025-02-02 11:01:31.383592: I tensorflow/core/platform/cpu_feature_guard.cc:210] This TensorFlow binary is optimized to use available CPU instructions in performance-critical operations.\n",
      "To enable the following instructions: AVX2 AVX_VNNI FMA, in other operations, rebuild TensorFlow with the appropriate compiler flags.\n"
     ]
    }
   ],
   "source": [
    "import argparse\n",
    "import base64\n",
    "import cv2\n",
    "import diffusers\n",
    "import gc\n",
    "import imageio\n",
    "import imageio_ffmpeg\n",
    "import json\n",
    "import math\n",
    "import moviepy as mp\n",
    "import numpy as np\n",
    "import os\n",
    "import psutil\n",
    "import random\n",
    "import requests\n",
    "import sys\n",
    "import tempfile\n",
    "import time\n",
    "import transformers\n",
    "import torch\n",
    "import torch.multiprocessing as mp\n",
    "import whisper\n",
    "\n",
    "from contextlib import contextmanager\n",
    "from datetime import datetime, timedelta\n",
    "from diffusers import AutoencoderKL, AutoPipelineForText2Image\n",
    "from diffusers import FlowMatchEulerDiscreteScheduler\n",
    "from diffusers import EulerDiscreteScheduler, EulerAncestralDiscreteScheduler, DPMSolverMultistepScheduler, PNDMScheduler, DDIMScheduler\n",
    "from diffusers.image_processor import VaeImageProcessor\n",
    "from diffusers.pipelines.flux.pipeline_flux import FluxPipeline\n",
    "from diffusers.models.transformers.transformer_flux import FluxTransformer2DModel\n",
    "from diffusers.utils import export_to_video, load_video, load_image\n",
    "from hyvideo.utils.file_utils import save_videos_grid\n",
    "from hyvideo.config import parse_args\n",
    "from hyvideo.inference import HunyuanVideoSampler\n",
    "from hyvideo.constants import NEGATIVE_PROMPT\n",
    "from mmgp import offload, profile_type\n",
    "from huggingface_hub import hf_hub_download, snapshot_download\n",
    "from mmgp import offload, profile_type\n",
    "from numba import cuda\n",
    "from openai import OpenAI\n",
    "from optimum.quanto import freeze, qfloat8, quantize, requantize\n",
    "from pathlib import Path\n",
    "from PIL import Image\n",
    "from safetensors.torch import load_file as load_safetensors, save_file as save_safetensors\n",
    "from sd_embed.embedding_funcs import get_weighted_text_embeddings_flux1\n",
    "from torchao.quantization import quantize_, int8_weight_only, int8_dynamic_activation_int8_weight\n",
    "from transformers import CLIPTextModel, CLIPTokenizer, T5TokenizerFast, T5EncoderModel\n",
    "from transformers import CLIPImageProcessor, CLIPVisionModelWithProjection\n",
    "\n",
    "os.environ[\"TOKENIZERS_PARALLELISM\"] = \"false\"\n",
    "# Define the paths where quantized weights will be saved\n",
    "\n",
    "dtype = torch.bfloat16\n",
    "MAX_SEED = np.iinfo(np.int32).max\n",
    "device = \"cuda\" if torch.cuda.is_available() else \"cpu\"\n",
    "retry_limit = 3\n",
    "quantization = int8_weight_only\n",
    "\n",
    "WIDTH = 848\n",
    "HEIGHT = 480"
   ]
  },
  {
   "cell_type": "code",
   "execution_count": 3,
   "id": "6f54ba32-2208-45c8-8ed2-5fcb1e79aaac",
   "metadata": {},
   "outputs": [],
   "source": [
    "# Configuration\n",
    "CONFIG = {\n",
    "    \"openai_api_key\": \"\",\n",
    "    \"openai_model\": \"gpt-4o-mini\",\n",
    "    \"openai_model_large\": \"gpt-4o\",\n",
    "    \"hf_token\": \"\",\n",
    "    \"base_working_dir\": \"./images\",\n",
    "    \"base_video_dir\": \"./output\",\n",
    "    \"audio_files\": [\n",
    "        #\"/mnt/d/Share/Audio/DidgeridooUnity.mp3\",\n",
    "        \"/mnt/d/Share/Audio/WingsOfLight.mp3\",\n",
    "        \"/mnt/d/Share/Audio/WingsOfLight.mp3\",\n",
    "        \"/mnt/d/Share/Audio/WingsOfLight.mp3\",\n",
    "        # Add more audio file paths here\n",
    "    ],\n",
    "    \"device\": device,\n",
    "    \"dtype\": dtype,\n",
    "    \"retry_limit\": retry_limit,\n",
    "    \"MAX_SEED\": MAX_SEED\n",
    "}\n",
    "\n",
    "# Ensure base directories exist\n",
    "os.makedirs(CONFIG[\"base_working_dir\"], exist_ok=True)\n",
    "os.makedirs(CONFIG[\"base_video_dir\"], exist_ok=True)\n",
    "\n",
    "args = argparse.Namespace(\n",
    "    quantize_transformer=False,\n",
    "    lora_weight=[],\n",
    "    lora_multiplier=[],\n",
    "    profile=-1,\n",
    "    verbose=1,\n",
    "    server_port=0,\n",
    "    server_name='',\n",
    "    open_browser=False,\n",
    "    model='HYVideo-T/2-cfgdistill',\n",
    "    latent_channels=16,\n",
    "    precision='bf16',\n",
    "    rope_theta=256,\n",
    "    vae='884-16c-hy',\n",
    "    vae_precision='fp16',\n",
    "    vae_tiling=True,\n",
    "    text_encoder='llm',\n",
    "    text_encoder_precision='fp16',\n",
    "    text_states_dim=4096,\n",
    "    text_len=256,\n",
    "    tokenizer='llm',\n",
    "    prompt_template='dit-llm-encode',\n",
    "    prompt_template_video='dit-llm-encode-video',\n",
    "    hidden_state_skip_layer=2,\n",
    "    apply_final_norm=False,\n",
    "    text_encoder_2='clipL',\n",
    "    text_encoder_precision_2='fp16',\n",
    "    text_states_dim_2=768,\n",
    "    tokenizer_2='clipL',\n",
    "    text_len_2=77,\n",
    "    denoise_type='flow',\n",
    "    flow_shift=7.0,\n",
    "    flow_reverse=True,\n",
    "    flow_solver='euler',\n",
    "    use_linear_quadratic_schedule=False,\n",
    "    linear_schedule_end=25,\n",
    "    model_base='ckpts',\n",
    "    dit_weight='ckpts/hunyuan-video-t2v-720p/transformers/mp_rank_00_model_states.pt',\n",
    "    model_resolution='540p',\n",
    "    load_key='module',\n",
    "    use_cpu_offload=False,\n",
    "    batch_size=1,\n",
    "    infer_steps=50,\n",
    "    disable_autocast=False,\n",
    "    save_path='./results',\n",
    "    save_path_suffix='',\n",
    "    name_suffix='',\n",
    "    num_videos=1,\n",
    "    video_size=(720, 1280),\n",
    "    video_length=129,\n",
    "    prompt=None,\n",
    "    seed_type='auto',\n",
    "    seed=None,\n",
    "    neg_prompt=None,\n",
    "    cfg_scale=1.0,\n",
    "    embedded_cfg_scale=6.0,\n",
    "    reproduce=False,\n",
    "    ulysses_degree=1,\n",
    "    ring_degree=1\n",
    ")"
   ]
  },
  {
   "cell_type": "code",
   "execution_count": 4,
   "id": "c34281c1-e231-4472-9d9b-096fa23b4e3b",
   "metadata": {},
   "outputs": [],
   "source": [
    "class SamplerArgs:\n",
    "    \"\"\"\n",
    "    Minimal container for sampler-related settings.\n",
    "    Extend this if you need additional fields that HunyuanVideoSampler\n",
    "    or your pipeline expects.\n",
    "    \"\"\"\n",
    "    def __init__(self):\n",
    "        # Set to True if you want flow reversal in the pipeline\n",
    "        self.flow_reverse = True    \n",
    "def reset_memory(device):\n",
    "    gc.collect()\n",
    "    torch.cuda.empty_cache()\n",
    "    torch.cuda.reset_peak_memory_stats(device)\n",
    "    torch.cuda.reset_accumulated_memory_stats(device)\n",
    "    torch.cuda.synchronize()\n",
    "    \n",
    "def get_openai_prompt_response(\n",
    "    prompt: str,\n",
    "    config: dict,\n",
    "    max_tokens: int = 6000,\n",
    "    temperature: float = 0.33,\n",
    "    openai_model: str = \"\",\n",
    "):\n",
    "    \"\"\"\n",
    "    Sends a prompt to OpenAI's API and retrieves the response with retry logic.\n",
    "    \"\"\"\n",
    "    client = OpenAI(api_key=config[\"openai_api_key\"])\n",
    "    response = client.chat.completions.create(\n",
    "        max_tokens=max_tokens,\n",
    "        messages=[\n",
    "            {\n",
    "                \"role\": \"system\",\n",
    "                \"content\": \"\"\"Act as a helpful assistant, you are an expert editor.\"\"\",\n",
    "            },\n",
    "            {\"role\": \"user\", \"content\": prompt},\n",
    "        ],\n",
    "        model=openai_model or config[\"openai_model\"],\n",
    "        temperature=temperature,\n",
    "    )\n",
    "\n",
    "    retry_count = 0\n",
    "    while retry_count < config[\"retry_limit\"]:\n",
    "        try:\n",
    "            message_content = response.choices[0].message.content\n",
    "            return message_content\n",
    "        except Exception as e:\n",
    "            print(f\"Error occurred: {e}\")\n",
    "            retry_count += 1\n",
    "            if retry_count == config[\"retry_limit\"]:\n",
    "                print(\"Retry limit reached. Moving to the next iteration.\")\n",
    "                return \"\"\n",
    "            else:\n",
    "                print(f\"Retrying... (Attempt {retry_count}/{config['retry_limit']})\")\n",
    "                time.sleep(1)  # Optional: wait before retrying\n",
    "\n",
    "\n",
    "def load_flux_pipe():\n",
    "    bfl_repo = \"black-forest-labs/FLUX.1-dev\"\n",
    "    revision = \"refs/pr/3\"\n",
    "    adapter_id = \"alimama-creative/FLUX.1-Turbo-Alpha\"\n",
    "\n",
    "    scheduler = FlowMatchEulerDiscreteScheduler.from_pretrained(bfl_repo, subfolder=\"scheduler\", revision=revision)\n",
    "    text_encoder = CLIPTextModel.from_pretrained(\"openai/clip-vit-large-patch14\", torch_dtype=dtype)\n",
    "    tokenizer = CLIPTokenizer.from_pretrained(\"openai/clip-vit-large-patch14\", torch_dtype=dtype)\n",
    "    text_encoder_2 = T5EncoderModel.from_pretrained(bfl_repo, subfolder=\"text_encoder_2\", torch_dtype=dtype, revision=revision)\n",
    "    tokenizer_2 = T5TokenizerFast.from_pretrained(bfl_repo, subfolder=\"tokenizer_2\", torch_dtype=dtype, revision=revision)\n",
    "    vae = AutoencoderKL.from_pretrained(bfl_repo, subfolder=\"vae\", torch_dtype=dtype, revision=revision)\n",
    "    transformer = FluxTransformer2DModel.from_pretrained(bfl_repo, subfolder=\"transformer\", torch_dtype=dtype, revision=revision)\n",
    "    \n",
    "    quantize_(transformer, quantization())\n",
    "    quantize_(text_encoder_2, quantization())\n",
    "    pipe = FluxPipeline(\n",
    "        scheduler=scheduler,\n",
    "        text_encoder=text_encoder,\n",
    "        tokenizer=tokenizer,\n",
    "        text_encoder_2=text_encoder_2,\n",
    "        tokenizer_2=tokenizer_2,\n",
    "        vae=vae,\n",
    "        transformer=transformer,\n",
    "    )\n",
    "\n",
    "    pipe = pipe.to('cuda')\n",
    "    pipe.load_lora_weights(adapter_id)\n",
    "\n",
    "    return pipe\n",
    "\n",
    "\n",
    "def gen_flux_image(pipe, prompt, config: dict, height=1024, width=1024, guidance_scale=3.5, num_inference_steps=8, max_sequence_length=512, seed=-1):\n",
    "    \"\"\"\n",
    "    Generates an image based on the provided prompt using the Flux pipeline.\n",
    "    \"\"\"\n",
    "    if seed == -1:\n",
    "        seed = random.randint(0, MAX_SEED)\n",
    "        \n",
    "    with torch.no_grad():\n",
    "        prompt_embeds, pooled_prompt_embeds = get_weighted_text_embeddings_flux1(\n",
    "            pipe        = pipe,\n",
    "            prompt    = prompt\n",
    "        )\n",
    "        \n",
    "        image = pipe(\n",
    "            prompt_embeds               = prompt_embeds,\n",
    "            pooled_prompt_embeds      = pooled_prompt_embeds,\n",
    "            height=height,\n",
    "            width=width,\n",
    "            guidance_scale=guidance_scale,\n",
    "            output_type=\"pil\",\n",
    "            num_inference_steps=num_inference_steps,\n",
    "            max_sequence_length=max_sequence_length,\n",
    "            generator=torch.Generator(\"cpu\").manual_seed(seed)\n",
    "        ).images[0]\n",
    "\n",
    "        # Delete variables\n",
    "        del prompt_embeds\n",
    "        del pooled_prompt_embeds\n",
    "        torch.cuda.empty_cache()\n",
    "\n",
    "        return image\n",
    "\n",
    "\n",
    "def image_file_to_base64(image_path):\n",
    "    with open(image_path, 'rb') as f:\n",
    "        image_data = f.read()\n",
    "    return base64.b64encode(image_data).decode('utf-8')\n",
    "\n",
    "# Use this function to fetch an image from a URL and convert it to base64\n",
    "def image_url_to_base64(image_url):\n",
    "    response = requests.get(image_url)\n",
    "    image_data = response.content\n",
    "    return base64.b64encode(image_data).decode('utf-8')\n",
    "    \n",
    "def load_hunyuan_video_sampler(\n",
    "    server_config_filename: str = \"gradio_config.json\",\n",
    "    forced_profile_no: int = -1,\n",
    "    verbose_level: int = 1,\n",
    "    quantize_transformer: bool = True,\n",
    "    lora_weight: list = None,\n",
    "    lora_multiplier: list = None,\n",
    "    device: str = \"cpu\",\n",
    ") -> HunyuanVideoSampler:\n",
    "    \"\"\"\n",
    "    Loads the HunyuanVideo pipeline according to settings in `server_config_filename`.\n",
    "    If `forced_profile_no` is >= 0, that overrides the 'profile' field in the server config.\n",
    "    This version does NOT parse any command-line arguments.\n",
    "    \"\"\"\n",
    "    if lora_weight is None:\n",
    "        lora_weight = []\n",
    "    if lora_multiplier is None:\n",
    "        lora_multiplier = []\n",
    "\n",
    "    # -----------------------------------------------------------------------\n",
    "    # Read or create server_config\n",
    "    # -----------------------------------------------------------------------\n",
    "    if not Path(server_config_filename).is_file():\n",
    "        # Default config if none present\n",
    "        server_config = {\n",
    "            \"attention_mode\": \"sage\",\n",
    "            \"transformer_filename\": \"ckpts/hunyuan-video-t2v-720p/transformers/hunyuan_video_720_quanto_int8.safetensors\",\n",
    "            \"text_encoder_filename\": \"ckpts/text_encoder/llava-llama-3-8b-v1_1_quanto_int8.safetensors\",\n",
    "            \"compile\": \"\",\n",
    "            \"profile\": profile_type.HighRAM_LowVRAM,\n",
    "        }\n",
    "        with open(server_config_filename, \"w\", encoding=\"utf-8\") as writer:\n",
    "            writer.write(json.dumps(server_config))\n",
    "    else:\n",
    "        with open(server_config_filename, \"r\", encoding=\"utf-8\") as reader:\n",
    "            text = reader.read()\n",
    "        server_config = json.loads(text)\n",
    "\n",
    "    # Pull out config\n",
    "    transformer_filename = server_config[\"transformer_filename\"]\n",
    "    text_encoder_filename = server_config[\"text_encoder_filename\"]\n",
    "    attention_mode = server_config[\"attention_mode\"]\n",
    "    profile = forced_profile_no if forced_profile_no >= 0 else server_config[\"profile\"]\n",
    "    compile_mode = server_config.get(\"compile\", \"\")\n",
    "\n",
    "    # -----------------------------------------------------------------------\n",
    "    # Download any missing models from HF or any other source (if needed)\n",
    "    # -----------------------------------------------------------------------\n",
    "    def download_models(transformer_filename, text_encoder_filename):\n",
    "        \"\"\"\n",
    "        Stub: Implement your huggingface_hub logic here if needed.\n",
    "        \"\"\"\n",
    "        pass\n",
    "\n",
    "    download_models(transformer_filename, text_encoder_filename)\n",
    "\n",
    "    # -----------------------------------------------------------------------\n",
    "    # Optional: tweak VAE config, etc.\n",
    "    # -----------------------------------------------------------------------\n",
    "    offload.default_verboseLevel = verbose_level\n",
    "\n",
    "    vae_config_path = \"./ckpts/hunyuan-video-t2v-720p/vae/config.json\"\n",
    "    if os.path.isfile(vae_config_path):\n",
    "        with open(vae_config_path, \"r\", encoding=\"utf-8\") as reader:\n",
    "            vae_config = json.loads(reader.read())\n",
    "        # Example: reduce time window used by the VAE for temporal splitting\n",
    "        if vae_config.get(\"sample_tsize\", 64) == 64:\n",
    "            vae_config[\"sample_tsize\"] = 32\n",
    "        with open(vae_config_path, \"w\", encoding=\"utf-8\") as writer:\n",
    "            writer.write(json.dumps(vae_config))\n",
    "\n",
    "    # -----------------------------------------------------------------------\n",
    "    # Decide how to pin memory, partial pin, etc. \n",
    "    # -----------------------------------------------------------------------\n",
    "    if profile == 5:\n",
    "        pinToMemory = False\n",
    "        partialPinning = False\n",
    "    else:\n",
    "        pinToMemory = True\n",
    "        physical_memory = psutil.virtual_memory().total\n",
    "        # E.g. partial pin if <= 32 GB of RAM\n",
    "        partialPinning = physical_memory <= (2**30) * 32\n",
    "\n",
    "    # -----------------------------------------------------------------------\n",
    "    # Load the pipeline\n",
    "    # -----------------------------------------------------------------------\n",
    "    hunyuan_video_sampler = HunyuanVideoSampler.from_pretrained(\n",
    "        transformer_filename,\n",
    "        text_encoder_filename,\n",
    "        attention_mode=attention_mode,\n",
    "        pinToMemory=pinToMemory,\n",
    "        partialPinning=partialPinning,\n",
    "        args=args,      # passes our simple SamplerArgs object\n",
    "        device=device,\n",
    "    )\n",
    "\n",
    "    pipe = hunyuan_video_sampler.pipeline\n",
    "\n",
    "    # -----------------------------------------------------------------------\n",
    "    # Optionally load LoRAs\n",
    "    # -----------------------------------------------------------------------\n",
    "    if len(lora_weight) > 0:\n",
    "        offload.load_loras_into_model(pipe.transformer, lora_weight, lora_multiplier)\n",
    "\n",
    "    # -----------------------------------------------------------------------\n",
    "    # Profile, compile, or quantize\n",
    "    # -----------------------------------------------------------------------\n",
    "    offload.profile(\n",
    "        pipe,\n",
    "        profile_no=profile,\n",
    "        compile=compile_mode,\n",
    "        quantizeTransformer=quantize_transformer,\n",
    "    )\n",
    "\n",
    "    return hunyuan_video_sampler\n",
    "\n",
    "\n",
    "def generate_video(\n",
    "    hunyuan_video_sampler,\n",
    "    height=HEIGHT,\n",
    "    width=WIDTH,\n",
    "    video_length=121,\n",
    "    infer_steps=50,\n",
    "    prompt=\"A cat walks on the grass, realistic style.\",\n",
    "    negative_prompt=\"Aerial view, overexposed, low quality, deformation\",\n",
    "    flow_shift=7.0,\n",
    "    filename=\"./output.mp4\",\n",
    "    seed=42,\n",
    "    cfg_scale=7.5,\n",
    "    batch_size=1,\n",
    "    embedded_cfg_scale=1.0,\n",
    "):\n",
    "\n",
    "       # TeaCache\n",
    "    trans = hunyuan_video_sampler.pipeline.transformer.__class__\n",
    "    trans.enable_teacache = False\n",
    "    if trans.enable_teacache:\n",
    "        trans.num_steps = num_inference_steps\n",
    "        trans.cnt = 0\n",
    "        trans.rel_l1_thresh = 0.15 # 0.1 for 1.6x speedup, 0.15 for 2.1x speedup\n",
    "        trans.accumulated_rel_l1_distance = 0\n",
    "        trans.previous_modulated_input = None\n",
    "        trans.previous_residual = None\n",
    "        \n",
    "    \"\"\"\n",
    "    Generates and saves a video using the provided sampler, based on the specified parameters.\n",
    "    The result is written to 'filename'.\n",
    "    \"\"\"\n",
    "    outputs = hunyuan_video_sampler.predict(\n",
    "        prompt=prompt,\n",
    "        height=480,\n",
    "        width=848,\n",
    "        video_length=121,\n",
    "        seed=seed,\n",
    "        negative_prompt=negative_prompt,\n",
    "        infer_steps=50,\n",
    "        guidance_scale=1.0,\n",
    "        num_videos_per_prompt=1,\n",
    "        flow_shift=7.0,\n",
    "        batch_size=batch_size,\n",
    "        embedded_guidance_scale=6.0,\n",
    "    )\n",
    "\n",
    "    samples = outputs[\"samples\"]\n",
    "    # Assuming one video per prompt:\n",
    "    for i, sample in enumerate(samples):\n",
    "        # shape is (C, T, H, W)\n",
    "        sample = sample.unsqueeze(0)  # (1, C, T, H, W)\n",
    "        save_videos_grid(sample, filename, fps=24)\n",
    "\n",
    "    return filename\n",
    "\n",
    "\n",
    "def unload_hunyuan_video_sampler(hunyuan_video_sampler):\n",
    "    \"\"\"\n",
    "    Frees the memory used by the pipeline.\n",
    "    In a normal Python script, deleting references and calling torch.cuda.empty_cache()\n",
    "    is usually enough.\n",
    "    \"\"\"\n",
    "    del hunyuan_video_sampler\n",
    "    torch.cuda.empty_cache()\n",
    "\n",
    "\n",
    "def create_scenes(text: str, video_summary: str, config: dict):\n",
    "    \"\"\"\n",
    "    Creates scenes based on the extracted lyrics using OpenAI's API.\n",
    "    \"\"\"\n",
    "    # Generate scenes JSON\n",
    "    prompt = f'''Create a json list of diverse, unique scenes (groupings of text), scene_description (200 words or less), and action_sequence (30 words or less) from the following text.  Scenes should be groups of lyrics with new scenes when the lyric context changes.  Text: {text}   \n",
    "The json list should have the start value for the first item in the scene and the text that is combined for all items in the same scene.  \n",
    "The scene_description should include sensory rich details such as attire, setting, mood, lighting, and changing compositions, painting a clear visual scene consistent with the video theme and different from other scenes.  Use theme descriptions, such as graphic novel, water color, render, oil painting, etc.  Scenes should avoid depictions of literal people, unless they are close up of a single person.  Favor symbolism and artistic illustrations of concepts and feeling, emotion.  Avoid depections of literal people. Evoke strong emotions with atmospheric lighting and tone. Use descriptive phrases to capture the mood (e.g., flickering neon, golden twilight, ethereal glow).\n",
    "Avoid scenes with many people moving.\n",
    "The action_sequence should describe the action in the scene.  Scenes should be unique, creative, imaginative, and awe-inspiring to create an amazing video.  Create beautiful and mesmerizing scene descriptions that are creative, unique, artistic, and imaginative. Each scene must be unique, imaginative, and visually captivating, blending creativity with artistic flair. Use powerful, descriptive language to craft scenes that are awe-inspiring and leave the audience in wonder. These scenes should evoke a sense of beauty, grandeur, mystery, or anything emotional, drawing from both realistic and fantastical elements. Ensure the descriptions are immersive, emotionally resonant, and filled with unexpected twists that engage the senses and imagination, suitable for creating a stunning, cinematic video experience.  Use descriptions of special effects in the scenes.  \n",
    "Action should avoid sudden or fast movement or zooms, avoid any fast camera movement.  Avoid human movements like walking, dancing, shopping, etc.\n",
    "Return only the json list, less jargon. The json list fields should be: start, text, scene_description, action_sequence'''\n",
    "\n",
    "    result = get_openai_prompt_response(prompt, config, openai_model=config[\"openai_model\"], temperature=0.66)\n",
    "    result = result.replace(\"```\", \"\").replace(\"```json\\n\", \"\").replace(\"json\\n\", \"\").replace(\"\\n\", \"\")\n",
    "    scenes = json.loads(result)\n",
    "    return scenes\n",
    "\n",
    "def revise_scenes(scenes, config: dict):\n",
    "    \"\"\"\n",
    "    Revise scenes based on the extracted scenes.\n",
    "    \"\"\"\n",
    "    # Generate scenes JSON\n",
    "    prompt = f'''Revise the JSON scenes to update the scene_description and action_sequence to engage the senses and imagination, suitable for creating a stunning, cinematic video experience.  We want unique scenes, even ones in the same sequence. Use descriptions of special effects in the scenes.  JSON scenes: {scenes}   \n",
    "The scene_description (200 words or less) should include details such as attire, setting, mood, lighting, and any significant movements or expressions, painting a clear visual scene consistent with the video theme and different from other scenes. Use theme descriptions, such as graphic novel, water color, render, oil painting, etc.  Scenes should avoid depictions of literal people, unless they are close up of a single person.  Favor symbolism and artistic illustrations of concepts and feeling, emotion.  Avoid depections of literal people. Evoke strong emotions with atmospheric lighting and tone. Use descriptive phrases to capture the mood (e.g., flickering neon, golden twilight, ethereal glow).\n",
    "The action_sequence (30 words or less) should describe the action in the scene.  The goal is to create input to create a stunning, cinematic video experience.   \n",
    "Action should avoid sudden or fast movement or zooms, avoid any fast camera movement. Avoid human movements like walking, dancing, shopping, etc.\n",
    "Only update the scene_description and action_sequence. We do not want to have similar scene_descriptions and action_sequences for consecutive scenes, we want unique scenes that tell a brilliant, cohesive story.  Please update the scene_description and action_sequence to be differemt, creative, and consistent.  \n",
    "Do not delete any items as having scenes with the given start times are important. \n",
    "Return only the json list, less jargon. The json list fields should be: start, text, scene_description, action_sequence'''\n",
    "\n",
    "    result = get_openai_prompt_response(prompt, config, openai_model=config[\"openai_model\"], temperature=0.33)\n",
    "    result = result.replace(\"```\", \"\").replace(\"```json\\n\", \"\").replace(\"json\\n\", \"\").replace(\"\\n\", \"\")\n",
    "    scenes = json.loads(result)\n",
    "    return scenes\n",
    "\n",
    "\n",
    "def process_audio_scenes(audio_file: str, config: dict):\n",
    "    # set maximum duration for an image basis, should be in intervals of video generation length\n",
    "    video_gen_length = 5\n",
    "    max_duration_seconds  = video_gen_length * 3\n",
    "    \"\"\"\n",
    "    Processes a single audio file through the entire workflow.\n",
    "    \"\"\"\n",
    "    # Create unique identifier based on audio file name\n",
    "    audio_basename = os.path.splitext(os.path.basename(audio_file))[0]\n",
    "    timestamp = datetime.now().strftime(\"%Y%m%d_%H%M%S\")\n",
    "    unique_id = f\"{audio_basename}_{timestamp}\"\n",
    "\n",
    "    # Create unique directories for images and videos\n",
    "    print(f\"Create unique directories for images and videos\")\n",
    "    audio_images_dir = os.path.join(config[\"base_working_dir\"], unique_id)\n",
    "    audio_videos_dir = os.path.join(config[\"base_video_dir\"], unique_id)\n",
    "    os.makedirs(audio_images_dir, exist_ok=True)\n",
    "    os.makedirs(audio_videos_dir, exist_ok=True)\n",
    "\n",
    "    # Step 1: Transcribe audio using Whisper\n",
    "    print(f\"Transcribe audio using Whisper\")\n",
    "    model = whisper.load_model(\"turbo\")\n",
    "    result = model.transcribe(audio_file)\n",
    "\n",
    "    # Cleanup Whisper model memory\n",
    "    del model\n",
    "    gc.collect()\n",
    "    torch.cuda.empty_cache()\n",
    "\n",
    "    segments = result['segments']\n",
    "\n",
    "    # Extract list of start times and texts\n",
    "    segment_texts_and_start_times = [(segment['text'].strip(), segment['start']) for segment in segments]\n",
    "\n",
    "    # Combine texts\n",
    "    text = \"\"\n",
    "    for segment_text, start in segment_texts_and_start_times:\n",
    "        text += f\"Start: {start}, Text: {segment_text}\\n\"\n",
    "\n",
    "    last_end_value = segments[-1]['end']\n",
    "\n",
    "    # Path to scenes.json file\n",
    "    scenes_file_path = os.path.join(audio_images_dir, \"scenes.json\")\n",
    "\n",
    "    # Check if scenes.json exists\n",
    "    if os.path.exists(scenes_file_path):\n",
    "        print(f\"Scenes file already exists at {scenes_file_path}. Skipping scene generation.\")\n",
    "        with open(scenes_file_path, \"r\") as scenes_file:\n",
    "            scenes = json.load(scenes_file)\n",
    "        return scenes, audio_images_dir, audio_videos_dir, last_end_value\n",
    "\n",
    "    # Step 2: Generate video summary using OpenAI\n",
    "    print(f\"Generate video summary using OpenAI\")\n",
    "    video_summary_prompt = f'Create a short summary that describes a music video based on these lyrics: {text}'\n",
    "    video_summary = get_openai_prompt_response(video_summary_prompt, config, openai_model=config[\"openai_model\"])\n",
    "\n",
    "    # Step 3: Create scenes based on lyrics\n",
    "    print(f\"Create scenes based on lyrics\")\n",
    "    try:\n",
    "        scenes = create_scenes(text, video_summary, config)\n",
    "    except:\n",
    "        try:\n",
    "            scenes = create_scenes(text, video_summary, config)\n",
    "        except:\n",
    "            try:\n",
    "                scenes = create_scenes(text, video_summary, config)\n",
    "            except: \n",
    "                return \"\", audio_images_dir, audio_videos_dir, last_end_value\n",
    "            \n",
    "    # we don't want scenes longer than 18 seconds\n",
    "    new_scenes = []\n",
    "    for i in range(len(scenes)):\n",
    "        scene = scenes[i]\n",
    "        if i == 0:\n",
    "            start_time = 0\n",
    "        else:\n",
    "            start_time = scene['start']\n",
    "        # Determine the end time\n",
    "        if i < len(scenes) - 1:\n",
    "            end_time = scenes[i + 1]['start']\n",
    "        else:\n",
    "            end_time = last_end_value\n",
    "        duration = end_time - start_time\n",
    "        # Split the scene if duration exceeds max_duration_seconds seconds\n",
    "        while duration > max_duration_seconds:\n",
    "            new_scene = scene.copy()\n",
    "            new_scene['start'] = start_time\n",
    "            new_scenes.append(new_scene)\n",
    "            start_time += max_duration_seconds\n",
    "            duration = end_time - start_time\n",
    "        # Append the remaining part of the scene\n",
    "        if duration > 0:\n",
    "            new_scene = scene.copy()\n",
    "            new_scene['start'] = start_time\n",
    "            new_scenes.append(new_scene)\n",
    "    # Replace the original scenes with the new list\n",
    "    scenes = new_scenes\n",
    "    # improve the scenes with a revision\n",
    "    try:\n",
    "        scenes_revised = revise_scenes(scenes, config)\n",
    "        scenes = scenes_revised\n",
    "        print(f'revised scenes')\n",
    "    except:\n",
    "        try:\n",
    "            scenes_revised = revise_scenes(scenes, config)\n",
    "            scenes = scenes_revised\n",
    "            print(f'revised scenes')\n",
    "        except:\n",
    "            print('cannot revise scenes')\n",
    "            \n",
    "    \n",
    "    # Save the scenes to scenes.json\n",
    "    with open(scenes_file_path, \"w\") as scenes_file:\n",
    "        json.dump(scenes, scenes_file)\n",
    "        \n",
    "    return scenes, audio_images_dir, audio_videos_dir, last_end_value, timestamp\n",
    "\n",
    "def process_audio_images(config: dict, scenes, audio_images_dir):\n",
    "    # Step 4: Load Flux pipeline and generate images\n",
    "    print(f\"Load Flux pipeline and generate images\")\n",
    "    flux_pipe = load_flux_pipe()\n",
    "    height = HEIGHT\n",
    "    width = WIDTH\n",
    "    guidance_scale = 3.9\n",
    "    num_inference_steps = 8\n",
    "    max_sequence_length = 512\n",
    "    seed = -1\n",
    "\n",
    "    try:\n",
    "        # Generate images for each scene\n",
    "        image_num = 1\n",
    "        for scene in scenes:\n",
    "            image_prompt = scene['scene_description']\n",
    "            image = gen_flux_image(flux_pipe, image_prompt, config, height, width, guidance_scale, num_inference_steps, max_sequence_length, seed)\n",
    "            filename = f\"image_{str(image_num).zfill(2)}.jpg\"\n",
    "            image_path = os.path.join(audio_images_dir, filename)\n",
    "            image.save(image_path, dpi=(300, 300))\n",
    "            del image\n",
    "            torch.cuda.empty_cache()\n",
    "            image_num += 1\n",
    "    finally:\n",
    "        # Move the pipeline back to CPU and delete it\n",
    "        flux_pipe.to('cpu')\n",
    "        del flux_pipe\n",
    "        gc.collect()\n",
    "        torch.cuda.empty_cache()\n",
    "    return\n",
    "\n",
    "def process_audio_video(config: dict, scenes, audio_images_dir, audio_videos_dir, last_end_value, timestamp, skip_first):\n",
    "    video_num = 1\n",
    "    negative_prompt = \"Aerial view, aerial view, overexposed, low quality, deformation, a poor composition, bad hands, bad teeth, bad eyes, bad limbs, distortion\"\n",
    "   \n",
    "    hunyuan_video_sampler = load_hunyuan_video_sampler(\n",
    "        server_config_filename=\"gradio_config.json\",\n",
    "        forced_profile_no=-1,\n",
    "        verbose_level=1,\n",
    "        quantize_transformer=True,\n",
    "        lora_weight=[],\n",
    "        lora_multiplier=[],\n",
    "        device=\"cuda\",  # or \"cpu\"\n",
    "    )\n",
    "    # Step 7: Generate video sequences\n",
    "    for i, scene in enumerate(scenes):\n",
    "        prompt = scene[\"scene_description\"] + \" \" + scene[\"action_sequence\"]\n",
    "\n",
    "        # Calculate duration to keep the video in 6-second increments\n",
    "        if i + 1 < len(scenes):\n",
    "            next_start_time = scenes[i + 1][\"start\"]\n",
    "        else:\n",
    "            next_start_time = last_end_value  # Use the final ending time for the last scene\n",
    "\n",
    "        if i == 0:\n",
    "            duration = next_start_time\n",
    "        else:\n",
    "            duration = next_start_time - scene[\"start\"]\n",
    "        num_video_segments = int((duration + 2) // 5)\n",
    "\n",
    "        print(f\"Scene {i+1} has {num_video_segments} segments\")\n",
    "        for j in range(num_video_segments):\n",
    "            video_name = f\"video_{str(video_num).zfill(2)}_{str(i+1).zfill(2)}_{str(j+1).zfill(2)}_{timestamp}.mp4\"\n",
    "            video_output_path = os.path.join(audio_videos_dir, video_name)\n",
    "            if video_num > skip_first:\n",
    "                seed = random.randint(0, MAX_SEED)\n",
    "                generate_video(hunyuan_video_sampler=hunyuan_video_sampler, height=HEIGHT, width=WIDTH, video_length=121, infer_steps=50,\n",
    "                    prompt=prompt, negative_prompt=negative_prompt, flow_shift=7.0, filename=video_output_path,\n",
    "                    seed=seed, cfg_scale=7.5, batch_size=1, embedded_cfg_scale=1.0)\n",
    "                \n",
    "                time.sleep(1)  # Pause for 1 second\n",
    "\n",
    "            video_num += 1  # Increment video number for the next segment\n",
    "    \n",
    "    unload_hunyuan_video_sampler(hunyuan_video_sampler)\n",
    "    return\n",
    "\n",
    "\n",
    "def process_all_audios(audio_file, config: dict):\n",
    "    \"\"\"\n",
    "    Processes a list of audio files through the workflow.\n",
    "    \"\"\"\n",
    "    print(f\"Processing audio file: {audio_file}\")\n",
    "    scenes, audio_images_dir, audio_videos_dir, last_end_value, timestamp = process_audio_scenes(audio_file, config)\n",
    "    print(f'{len(scenes)} scenes:\\n{json.dumps(scenes, indent=4)}')\n",
    "    # Create starting images for scenes\n",
    "    process_audio_images(config, scenes, audio_images_dir)\n",
    "    return config, scenes, audio_images_dir, audio_videos_dir, last_end_value, timestamp\n",
    "\n",
    "def create_video(images_only):\n",
    "    config, scenes, audio_images_dir, audio_videos_dir, last_end_value, timestamp = process_all_audios(audio_file, CONFIG)\n",
    "    if not images_only:\n",
    "        process_audio_video(config, scenes, audio_images_dir, audio_videos_dir, last_end_value, timestamp, 0)\n",
    "    print(f'audio_images_dir: {audio_images_dir}')\n",
    "    print(f'audio_videos_dir: {audio_videos_dir}')\n",
    "    print(f'last_end_value: {last_end_value}')\n",
    "    print(f'timestamp: {timestamp}')\n",
    "    \n",
    "    return\n",
    "    \n"
   ]
  },
  {
   "cell_type": "code",
   "execution_count": 5,
   "id": "04a0cc96-e609-4cd2-9c67-dcd63562988a",
   "metadata": {
    "scrolled": true
   },
   "outputs": [
    {
     "name": "stdout",
     "output_type": "stream",
     "text": [
      "Processing audio file: /mnt/d/Share/Audio/WingsOfLight.mp3\n",
      "Create unique directories for images and videos\n",
      "Transcribe audio using Whisper\n"
     ]
    },
    {
     "name": "stderr",
     "output_type": "stream",
     "text": [
      "/home/silwa/anaconda3/lib/python3.11/site-packages/whisper/__init__.py:150: FutureWarning: You are using `torch.load` with `weights_only=False` (the current default value), which uses the default pickle module implicitly. It is possible to construct malicious pickle data which will execute arbitrary code during unpickling (See https://github.com/pytorch/pytorch/blob/main/SECURITY.md#untrusted-models for more details). In a future release, the default value for `weights_only` will be flipped to `True`. This limits the functions that could be executed during unpickling. Arbitrary objects will no longer be allowed to be loaded via this mode unless they are explicitly allowlisted by the user via `torch.serialization.add_safe_globals`. We recommend you start setting `weights_only=True` for any use case where you don't have full control of the loaded file. Please open an issue on GitHub for any issues related to this experimental feature.\n",
      "  checkpoint = torch.load(fp, map_location=device)\n"
     ]
    },
    {
     "name": "stdout",
     "output_type": "stream",
     "text": [
      "Generate video summary using OpenAI\n",
      "Create scenes based on lyrics\n",
      "revised scenes\n",
      "25 scenes:\n",
      "[\n",
      "    {\n",
      "        \"start\": 0,\n",
      "        \"text\": \"Angels. Some see them as baby-faced protectors. Others envision them locked in battle with demons. But what if they're more than our eyes can handle?\",\n",
      "        \"scene_description\": \"A vast celestial expanse unfolds, where soft, golden twilight mingles with swirling iridescent clouds. Ethereal beings, adorned in flowing robes of shimmering light, hover gracefully, their wings glistening like dew-kissed petals. The air is thick with a palpable serenity, as gentle whispers of hope echo through the atmosphere. Shadows flicker playfully, hinting at unseen conflicts, yet a profound tranquility reigns. The palette is a harmonious blend of pastel blues and warm yellows, creating a watercolor dreamscape that invites exploration of divine mysteries.\",\n",
      "        \"action_sequence\": \"Angels glide softly through the air, their luminous forms illuminating hidden pathways, as a soothing aura envelops the scene.\"\n",
      "    },\n",
      "    {\n",
      "        \"start\": 15,\n",
      "        \"text\": \"Angels. Some see them as baby-faced protectors. Others envision them locked in battle with demons. But what if they're more than our eyes can handle?\",\n",
      "        \"scene_description\": \"In a twilight realm, a tapestry of stars twinkles against a deep indigo sky. Ethereal figures, cloaked in flowing silks that shimmer like starlight, drift among clouds of silver mist. The atmosphere hums with a gentle melody, each note resonating with the heartbeat of the universe. Shadows weave through the mist, creating a dance of light and dark, while the colors shift subtly, evoking a sense of wonder and mystery. This scene captures the essence of celestial guardianship, inviting viewers to contemplate the unseen.\",\n",
      "        \"action_sequence\": \"Angels move gracefully through the mist, their presence illuminating the darkness, as soft music envelops the viewer in a warm embrace.\"\n",
      "    },\n",
      "    {\n",
      "        \"start\": 30,\n",
      "        \"text\": \"Angels. Some see them as baby-faced protectors. Others envision them locked in battle with demons. But what if they're more than our eyes can handle?\",\n",
      "        \"scene_description\": \"A tranquil garden blooms under a soft, golden glow, where flowers sway gently in a warm breeze. Ethereal beings, dressed in robes of translucent light, tend to the blossoms, their hands brushing against petals that shimmer like gemstones. The air is fragrant with the scent of blooming jasmine, and the atmosphere is infused with a sense of nurturing love. Sunlight filters through the leaves, casting intricate patterns on the ground, creating a serene sanctuary filled with warmth and compassion.\",\n",
      "        \"action_sequence\": \"Angels caress the flowers, coaxing them to bloom brighter, as a soft, harmonious melody fills the air, wrapping around the viewer like a gentle hug.\"\n",
      "    },\n",
      "    {\n",
      "        \"start\": 45,\n",
      "        \"text\": \"Angels. Some see them as baby-faced protectors. Others envision them locked in battle with demons. But what if they're more than our eyes can handle?\",\n",
      "        \"scene_description\": \"A serene lake reflects the twilight sky, where soft hues of pink and lavender blend seamlessly. Ethereal figures, adorned in flowing garments that ripple like water, glide above the surface, their presence creating gentle ripples that shimmer in the fading light. The atmosphere is tranquil, filled with the soothing sounds of nature, as fireflies dance in the air, adding a touch of magic. This scene embodies a sense of peace and introspection, inviting viewers to connect with their innermost thoughts.\",\n",
      "        \"action_sequence\": \"Angels float gracefully above the lake, their reflections shimmering in the water, as the soft sounds of nature create a calming symphony.\"\n",
      "    },\n",
      "    {\n",
      "        \"start\": 60,\n",
      "        \"text\": \"Angels. Some see them as baby-faced protectors. Others envision them locked in battle with demons. But what if they're more than our eyes can handle?\",\n",
      "        \"scene_description\": \"An enchanting forest emerges, where ancient trees stretch towards the heavens, their leaves whispering secrets in the breeze. Ethereal beings, cloaked in robes of emerald and gold, weave through the branches, their presence illuminating the darkened pathways. The air is alive with the sounds of rustling leaves and distant chimes, creating a symphony of nature's beauty. Soft beams of light filter through the canopy, casting a magical glow that dances across the forest floor, inviting exploration of the hidden wonders within.\",\n",
      "        \"action_sequence\": \"Angels move gracefully among the trees, their laughter echoing softly as they illuminate the path ahead with their radiant light.\"\n",
      "    },\n",
      "    {\n",
      "        \"start\": 75,\n",
      "        \"text\": \"Angels. Some see them as baby-faced protectors. Others envision them locked in battle with demons. But what if they're more than our eyes can handle?\",\n",
      "        \"scene_description\": \"A celestial ocean glimmers under a starlit sky, where waves of light ripple gently across the surface. Ethereal beings, adorned in flowing garments of silver and blue, glide above the water, their movements fluid and serene. The atmosphere is tranquil, with the soft sound of waves lapping against the shore creating a soothing backdrop. Wisps of fog drift lazily, enhancing the dreamlike quality of the scene, as the colors blend seamlessly into one another, evoking a sense of peace and wonder.\",\n",
      "        \"action_sequence\": \"Angels glide effortlessly above the water, their luminous forms leaving trails of light, as the gentle sounds of the ocean cradle the viewer in calm.\"\n",
      "    },\n",
      "    {\n",
      "        \"start\": 90,\n",
      "        \"text\": \"Angels. Some see them as baby-faced protectors. Others envision them locked in battle with demons. But what if they're more than our eyes can handle?\",\n",
      "        \"scene_description\": \"A majestic mountain range rises against a twilight sky, where hues of orange and purple blend harmoniously. Ethereal figures, cloaked in robes that mimic the colors of the sunset, stand atop the peaks, their wings unfurling like banners of hope. The air is crisp and invigorating, filled with the scent of pine and earth. A gentle breeze carries whispers of ancient wisdom, creating a sense of connection to the universe. This scene embodies strength and serenity, inviting viewers to reflect on their journey.\",\n",
      "        \"action_sequence\": \"Angels stand tall on the mountaintops, their wings catching the light, as a soft wind carries their whispers of encouragement to the viewer.\"\n",
      "    },\n",
      "    {\n",
      "        \"start\": 105,\n",
      "        \"text\": \"Angels. Some see them as baby-faced protectors. Others envision them locked in battle with demons. But what if they're more than our eyes can handle?\",\n",
      "        \"scene_description\": \"A vibrant cityscape glows under a canopy of stars, where ethereal beings weave through the streets, their robes shimmering like the night sky. The atmosphere is alive with the sounds of laughter and music, as colorful lights flicker like fireflies. Angels, adorned in garments of light, interact with the environment, their presence infusing the city with warmth and joy. This scene captures the essence of community and connection, inviting viewers to embrace the magic of togetherness.\",\n",
      "        \"action_sequence\": \"Angels dance through the streets, their laughter echoing, as they spread light and joy, illuminating the night with their presence.\"\n",
      "    },\n",
      "    {\n",
      "        \"start\": 111,\n",
      "        \"text\": \"We run from shadows we create, violins at the gate but angels hold a different grades they cradle hope in empty space.\",\n",
      "        \"scene_description\": \"A mystical night unfolds, where shadows stretch and twist against a backdrop of shimmering stars. Ethereal figures, draped in flowing silks that glimmer like moonlight, emerge from the darkness, cradling delicate orbs of light. The air is filled with the haunting strains of violins, weaving a melody that resonates deep within the soul. Wisps of silver mist swirl around, creating an atmosphere of enchantment and longing, as the angels embody the essence of hope amidst the shadows.\",\n",
      "        \"action_sequence\": \"Angels glide through the mist, cradling glowing orbs, as the music swells, enveloping the viewer in a cocoon of warmth and solace.\"\n",
      "    },\n",
      "    {\n",
      "        \"start\": 126,\n",
      "        \"text\": \"We run from shadows we create, violins at the gate but angels hold a different grades they cradle hope in empty space.\",\n",
      "        \"scene_description\": \"A surreal landscape emerges, where soft, billowing clouds float above a tranquil sea of stars. Ethereal beings, adorned in robes of shimmering light, drift gracefully, their forms merging with the mist. The air is thick with emotion, as the gentle strains of violins echo through the night, creating a hauntingly beautiful atmosphere. Shadows dance playfully, while the colors blend seamlessly, evoking a sense of wonder and introspection, inviting viewers to explore the depths of their own hearts.\",\n",
      "        \"action_sequence\": \"Angels weave through the mist, their luminous forms illuminating the darkness, as the music envelops the viewer in a serene embrace.\"\n",
      "    },\n",
      "    {\n",
      "        \"start\": 141,\n",
      "        \"text\": \"We run from shadows we create, violins at the gate but angels hold a different grades they cradle hope in empty space.\",\n",
      "        \"scene_description\": \"A dreamlike meadow unfurls under a canopy of twinkling stars, where soft grasses sway gently in the night breeze. Ethereal figures, cloaked in robes of soft pastels, dance among the wildflowers, their movements fluid and graceful. The air is fragrant with the scent of blooming jasmine, as the haunting melody of violins fills the atmosphere, creating a sense of longing and nostalgia. The scene is bathed in a soft, ethereal glow, inviting viewers to lose themselves in the beauty of the moment.\",\n",
      "        \"action_sequence\": \"Angels twirl among the flowers, their laughter mingling with the music, as the night wraps around the viewer like a comforting blanket.\"\n",
      "    },\n",
      "    {\n",
      "        \"start\": 156,\n",
      "        \"text\": \"We run from shadows we create, violins at the gate but angels hold a different grades they cradle hope in empty space.\",\n",
      "        \"scene_description\": \"A tranquil glade appears, where ancient trees stand sentinel under a shimmering moonlight. Ethereal beings, adorned in flowing garments of silver and blue, gather around a crystal-clear pond, their reflections shimmering on the surface. The air is filled with the soft sounds of nature, as the gentle strains of violins resonate in harmony with the rustling leaves. This scene captures a moment of serenity and connection, inviting viewers to reflect on the beauty of the natural world.\",\n",
      "        \"action_sequence\": \"Angels gather by the pond, their reflections dancing on the water, as the music swells, creating a moment of tranquil beauty.\"\n",
      "    },\n",
      "    {\n",
      "        \"start\": 171,\n",
      "        \"text\": \"Check the vibe, illusions run deep. Angels and mission, memory asleep. Calm is a lesson in a world so dense.\",\n",
      "        \"scene_description\": \"A surreal dreamscape unfolds, where layers of soft clouds blend into deep, vibrant hues. Ethereal figures, cloaked in flowing robes of deep indigo and gold, drift through the mist, their presence a gentle reminder of guidance. The atmosphere is introspective, with reflections shimmering on the surface of a tranquil lake. Wisps of fog drift lazily, enhancing the sense of tranquility, while the lighting shifts subtly, casting an otherworldly glow that invites viewers to explore their inner thoughts.\",\n",
      "        \"action_sequence\": \"Angels weave through the fog, their luminous forms illuminating the path, as the serene lake reflects their gentle presence.\"\n",
      "    },\n",
      "    {\n",
      "        \"start\": 192,\n",
      "        \"text\": \"Check the vibe, illusions run deep. Angels and mission, memory asleep. Calm is a lesson in a world so dense.\",\n",
      "        \"scene_description\": \"A mystical valley emerges, where soft, rolling hills are cloaked in a blanket of mist. Ethereal beings, adorned in robes of shimmering silver, wander through the landscape, their movements fluid and graceful. The air is filled with the gentle sounds of nature, as the soft glow of twilight bathes the scene in warmth. Shadows dance playfully, creating a magical atmosphere that invites introspection and connection with the universe.\",\n",
      "        \"action_sequence\": \"Angels drift through the mist, their presence a gentle reminder of peace, as the soft sounds of nature cradle the viewer in calm.\"\n",
      "    },\n",
      "    {\n",
      "        \"start\": 207,\n",
      "        \"text\": \"Check the vibe, illusions run deep. Angels and mission, memory asleep. Calm is a lesson in a world so dense.\",\n",
      "        \"scene_description\": \"A serene landscape unfolds, where a tranquil river flows gently through a lush forest. Ethereal figures, cloaked in robes of deep green and gold, stand by the water's edge, their reflections shimmering in the current. The air is filled with the scent of fresh pine and blooming flowers, creating an atmosphere of peace and harmony. Soft beams of sunlight filter through the leaves, casting a golden hue over the scene, inviting viewers to connect with nature's beauty.\",\n",
      "        \"action_sequence\": \"Angels stand by the river, their hands brushing the water's surface, as the gentle sounds of the forest create a soothing symphony.\"\n",
      "    },\n",
      "    {\n",
      "        \"start\": 218,\n",
      "        \"text\": \"They feel our sorrows, sense our doubt, but they never turn away. Their essence is service, and their melody is compassion.\",\n",
      "        \"scene_description\": \"A vibrant field of wildflowers dances under a soft, golden sun, each petal capturing the light like precious gems. Ethereal beings, adorned in flowing robes of pastel colors, drift gracefully among the blossoms, their presence nurturing and warm. The air is fragrant with the scent of blooming flowers, creating an atmosphere of joy and compassion. As the light casts a golden hue over everything, the scene evokes feelings of love and understanding, inviting viewers to embrace the beauty of life.\",\n",
      "        \"action_sequence\": \"Angels gently touch the flowers, causing them to bloom brighter, as a soft melody fills the air, wrapping around the viewer like a warm embrace.\"\n",
      "    },\n",
      "    {\n",
      "        \"start\": 233,\n",
      "        \"text\": \"They feel our sorrows, sense our doubt, but they never turn away. Their essence is service, and their melody is compassion.\",\n",
      "        \"scene_description\": \"A lush meadow stretches beneath a radiant sun, where vibrant flowers sway gently in the breeze. Ethereal figures, cloaked in robes of soft colors, move gracefully among the blossoms, their wings creating a delicate rustle. The air is filled with the sweet scent of blooming petals, and the atmosphere hums with a sense of joy and abundance. Sunlight filters through the leaves, casting playful shadows on the ground, inviting viewers to bask in the warmth of love and compassion.\",\n",
      "        \"action_sequence\": \"Angels dance among the flowers, their laughter echoing softly, as the melody of nature wraps around the viewer like a gentle hug.\"\n",
      "    },\n",
      "    {\n",
      "        \"start\": 248,\n",
      "        \"text\": \"They feel our sorrows, sense our doubt, but they never turn away. Their essence is service, and their melody is compassion.\",\n",
      "        \"scene_description\": \"A tranquil garden blooms under a soft, golden light, where flowers sway gently in a warm breeze. Ethereal beings, adorned in flowing robes of shimmering light, tend to the blossoms, their hands brushing against petals that shimmer like gemstones. The air is fragrant with the scent of blooming jasmine, and the atmosphere is infused with a sense of nurturing love. Sunlight filters through the leaves, casting intricate patterns on the ground, creating a serene sanctuary filled with warmth and compassion.\",\n",
      "        \"action_sequence\": \"Angels gently touch the flowers, causing them to bloom brighter, as a soft melody fills the air, wrapping around the viewer like a warm embrace.\"\n",
      "    },\n",
      "    {\n",
      "        \"start\": 263,\n",
      "        \"text\": \"They feel our sorrows, sense our doubt, but they never turn away. Their essence is service, and their melody is compassion.\",\n",
      "        \"scene_description\": \"A vibrant field of wildflowers dances under a soft, golden sun, each petal capturing the light like precious gems. Ethereal beings, adorned in flowing robes of pastel colors, drift gracefully among the blossoms, their presence nurturing and warm. The air is fragrant with the scent of blooming flowers, creating an atmosphere of joy and compassion. As the light casts a golden hue over everything, the scene evokes feelings of love and understanding, inviting viewers to embrace the beauty of life.\",\n",
      "        \"action_sequence\": \"Angels gently touch the flowers, causing them to bloom brighter, as a soft melody fills the air, wrapping around the viewer like a warm embrace.\"\n",
      "    },\n",
      "    {\n",
      "        \"start\": 278,\n",
      "        \"text\": \"They feel our sorrows, sense our doubt, but they never turn away. Their essence is service, and their melody is compassion.\",\n",
      "        \"scene_description\": \"A vibrant field of flowers sways gently under a soft, warm breeze, each petal capturing the sunlight like jewels. The colors are rich and varied, creating an atmosphere of joy and compassion. Angels drift through the blossoms, their wings creating a soft rustle, as they tend to the flowers, symbolizing care and nurturing. The scene is infused with a sense of abundance and warmth, with the light casting a golden hue over everything, evoking feelings of love and understanding.\",\n",
      "        \"action_sequence\": \"Angels gently touch the flowers, causing them to bloom brighter, as a soft melody fills the air, wrapping around the viewer like a warm embrace.\"\n",
      "    },\n",
      "    {\n",
      "        \"start\": 293,\n",
      "        \"text\": \"They feel our sorrows, sense our doubt, but they never turn away. Their essence is service, and their melody is compassion.\",\n",
      "        \"scene_description\": \"A vibrant field of flowers sways gently under a soft, warm breeze, each petal capturing the sunlight like jewels. The colors are rich and varied, creating an atmosphere of joy and compassion. Angels drift through the blossoms, their wings creating a soft rustle, as they tend to the flowers, symbolizing care and nurturing. The scene is infused with a sense of abundance and warmth, with the light casting a golden hue over everything, evoking feelings of love and understanding.\",\n",
      "        \"action_sequence\": \"Angels gently touch the flowers, causing them to bloom brighter, as a soft melody fills the air, wrapping around the viewer like a warm embrace.\"\n",
      "    },\n",
      "    {\n",
      "        \"start\": 308,\n",
      "        \"text\": \"They feel our sorrows, sense our doubt, but they never turn away. Their essence is service, and their melody is compassion.\",\n",
      "        \"scene_description\": \"A vibrant field of flowers sways gently under a soft, warm breeze, each petal capturing the sunlight like jewels. The colors are rich and varied, creating an atmosphere of joy and compassion. Angels drift through the blossoms, their wings creating a soft rustle, as they tend to the flowers, symbolizing care and nurturing. The scene is infused with a sense of abundance and warmth, with the light casting a golden hue over everything, evoking feelings of love and understanding.\",\n",
      "        \"action_sequence\": \"Angels gently touch the flowers, causing them to bloom brighter, as a soft melody fills the air, wrapping around the viewer like a warm embrace.\"\n",
      "    },\n",
      "    {\n",
      "        \"start\": 323,\n",
      "        \"text\": \"They feel our sorrows, sense our doubt, but they never turn away. Their essence is service, and their melody is compassion.\",\n",
      "        \"scene_description\": \"A vibrant field of flowers sways gently under a soft, warm breeze, each petal capturing the sunlight like jewels. The colors are rich and varied, creating an atmosphere of joy and compassion. Angels drift through the blossoms, their wings creating a soft rustle, as they tend to the flowers, symbolizing care and nurturing. The scene is infused with a sense of abundance and warmth, with the light casting a golden hue over everything, evoking feelings of love and understanding.\",\n",
      "        \"action_sequence\": \"Angels gently touch the flowers, causing them to bloom brighter, as a soft melody fills the air, wrapping around the viewer like a warm embrace.\"\n",
      "    },\n",
      "    {\n",
      "        \"start\": 338,\n",
      "        \"text\": \"They feel our sorrows, sense our doubt, but they never turn away. Their essence is service, and their melody is compassion.\",\n",
      "        \"scene_description\": \"A vibrant field of flowers sways gently under a soft, warm breeze, each petal capturing the sunlight like jewels. The colors are rich and varied, creating an atmosphere of joy and compassion. Angels drift through the blossoms, their wings creating a soft rustle, as they tend to the flowers, symbolizing care and nurturing. The scene is infused with a sense of abundance and warmth, with the light casting a golden hue over everything, evoking feelings of love and understanding.\",\n",
      "        \"action_sequence\": \"Angels gently touch the flowers, causing them to bloom brighter, as a soft melody fills the air, wrapping around the viewer like a warm embrace.\"\n",
      "    },\n",
      "    {\n",
      "        \"start\": 353,\n",
      "        \"text\": \"They feel our sorrows, sense our doubt, but they never turn away. Their essence is service, and their melody is compassion.\",\n",
      "        \"scene_description\": \"A vibrant field of flowers sways gently under a soft, warm breeze, each petal capturing the sunlight like jewels. The colors are rich and varied, creating an atmosphere of joy and compassion. Angels drift through the blossoms, their wings creating a soft rustle, as they tend to the flowers, symbolizing care and nurturing. The scene is infused with a sense of abundance and warmth, with the light casting a golden hue over everything, evoking feelings of love and understanding.\",\n",
      "        \"action_sequence\": \"Angels gently touch the flowers, causing them to bloom brighter, as a soft melody fills the air, wrapping around the viewer like a warm embrace.\"\n",
      "    }\n",
      "]\n",
      "Load Flux pipeline and generate images\n"
     ]
    },
    {
     "data": {
      "application/vnd.jupyter.widget-view+json": {
       "model_id": "be81ac2c9a5c4ac8a8674a39cc921659",
       "version_major": 2,
       "version_minor": 0
      },
      "text/plain": [
       "Downloading shards:   0%|          | 0/2 [00:00<?, ?it/s]"
      ]
     },
     "metadata": {},
     "output_type": "display_data"
    },
    {
     "data": {
      "application/vnd.jupyter.widget-view+json": {
       "model_id": "2dece49567aa48458870a645ae3255da",
       "version_major": 2,
       "version_minor": 0
      },
      "text/plain": [
       "Loading checkpoint shards:   0%|          | 0/2 [00:00<?, ?it/s]"
      ]
     },
     "metadata": {},
     "output_type": "display_data"
    },
    {
     "name": "stderr",
     "output_type": "stream",
     "text": [
      "You set `add_prefix_space`. The tokenizer needs to be converted from the slow tokenizers\n"
     ]
    },
    {
     "data": {
      "application/vnd.jupyter.widget-view+json": {
       "model_id": "90042718a7964669a342ae85d87c359d",
       "version_major": 2,
       "version_minor": 0
      },
      "text/plain": [
       "Fetching 3 files:   0%|          | 0/3 [00:00<?, ?it/s]"
      ]
     },
     "metadata": {},
     "output_type": "display_data"
    },
    {
     "name": "stderr",
     "output_type": "stream",
     "text": [
      "Token indices sequence length is longer than the specified maximum sequence length for this model (115 > 77). Running this sequence through the model will result in indexing errors\n"
     ]
    },
    {
     "data": {
      "application/vnd.jupyter.widget-view+json": {
       "model_id": "e993f276ab5b48f682ac4f882824377c",
       "version_major": 2,
       "version_minor": 0
      },
      "text/plain": [
       "  0%|          | 0/8 [00:00<?, ?it/s]"
      ]
     },
     "metadata": {},
     "output_type": "display_data"
    },
    {
     "data": {
      "application/vnd.jupyter.widget-view+json": {
       "model_id": "aad81d634e2a48cd9b158e78f87e932f",
       "version_major": 2,
       "version_minor": 0
      },
      "text/plain": [
       "  0%|          | 0/8 [00:00<?, ?it/s]"
      ]
     },
     "metadata": {},
     "output_type": "display_data"
    },
    {
     "data": {
      "application/vnd.jupyter.widget-view+json": {
       "model_id": "52cc39f5db9f4aa09e654ed034719b51",
       "version_major": 2,
       "version_minor": 0
      },
      "text/plain": [
       "  0%|          | 0/8 [00:00<?, ?it/s]"
      ]
     },
     "metadata": {},
     "output_type": "display_data"
    },
    {
     "data": {
      "application/vnd.jupyter.widget-view+json": {
       "model_id": "23122a658a874147aaf383a74cadb8b5",
       "version_major": 2,
       "version_minor": 0
      },
      "text/plain": [
       "  0%|          | 0/8 [00:00<?, ?it/s]"
      ]
     },
     "metadata": {},
     "output_type": "display_data"
    },
    {
     "data": {
      "application/vnd.jupyter.widget-view+json": {
       "model_id": "787519e7f561400292933c332fc67ce4",
       "version_major": 2,
       "version_minor": 0
      },
      "text/plain": [
       "  0%|          | 0/8 [00:00<?, ?it/s]"
      ]
     },
     "metadata": {},
     "output_type": "display_data"
    },
    {
     "data": {
      "application/vnd.jupyter.widget-view+json": {
       "model_id": "ab2e778abb684b1fa5f9dc4e36c6c556",
       "version_major": 2,
       "version_minor": 0
      },
      "text/plain": [
       "  0%|          | 0/8 [00:00<?, ?it/s]"
      ]
     },
     "metadata": {},
     "output_type": "display_data"
    },
    {
     "data": {
      "application/vnd.jupyter.widget-view+json": {
       "model_id": "5de3d4d1299b42d49f7f602a7cbedaf7",
       "version_major": 2,
       "version_minor": 0
      },
      "text/plain": [
       "  0%|          | 0/8 [00:00<?, ?it/s]"
      ]
     },
     "metadata": {},
     "output_type": "display_data"
    },
    {
     "data": {
      "application/vnd.jupyter.widget-view+json": {
       "model_id": "e473ab0b2be2464081fa79c54829349a",
       "version_major": 2,
       "version_minor": 0
      },
      "text/plain": [
       "  0%|          | 0/8 [00:00<?, ?it/s]"
      ]
     },
     "metadata": {},
     "output_type": "display_data"
    },
    {
     "data": {
      "application/vnd.jupyter.widget-view+json": {
       "model_id": "14396b6a1e9f47988175ba7d476ad34b",
       "version_major": 2,
       "version_minor": 0
      },
      "text/plain": [
       "  0%|          | 0/8 [00:00<?, ?it/s]"
      ]
     },
     "metadata": {},
     "output_type": "display_data"
    },
    {
     "data": {
      "application/vnd.jupyter.widget-view+json": {
       "model_id": "3e5aa5244ee24f0fae9a47a3dfd8ef27",
       "version_major": 2,
       "version_minor": 0
      },
      "text/plain": [
       "  0%|          | 0/8 [00:00<?, ?it/s]"
      ]
     },
     "metadata": {},
     "output_type": "display_data"
    },
    {
     "data": {
      "application/vnd.jupyter.widget-view+json": {
       "model_id": "42244f2caaa7486e8bec0c0b06b1bd99",
       "version_major": 2,
       "version_minor": 0
      },
      "text/plain": [
       "  0%|          | 0/8 [00:00<?, ?it/s]"
      ]
     },
     "metadata": {},
     "output_type": "display_data"
    },
    {
     "data": {
      "application/vnd.jupyter.widget-view+json": {
       "model_id": "a9a8a3df8e7e4b75868a1a1baaf4f9fc",
       "version_major": 2,
       "version_minor": 0
      },
      "text/plain": [
       "  0%|          | 0/8 [00:00<?, ?it/s]"
      ]
     },
     "metadata": {},
     "output_type": "display_data"
    },
    {
     "data": {
      "application/vnd.jupyter.widget-view+json": {
       "model_id": "b50e9fbba26448d5a15a03ac92c90c3f",
       "version_major": 2,
       "version_minor": 0
      },
      "text/plain": [
       "  0%|          | 0/8 [00:00<?, ?it/s]"
      ]
     },
     "metadata": {},
     "output_type": "display_data"
    },
    {
     "data": {
      "application/vnd.jupyter.widget-view+json": {
       "model_id": "33886bdbe66e402fa229a81c9f12bc44",
       "version_major": 2,
       "version_minor": 0
      },
      "text/plain": [
       "  0%|          | 0/8 [00:00<?, ?it/s]"
      ]
     },
     "metadata": {},
     "output_type": "display_data"
    },
    {
     "data": {
      "application/vnd.jupyter.widget-view+json": {
       "model_id": "7c481595b1024d1d8b4783e176c3036c",
       "version_major": 2,
       "version_minor": 0
      },
      "text/plain": [
       "  0%|          | 0/8 [00:00<?, ?it/s]"
      ]
     },
     "metadata": {},
     "output_type": "display_data"
    },
    {
     "data": {
      "application/vnd.jupyter.widget-view+json": {
       "model_id": "43bdbb89d8db4911bd4003df4d2e273e",
       "version_major": 2,
       "version_minor": 0
      },
      "text/plain": [
       "  0%|          | 0/8 [00:00<?, ?it/s]"
      ]
     },
     "metadata": {},
     "output_type": "display_data"
    },
    {
     "data": {
      "application/vnd.jupyter.widget-view+json": {
       "model_id": "457570cac6384db2b2a9e4b28f95affe",
       "version_major": 2,
       "version_minor": 0
      },
      "text/plain": [
       "  0%|          | 0/8 [00:00<?, ?it/s]"
      ]
     },
     "metadata": {},
     "output_type": "display_data"
    },
    {
     "data": {
      "application/vnd.jupyter.widget-view+json": {
       "model_id": "c121d97ffbb24736b1f68083361cc891",
       "version_major": 2,
       "version_minor": 0
      },
      "text/plain": [
       "  0%|          | 0/8 [00:00<?, ?it/s]"
      ]
     },
     "metadata": {},
     "output_type": "display_data"
    },
    {
     "data": {
      "application/vnd.jupyter.widget-view+json": {
       "model_id": "52ea2fd7e4a042e2ac3c32128dd713f2",
       "version_major": 2,
       "version_minor": 0
      },
      "text/plain": [
       "  0%|          | 0/8 [00:00<?, ?it/s]"
      ]
     },
     "metadata": {},
     "output_type": "display_data"
    },
    {
     "data": {
      "application/vnd.jupyter.widget-view+json": {
       "model_id": "ad3cb6e70a60408fbc26c5d3c08d465d",
       "version_major": 2,
       "version_minor": 0
      },
      "text/plain": [
       "  0%|          | 0/8 [00:00<?, ?it/s]"
      ]
     },
     "metadata": {},
     "output_type": "display_data"
    },
    {
     "data": {
      "application/vnd.jupyter.widget-view+json": {
       "model_id": "d468266582944d3b86ad06fd7e8de3ba",
       "version_major": 2,
       "version_minor": 0
      },
      "text/plain": [
       "  0%|          | 0/8 [00:00<?, ?it/s]"
      ]
     },
     "metadata": {},
     "output_type": "display_data"
    },
    {
     "data": {
      "application/vnd.jupyter.widget-view+json": {
       "model_id": "375d52dcec764e1eb3abf53e79252612",
       "version_major": 2,
       "version_minor": 0
      },
      "text/plain": [
       "  0%|          | 0/8 [00:00<?, ?it/s]"
      ]
     },
     "metadata": {},
     "output_type": "display_data"
    },
    {
     "data": {
      "application/vnd.jupyter.widget-view+json": {
       "model_id": "e4f60beaba484dbdbb5df791c18ae84b",
       "version_major": 2,
       "version_minor": 0
      },
      "text/plain": [
       "  0%|          | 0/8 [00:00<?, ?it/s]"
      ]
     },
     "metadata": {},
     "output_type": "display_data"
    },
    {
     "data": {
      "application/vnd.jupyter.widget-view+json": {
       "model_id": "462ea208302c497c92ad5b35fcc8cef3",
       "version_major": 2,
       "version_minor": 0
      },
      "text/plain": [
       "  0%|          | 0/8 [00:00<?, ?it/s]"
      ]
     },
     "metadata": {},
     "output_type": "display_data"
    },
    {
     "data": {
      "application/vnd.jupyter.widget-view+json": {
       "model_id": "0bca729643ac4d9fabbd8bd8c25e96bd",
       "version_major": 2,
       "version_minor": 0
      },
      "text/plain": [
       "  0%|          | 0/8 [00:00<?, ?it/s]"
      ]
     },
     "metadata": {},
     "output_type": "display_data"
    },
    {
     "name": "stderr",
     "output_type": "stream",
     "text": [
      "\u001b[32m2025-02-02 11:05:26.444\u001b[0m | \u001b[1mINFO    \u001b[0m | \u001b[36mhyvideo.inference\u001b[0m:\u001b[36mfrom_pretrained\u001b[0m:\u001b[36m153\u001b[0m - \u001b[1mGot text-to-video model root path: ckpts/hunyuan-video-t2v-720p/transformers/hunyuan_video_720_quanto_int8.safetensors\u001b[0m\n",
      "\u001b[32m2025-02-02 11:05:26.444\u001b[0m | \u001b[1mINFO    \u001b[0m | \u001b[36mhyvideo.inference\u001b[0m:\u001b[36mfrom_pretrained\u001b[0m:\u001b[36m187\u001b[0m - \u001b[1mBuilding model...\u001b[0m\n",
      "\u001b[32m2025-02-02 11:05:26.478\u001b[0m | \u001b[1mINFO    \u001b[0m | \u001b[36mhyvideo.inference\u001b[0m:\u001b[36mfrom_pretrained\u001b[0m:\u001b[36m201\u001b[0m - \u001b[1mLoading torch model ckpts/hunyuan-video-t2v-720p/transformers/hunyuan_video_720_quanto_int8.safetensors...\u001b[0m\n"
     ]
    },
    {
     "name": "stdout",
     "output_type": "stream",
     "text": [
      "Pinning data of 'ckpts/hunyuan-video-t2v-720p/transformers/hunyuan_video_720_quanto_int8.safetensors' to reserved RAM\n"
     ]
    },
    {
     "name": "stderr",
     "output_type": "stream",
     "text": [
      "\u001b[32m2025-02-02 11:05:35.359\u001b[0m | \u001b[1mINFO    \u001b[0m | \u001b[36mhyvideo.vae\u001b[0m:\u001b[36mload_vae\u001b[0m:\u001b[36m29\u001b[0m - \u001b[1mLoading 3D VAE model (884-16c-hy) from: ./ckpts/hunyuan-video-t2v-720p/vae\u001b[0m\n"
     ]
    },
    {
     "name": "stdout",
     "output_type": "stream",
     "text": [
      "The whole model was pinned to reserved RAM: 54 large blocks spread across 12580.24 MB\n"
     ]
    },
    {
     "name": "stderr",
     "output_type": "stream",
     "text": [
      "\u001b[32m2025-02-02 11:05:36.353\u001b[0m | \u001b[1mINFO    \u001b[0m | \u001b[36mhyvideo.vae\u001b[0m:\u001b[36mload_vae\u001b[0m:\u001b[36m55\u001b[0m - \u001b[1mVAE to dtype: torch.float16\u001b[0m\n",
      "\u001b[32m2025-02-02 11:05:36.743\u001b[0m | \u001b[1mINFO    \u001b[0m | \u001b[36mhyvideo.text_encoder\u001b[0m:\u001b[36mload_tokenizer\u001b[0m:\u001b[36m64\u001b[0m - \u001b[1mLoading tokenizer (llm) from: ./ckpts/text_encoder\u001b[0m\n",
      "You are using the default legacy behaviour of the <class 'transformers.models.llama.tokenization_llama_fast.LlamaTokenizerFast'>. This is expected, and simply means that the `legacy` (previous) behavior will be used so nothing changes for you. If you want to use the new behaviour, set `legacy=False`. This should only be set if you understand what it means, and thoroughly read the reason why this was added as explained in https://github.com/huggingface/transformers/pull/24565 - if you loaded a llama tokenizer from a GGUF file you can ignore this message.\n",
      "\u001b[32m2025-02-02 11:05:36.911\u001b[0m | \u001b[1mINFO    \u001b[0m | \u001b[36mhyvideo.text_encoder\u001b[0m:\u001b[36mload_text_encoder\u001b[0m:\u001b[36m28\u001b[0m - \u001b[1mLoading text encoder model (clipL) from: ./ckpts/text_encoder_2\u001b[0m\n",
      "\u001b[32m2025-02-02 11:05:37.219\u001b[0m | \u001b[1mINFO    \u001b[0m | \u001b[36mhyvideo.text_encoder\u001b[0m:\u001b[36mload_text_encoder\u001b[0m:\u001b[36m50\u001b[0m - \u001b[1mText encoder to dtype: torch.float16\u001b[0m\n",
      "\u001b[32m2025-02-02 11:05:37.258\u001b[0m | \u001b[1mINFO    \u001b[0m | \u001b[36mhyvideo.text_encoder\u001b[0m:\u001b[36mload_tokenizer\u001b[0m:\u001b[36m64\u001b[0m - \u001b[1mLoading tokenizer (clipL) from: ./ckpts/text_encoder_2\u001b[0m\n"
     ]
    },
    {
     "name": "stdout",
     "output_type": "stream",
     "text": [
      "\u001b[1m\u001b[95m************ Memory Management for the GPU Poor (mmgp 3.1) by DeepBeepMeep ************\u001b[0m\u001b[0m\n",
      "You have chosen a profile that requires at least 48 GB of RAM and 12 GB of VRAM. Some RAM is consumed to reduce VRAM consumption.\n",
      "Model 'transformer' is already quantized to format 'qint8'\n",
      "Pinning data of 'vae' to reserved RAM\n",
      "The whole model was pinned to reserved RAM: 2 large blocks spread across 470.12 MB\n",
      "Pinning data of 'text_encoder' to reserved RAM\n",
      "The whole model was pinned to reserved RAM: 34 large blocks spread across 7661.63 MB\n",
      "Model 'transformer' already pinned to reserved memory\n",
      "Pinning data of 'text_encoder_2' to reserved RAM\n",
      "The whole model was pinned to reserved RAM: 1 large blocks spread across 234.72 MB\n"
     ]
    },
    {
     "name": "stderr",
     "output_type": "stream",
     "text": [
      "\u001b[32m2025-02-02 11:05:44.984\u001b[0m | \u001b[1mINFO    \u001b[0m | \u001b[36mhyvideo.inference\u001b[0m:\u001b[36mpredict\u001b[0m:\u001b[36m587\u001b[0m - \u001b[1mInput (height, width, video_length) = (480, 848, 121)\u001b[0m\n",
      "\u001b[32m2025-02-02 11:05:44.990\u001b[0m | \u001b[34m\u001b[1mDEBUG   \u001b[0m | \u001b[36mhyvideo.inference\u001b[0m:\u001b[36mpredict\u001b[0m:\u001b[36m647\u001b[0m - \u001b[34m\u001b[1m\n",
      "                        height: 480\n",
      "                         width: 848\n",
      "                  video_length: 121\n",
      "                        prompt: ['A vast celestial expanse unfolds, where soft, golden twilight mingles with swirling iridescent clouds. Ethereal beings, adorned in flowing robes of shimmering light, hover gracefully, their wings glistening like dew-kissed petals. The air is thick with a palpable serenity, as gentle whispers of hope echo through the atmosphere. Shadows flicker playfully, hinting at unseen conflicts, yet a profound tranquility reigns. The palette is a harmonious blend of pastel blues and warm yellows, creating a watercolor dreamscape that invites exploration of divine mysteries. Angels glide softly through the air, their luminous forms illuminating hidden pathways, as a soothing aura envelops the scene.']\n",
      "                    neg_prompt: ['Aerial view, aerial view, overexposed, low quality, deformation, a poor composition, bad hands, bad teeth, bad eyes, bad limbs, distortion']\n",
      "                          seed: 1716495726\n",
      "                   infer_steps: 50\n",
      "         num_videos_per_prompt: 1\n",
      "                guidance_scale: 1.0\n",
      "                      n_tokens: 49290\n",
      "                    flow_shift: 7.0\n",
      "       embedded_guidance_scale: 6.0\u001b[0m\n"
     ]
    },
    {
     "name": "stdout",
     "output_type": "stream",
     "text": [
      "Scene 1 has 3 segments\n"
     ]
    },
    {
     "data": {
      "application/vnd.jupyter.widget-view+json": {
       "model_id": "87bc28b14f4543b987d3754acd89a8a5",
       "version_major": 2,
       "version_minor": 0
      },
      "text/plain": [
       "  0%|          | 0/50 [00:00<?, ?it/s]"
      ]
     },
     "metadata": {},
     "output_type": "display_data"
    },
    {
     "name": "stderr",
     "output_type": "stream",
     "text": [
      "\u001b[32m2025-02-02 11:22:37.944\u001b[0m | \u001b[1mINFO    \u001b[0m | \u001b[36mhyvideo.inference\u001b[0m:\u001b[36mpredict\u001b[0m:\u001b[36m681\u001b[0m - \u001b[1mSuccess, time: 1012.9533848762512\u001b[0m\n",
      "\u001b[32m2025-02-02 11:22:39.468\u001b[0m | \u001b[1mINFO    \u001b[0m | \u001b[36mhyvideo.inference\u001b[0m:\u001b[36mpredict\u001b[0m:\u001b[36m587\u001b[0m - \u001b[1mInput (height, width, video_length) = (480, 848, 121)\u001b[0m\n",
      "\u001b[32m2025-02-02 11:22:39.478\u001b[0m | \u001b[34m\u001b[1mDEBUG   \u001b[0m | \u001b[36mhyvideo.inference\u001b[0m:\u001b[36mpredict\u001b[0m:\u001b[36m647\u001b[0m - \u001b[34m\u001b[1m\n",
      "                        height: 480\n",
      "                         width: 848\n",
      "                  video_length: 121\n",
      "                        prompt: ['A vast celestial expanse unfolds, where soft, golden twilight mingles with swirling iridescent clouds. Ethereal beings, adorned in flowing robes of shimmering light, hover gracefully, their wings glistening like dew-kissed petals. The air is thick with a palpable serenity, as gentle whispers of hope echo through the atmosphere. Shadows flicker playfully, hinting at unseen conflicts, yet a profound tranquility reigns. The palette is a harmonious blend of pastel blues and warm yellows, creating a watercolor dreamscape that invites exploration of divine mysteries. Angels glide softly through the air, their luminous forms illuminating hidden pathways, as a soothing aura envelops the scene.']\n",
      "                    neg_prompt: ['Aerial view, aerial view, overexposed, low quality, deformation, a poor composition, bad hands, bad teeth, bad eyes, bad limbs, distortion']\n",
      "                          seed: 559437319\n",
      "                   infer_steps: 50\n",
      "         num_videos_per_prompt: 1\n",
      "                guidance_scale: 1.0\n",
      "                      n_tokens: 49290\n",
      "                    flow_shift: 7.0\n",
      "       embedded_guidance_scale: 6.0\u001b[0m\n"
     ]
    },
    {
     "data": {
      "application/vnd.jupyter.widget-view+json": {
       "model_id": "12568163fce74fc3b74031855cc10792",
       "version_major": 2,
       "version_minor": 0
      },
      "text/plain": [
       "  0%|          | 0/50 [00:00<?, ?it/s]"
      ]
     },
     "metadata": {},
     "output_type": "display_data"
    },
    {
     "name": "stderr",
     "output_type": "stream",
     "text": [
      "\u001b[32m2025-02-02 11:39:25.696\u001b[0m | \u001b[1mINFO    \u001b[0m | \u001b[36mhyvideo.inference\u001b[0m:\u001b[36mpredict\u001b[0m:\u001b[36m681\u001b[0m - \u001b[1mSuccess, time: 1006.2170414924622\u001b[0m\n",
      "\u001b[32m2025-02-02 11:39:27.240\u001b[0m | \u001b[1mINFO    \u001b[0m | \u001b[36mhyvideo.inference\u001b[0m:\u001b[36mpredict\u001b[0m:\u001b[36m587\u001b[0m - \u001b[1mInput (height, width, video_length) = (480, 848, 121)\u001b[0m\n",
      "\u001b[32m2025-02-02 11:39:27.248\u001b[0m | \u001b[34m\u001b[1mDEBUG   \u001b[0m | \u001b[36mhyvideo.inference\u001b[0m:\u001b[36mpredict\u001b[0m:\u001b[36m647\u001b[0m - \u001b[34m\u001b[1m\n",
      "                        height: 480\n",
      "                         width: 848\n",
      "                  video_length: 121\n",
      "                        prompt: ['A vast celestial expanse unfolds, where soft, golden twilight mingles with swirling iridescent clouds. Ethereal beings, adorned in flowing robes of shimmering light, hover gracefully, their wings glistening like dew-kissed petals. The air is thick with a palpable serenity, as gentle whispers of hope echo through the atmosphere. Shadows flicker playfully, hinting at unseen conflicts, yet a profound tranquility reigns. The palette is a harmonious blend of pastel blues and warm yellows, creating a watercolor dreamscape that invites exploration of divine mysteries. Angels glide softly through the air, their luminous forms illuminating hidden pathways, as a soothing aura envelops the scene.']\n",
      "                    neg_prompt: ['Aerial view, aerial view, overexposed, low quality, deformation, a poor composition, bad hands, bad teeth, bad eyes, bad limbs, distortion']\n",
      "                          seed: 1008902816\n",
      "                   infer_steps: 50\n",
      "         num_videos_per_prompt: 1\n",
      "                guidance_scale: 1.0\n",
      "                      n_tokens: 49290\n",
      "                    flow_shift: 7.0\n",
      "       embedded_guidance_scale: 6.0\u001b[0m\n"
     ]
    },
    {
     "data": {
      "application/vnd.jupyter.widget-view+json": {
       "model_id": "9bbea5aa29524c0ca5a89d00aa44d6a8",
       "version_major": 2,
       "version_minor": 0
      },
      "text/plain": [
       "  0%|          | 0/50 [00:00<?, ?it/s]"
      ]
     },
     "metadata": {},
     "output_type": "display_data"
    },
    {
     "name": "stderr",
     "output_type": "stream",
     "text": [
      "\u001b[32m2025-02-02 11:56:15.491\u001b[0m | \u001b[1mINFO    \u001b[0m | \u001b[36mhyvideo.inference\u001b[0m:\u001b[36mpredict\u001b[0m:\u001b[36m681\u001b[0m - \u001b[1mSuccess, time: 1008.2424352169037\u001b[0m\n",
      "\u001b[32m2025-02-02 11:56:16.957\u001b[0m | \u001b[1mINFO    \u001b[0m | \u001b[36mhyvideo.inference\u001b[0m:\u001b[36mpredict\u001b[0m:\u001b[36m587\u001b[0m - \u001b[1mInput (height, width, video_length) = (480, 848, 121)\u001b[0m\n",
      "\u001b[32m2025-02-02 11:56:16.961\u001b[0m | \u001b[34m\u001b[1mDEBUG   \u001b[0m | \u001b[36mhyvideo.inference\u001b[0m:\u001b[36mpredict\u001b[0m:\u001b[36m647\u001b[0m - \u001b[34m\u001b[1m\n",
      "                        height: 480\n",
      "                         width: 848\n",
      "                  video_length: 121\n",
      "                        prompt: ['In a twilight realm, a tapestry of stars twinkles against a deep indigo sky. Ethereal figures, cloaked in flowing silks that shimmer like starlight, drift among clouds of silver mist. The atmosphere hums with a gentle melody, each note resonating with the heartbeat of the universe. Shadows weave through the mist, creating a dance of light and dark, while the colors shift subtly, evoking a sense of wonder and mystery. This scene captures the essence of celestial guardianship, inviting viewers to contemplate the unseen. Angels move gracefully through the mist, their presence illuminating the darkness, as soft music envelops the viewer in a warm embrace.']\n",
      "                    neg_prompt: ['Aerial view, aerial view, overexposed, low quality, deformation, a poor composition, bad hands, bad teeth, bad eyes, bad limbs, distortion']\n",
      "                          seed: 2089052283\n",
      "                   infer_steps: 50\n",
      "         num_videos_per_prompt: 1\n",
      "                guidance_scale: 1.0\n",
      "                      n_tokens: 49290\n",
      "                    flow_shift: 7.0\n",
      "       embedded_guidance_scale: 6.0\u001b[0m\n"
     ]
    },
    {
     "name": "stdout",
     "output_type": "stream",
     "text": [
      "Scene 2 has 3 segments\n"
     ]
    },
    {
     "data": {
      "application/vnd.jupyter.widget-view+json": {
       "model_id": "347c35285edc4726a87f3869c15232f0",
       "version_major": 2,
       "version_minor": 0
      },
      "text/plain": [
       "  0%|          | 0/50 [00:00<?, ?it/s]"
      ]
     },
     "metadata": {},
     "output_type": "display_data"
    },
    {
     "name": "stderr",
     "output_type": "stream",
     "text": [
      "\u001b[32m2025-02-02 12:13:03.771\u001b[0m | \u001b[1mINFO    \u001b[0m | \u001b[36mhyvideo.inference\u001b[0m:\u001b[36mpredict\u001b[0m:\u001b[36m681\u001b[0m - \u001b[1mSuccess, time: 1006.8104362487793\u001b[0m\n",
      "\u001b[32m2025-02-02 12:13:05.216\u001b[0m | \u001b[1mINFO    \u001b[0m | \u001b[36mhyvideo.inference\u001b[0m:\u001b[36mpredict\u001b[0m:\u001b[36m587\u001b[0m - \u001b[1mInput (height, width, video_length) = (480, 848, 121)\u001b[0m\n",
      "\u001b[32m2025-02-02 12:13:05.221\u001b[0m | \u001b[34m\u001b[1mDEBUG   \u001b[0m | \u001b[36mhyvideo.inference\u001b[0m:\u001b[36mpredict\u001b[0m:\u001b[36m647\u001b[0m - \u001b[34m\u001b[1m\n",
      "                        height: 480\n",
      "                         width: 848\n",
      "                  video_length: 121\n",
      "                        prompt: ['In a twilight realm, a tapestry of stars twinkles against a deep indigo sky. Ethereal figures, cloaked in flowing silks that shimmer like starlight, drift among clouds of silver mist. The atmosphere hums with a gentle melody, each note resonating with the heartbeat of the universe. Shadows weave through the mist, creating a dance of light and dark, while the colors shift subtly, evoking a sense of wonder and mystery. This scene captures the essence of celestial guardianship, inviting viewers to contemplate the unseen. Angels move gracefully through the mist, their presence illuminating the darkness, as soft music envelops the viewer in a warm embrace.']\n",
      "                    neg_prompt: ['Aerial view, aerial view, overexposed, low quality, deformation, a poor composition, bad hands, bad teeth, bad eyes, bad limbs, distortion']\n",
      "                          seed: 419915896\n",
      "                   infer_steps: 50\n",
      "         num_videos_per_prompt: 1\n",
      "                guidance_scale: 1.0\n",
      "                      n_tokens: 49290\n",
      "                    flow_shift: 7.0\n",
      "       embedded_guidance_scale: 6.0\u001b[0m\n"
     ]
    },
    {
     "data": {
      "application/vnd.jupyter.widget-view+json": {
       "model_id": "d764042f9eff4ba19ef3ad562661794e",
       "version_major": 2,
       "version_minor": 0
      },
      "text/plain": [
       "  0%|          | 0/50 [00:00<?, ?it/s]"
      ]
     },
     "metadata": {},
     "output_type": "display_data"
    },
    {
     "name": "stderr",
     "output_type": "stream",
     "text": [
      "\u001b[32m2025-02-02 12:29:54.610\u001b[0m | \u001b[1mINFO    \u001b[0m | \u001b[36mhyvideo.inference\u001b[0m:\u001b[36mpredict\u001b[0m:\u001b[36m681\u001b[0m - \u001b[1mSuccess, time: 1009.3885638713837\u001b[0m\n",
      "\u001b[32m2025-02-02 12:29:56.078\u001b[0m | \u001b[1mINFO    \u001b[0m | \u001b[36mhyvideo.inference\u001b[0m:\u001b[36mpredict\u001b[0m:\u001b[36m587\u001b[0m - \u001b[1mInput (height, width, video_length) = (480, 848, 121)\u001b[0m\n",
      "\u001b[32m2025-02-02 12:29:56.087\u001b[0m | \u001b[34m\u001b[1mDEBUG   \u001b[0m | \u001b[36mhyvideo.inference\u001b[0m:\u001b[36mpredict\u001b[0m:\u001b[36m647\u001b[0m - \u001b[34m\u001b[1m\n",
      "                        height: 480\n",
      "                         width: 848\n",
      "                  video_length: 121\n",
      "                        prompt: ['In a twilight realm, a tapestry of stars twinkles against a deep indigo sky. Ethereal figures, cloaked in flowing silks that shimmer like starlight, drift among clouds of silver mist. The atmosphere hums with a gentle melody, each note resonating with the heartbeat of the universe. Shadows weave through the mist, creating a dance of light and dark, while the colors shift subtly, evoking a sense of wonder and mystery. This scene captures the essence of celestial guardianship, inviting viewers to contemplate the unseen. Angels move gracefully through the mist, their presence illuminating the darkness, as soft music envelops the viewer in a warm embrace.']\n",
      "                    neg_prompt: ['Aerial view, aerial view, overexposed, low quality, deformation, a poor composition, bad hands, bad teeth, bad eyes, bad limbs, distortion']\n",
      "                          seed: 1455372289\n",
      "                   infer_steps: 50\n",
      "         num_videos_per_prompt: 1\n",
      "                guidance_scale: 1.0\n",
      "                      n_tokens: 49290\n",
      "                    flow_shift: 7.0\n",
      "       embedded_guidance_scale: 6.0\u001b[0m\n"
     ]
    },
    {
     "data": {
      "application/vnd.jupyter.widget-view+json": {
       "model_id": "7d641f59ee6f4959b018c51bc3807189",
       "version_major": 2,
       "version_minor": 0
      },
      "text/plain": [
       "  0%|          | 0/50 [00:00<?, ?it/s]"
      ]
     },
     "metadata": {},
     "output_type": "display_data"
    },
    {
     "name": "stderr",
     "output_type": "stream",
     "text": [
      "\u001b[32m2025-02-02 12:46:53.887\u001b[0m | \u001b[1mINFO    \u001b[0m | \u001b[36mhyvideo.inference\u001b[0m:\u001b[36mpredict\u001b[0m:\u001b[36m681\u001b[0m - \u001b[1mSuccess, time: 1017.7991952896118\u001b[0m\n",
      "\u001b[32m2025-02-02 12:46:55.353\u001b[0m | \u001b[1mINFO    \u001b[0m | \u001b[36mhyvideo.inference\u001b[0m:\u001b[36mpredict\u001b[0m:\u001b[36m587\u001b[0m - \u001b[1mInput (height, width, video_length) = (480, 848, 121)\u001b[0m\n",
      "\u001b[32m2025-02-02 12:46:55.360\u001b[0m | \u001b[34m\u001b[1mDEBUG   \u001b[0m | \u001b[36mhyvideo.inference\u001b[0m:\u001b[36mpredict\u001b[0m:\u001b[36m647\u001b[0m - \u001b[34m\u001b[1m\n",
      "                        height: 480\n",
      "                         width: 848\n",
      "                  video_length: 121\n",
      "                        prompt: ['A tranquil garden blooms under a soft, golden glow, where flowers sway gently in a warm breeze. Ethereal beings, dressed in robes of translucent light, tend to the blossoms, their hands brushing against petals that shimmer like gemstones. The air is fragrant with the scent of blooming jasmine, and the atmosphere is infused with a sense of nurturing love. Sunlight filters through the leaves, casting intricate patterns on the ground, creating a serene sanctuary filled with warmth and compassion. Angels caress the flowers, coaxing them to bloom brighter, as a soft, harmonious melody fills the air, wrapping around the viewer like a gentle hug.']\n",
      "                    neg_prompt: ['Aerial view, aerial view, overexposed, low quality, deformation, a poor composition, bad hands, bad teeth, bad eyes, bad limbs, distortion']\n",
      "                          seed: 27442483\n",
      "                   infer_steps: 50\n",
      "         num_videos_per_prompt: 1\n",
      "                guidance_scale: 1.0\n",
      "                      n_tokens: 49290\n",
      "                    flow_shift: 7.0\n",
      "       embedded_guidance_scale: 6.0\u001b[0m\n"
     ]
    },
    {
     "name": "stdout",
     "output_type": "stream",
     "text": [
      "Scene 3 has 3 segments\n"
     ]
    },
    {
     "data": {
      "application/vnd.jupyter.widget-view+json": {
       "model_id": "7f2a456ae74c4f78bfa1c67b1e568c24",
       "version_major": 2,
       "version_minor": 0
      },
      "text/plain": [
       "  0%|          | 0/50 [00:00<?, ?it/s]"
      ]
     },
     "metadata": {},
     "output_type": "display_data"
    },
    {
     "name": "stderr",
     "output_type": "stream",
     "text": [
      "\u001b[32m2025-02-02 13:03:50.500\u001b[0m | \u001b[1mINFO    \u001b[0m | \u001b[36mhyvideo.inference\u001b[0m:\u001b[36mpredict\u001b[0m:\u001b[36m681\u001b[0m - \u001b[1mSuccess, time: 1015.1390159130096\u001b[0m\n",
      "\u001b[32m2025-02-02 13:03:52.006\u001b[0m | \u001b[1mINFO    \u001b[0m | \u001b[36mhyvideo.inference\u001b[0m:\u001b[36mpredict\u001b[0m:\u001b[36m587\u001b[0m - \u001b[1mInput (height, width, video_length) = (480, 848, 121)\u001b[0m\n",
      "\u001b[32m2025-02-02 13:03:52.012\u001b[0m | \u001b[34m\u001b[1mDEBUG   \u001b[0m | \u001b[36mhyvideo.inference\u001b[0m:\u001b[36mpredict\u001b[0m:\u001b[36m647\u001b[0m - \u001b[34m\u001b[1m\n",
      "                        height: 480\n",
      "                         width: 848\n",
      "                  video_length: 121\n",
      "                        prompt: ['A tranquil garden blooms under a soft, golden glow, where flowers sway gently in a warm breeze. Ethereal beings, dressed in robes of translucent light, tend to the blossoms, their hands brushing against petals that shimmer like gemstones. The air is fragrant with the scent of blooming jasmine, and the atmosphere is infused with a sense of nurturing love. Sunlight filters through the leaves, casting intricate patterns on the ground, creating a serene sanctuary filled with warmth and compassion. Angels caress the flowers, coaxing them to bloom brighter, as a soft, harmonious melody fills the air, wrapping around the viewer like a gentle hug.']\n",
      "                    neg_prompt: ['Aerial view, aerial view, overexposed, low quality, deformation, a poor composition, bad hands, bad teeth, bad eyes, bad limbs, distortion']\n",
      "                          seed: 721296594\n",
      "                   infer_steps: 50\n",
      "         num_videos_per_prompt: 1\n",
      "                guidance_scale: 1.0\n",
      "                      n_tokens: 49290\n",
      "                    flow_shift: 7.0\n",
      "       embedded_guidance_scale: 6.0\u001b[0m\n"
     ]
    },
    {
     "data": {
      "application/vnd.jupyter.widget-view+json": {
       "model_id": "e0b0518782a24aa8b462907c8b415a01",
       "version_major": 2,
       "version_minor": 0
      },
      "text/plain": [
       "  0%|          | 0/50 [00:00<?, ?it/s]"
      ]
     },
     "metadata": {},
     "output_type": "display_data"
    },
    {
     "name": "stderr",
     "output_type": "stream",
     "text": [
      "\u001b[32m2025-02-02 13:20:42.495\u001b[0m | \u001b[1mINFO    \u001b[0m | \u001b[36mhyvideo.inference\u001b[0m:\u001b[36mpredict\u001b[0m:\u001b[36m681\u001b[0m - \u001b[1mSuccess, time: 1010.4824481010437\u001b[0m\n",
      "\u001b[32m2025-02-02 13:20:44.032\u001b[0m | \u001b[1mINFO    \u001b[0m | \u001b[36mhyvideo.inference\u001b[0m:\u001b[36mpredict\u001b[0m:\u001b[36m587\u001b[0m - \u001b[1mInput (height, width, video_length) = (480, 848, 121)\u001b[0m\n",
      "\u001b[32m2025-02-02 13:20:44.035\u001b[0m | \u001b[34m\u001b[1mDEBUG   \u001b[0m | \u001b[36mhyvideo.inference\u001b[0m:\u001b[36mpredict\u001b[0m:\u001b[36m647\u001b[0m - \u001b[34m\u001b[1m\n",
      "                        height: 480\n",
      "                         width: 848\n",
      "                  video_length: 121\n",
      "                        prompt: ['A tranquil garden blooms under a soft, golden glow, where flowers sway gently in a warm breeze. Ethereal beings, dressed in robes of translucent light, tend to the blossoms, their hands brushing against petals that shimmer like gemstones. The air is fragrant with the scent of blooming jasmine, and the atmosphere is infused with a sense of nurturing love. Sunlight filters through the leaves, casting intricate patterns on the ground, creating a serene sanctuary filled with warmth and compassion. Angels caress the flowers, coaxing them to bloom brighter, as a soft, harmonious melody fills the air, wrapping around the viewer like a gentle hug.']\n",
      "                    neg_prompt: ['Aerial view, aerial view, overexposed, low quality, deformation, a poor composition, bad hands, bad teeth, bad eyes, bad limbs, distortion']\n",
      "                          seed: 982886008\n",
      "                   infer_steps: 50\n",
      "         num_videos_per_prompt: 1\n",
      "                guidance_scale: 1.0\n",
      "                      n_tokens: 49290\n",
      "                    flow_shift: 7.0\n",
      "       embedded_guidance_scale: 6.0\u001b[0m\n"
     ]
    },
    {
     "data": {
      "application/vnd.jupyter.widget-view+json": {
       "model_id": "3be7863f6ae8467089fd4635d5e1622f",
       "version_major": 2,
       "version_minor": 0
      },
      "text/plain": [
       "  0%|          | 0/50 [00:00<?, ?it/s]"
      ]
     },
     "metadata": {},
     "output_type": "display_data"
    },
    {
     "name": "stderr",
     "output_type": "stream",
     "text": [
      "\u001b[32m2025-02-02 13:37:31.726\u001b[0m | \u001b[1mINFO    \u001b[0m | \u001b[36mhyvideo.inference\u001b[0m:\u001b[36mpredict\u001b[0m:\u001b[36m681\u001b[0m - \u001b[1mSuccess, time: 1007.6903343200684\u001b[0m\n",
      "\u001b[32m2025-02-02 13:37:33.201\u001b[0m | \u001b[1mINFO    \u001b[0m | \u001b[36mhyvideo.inference\u001b[0m:\u001b[36mpredict\u001b[0m:\u001b[36m587\u001b[0m - \u001b[1mInput (height, width, video_length) = (480, 848, 121)\u001b[0m\n",
      "\u001b[32m2025-02-02 13:37:33.204\u001b[0m | \u001b[34m\u001b[1mDEBUG   \u001b[0m | \u001b[36mhyvideo.inference\u001b[0m:\u001b[36mpredict\u001b[0m:\u001b[36m647\u001b[0m - \u001b[34m\u001b[1m\n",
      "                        height: 480\n",
      "                         width: 848\n",
      "                  video_length: 121\n",
      "                        prompt: ['A serene lake reflects the twilight sky, where soft hues of pink and lavender blend seamlessly. Ethereal figures, adorned in flowing garments that ripple like water, glide above the surface, their presence creating gentle ripples that shimmer in the fading light. The atmosphere is tranquil, filled with the soothing sounds of nature, as fireflies dance in the air, adding a touch of magic. This scene embodies a sense of peace and introspection, inviting viewers to connect with their innermost thoughts. Angels float gracefully above the lake, their reflections shimmering in the water, as the soft sounds of nature create a calming symphony.']\n",
      "                    neg_prompt: ['Aerial view, aerial view, overexposed, low quality, deformation, a poor composition, bad hands, bad teeth, bad eyes, bad limbs, distortion']\n",
      "                          seed: 137352951\n",
      "                   infer_steps: 50\n",
      "         num_videos_per_prompt: 1\n",
      "                guidance_scale: 1.0\n",
      "                      n_tokens: 49290\n",
      "                    flow_shift: 7.0\n",
      "       embedded_guidance_scale: 6.0\u001b[0m\n"
     ]
    },
    {
     "name": "stdout",
     "output_type": "stream",
     "text": [
      "Scene 4 has 3 segments\n"
     ]
    },
    {
     "data": {
      "application/vnd.jupyter.widget-view+json": {
       "model_id": "572aeac620774d3f95882ca2bcb7702a",
       "version_major": 2,
       "version_minor": 0
      },
      "text/plain": [
       "  0%|          | 0/50 [00:00<?, ?it/s]"
      ]
     },
     "metadata": {},
     "output_type": "display_data"
    },
    {
     "name": "stderr",
     "output_type": "stream",
     "text": [
      "\u001b[32m2025-02-02 13:54:20.113\u001b[0m | \u001b[1mINFO    \u001b[0m | \u001b[36mhyvideo.inference\u001b[0m:\u001b[36mpredict\u001b[0m:\u001b[36m681\u001b[0m - \u001b[1mSuccess, time: 1006.9080157279968\u001b[0m\n",
      "\u001b[32m2025-02-02 13:54:21.596\u001b[0m | \u001b[1mINFO    \u001b[0m | \u001b[36mhyvideo.inference\u001b[0m:\u001b[36mpredict\u001b[0m:\u001b[36m587\u001b[0m - \u001b[1mInput (height, width, video_length) = (480, 848, 121)\u001b[0m\n",
      "\u001b[32m2025-02-02 13:54:21.599\u001b[0m | \u001b[34m\u001b[1mDEBUG   \u001b[0m | \u001b[36mhyvideo.inference\u001b[0m:\u001b[36mpredict\u001b[0m:\u001b[36m647\u001b[0m - \u001b[34m\u001b[1m\n",
      "                        height: 480\n",
      "                         width: 848\n",
      "                  video_length: 121\n",
      "                        prompt: ['A serene lake reflects the twilight sky, where soft hues of pink and lavender blend seamlessly. Ethereal figures, adorned in flowing garments that ripple like water, glide above the surface, their presence creating gentle ripples that shimmer in the fading light. The atmosphere is tranquil, filled with the soothing sounds of nature, as fireflies dance in the air, adding a touch of magic. This scene embodies a sense of peace and introspection, inviting viewers to connect with their innermost thoughts. Angels float gracefully above the lake, their reflections shimmering in the water, as the soft sounds of nature create a calming symphony.']\n",
      "                    neg_prompt: ['Aerial view, aerial view, overexposed, low quality, deformation, a poor composition, bad hands, bad teeth, bad eyes, bad limbs, distortion']\n",
      "                          seed: 1343984026\n",
      "                   infer_steps: 50\n",
      "         num_videos_per_prompt: 1\n",
      "                guidance_scale: 1.0\n",
      "                      n_tokens: 49290\n",
      "                    flow_shift: 7.0\n",
      "       embedded_guidance_scale: 6.0\u001b[0m\n"
     ]
    },
    {
     "data": {
      "application/vnd.jupyter.widget-view+json": {
       "model_id": "060ea42129d3454fa4e468fb0050dafc",
       "version_major": 2,
       "version_minor": 0
      },
      "text/plain": [
       "  0%|          | 0/50 [00:00<?, ?it/s]"
      ]
     },
     "metadata": {},
     "output_type": "display_data"
    },
    {
     "name": "stderr",
     "output_type": "stream",
     "text": [
      "\u001b[32m2025-02-02 14:11:09.323\u001b[0m | \u001b[1mINFO    \u001b[0m | \u001b[36mhyvideo.inference\u001b[0m:\u001b[36mpredict\u001b[0m:\u001b[36m681\u001b[0m - \u001b[1mSuccess, time: 1007.723305940628\u001b[0m\n",
      "\u001b[32m2025-02-02 14:11:11.743\u001b[0m | \u001b[1mINFO    \u001b[0m | \u001b[36mhyvideo.inference\u001b[0m:\u001b[36mpredict\u001b[0m:\u001b[36m587\u001b[0m - \u001b[1mInput (height, width, video_length) = (480, 848, 121)\u001b[0m\n",
      "\u001b[32m2025-02-02 14:11:11.751\u001b[0m | \u001b[34m\u001b[1mDEBUG   \u001b[0m | \u001b[36mhyvideo.inference\u001b[0m:\u001b[36mpredict\u001b[0m:\u001b[36m647\u001b[0m - \u001b[34m\u001b[1m\n",
      "                        height: 480\n",
      "                         width: 848\n",
      "                  video_length: 121\n",
      "                        prompt: ['A serene lake reflects the twilight sky, where soft hues of pink and lavender blend seamlessly. Ethereal figures, adorned in flowing garments that ripple like water, glide above the surface, their presence creating gentle ripples that shimmer in the fading light. The atmosphere is tranquil, filled with the soothing sounds of nature, as fireflies dance in the air, adding a touch of magic. This scene embodies a sense of peace and introspection, inviting viewers to connect with their innermost thoughts. Angels float gracefully above the lake, their reflections shimmering in the water, as the soft sounds of nature create a calming symphony.']\n",
      "                    neg_prompt: ['Aerial view, aerial view, overexposed, low quality, deformation, a poor composition, bad hands, bad teeth, bad eyes, bad limbs, distortion']\n",
      "                          seed: 713113122\n",
      "                   infer_steps: 50\n",
      "         num_videos_per_prompt: 1\n",
      "                guidance_scale: 1.0\n",
      "                      n_tokens: 49290\n",
      "                    flow_shift: 7.0\n",
      "       embedded_guidance_scale: 6.0\u001b[0m\n"
     ]
    },
    {
     "data": {
      "application/vnd.jupyter.widget-view+json": {
       "model_id": "73d81de3e65e4c3a8526449b0b9dc275",
       "version_major": 2,
       "version_minor": 0
      },
      "text/plain": [
       "  0%|          | 0/50 [00:00<?, ?it/s]"
      ]
     },
     "metadata": {},
     "output_type": "display_data"
    },
    {
     "name": "stderr",
     "output_type": "stream",
     "text": [
      "\u001b[32m2025-02-02 14:28:01.949\u001b[0m | \u001b[1mINFO    \u001b[0m | \u001b[36mhyvideo.inference\u001b[0m:\u001b[36mpredict\u001b[0m:\u001b[36m681\u001b[0m - \u001b[1mSuccess, time: 1010.1968483924866\u001b[0m\n",
      "\u001b[32m2025-02-02 14:28:03.442\u001b[0m | \u001b[1mINFO    \u001b[0m | \u001b[36mhyvideo.inference\u001b[0m:\u001b[36mpredict\u001b[0m:\u001b[36m587\u001b[0m - \u001b[1mInput (height, width, video_length) = (480, 848, 121)\u001b[0m\n",
      "\u001b[32m2025-02-02 14:28:03.450\u001b[0m | \u001b[34m\u001b[1mDEBUG   \u001b[0m | \u001b[36mhyvideo.inference\u001b[0m:\u001b[36mpredict\u001b[0m:\u001b[36m647\u001b[0m - \u001b[34m\u001b[1m\n",
      "                        height: 480\n",
      "                         width: 848\n",
      "                  video_length: 121\n",
      "                        prompt: [\"An enchanting forest emerges, where ancient trees stretch towards the heavens, their leaves whispering secrets in the breeze. Ethereal beings, cloaked in robes of emerald and gold, weave through the branches, their presence illuminating the darkened pathways. The air is alive with the sounds of rustling leaves and distant chimes, creating a symphony of nature's beauty. Soft beams of light filter through the canopy, casting a magical glow that dances across the forest floor, inviting exploration of the hidden wonders within. Angels move gracefully among the trees, their laughter echoing softly as they illuminate the path ahead with their radiant light.\"]\n",
      "                    neg_prompt: ['Aerial view, aerial view, overexposed, low quality, deformation, a poor composition, bad hands, bad teeth, bad eyes, bad limbs, distortion']\n",
      "                          seed: 1784531408\n",
      "                   infer_steps: 50\n",
      "         num_videos_per_prompt: 1\n",
      "                guidance_scale: 1.0\n",
      "                      n_tokens: 49290\n",
      "                    flow_shift: 7.0\n",
      "       embedded_guidance_scale: 6.0\u001b[0m\n"
     ]
    },
    {
     "name": "stdout",
     "output_type": "stream",
     "text": [
      "Scene 5 has 3 segments\n"
     ]
    },
    {
     "data": {
      "application/vnd.jupyter.widget-view+json": {
       "model_id": "40d81a385c834f44bb2ce94600d2b963",
       "version_major": 2,
       "version_minor": 0
      },
      "text/plain": [
       "  0%|          | 0/50 [00:00<?, ?it/s]"
      ]
     },
     "metadata": {},
     "output_type": "display_data"
    },
    {
     "name": "stderr",
     "output_type": "stream",
     "text": [
      "\u001b[32m2025-02-02 14:44:50.487\u001b[0m | \u001b[1mINFO    \u001b[0m | \u001b[36mhyvideo.inference\u001b[0m:\u001b[36mpredict\u001b[0m:\u001b[36m681\u001b[0m - \u001b[1mSuccess, time: 1007.0360462665558\u001b[0m\n",
      "\u001b[32m2025-02-02 14:44:52.023\u001b[0m | \u001b[1mINFO    \u001b[0m | \u001b[36mhyvideo.inference\u001b[0m:\u001b[36mpredict\u001b[0m:\u001b[36m587\u001b[0m - \u001b[1mInput (height, width, video_length) = (480, 848, 121)\u001b[0m\n",
      "\u001b[32m2025-02-02 14:44:52.028\u001b[0m | \u001b[34m\u001b[1mDEBUG   \u001b[0m | \u001b[36mhyvideo.inference\u001b[0m:\u001b[36mpredict\u001b[0m:\u001b[36m647\u001b[0m - \u001b[34m\u001b[1m\n",
      "                        height: 480\n",
      "                         width: 848\n",
      "                  video_length: 121\n",
      "                        prompt: [\"An enchanting forest emerges, where ancient trees stretch towards the heavens, their leaves whispering secrets in the breeze. Ethereal beings, cloaked in robes of emerald and gold, weave through the branches, their presence illuminating the darkened pathways. The air is alive with the sounds of rustling leaves and distant chimes, creating a symphony of nature's beauty. Soft beams of light filter through the canopy, casting a magical glow that dances across the forest floor, inviting exploration of the hidden wonders within. Angels move gracefully among the trees, their laughter echoing softly as they illuminate the path ahead with their radiant light.\"]\n",
      "                    neg_prompt: ['Aerial view, aerial view, overexposed, low quality, deformation, a poor composition, bad hands, bad teeth, bad eyes, bad limbs, distortion']\n",
      "                          seed: 1333828233\n",
      "                   infer_steps: 50\n",
      "         num_videos_per_prompt: 1\n",
      "                guidance_scale: 1.0\n",
      "                      n_tokens: 49290\n",
      "                    flow_shift: 7.0\n",
      "       embedded_guidance_scale: 6.0\u001b[0m\n"
     ]
    },
    {
     "data": {
      "application/vnd.jupyter.widget-view+json": {
       "model_id": "0f4f207b41d14344bf9081bed35c6746",
       "version_major": 2,
       "version_minor": 0
      },
      "text/plain": [
       "  0%|          | 0/50 [00:00<?, ?it/s]"
      ]
     },
     "metadata": {},
     "output_type": "display_data"
    },
    {
     "name": "stderr",
     "output_type": "stream",
     "text": [
      "\u001b[32m2025-02-02 15:01:40.751\u001b[0m | \u001b[1mINFO    \u001b[0m | \u001b[36mhyvideo.inference\u001b[0m:\u001b[36mpredict\u001b[0m:\u001b[36m681\u001b[0m - \u001b[1mSuccess, time: 1008.7224991321564\u001b[0m\n",
      "\u001b[32m2025-02-02 15:01:42.268\u001b[0m | \u001b[1mINFO    \u001b[0m | \u001b[36mhyvideo.inference\u001b[0m:\u001b[36mpredict\u001b[0m:\u001b[36m587\u001b[0m - \u001b[1mInput (height, width, video_length) = (480, 848, 121)\u001b[0m\n",
      "\u001b[32m2025-02-02 15:01:42.272\u001b[0m | \u001b[34m\u001b[1mDEBUG   \u001b[0m | \u001b[36mhyvideo.inference\u001b[0m:\u001b[36mpredict\u001b[0m:\u001b[36m647\u001b[0m - \u001b[34m\u001b[1m\n",
      "                        height: 480\n",
      "                         width: 848\n",
      "                  video_length: 121\n",
      "                        prompt: [\"An enchanting forest emerges, where ancient trees stretch towards the heavens, their leaves whispering secrets in the breeze. Ethereal beings, cloaked in robes of emerald and gold, weave through the branches, their presence illuminating the darkened pathways. The air is alive with the sounds of rustling leaves and distant chimes, creating a symphony of nature's beauty. Soft beams of light filter through the canopy, casting a magical glow that dances across the forest floor, inviting exploration of the hidden wonders within. Angels move gracefully among the trees, their laughter echoing softly as they illuminate the path ahead with their radiant light.\"]\n",
      "                    neg_prompt: ['Aerial view, aerial view, overexposed, low quality, deformation, a poor composition, bad hands, bad teeth, bad eyes, bad limbs, distortion']\n",
      "                          seed: 1813099652\n",
      "                   infer_steps: 50\n",
      "         num_videos_per_prompt: 1\n",
      "                guidance_scale: 1.0\n",
      "                      n_tokens: 49290\n",
      "                    flow_shift: 7.0\n",
      "       embedded_guidance_scale: 6.0\u001b[0m\n"
     ]
    },
    {
     "data": {
      "application/vnd.jupyter.widget-view+json": {
       "model_id": "0766654dab3e4025bcfb6612a8cc9da3",
       "version_major": 2,
       "version_minor": 0
      },
      "text/plain": [
       "  0%|          | 0/50 [00:00<?, ?it/s]"
      ]
     },
     "metadata": {},
     "output_type": "display_data"
    },
    {
     "name": "stderr",
     "output_type": "stream",
     "text": [
      "\u001b[32m2025-02-02 15:18:37.420\u001b[0m | \u001b[1mINFO    \u001b[0m | \u001b[36mhyvideo.inference\u001b[0m:\u001b[36mpredict\u001b[0m:\u001b[36m681\u001b[0m - \u001b[1mSuccess, time: 1015.1474347114563\u001b[0m\n",
      "\u001b[32m2025-02-02 15:18:38.924\u001b[0m | \u001b[1mINFO    \u001b[0m | \u001b[36mhyvideo.inference\u001b[0m:\u001b[36mpredict\u001b[0m:\u001b[36m587\u001b[0m - \u001b[1mInput (height, width, video_length) = (480, 848, 121)\u001b[0m\n",
      "\u001b[32m2025-02-02 15:18:38.927\u001b[0m | \u001b[34m\u001b[1mDEBUG   \u001b[0m | \u001b[36mhyvideo.inference\u001b[0m:\u001b[36mpredict\u001b[0m:\u001b[36m647\u001b[0m - \u001b[34m\u001b[1m\n",
      "                        height: 480\n",
      "                         width: 848\n",
      "                  video_length: 121\n",
      "                        prompt: ['A celestial ocean glimmers under a starlit sky, where waves of light ripple gently across the surface. Ethereal beings, adorned in flowing garments of silver and blue, glide above the water, their movements fluid and serene. The atmosphere is tranquil, with the soft sound of waves lapping against the shore creating a soothing backdrop. Wisps of fog drift lazily, enhancing the dreamlike quality of the scene, as the colors blend seamlessly into one another, evoking a sense of peace and wonder. Angels glide effortlessly above the water, their luminous forms leaving trails of light, as the gentle sounds of the ocean cradle the viewer in calm.']\n",
      "                    neg_prompt: ['Aerial view, aerial view, overexposed, low quality, deformation, a poor composition, bad hands, bad teeth, bad eyes, bad limbs, distortion']\n",
      "                          seed: 445252629\n",
      "                   infer_steps: 50\n",
      "         num_videos_per_prompt: 1\n",
      "                guidance_scale: 1.0\n",
      "                      n_tokens: 49290\n",
      "                    flow_shift: 7.0\n",
      "       embedded_guidance_scale: 6.0\u001b[0m\n"
     ]
    },
    {
     "name": "stdout",
     "output_type": "stream",
     "text": [
      "Scene 6 has 3 segments\n"
     ]
    },
    {
     "data": {
      "application/vnd.jupyter.widget-view+json": {
       "model_id": "a57881bea2674702982f18839434add8",
       "version_major": 2,
       "version_minor": 0
      },
      "text/plain": [
       "  0%|          | 0/50 [00:00<?, ?it/s]"
      ]
     },
     "metadata": {},
     "output_type": "display_data"
    },
    {
     "name": "stderr",
     "output_type": "stream",
     "text": [
      "\u001b[32m2025-02-02 15:35:52.563\u001b[0m | \u001b[1mINFO    \u001b[0m | \u001b[36mhyvideo.inference\u001b[0m:\u001b[36mpredict\u001b[0m:\u001b[36m681\u001b[0m - \u001b[1mSuccess, time: 1033.6350102424622\u001b[0m\n",
      "\u001b[32m2025-02-02 15:35:54.146\u001b[0m | \u001b[1mINFO    \u001b[0m | \u001b[36mhyvideo.inference\u001b[0m:\u001b[36mpredict\u001b[0m:\u001b[36m587\u001b[0m - \u001b[1mInput (height, width, video_length) = (480, 848, 121)\u001b[0m\n",
      "\u001b[32m2025-02-02 15:35:54.154\u001b[0m | \u001b[34m\u001b[1mDEBUG   \u001b[0m | \u001b[36mhyvideo.inference\u001b[0m:\u001b[36mpredict\u001b[0m:\u001b[36m647\u001b[0m - \u001b[34m\u001b[1m\n",
      "                        height: 480\n",
      "                         width: 848\n",
      "                  video_length: 121\n",
      "                        prompt: ['A celestial ocean glimmers under a starlit sky, where waves of light ripple gently across the surface. Ethereal beings, adorned in flowing garments of silver and blue, glide above the water, their movements fluid and serene. The atmosphere is tranquil, with the soft sound of waves lapping against the shore creating a soothing backdrop. Wisps of fog drift lazily, enhancing the dreamlike quality of the scene, as the colors blend seamlessly into one another, evoking a sense of peace and wonder. Angels glide effortlessly above the water, their luminous forms leaving trails of light, as the gentle sounds of the ocean cradle the viewer in calm.']\n",
      "                    neg_prompt: ['Aerial view, aerial view, overexposed, low quality, deformation, a poor composition, bad hands, bad teeth, bad eyes, bad limbs, distortion']\n",
      "                          seed: 1654572827\n",
      "                   infer_steps: 50\n",
      "         num_videos_per_prompt: 1\n",
      "                guidance_scale: 1.0\n",
      "                      n_tokens: 49290\n",
      "                    flow_shift: 7.0\n",
      "       embedded_guidance_scale: 6.0\u001b[0m\n"
     ]
    },
    {
     "data": {
      "application/vnd.jupyter.widget-view+json": {
       "model_id": "2137663ec99e4b2ebd14dad7411f7937",
       "version_major": 2,
       "version_minor": 0
      },
      "text/plain": [
       "  0%|          | 0/50 [00:00<?, ?it/s]"
      ]
     },
     "metadata": {},
     "output_type": "display_data"
    },
    {
     "name": "stderr",
     "output_type": "stream",
     "text": [
      "\u001b[32m2025-02-02 15:53:03.772\u001b[0m | \u001b[1mINFO    \u001b[0m | \u001b[36mhyvideo.inference\u001b[0m:\u001b[36mpredict\u001b[0m:\u001b[36m681\u001b[0m - \u001b[1mSuccess, time: 1029.6165308952332\u001b[0m\n",
      "\u001b[32m2025-02-02 15:53:05.610\u001b[0m | \u001b[1mINFO    \u001b[0m | \u001b[36mhyvideo.inference\u001b[0m:\u001b[36mpredict\u001b[0m:\u001b[36m587\u001b[0m - \u001b[1mInput (height, width, video_length) = (480, 848, 121)\u001b[0m\n",
      "\u001b[32m2025-02-02 15:53:05.613\u001b[0m | \u001b[34m\u001b[1mDEBUG   \u001b[0m | \u001b[36mhyvideo.inference\u001b[0m:\u001b[36mpredict\u001b[0m:\u001b[36m647\u001b[0m - \u001b[34m\u001b[1m\n",
      "                        height: 480\n",
      "                         width: 848\n",
      "                  video_length: 121\n",
      "                        prompt: ['A celestial ocean glimmers under a starlit sky, where waves of light ripple gently across the surface. Ethereal beings, adorned in flowing garments of silver and blue, glide above the water, their movements fluid and serene. The atmosphere is tranquil, with the soft sound of waves lapping against the shore creating a soothing backdrop. Wisps of fog drift lazily, enhancing the dreamlike quality of the scene, as the colors blend seamlessly into one another, evoking a sense of peace and wonder. Angels glide effortlessly above the water, their luminous forms leaving trails of light, as the gentle sounds of the ocean cradle the viewer in calm.']\n",
      "                    neg_prompt: ['Aerial view, aerial view, overexposed, low quality, deformation, a poor composition, bad hands, bad teeth, bad eyes, bad limbs, distortion']\n",
      "                          seed: 996394594\n",
      "                   infer_steps: 50\n",
      "         num_videos_per_prompt: 1\n",
      "                guidance_scale: 1.0\n",
      "                      n_tokens: 49290\n",
      "                    flow_shift: 7.0\n",
      "       embedded_guidance_scale: 6.0\u001b[0m\n"
     ]
    },
    {
     "data": {
      "application/vnd.jupyter.widget-view+json": {
       "model_id": "1b5cfed27b2041fd8da667918e2aabea",
       "version_major": 2,
       "version_minor": 0
      },
      "text/plain": [
       "  0%|          | 0/50 [00:00<?, ?it/s]"
      ]
     },
     "metadata": {},
     "output_type": "display_data"
    },
    {
     "name": "stderr",
     "output_type": "stream",
     "text": [
      "\u001b[32m2025-02-02 16:10:08.582\u001b[0m | \u001b[1mINFO    \u001b[0m | \u001b[36mhyvideo.inference\u001b[0m:\u001b[36mpredict\u001b[0m:\u001b[36m681\u001b[0m - \u001b[1mSuccess, time: 1022.9682924747467\u001b[0m\n",
      "\u001b[32m2025-02-02 16:10:10.120\u001b[0m | \u001b[1mINFO    \u001b[0m | \u001b[36mhyvideo.inference\u001b[0m:\u001b[36mpredict\u001b[0m:\u001b[36m587\u001b[0m - \u001b[1mInput (height, width, video_length) = (480, 848, 121)\u001b[0m\n",
      "\u001b[32m2025-02-02 16:10:10.126\u001b[0m | \u001b[34m\u001b[1mDEBUG   \u001b[0m | \u001b[36mhyvideo.inference\u001b[0m:\u001b[36mpredict\u001b[0m:\u001b[36m647\u001b[0m - \u001b[34m\u001b[1m\n",
      "                        height: 480\n",
      "                         width: 848\n",
      "                  video_length: 121\n",
      "                        prompt: ['A majestic mountain range rises against a twilight sky, where hues of orange and purple blend harmoniously. Ethereal figures, cloaked in robes that mimic the colors of the sunset, stand atop the peaks, their wings unfurling like banners of hope. The air is crisp and invigorating, filled with the scent of pine and earth. A gentle breeze carries whispers of ancient wisdom, creating a sense of connection to the universe. This scene embodies strength and serenity, inviting viewers to reflect on their journey. Angels stand tall on the mountaintops, their wings catching the light, as a soft wind carries their whispers of encouragement to the viewer.']\n",
      "                    neg_prompt: ['Aerial view, aerial view, overexposed, low quality, deformation, a poor composition, bad hands, bad teeth, bad eyes, bad limbs, distortion']\n",
      "                          seed: 1797648893\n",
      "                   infer_steps: 50\n",
      "         num_videos_per_prompt: 1\n",
      "                guidance_scale: 1.0\n",
      "                      n_tokens: 49290\n",
      "                    flow_shift: 7.0\n",
      "       embedded_guidance_scale: 6.0\u001b[0m\n"
     ]
    },
    {
     "name": "stdout",
     "output_type": "stream",
     "text": [
      "Scene 7 has 3 segments\n"
     ]
    },
    {
     "data": {
      "application/vnd.jupyter.widget-view+json": {
       "model_id": "54206d612fa34b04a045314e5312174e",
       "version_major": 2,
       "version_minor": 0
      },
      "text/plain": [
       "  0%|          | 0/50 [00:00<?, ?it/s]"
      ]
     },
     "metadata": {},
     "output_type": "display_data"
    },
    {
     "name": "stderr",
     "output_type": "stream",
     "text": [
      "\u001b[32m2025-02-02 16:27:16.233\u001b[0m | \u001b[1mINFO    \u001b[0m | \u001b[36mhyvideo.inference\u001b[0m:\u001b[36mpredict\u001b[0m:\u001b[36m681\u001b[0m - \u001b[1mSuccess, time: 1026.1063694953918\u001b[0m\n",
      "\u001b[32m2025-02-02 16:27:17.830\u001b[0m | \u001b[1mINFO    \u001b[0m | \u001b[36mhyvideo.inference\u001b[0m:\u001b[36mpredict\u001b[0m:\u001b[36m587\u001b[0m - \u001b[1mInput (height, width, video_length) = (480, 848, 121)\u001b[0m\n",
      "\u001b[32m2025-02-02 16:27:17.844\u001b[0m | \u001b[34m\u001b[1mDEBUG   \u001b[0m | \u001b[36mhyvideo.inference\u001b[0m:\u001b[36mpredict\u001b[0m:\u001b[36m647\u001b[0m - \u001b[34m\u001b[1m\n",
      "                        height: 480\n",
      "                         width: 848\n",
      "                  video_length: 121\n",
      "                        prompt: ['A majestic mountain range rises against a twilight sky, where hues of orange and purple blend harmoniously. Ethereal figures, cloaked in robes that mimic the colors of the sunset, stand atop the peaks, their wings unfurling like banners of hope. The air is crisp and invigorating, filled with the scent of pine and earth. A gentle breeze carries whispers of ancient wisdom, creating a sense of connection to the universe. This scene embodies strength and serenity, inviting viewers to reflect on their journey. Angels stand tall on the mountaintops, their wings catching the light, as a soft wind carries their whispers of encouragement to the viewer.']\n",
      "                    neg_prompt: ['Aerial view, aerial view, overexposed, low quality, deformation, a poor composition, bad hands, bad teeth, bad eyes, bad limbs, distortion']\n",
      "                          seed: 193569760\n",
      "                   infer_steps: 50\n",
      "         num_videos_per_prompt: 1\n",
      "                guidance_scale: 1.0\n",
      "                      n_tokens: 49290\n",
      "                    flow_shift: 7.0\n",
      "       embedded_guidance_scale: 6.0\u001b[0m\n"
     ]
    },
    {
     "data": {
      "application/vnd.jupyter.widget-view+json": {
       "model_id": "e36760da59de400589aa1d7dbdd9ea64",
       "version_major": 2,
       "version_minor": 0
      },
      "text/plain": [
       "  0%|          | 0/50 [00:00<?, ?it/s]"
      ]
     },
     "metadata": {},
     "output_type": "display_data"
    },
    {
     "name": "stderr",
     "output_type": "stream",
     "text": [
      "\u001b[32m2025-02-02 16:44:42.879\u001b[0m | \u001b[1mINFO    \u001b[0m | \u001b[36mhyvideo.inference\u001b[0m:\u001b[36mpredict\u001b[0m:\u001b[36m681\u001b[0m - \u001b[1mSuccess, time: 1045.0342240333557\u001b[0m\n",
      "\u001b[32m2025-02-02 16:44:44.529\u001b[0m | \u001b[1mINFO    \u001b[0m | \u001b[36mhyvideo.inference\u001b[0m:\u001b[36mpredict\u001b[0m:\u001b[36m587\u001b[0m - \u001b[1mInput (height, width, video_length) = (480, 848, 121)\u001b[0m\n",
      "\u001b[32m2025-02-02 16:44:44.532\u001b[0m | \u001b[34m\u001b[1mDEBUG   \u001b[0m | \u001b[36mhyvideo.inference\u001b[0m:\u001b[36mpredict\u001b[0m:\u001b[36m647\u001b[0m - \u001b[34m\u001b[1m\n",
      "                        height: 480\n",
      "                         width: 848\n",
      "                  video_length: 121\n",
      "                        prompt: ['A majestic mountain range rises against a twilight sky, where hues of orange and purple blend harmoniously. Ethereal figures, cloaked in robes that mimic the colors of the sunset, stand atop the peaks, their wings unfurling like banners of hope. The air is crisp and invigorating, filled with the scent of pine and earth. A gentle breeze carries whispers of ancient wisdom, creating a sense of connection to the universe. This scene embodies strength and serenity, inviting viewers to reflect on their journey. Angels stand tall on the mountaintops, their wings catching the light, as a soft wind carries their whispers of encouragement to the viewer.']\n",
      "                    neg_prompt: ['Aerial view, aerial view, overexposed, low quality, deformation, a poor composition, bad hands, bad teeth, bad eyes, bad limbs, distortion']\n",
      "                          seed: 1785120025\n",
      "                   infer_steps: 50\n",
      "         num_videos_per_prompt: 1\n",
      "                guidance_scale: 1.0\n",
      "                      n_tokens: 49290\n",
      "                    flow_shift: 7.0\n",
      "       embedded_guidance_scale: 6.0\u001b[0m\n"
     ]
    },
    {
     "data": {
      "application/vnd.jupyter.widget-view+json": {
       "model_id": "18ed95af2ea8476383ad7d06d1cc9d6e",
       "version_major": 2,
       "version_minor": 0
      },
      "text/plain": [
       "  0%|          | 0/50 [00:00<?, ?it/s]"
      ]
     },
     "metadata": {},
     "output_type": "display_data"
    },
    {
     "name": "stderr",
     "output_type": "stream",
     "text": [
      "\u001b[32m2025-02-02 17:01:52.517\u001b[0m | \u001b[1mINFO    \u001b[0m | \u001b[36mhyvideo.inference\u001b[0m:\u001b[36mpredict\u001b[0m:\u001b[36m681\u001b[0m - \u001b[1mSuccess, time: 1027.9845027923584\u001b[0m\n",
      "\u001b[32m2025-02-02 17:01:54.390\u001b[0m | \u001b[1mINFO    \u001b[0m | \u001b[36mhyvideo.inference\u001b[0m:\u001b[36mpredict\u001b[0m:\u001b[36m587\u001b[0m - \u001b[1mInput (height, width, video_length) = (480, 848, 121)\u001b[0m\n",
      "\u001b[32m2025-02-02 17:01:54.397\u001b[0m | \u001b[34m\u001b[1mDEBUG   \u001b[0m | \u001b[36mhyvideo.inference\u001b[0m:\u001b[36mpredict\u001b[0m:\u001b[36m647\u001b[0m - \u001b[34m\u001b[1m\n",
      "                        height: 480\n",
      "                         width: 848\n",
      "                  video_length: 121\n",
      "                        prompt: ['A vibrant cityscape glows under a canopy of stars, where ethereal beings weave through the streets, their robes shimmering like the night sky. The atmosphere is alive with the sounds of laughter and music, as colorful lights flicker like fireflies. Angels, adorned in garments of light, interact with the environment, their presence infusing the city with warmth and joy. This scene captures the essence of community and connection, inviting viewers to embrace the magic of togetherness. Angels dance through the streets, their laughter echoing, as they spread light and joy, illuminating the night with their presence.']\n",
      "                    neg_prompt: ['Aerial view, aerial view, overexposed, low quality, deformation, a poor composition, bad hands, bad teeth, bad eyes, bad limbs, distortion']\n",
      "                          seed: 60115027\n",
      "                   infer_steps: 50\n",
      "         num_videos_per_prompt: 1\n",
      "                guidance_scale: 1.0\n",
      "                      n_tokens: 49290\n",
      "                    flow_shift: 7.0\n",
      "       embedded_guidance_scale: 6.0\u001b[0m\n"
     ]
    },
    {
     "name": "stdout",
     "output_type": "stream",
     "text": [
      "Scene 8 has 1 segments\n"
     ]
    },
    {
     "data": {
      "application/vnd.jupyter.widget-view+json": {
       "model_id": "f3b964c2cbfc4aceb7fb9cfc6b6fdc37",
       "version_major": 2,
       "version_minor": 0
      },
      "text/plain": [
       "  0%|          | 0/50 [00:00<?, ?it/s]"
      ]
     },
     "metadata": {},
     "output_type": "display_data"
    },
    {
     "name": "stderr",
     "output_type": "stream",
     "text": [
      "\u001b[32m2025-02-02 17:18:53.761\u001b[0m | \u001b[1mINFO    \u001b[0m | \u001b[36mhyvideo.inference\u001b[0m:\u001b[36mpredict\u001b[0m:\u001b[36m681\u001b[0m - \u001b[1mSuccess, time: 1019.3631725311279\u001b[0m\n",
      "\u001b[32m2025-02-02 17:18:55.629\u001b[0m | \u001b[1mINFO    \u001b[0m | \u001b[36mhyvideo.inference\u001b[0m:\u001b[36mpredict\u001b[0m:\u001b[36m587\u001b[0m - \u001b[1mInput (height, width, video_length) = (480, 848, 121)\u001b[0m\n",
      "\u001b[32m2025-02-02 17:18:55.640\u001b[0m | \u001b[34m\u001b[1mDEBUG   \u001b[0m | \u001b[36mhyvideo.inference\u001b[0m:\u001b[36mpredict\u001b[0m:\u001b[36m647\u001b[0m - \u001b[34m\u001b[1m\n",
      "                        height: 480\n",
      "                         width: 848\n",
      "                  video_length: 121\n",
      "                        prompt: ['A mystical night unfolds, where shadows stretch and twist against a backdrop of shimmering stars. Ethereal figures, draped in flowing silks that glimmer like moonlight, emerge from the darkness, cradling delicate orbs of light. The air is filled with the haunting strains of violins, weaving a melody that resonates deep within the soul. Wisps of silver mist swirl around, creating an atmosphere of enchantment and longing, as the angels embody the essence of hope amidst the shadows. Angels glide through the mist, cradling glowing orbs, as the music swells, enveloping the viewer in a cocoon of warmth and solace.']\n",
      "                    neg_prompt: ['Aerial view, aerial view, overexposed, low quality, deformation, a poor composition, bad hands, bad teeth, bad eyes, bad limbs, distortion']\n",
      "                          seed: 1702623991\n",
      "                   infer_steps: 50\n",
      "         num_videos_per_prompt: 1\n",
      "                guidance_scale: 1.0\n",
      "                      n_tokens: 49290\n",
      "                    flow_shift: 7.0\n",
      "       embedded_guidance_scale: 6.0\u001b[0m\n"
     ]
    },
    {
     "name": "stdout",
     "output_type": "stream",
     "text": [
      "Scene 9 has 3 segments\n"
     ]
    },
    {
     "data": {
      "application/vnd.jupyter.widget-view+json": {
       "model_id": "27ffbc145ff1414ca12e0e20a680faef",
       "version_major": 2,
       "version_minor": 0
      },
      "text/plain": [
       "  0%|          | 0/50 [00:00<?, ?it/s]"
      ]
     },
     "metadata": {},
     "output_type": "display_data"
    },
    {
     "name": "stderr",
     "output_type": "stream",
     "text": [
      "\u001b[32m2025-02-02 17:35:53.211\u001b[0m | \u001b[1mINFO    \u001b[0m | \u001b[36mhyvideo.inference\u001b[0m:\u001b[36mpredict\u001b[0m:\u001b[36m681\u001b[0m - \u001b[1mSuccess, time: 1017.5704500675201\u001b[0m\n",
      "\u001b[32m2025-02-02 17:35:55.596\u001b[0m | \u001b[1mINFO    \u001b[0m | \u001b[36mhyvideo.inference\u001b[0m:\u001b[36mpredict\u001b[0m:\u001b[36m587\u001b[0m - \u001b[1mInput (height, width, video_length) = (480, 848, 121)\u001b[0m\n",
      "\u001b[32m2025-02-02 17:35:55.599\u001b[0m | \u001b[34m\u001b[1mDEBUG   \u001b[0m | \u001b[36mhyvideo.inference\u001b[0m:\u001b[36mpredict\u001b[0m:\u001b[36m647\u001b[0m - \u001b[34m\u001b[1m\n",
      "                        height: 480\n",
      "                         width: 848\n",
      "                  video_length: 121\n",
      "                        prompt: ['A mystical night unfolds, where shadows stretch and twist against a backdrop of shimmering stars. Ethereal figures, draped in flowing silks that glimmer like moonlight, emerge from the darkness, cradling delicate orbs of light. The air is filled with the haunting strains of violins, weaving a melody that resonates deep within the soul. Wisps of silver mist swirl around, creating an atmosphere of enchantment and longing, as the angels embody the essence of hope amidst the shadows. Angels glide through the mist, cradling glowing orbs, as the music swells, enveloping the viewer in a cocoon of warmth and solace.']\n",
      "                    neg_prompt: ['Aerial view, aerial view, overexposed, low quality, deformation, a poor composition, bad hands, bad teeth, bad eyes, bad limbs, distortion']\n",
      "                          seed: 1316940977\n",
      "                   infer_steps: 50\n",
      "         num_videos_per_prompt: 1\n",
      "                guidance_scale: 1.0\n",
      "                      n_tokens: 49290\n",
      "                    flow_shift: 7.0\n",
      "       embedded_guidance_scale: 6.0\u001b[0m\n"
     ]
    },
    {
     "data": {
      "application/vnd.jupyter.widget-view+json": {
       "model_id": "0dc250b52a25415cbcf4f5c8619ddedd",
       "version_major": 2,
       "version_minor": 0
      },
      "text/plain": [
       "  0%|          | 0/50 [00:00<?, ?it/s]"
      ]
     },
     "metadata": {},
     "output_type": "display_data"
    },
    {
     "name": "stderr",
     "output_type": "stream",
     "text": [
      "\u001b[32m2025-02-02 17:52:46.517\u001b[0m | \u001b[1mINFO    \u001b[0m | \u001b[36mhyvideo.inference\u001b[0m:\u001b[36mpredict\u001b[0m:\u001b[36m681\u001b[0m - \u001b[1mSuccess, time: 1010.9174227714539\u001b[0m\n",
      "\u001b[32m2025-02-02 17:52:48.130\u001b[0m | \u001b[1mINFO    \u001b[0m | \u001b[36mhyvideo.inference\u001b[0m:\u001b[36mpredict\u001b[0m:\u001b[36m587\u001b[0m - \u001b[1mInput (height, width, video_length) = (480, 848, 121)\u001b[0m\n",
      "\u001b[32m2025-02-02 17:52:48.138\u001b[0m | \u001b[34m\u001b[1mDEBUG   \u001b[0m | \u001b[36mhyvideo.inference\u001b[0m:\u001b[36mpredict\u001b[0m:\u001b[36m647\u001b[0m - \u001b[34m\u001b[1m\n",
      "                        height: 480\n",
      "                         width: 848\n",
      "                  video_length: 121\n",
      "                        prompt: ['A mystical night unfolds, where shadows stretch and twist against a backdrop of shimmering stars. Ethereal figures, draped in flowing silks that glimmer like moonlight, emerge from the darkness, cradling delicate orbs of light. The air is filled with the haunting strains of violins, weaving a melody that resonates deep within the soul. Wisps of silver mist swirl around, creating an atmosphere of enchantment and longing, as the angels embody the essence of hope amidst the shadows. Angels glide through the mist, cradling glowing orbs, as the music swells, enveloping the viewer in a cocoon of warmth and solace.']\n",
      "                    neg_prompt: ['Aerial view, aerial view, overexposed, low quality, deformation, a poor composition, bad hands, bad teeth, bad eyes, bad limbs, distortion']\n",
      "                          seed: 2070280586\n",
      "                   infer_steps: 50\n",
      "         num_videos_per_prompt: 1\n",
      "                guidance_scale: 1.0\n",
      "                      n_tokens: 49290\n",
      "                    flow_shift: 7.0\n",
      "       embedded_guidance_scale: 6.0\u001b[0m\n"
     ]
    },
    {
     "data": {
      "application/vnd.jupyter.widget-view+json": {
       "model_id": "5f9cf941106646d6a587af1085238334",
       "version_major": 2,
       "version_minor": 0
      },
      "text/plain": [
       "  0%|          | 0/50 [00:00<?, ?it/s]"
      ]
     },
     "metadata": {},
     "output_type": "display_data"
    },
    {
     "name": "stderr",
     "output_type": "stream",
     "text": [
      "\u001b[32m2025-02-02 18:09:36.500\u001b[0m | \u001b[1mINFO    \u001b[0m | \u001b[36mhyvideo.inference\u001b[0m:\u001b[36mpredict\u001b[0m:\u001b[36m681\u001b[0m - \u001b[1mSuccess, time: 1008.3612308502197\u001b[0m\n",
      "\u001b[32m2025-02-02 18:09:38.039\u001b[0m | \u001b[1mINFO    \u001b[0m | \u001b[36mhyvideo.inference\u001b[0m:\u001b[36mpredict\u001b[0m:\u001b[36m587\u001b[0m - \u001b[1mInput (height, width, video_length) = (480, 848, 121)\u001b[0m\n",
      "\u001b[32m2025-02-02 18:09:38.046\u001b[0m | \u001b[34m\u001b[1mDEBUG   \u001b[0m | \u001b[36mhyvideo.inference\u001b[0m:\u001b[36mpredict\u001b[0m:\u001b[36m647\u001b[0m - \u001b[34m\u001b[1m\n",
      "                        height: 480\n",
      "                         width: 848\n",
      "                  video_length: 121\n",
      "                        prompt: ['A surreal landscape emerges, where soft, billowing clouds float above a tranquil sea of stars. Ethereal beings, adorned in robes of shimmering light, drift gracefully, their forms merging with the mist. The air is thick with emotion, as the gentle strains of violins echo through the night, creating a hauntingly beautiful atmosphere. Shadows dance playfully, while the colors blend seamlessly, evoking a sense of wonder and introspection, inviting viewers to explore the depths of their own hearts. Angels weave through the mist, their luminous forms illuminating the darkness, as the music envelops the viewer in a serene embrace.']\n",
      "                    neg_prompt: ['Aerial view, aerial view, overexposed, low quality, deformation, a poor composition, bad hands, bad teeth, bad eyes, bad limbs, distortion']\n",
      "                          seed: 305545008\n",
      "                   infer_steps: 50\n",
      "         num_videos_per_prompt: 1\n",
      "                guidance_scale: 1.0\n",
      "                      n_tokens: 49290\n",
      "                    flow_shift: 7.0\n",
      "       embedded_guidance_scale: 6.0\u001b[0m\n"
     ]
    },
    {
     "name": "stdout",
     "output_type": "stream",
     "text": [
      "Scene 10 has 3 segments\n"
     ]
    },
    {
     "data": {
      "application/vnd.jupyter.widget-view+json": {
       "model_id": "333ec751fb384f74b91ae521299fe517",
       "version_major": 2,
       "version_minor": 0
      },
      "text/plain": [
       "  0%|          | 0/50 [00:00<?, ?it/s]"
      ]
     },
     "metadata": {},
     "output_type": "display_data"
    },
    {
     "name": "stderr",
     "output_type": "stream",
     "text": [
      "\u001b[32m2025-02-02 18:26:25.683\u001b[0m | \u001b[1mINFO    \u001b[0m | \u001b[36mhyvideo.inference\u001b[0m:\u001b[36mpredict\u001b[0m:\u001b[36m681\u001b[0m - \u001b[1mSuccess, time: 1007.636066198349\u001b[0m\n",
      "\u001b[32m2025-02-02 18:26:27.172\u001b[0m | \u001b[1mINFO    \u001b[0m | \u001b[36mhyvideo.inference\u001b[0m:\u001b[36mpredict\u001b[0m:\u001b[36m587\u001b[0m - \u001b[1mInput (height, width, video_length) = (480, 848, 121)\u001b[0m\n",
      "\u001b[32m2025-02-02 18:26:27.176\u001b[0m | \u001b[34m\u001b[1mDEBUG   \u001b[0m | \u001b[36mhyvideo.inference\u001b[0m:\u001b[36mpredict\u001b[0m:\u001b[36m647\u001b[0m - \u001b[34m\u001b[1m\n",
      "                        height: 480\n",
      "                         width: 848\n",
      "                  video_length: 121\n",
      "                        prompt: ['A surreal landscape emerges, where soft, billowing clouds float above a tranquil sea of stars. Ethereal beings, adorned in robes of shimmering light, drift gracefully, their forms merging with the mist. The air is thick with emotion, as the gentle strains of violins echo through the night, creating a hauntingly beautiful atmosphere. Shadows dance playfully, while the colors blend seamlessly, evoking a sense of wonder and introspection, inviting viewers to explore the depths of their own hearts. Angels weave through the mist, their luminous forms illuminating the darkness, as the music envelops the viewer in a serene embrace.']\n",
      "                    neg_prompt: ['Aerial view, aerial view, overexposed, low quality, deformation, a poor composition, bad hands, bad teeth, bad eyes, bad limbs, distortion']\n",
      "                          seed: 569735311\n",
      "                   infer_steps: 50\n",
      "         num_videos_per_prompt: 1\n",
      "                guidance_scale: 1.0\n",
      "                      n_tokens: 49290\n",
      "                    flow_shift: 7.0\n",
      "       embedded_guidance_scale: 6.0\u001b[0m\n"
     ]
    },
    {
     "data": {
      "application/vnd.jupyter.widget-view+json": {
       "model_id": "8bae570029e94c9ea034f5da15bcbf73",
       "version_major": 2,
       "version_minor": 0
      },
      "text/plain": [
       "  0%|          | 0/50 [00:00<?, ?it/s]"
      ]
     },
     "metadata": {},
     "output_type": "display_data"
    },
    {
     "name": "stderr",
     "output_type": "stream",
     "text": [
      "\u001b[32m2025-02-02 18:43:15.072\u001b[0m | \u001b[1mINFO    \u001b[0m | \u001b[36mhyvideo.inference\u001b[0m:\u001b[36mpredict\u001b[0m:\u001b[36m681\u001b[0m - \u001b[1mSuccess, time: 1007.8964469432831\u001b[0m\n",
      "\u001b[32m2025-02-02 18:43:16.620\u001b[0m | \u001b[1mINFO    \u001b[0m | \u001b[36mhyvideo.inference\u001b[0m:\u001b[36mpredict\u001b[0m:\u001b[36m587\u001b[0m - \u001b[1mInput (height, width, video_length) = (480, 848, 121)\u001b[0m\n",
      "\u001b[32m2025-02-02 18:43:16.627\u001b[0m | \u001b[34m\u001b[1mDEBUG   \u001b[0m | \u001b[36mhyvideo.inference\u001b[0m:\u001b[36mpredict\u001b[0m:\u001b[36m647\u001b[0m - \u001b[34m\u001b[1m\n",
      "                        height: 480\n",
      "                         width: 848\n",
      "                  video_length: 121\n",
      "                        prompt: ['A surreal landscape emerges, where soft, billowing clouds float above a tranquil sea of stars. Ethereal beings, adorned in robes of shimmering light, drift gracefully, their forms merging with the mist. The air is thick with emotion, as the gentle strains of violins echo through the night, creating a hauntingly beautiful atmosphere. Shadows dance playfully, while the colors blend seamlessly, evoking a sense of wonder and introspection, inviting viewers to explore the depths of their own hearts. Angels weave through the mist, their luminous forms illuminating the darkness, as the music envelops the viewer in a serene embrace.']\n",
      "                    neg_prompt: ['Aerial view, aerial view, overexposed, low quality, deformation, a poor composition, bad hands, bad teeth, bad eyes, bad limbs, distortion']\n",
      "                          seed: 1066704680\n",
      "                   infer_steps: 50\n",
      "         num_videos_per_prompt: 1\n",
      "                guidance_scale: 1.0\n",
      "                      n_tokens: 49290\n",
      "                    flow_shift: 7.0\n",
      "       embedded_guidance_scale: 6.0\u001b[0m\n"
     ]
    },
    {
     "data": {
      "application/vnd.jupyter.widget-view+json": {
       "model_id": "558360d9c80b4a0b8f8a4a9cd24369e7",
       "version_major": 2,
       "version_minor": 0
      },
      "text/plain": [
       "  0%|          | 0/50 [00:00<?, ?it/s]"
      ]
     },
     "metadata": {},
     "output_type": "display_data"
    },
    {
     "name": "stderr",
     "output_type": "stream",
     "text": [
      "\u001b[32m2025-02-02 19:00:05.068\u001b[0m | \u001b[1mINFO    \u001b[0m | \u001b[36mhyvideo.inference\u001b[0m:\u001b[36mpredict\u001b[0m:\u001b[36m681\u001b[0m - \u001b[1mSuccess, time: 1008.4404366016388\u001b[0m\n",
      "\u001b[32m2025-02-02 19:00:06.574\u001b[0m | \u001b[1mINFO    \u001b[0m | \u001b[36mhyvideo.inference\u001b[0m:\u001b[36mpredict\u001b[0m:\u001b[36m587\u001b[0m - \u001b[1mInput (height, width, video_length) = (480, 848, 121)\u001b[0m\n",
      "\u001b[32m2025-02-02 19:00:06.584\u001b[0m | \u001b[34m\u001b[1mDEBUG   \u001b[0m | \u001b[36mhyvideo.inference\u001b[0m:\u001b[36mpredict\u001b[0m:\u001b[36m647\u001b[0m - \u001b[34m\u001b[1m\n",
      "                        height: 480\n",
      "                         width: 848\n",
      "                  video_length: 121\n",
      "                        prompt: ['A dreamlike meadow unfurls under a canopy of twinkling stars, where soft grasses sway gently in the night breeze. Ethereal figures, cloaked in robes of soft pastels, dance among the wildflowers, their movements fluid and graceful. The air is fragrant with the scent of blooming jasmine, as the haunting melody of violins fills the atmosphere, creating a sense of longing and nostalgia. The scene is bathed in a soft, ethereal glow, inviting viewers to lose themselves in the beauty of the moment. Angels twirl among the flowers, their laughter mingling with the music, as the night wraps around the viewer like a comforting blanket.']\n",
      "                    neg_prompt: ['Aerial view, aerial view, overexposed, low quality, deformation, a poor composition, bad hands, bad teeth, bad eyes, bad limbs, distortion']\n",
      "                          seed: 147402576\n",
      "                   infer_steps: 50\n",
      "         num_videos_per_prompt: 1\n",
      "                guidance_scale: 1.0\n",
      "                      n_tokens: 49290\n",
      "                    flow_shift: 7.0\n",
      "       embedded_guidance_scale: 6.0\u001b[0m\n"
     ]
    },
    {
     "name": "stdout",
     "output_type": "stream",
     "text": [
      "Scene 11 has 3 segments\n"
     ]
    },
    {
     "data": {
      "application/vnd.jupyter.widget-view+json": {
       "model_id": "a305d962d63f445cb917eaad150a56b8",
       "version_major": 2,
       "version_minor": 0
      },
      "text/plain": [
       "  0%|          | 0/50 [00:00<?, ?it/s]"
      ]
     },
     "metadata": {},
     "output_type": "display_data"
    },
    {
     "name": "stderr",
     "output_type": "stream",
     "text": [
      "\u001b[32m2025-02-02 19:17:00.687\u001b[0m | \u001b[1mINFO    \u001b[0m | \u001b[36mhyvideo.inference\u001b[0m:\u001b[36mpredict\u001b[0m:\u001b[36m681\u001b[0m - \u001b[1mSuccess, time: 1014.1029622554779\u001b[0m\n",
      "\u001b[32m2025-02-02 19:17:02.268\u001b[0m | \u001b[1mINFO    \u001b[0m | \u001b[36mhyvideo.inference\u001b[0m:\u001b[36mpredict\u001b[0m:\u001b[36m587\u001b[0m - \u001b[1mInput (height, width, video_length) = (480, 848, 121)\u001b[0m\n",
      "\u001b[32m2025-02-02 19:17:02.275\u001b[0m | \u001b[34m\u001b[1mDEBUG   \u001b[0m | \u001b[36mhyvideo.inference\u001b[0m:\u001b[36mpredict\u001b[0m:\u001b[36m647\u001b[0m - \u001b[34m\u001b[1m\n",
      "                        height: 480\n",
      "                         width: 848\n",
      "                  video_length: 121\n",
      "                        prompt: ['A dreamlike meadow unfurls under a canopy of twinkling stars, where soft grasses sway gently in the night breeze. Ethereal figures, cloaked in robes of soft pastels, dance among the wildflowers, their movements fluid and graceful. The air is fragrant with the scent of blooming jasmine, as the haunting melody of violins fills the atmosphere, creating a sense of longing and nostalgia. The scene is bathed in a soft, ethereal glow, inviting viewers to lose themselves in the beauty of the moment. Angels twirl among the flowers, their laughter mingling with the music, as the night wraps around the viewer like a comforting blanket.']\n",
      "                    neg_prompt: ['Aerial view, aerial view, overexposed, low quality, deformation, a poor composition, bad hands, bad teeth, bad eyes, bad limbs, distortion']\n",
      "                          seed: 2117622709\n",
      "                   infer_steps: 50\n",
      "         num_videos_per_prompt: 1\n",
      "                guidance_scale: 1.0\n",
      "                      n_tokens: 49290\n",
      "                    flow_shift: 7.0\n",
      "       embedded_guidance_scale: 6.0\u001b[0m\n"
     ]
    },
    {
     "data": {
      "application/vnd.jupyter.widget-view+json": {
       "model_id": "04766d8326784c5090ab941a6f7996ff",
       "version_major": 2,
       "version_minor": 0
      },
      "text/plain": [
       "  0%|          | 0/50 [00:00<?, ?it/s]"
      ]
     },
     "metadata": {},
     "output_type": "display_data"
    },
    {
     "name": "stderr",
     "output_type": "stream",
     "text": [
      "\u001b[32m2025-02-02 19:33:58.421\u001b[0m | \u001b[1mINFO    \u001b[0m | \u001b[36mhyvideo.inference\u001b[0m:\u001b[36mpredict\u001b[0m:\u001b[36m681\u001b[0m - \u001b[1mSuccess, time: 1016.1454222202301\u001b[0m\n",
      "\u001b[32m2025-02-02 19:33:59.936\u001b[0m | \u001b[1mINFO    \u001b[0m | \u001b[36mhyvideo.inference\u001b[0m:\u001b[36mpredict\u001b[0m:\u001b[36m587\u001b[0m - \u001b[1mInput (height, width, video_length) = (480, 848, 121)\u001b[0m\n",
      "\u001b[32m2025-02-02 19:33:59.945\u001b[0m | \u001b[34m\u001b[1mDEBUG   \u001b[0m | \u001b[36mhyvideo.inference\u001b[0m:\u001b[36mpredict\u001b[0m:\u001b[36m647\u001b[0m - \u001b[34m\u001b[1m\n",
      "                        height: 480\n",
      "                         width: 848\n",
      "                  video_length: 121\n",
      "                        prompt: ['A dreamlike meadow unfurls under a canopy of twinkling stars, where soft grasses sway gently in the night breeze. Ethereal figures, cloaked in robes of soft pastels, dance among the wildflowers, their movements fluid and graceful. The air is fragrant with the scent of blooming jasmine, as the haunting melody of violins fills the atmosphere, creating a sense of longing and nostalgia. The scene is bathed in a soft, ethereal glow, inviting viewers to lose themselves in the beauty of the moment. Angels twirl among the flowers, their laughter mingling with the music, as the night wraps around the viewer like a comforting blanket.']\n",
      "                    neg_prompt: ['Aerial view, aerial view, overexposed, low quality, deformation, a poor composition, bad hands, bad teeth, bad eyes, bad limbs, distortion']\n",
      "                          seed: 884902682\n",
      "                   infer_steps: 50\n",
      "         num_videos_per_prompt: 1\n",
      "                guidance_scale: 1.0\n",
      "                      n_tokens: 49290\n",
      "                    flow_shift: 7.0\n",
      "       embedded_guidance_scale: 6.0\u001b[0m\n"
     ]
    },
    {
     "data": {
      "application/vnd.jupyter.widget-view+json": {
       "model_id": "b0ddfefe569840a2b0141610df274e4c",
       "version_major": 2,
       "version_minor": 0
      },
      "text/plain": [
       "  0%|          | 0/50 [00:00<?, ?it/s]"
      ]
     },
     "metadata": {},
     "output_type": "display_data"
    },
    {
     "name": "stderr",
     "output_type": "stream",
     "text": [
      "\u001b[32m2025-02-02 19:50:48.581\u001b[0m | \u001b[1mINFO    \u001b[0m | \u001b[36mhyvideo.inference\u001b[0m:\u001b[36mpredict\u001b[0m:\u001b[36m681\u001b[0m - \u001b[1mSuccess, time: 1008.6348102092743\u001b[0m\n",
      "\u001b[32m2025-02-02 19:50:50.087\u001b[0m | \u001b[1mINFO    \u001b[0m | \u001b[36mhyvideo.inference\u001b[0m:\u001b[36mpredict\u001b[0m:\u001b[36m587\u001b[0m - \u001b[1mInput (height, width, video_length) = (480, 848, 121)\u001b[0m\n",
      "\u001b[32m2025-02-02 19:50:50.096\u001b[0m | \u001b[34m\u001b[1mDEBUG   \u001b[0m | \u001b[36mhyvideo.inference\u001b[0m:\u001b[36mpredict\u001b[0m:\u001b[36m647\u001b[0m - \u001b[34m\u001b[1m\n",
      "                        height: 480\n",
      "                         width: 848\n",
      "                  video_length: 121\n",
      "                        prompt: ['A tranquil glade appears, where ancient trees stand sentinel under a shimmering moonlight. Ethereal beings, adorned in flowing garments of silver and blue, gather around a crystal-clear pond, their reflections shimmering on the surface. The air is filled with the soft sounds of nature, as the gentle strains of violins resonate in harmony with the rustling leaves. This scene captures a moment of serenity and connection, inviting viewers to reflect on the beauty of the natural world. Angels gather by the pond, their reflections dancing on the water, as the music swells, creating a moment of tranquil beauty.']\n",
      "                    neg_prompt: ['Aerial view, aerial view, overexposed, low quality, deformation, a poor composition, bad hands, bad teeth, bad eyes, bad limbs, distortion']\n",
      "                          seed: 1754313250\n",
      "                   infer_steps: 50\n",
      "         num_videos_per_prompt: 1\n",
      "                guidance_scale: 1.0\n",
      "                      n_tokens: 49290\n",
      "                    flow_shift: 7.0\n",
      "       embedded_guidance_scale: 6.0\u001b[0m\n"
     ]
    },
    {
     "name": "stdout",
     "output_type": "stream",
     "text": [
      "Scene 12 has 3 segments\n"
     ]
    },
    {
     "data": {
      "application/vnd.jupyter.widget-view+json": {
       "model_id": "8f0175c5c94d48cebb8cb5050e443a63",
       "version_major": 2,
       "version_minor": 0
      },
      "text/plain": [
       "  0%|          | 0/50 [00:00<?, ?it/s]"
      ]
     },
     "metadata": {},
     "output_type": "display_data"
    },
    {
     "name": "stderr",
     "output_type": "stream",
     "text": [
      "\u001b[32m2025-02-02 20:07:43.601\u001b[0m | \u001b[1mINFO    \u001b[0m | \u001b[36mhyvideo.inference\u001b[0m:\u001b[36mpredict\u001b[0m:\u001b[36m681\u001b[0m - \u001b[1mSuccess, time: 1013.504429101944\u001b[0m\n",
      "\u001b[32m2025-02-02 20:07:46.510\u001b[0m | \u001b[1mINFO    \u001b[0m | \u001b[36mhyvideo.inference\u001b[0m:\u001b[36mpredict\u001b[0m:\u001b[36m587\u001b[0m - \u001b[1mInput (height, width, video_length) = (480, 848, 121)\u001b[0m\n",
      "\u001b[32m2025-02-02 20:07:46.517\u001b[0m | \u001b[34m\u001b[1mDEBUG   \u001b[0m | \u001b[36mhyvideo.inference\u001b[0m:\u001b[36mpredict\u001b[0m:\u001b[36m647\u001b[0m - \u001b[34m\u001b[1m\n",
      "                        height: 480\n",
      "                         width: 848\n",
      "                  video_length: 121\n",
      "                        prompt: ['A tranquil glade appears, where ancient trees stand sentinel under a shimmering moonlight. Ethereal beings, adorned in flowing garments of silver and blue, gather around a crystal-clear pond, their reflections shimmering on the surface. The air is filled with the soft sounds of nature, as the gentle strains of violins resonate in harmony with the rustling leaves. This scene captures a moment of serenity and connection, inviting viewers to reflect on the beauty of the natural world. Angels gather by the pond, their reflections dancing on the water, as the music swells, creating a moment of tranquil beauty.']\n",
      "                    neg_prompt: ['Aerial view, aerial view, overexposed, low quality, deformation, a poor composition, bad hands, bad teeth, bad eyes, bad limbs, distortion']\n",
      "                          seed: 130603348\n",
      "                   infer_steps: 50\n",
      "         num_videos_per_prompt: 1\n",
      "                guidance_scale: 1.0\n",
      "                      n_tokens: 49290\n",
      "                    flow_shift: 7.0\n",
      "       embedded_guidance_scale: 6.0\u001b[0m\n"
     ]
    },
    {
     "data": {
      "application/vnd.jupyter.widget-view+json": {
       "model_id": "41cf672e0d604cb7b35043b60ff24d62",
       "version_major": 2,
       "version_minor": 0
      },
      "text/plain": [
       "  0%|          | 0/50 [00:00<?, ?it/s]"
      ]
     },
     "metadata": {},
     "output_type": "display_data"
    },
    {
     "name": "stderr",
     "output_type": "stream",
     "text": [
      "\u001b[32m2025-02-02 20:24:42.536\u001b[0m | \u001b[1mINFO    \u001b[0m | \u001b[36mhyvideo.inference\u001b[0m:\u001b[36mpredict\u001b[0m:\u001b[36m681\u001b[0m - \u001b[1mSuccess, time: 1016.0187361240387\u001b[0m\n",
      "\u001b[32m2025-02-02 20:24:44.074\u001b[0m | \u001b[1mINFO    \u001b[0m | \u001b[36mhyvideo.inference\u001b[0m:\u001b[36mpredict\u001b[0m:\u001b[36m587\u001b[0m - \u001b[1mInput (height, width, video_length) = (480, 848, 121)\u001b[0m\n",
      "\u001b[32m2025-02-02 20:24:44.076\u001b[0m | \u001b[34m\u001b[1mDEBUG   \u001b[0m | \u001b[36mhyvideo.inference\u001b[0m:\u001b[36mpredict\u001b[0m:\u001b[36m647\u001b[0m - \u001b[34m\u001b[1m\n",
      "                        height: 480\n",
      "                         width: 848\n",
      "                  video_length: 121\n",
      "                        prompt: ['A tranquil glade appears, where ancient trees stand sentinel under a shimmering moonlight. Ethereal beings, adorned in flowing garments of silver and blue, gather around a crystal-clear pond, their reflections shimmering on the surface. The air is filled with the soft sounds of nature, as the gentle strains of violins resonate in harmony with the rustling leaves. This scene captures a moment of serenity and connection, inviting viewers to reflect on the beauty of the natural world. Angels gather by the pond, their reflections dancing on the water, as the music swells, creating a moment of tranquil beauty.']\n",
      "                    neg_prompt: ['Aerial view, aerial view, overexposed, low quality, deformation, a poor composition, bad hands, bad teeth, bad eyes, bad limbs, distortion']\n",
      "                          seed: 882782358\n",
      "                   infer_steps: 50\n",
      "         num_videos_per_prompt: 1\n",
      "                guidance_scale: 1.0\n",
      "                      n_tokens: 49290\n",
      "                    flow_shift: 7.0\n",
      "       embedded_guidance_scale: 6.0\u001b[0m\n"
     ]
    },
    {
     "data": {
      "application/vnd.jupyter.widget-view+json": {
       "model_id": "5dcb8ac11bda4568b2c3f0086c2c49e4",
       "version_major": 2,
       "version_minor": 0
      },
      "text/plain": [
       "  0%|          | 0/50 [00:00<?, ?it/s]"
      ]
     },
     "metadata": {},
     "output_type": "display_data"
    },
    {
     "name": "stderr",
     "output_type": "stream",
     "text": [
      "\u001b[32m2025-02-02 20:41:32.161\u001b[0m | \u001b[1mINFO    \u001b[0m | \u001b[36mhyvideo.inference\u001b[0m:\u001b[36mpredict\u001b[0m:\u001b[36m681\u001b[0m - \u001b[1mSuccess, time: 1008.0844993591309\u001b[0m\n",
      "\u001b[32m2025-02-02 20:41:33.642\u001b[0m | \u001b[1mINFO    \u001b[0m | \u001b[36mhyvideo.inference\u001b[0m:\u001b[36mpredict\u001b[0m:\u001b[36m587\u001b[0m - \u001b[1mInput (height, width, video_length) = (480, 848, 121)\u001b[0m\n",
      "\u001b[32m2025-02-02 20:41:33.651\u001b[0m | \u001b[34m\u001b[1mDEBUG   \u001b[0m | \u001b[36mhyvideo.inference\u001b[0m:\u001b[36mpredict\u001b[0m:\u001b[36m647\u001b[0m - \u001b[34m\u001b[1m\n",
      "                        height: 480\n",
      "                         width: 848\n",
      "                  video_length: 121\n",
      "                        prompt: ['A surreal dreamscape unfolds, where layers of soft clouds blend into deep, vibrant hues. Ethereal figures, cloaked in flowing robes of deep indigo and gold, drift through the mist, their presence a gentle reminder of guidance. The atmosphere is introspective, with reflections shimmering on the surface of a tranquil lake. Wisps of fog drift lazily, enhancing the sense of tranquility, while the lighting shifts subtly, casting an otherworldly glow that invites viewers to explore their inner thoughts. Angels weave through the fog, their luminous forms illuminating the path, as the serene lake reflects their gentle presence.']\n",
      "                    neg_prompt: ['Aerial view, aerial view, overexposed, low quality, deformation, a poor composition, bad hands, bad teeth, bad eyes, bad limbs, distortion']\n",
      "                          seed: 1749863601\n",
      "                   infer_steps: 50\n",
      "         num_videos_per_prompt: 1\n",
      "                guidance_scale: 1.0\n",
      "                      n_tokens: 49290\n",
      "                    flow_shift: 7.0\n",
      "       embedded_guidance_scale: 6.0\u001b[0m\n"
     ]
    },
    {
     "name": "stdout",
     "output_type": "stream",
     "text": [
      "Scene 13 has 4 segments\n"
     ]
    },
    {
     "data": {
      "application/vnd.jupyter.widget-view+json": {
       "model_id": "7a02bf4276f24b58acea9fa8880f65ea",
       "version_major": 2,
       "version_minor": 0
      },
      "text/plain": [
       "  0%|          | 0/50 [00:00<?, ?it/s]"
      ]
     },
     "metadata": {},
     "output_type": "display_data"
    },
    {
     "name": "stderr",
     "output_type": "stream",
     "text": [
      "\u001b[32m2025-02-02 20:58:25.396\u001b[0m | \u001b[1mINFO    \u001b[0m | \u001b[36mhyvideo.inference\u001b[0m:\u001b[36mpredict\u001b[0m:\u001b[36m681\u001b[0m - \u001b[1mSuccess, time: 1011.7450828552246\u001b[0m\n",
      "\u001b[32m2025-02-02 20:58:26.958\u001b[0m | \u001b[1mINFO    \u001b[0m | \u001b[36mhyvideo.inference\u001b[0m:\u001b[36mpredict\u001b[0m:\u001b[36m587\u001b[0m - \u001b[1mInput (height, width, video_length) = (480, 848, 121)\u001b[0m\n",
      "\u001b[32m2025-02-02 20:58:26.961\u001b[0m | \u001b[34m\u001b[1mDEBUG   \u001b[0m | \u001b[36mhyvideo.inference\u001b[0m:\u001b[36mpredict\u001b[0m:\u001b[36m647\u001b[0m - \u001b[34m\u001b[1m\n",
      "                        height: 480\n",
      "                         width: 848\n",
      "                  video_length: 121\n",
      "                        prompt: ['A surreal dreamscape unfolds, where layers of soft clouds blend into deep, vibrant hues. Ethereal figures, cloaked in flowing robes of deep indigo and gold, drift through the mist, their presence a gentle reminder of guidance. The atmosphere is introspective, with reflections shimmering on the surface of a tranquil lake. Wisps of fog drift lazily, enhancing the sense of tranquility, while the lighting shifts subtly, casting an otherworldly glow that invites viewers to explore their inner thoughts. Angels weave through the fog, their luminous forms illuminating the path, as the serene lake reflects their gentle presence.']\n",
      "                    neg_prompt: ['Aerial view, aerial view, overexposed, low quality, deformation, a poor composition, bad hands, bad teeth, bad eyes, bad limbs, distortion']\n",
      "                          seed: 1181702253\n",
      "                   infer_steps: 50\n",
      "         num_videos_per_prompt: 1\n",
      "                guidance_scale: 1.0\n",
      "                      n_tokens: 49290\n",
      "                    flow_shift: 7.0\n",
      "       embedded_guidance_scale: 6.0\u001b[0m\n"
     ]
    },
    {
     "data": {
      "application/vnd.jupyter.widget-view+json": {
       "model_id": "770f1719be224267961da87a92961497",
       "version_major": 2,
       "version_minor": 0
      },
      "text/plain": [
       "  0%|          | 0/50 [00:00<?, ?it/s]"
      ]
     },
     "metadata": {},
     "output_type": "display_data"
    },
    {
     "name": "stderr",
     "output_type": "stream",
     "text": [
      "\u001b[32m2025-02-02 21:15:19.827\u001b[0m | \u001b[1mINFO    \u001b[0m | \u001b[36mhyvideo.inference\u001b[0m:\u001b[36mpredict\u001b[0m:\u001b[36m681\u001b[0m - \u001b[1mSuccess, time: 1012.8651037216187\u001b[0m\n",
      "\u001b[32m2025-02-02 21:15:21.334\u001b[0m | \u001b[1mINFO    \u001b[0m | \u001b[36mhyvideo.inference\u001b[0m:\u001b[36mpredict\u001b[0m:\u001b[36m587\u001b[0m - \u001b[1mInput (height, width, video_length) = (480, 848, 121)\u001b[0m\n",
      "\u001b[32m2025-02-02 21:15:21.344\u001b[0m | \u001b[34m\u001b[1mDEBUG   \u001b[0m | \u001b[36mhyvideo.inference\u001b[0m:\u001b[36mpredict\u001b[0m:\u001b[36m647\u001b[0m - \u001b[34m\u001b[1m\n",
      "                        height: 480\n",
      "                         width: 848\n",
      "                  video_length: 121\n",
      "                        prompt: ['A surreal dreamscape unfolds, where layers of soft clouds blend into deep, vibrant hues. Ethereal figures, cloaked in flowing robes of deep indigo and gold, drift through the mist, their presence a gentle reminder of guidance. The atmosphere is introspective, with reflections shimmering on the surface of a tranquil lake. Wisps of fog drift lazily, enhancing the sense of tranquility, while the lighting shifts subtly, casting an otherworldly glow that invites viewers to explore their inner thoughts. Angels weave through the fog, their luminous forms illuminating the path, as the serene lake reflects their gentle presence.']\n",
      "                    neg_prompt: ['Aerial view, aerial view, overexposed, low quality, deformation, a poor composition, bad hands, bad teeth, bad eyes, bad limbs, distortion']\n",
      "                          seed: 1512546077\n",
      "                   infer_steps: 50\n",
      "         num_videos_per_prompt: 1\n",
      "                guidance_scale: 1.0\n",
      "                      n_tokens: 49290\n",
      "                    flow_shift: 7.0\n",
      "       embedded_guidance_scale: 6.0\u001b[0m\n"
     ]
    },
    {
     "data": {
      "application/vnd.jupyter.widget-view+json": {
       "model_id": "f9b43ac0bb914f559754ab1465063581",
       "version_major": 2,
       "version_minor": 0
      },
      "text/plain": [
       "  0%|          | 0/50 [00:00<?, ?it/s]"
      ]
     },
     "metadata": {},
     "output_type": "display_data"
    },
    {
     "name": "stderr",
     "output_type": "stream",
     "text": [
      "\u001b[32m2025-02-02 21:32:10.835\u001b[0m | \u001b[1mINFO    \u001b[0m | \u001b[36mhyvideo.inference\u001b[0m:\u001b[36mpredict\u001b[0m:\u001b[36m681\u001b[0m - \u001b[1mSuccess, time: 1009.4897844791412\u001b[0m\n",
      "\u001b[32m2025-02-02 21:32:12.355\u001b[0m | \u001b[1mINFO    \u001b[0m | \u001b[36mhyvideo.inference\u001b[0m:\u001b[36mpredict\u001b[0m:\u001b[36m587\u001b[0m - \u001b[1mInput (height, width, video_length) = (480, 848, 121)\u001b[0m\n",
      "\u001b[32m2025-02-02 21:32:12.357\u001b[0m | \u001b[34m\u001b[1mDEBUG   \u001b[0m | \u001b[36mhyvideo.inference\u001b[0m:\u001b[36mpredict\u001b[0m:\u001b[36m647\u001b[0m - \u001b[34m\u001b[1m\n",
      "                        height: 480\n",
      "                         width: 848\n",
      "                  video_length: 121\n",
      "                        prompt: ['A surreal dreamscape unfolds, where layers of soft clouds blend into deep, vibrant hues. Ethereal figures, cloaked in flowing robes of deep indigo and gold, drift through the mist, their presence a gentle reminder of guidance. The atmosphere is introspective, with reflections shimmering on the surface of a tranquil lake. Wisps of fog drift lazily, enhancing the sense of tranquility, while the lighting shifts subtly, casting an otherworldly glow that invites viewers to explore their inner thoughts. Angels weave through the fog, their luminous forms illuminating the path, as the serene lake reflects their gentle presence.']\n",
      "                    neg_prompt: ['Aerial view, aerial view, overexposed, low quality, deformation, a poor composition, bad hands, bad teeth, bad eyes, bad limbs, distortion']\n",
      "                          seed: 963072530\n",
      "                   infer_steps: 50\n",
      "         num_videos_per_prompt: 1\n",
      "                guidance_scale: 1.0\n",
      "                      n_tokens: 49290\n",
      "                    flow_shift: 7.0\n",
      "       embedded_guidance_scale: 6.0\u001b[0m\n"
     ]
    },
    {
     "data": {
      "application/vnd.jupyter.widget-view+json": {
       "model_id": "354603f929bd4e19850dc9bd6c01207b",
       "version_major": 2,
       "version_minor": 0
      },
      "text/plain": [
       "  0%|          | 0/50 [00:00<?, ?it/s]"
      ]
     },
     "metadata": {},
     "output_type": "display_data"
    },
    {
     "name": "stderr",
     "output_type": "stream",
     "text": [
      "\u001b[32m2025-02-02 21:49:03.857\u001b[0m | \u001b[1mINFO    \u001b[0m | \u001b[36mhyvideo.inference\u001b[0m:\u001b[36mpredict\u001b[0m:\u001b[36m681\u001b[0m - \u001b[1mSuccess, time: 1011.4990420341492\u001b[0m\n",
      "\u001b[32m2025-02-02 21:49:05.359\u001b[0m | \u001b[1mINFO    \u001b[0m | \u001b[36mhyvideo.inference\u001b[0m:\u001b[36mpredict\u001b[0m:\u001b[36m587\u001b[0m - \u001b[1mInput (height, width, video_length) = (480, 848, 121)\u001b[0m\n",
      "\u001b[32m2025-02-02 21:49:05.367\u001b[0m | \u001b[34m\u001b[1mDEBUG   \u001b[0m | \u001b[36mhyvideo.inference\u001b[0m:\u001b[36mpredict\u001b[0m:\u001b[36m647\u001b[0m - \u001b[34m\u001b[1m\n",
      "                        height: 480\n",
      "                         width: 848\n",
      "                  video_length: 121\n",
      "                        prompt: ['A mystical valley emerges, where soft, rolling hills are cloaked in a blanket of mist. Ethereal beings, adorned in robes of shimmering silver, wander through the landscape, their movements fluid and graceful. The air is filled with the gentle sounds of nature, as the soft glow of twilight bathes the scene in warmth. Shadows dance playfully, creating a magical atmosphere that invites introspection and connection with the universe. Angels drift through the mist, their presence a gentle reminder of peace, as the soft sounds of nature cradle the viewer in calm.']\n",
      "                    neg_prompt: ['Aerial view, aerial view, overexposed, low quality, deformation, a poor composition, bad hands, bad teeth, bad eyes, bad limbs, distortion']\n",
      "                          seed: 1851903537\n",
      "                   infer_steps: 50\n",
      "         num_videos_per_prompt: 1\n",
      "                guidance_scale: 1.0\n",
      "                      n_tokens: 49290\n",
      "                    flow_shift: 7.0\n",
      "       embedded_guidance_scale: 6.0\u001b[0m\n"
     ]
    },
    {
     "name": "stdout",
     "output_type": "stream",
     "text": [
      "Scene 14 has 3 segments\n"
     ]
    },
    {
     "data": {
      "application/vnd.jupyter.widget-view+json": {
       "model_id": "862518137c9c460fb1b6c5f11cabbf60",
       "version_major": 2,
       "version_minor": 0
      },
      "text/plain": [
       "  0%|          | 0/50 [00:00<?, ?it/s]"
      ]
     },
     "metadata": {},
     "output_type": "display_data"
    },
    {
     "name": "stderr",
     "output_type": "stream",
     "text": [
      "\u001b[32m2025-02-02 22:05:53.007\u001b[0m | \u001b[1mINFO    \u001b[0m | \u001b[36mhyvideo.inference\u001b[0m:\u001b[36mpredict\u001b[0m:\u001b[36m681\u001b[0m - \u001b[1mSuccess, time: 1007.6390855312347\u001b[0m\n",
      "\u001b[32m2025-02-02 22:05:54.467\u001b[0m | \u001b[1mINFO    \u001b[0m | \u001b[36mhyvideo.inference\u001b[0m:\u001b[36mpredict\u001b[0m:\u001b[36m587\u001b[0m - \u001b[1mInput (height, width, video_length) = (480, 848, 121)\u001b[0m\n",
      "\u001b[32m2025-02-02 22:05:54.472\u001b[0m | \u001b[34m\u001b[1mDEBUG   \u001b[0m | \u001b[36mhyvideo.inference\u001b[0m:\u001b[36mpredict\u001b[0m:\u001b[36m647\u001b[0m - \u001b[34m\u001b[1m\n",
      "                        height: 480\n",
      "                         width: 848\n",
      "                  video_length: 121\n",
      "                        prompt: ['A mystical valley emerges, where soft, rolling hills are cloaked in a blanket of mist. Ethereal beings, adorned in robes of shimmering silver, wander through the landscape, their movements fluid and graceful. The air is filled with the gentle sounds of nature, as the soft glow of twilight bathes the scene in warmth. Shadows dance playfully, creating a magical atmosphere that invites introspection and connection with the universe. Angels drift through the mist, their presence a gentle reminder of peace, as the soft sounds of nature cradle the viewer in calm.']\n",
      "                    neg_prompt: ['Aerial view, aerial view, overexposed, low quality, deformation, a poor composition, bad hands, bad teeth, bad eyes, bad limbs, distortion']\n",
      "                          seed: 451998392\n",
      "                   infer_steps: 50\n",
      "         num_videos_per_prompt: 1\n",
      "                guidance_scale: 1.0\n",
      "                      n_tokens: 49290\n",
      "                    flow_shift: 7.0\n",
      "       embedded_guidance_scale: 6.0\u001b[0m\n"
     ]
    },
    {
     "data": {
      "application/vnd.jupyter.widget-view+json": {
       "model_id": "586b7dbb81dd4a3587833de3e1d9cc4d",
       "version_major": 2,
       "version_minor": 0
      },
      "text/plain": [
       "  0%|          | 0/50 [00:00<?, ?it/s]"
      ]
     },
     "metadata": {},
     "output_type": "display_data"
    },
    {
     "name": "stderr",
     "output_type": "stream",
     "text": [
      "\u001b[32m2025-02-02 22:22:39.864\u001b[0m | \u001b[1mINFO    \u001b[0m | \u001b[36mhyvideo.inference\u001b[0m:\u001b[36mpredict\u001b[0m:\u001b[36m681\u001b[0m - \u001b[1mSuccess, time: 1005.3914721012115\u001b[0m\n",
      "\u001b[32m2025-02-02 22:22:41.369\u001b[0m | \u001b[1mINFO    \u001b[0m | \u001b[36mhyvideo.inference\u001b[0m:\u001b[36mpredict\u001b[0m:\u001b[36m587\u001b[0m - \u001b[1mInput (height, width, video_length) = (480, 848, 121)\u001b[0m\n",
      "\u001b[32m2025-02-02 22:22:41.372\u001b[0m | \u001b[34m\u001b[1mDEBUG   \u001b[0m | \u001b[36mhyvideo.inference\u001b[0m:\u001b[36mpredict\u001b[0m:\u001b[36m647\u001b[0m - \u001b[34m\u001b[1m\n",
      "                        height: 480\n",
      "                         width: 848\n",
      "                  video_length: 121\n",
      "                        prompt: ['A mystical valley emerges, where soft, rolling hills are cloaked in a blanket of mist. Ethereal beings, adorned in robes of shimmering silver, wander through the landscape, their movements fluid and graceful. The air is filled with the gentle sounds of nature, as the soft glow of twilight bathes the scene in warmth. Shadows dance playfully, creating a magical atmosphere that invites introspection and connection with the universe. Angels drift through the mist, their presence a gentle reminder of peace, as the soft sounds of nature cradle the viewer in calm.']\n",
      "                    neg_prompt: ['Aerial view, aerial view, overexposed, low quality, deformation, a poor composition, bad hands, bad teeth, bad eyes, bad limbs, distortion']\n",
      "                          seed: 1537738216\n",
      "                   infer_steps: 50\n",
      "         num_videos_per_prompt: 1\n",
      "                guidance_scale: 1.0\n",
      "                      n_tokens: 49290\n",
      "                    flow_shift: 7.0\n",
      "       embedded_guidance_scale: 6.0\u001b[0m\n"
     ]
    },
    {
     "data": {
      "application/vnd.jupyter.widget-view+json": {
       "model_id": "16450414e4ad4f8ea0dd6c1196d13f34",
       "version_major": 2,
       "version_minor": 0
      },
      "text/plain": [
       "  0%|          | 0/50 [00:00<?, ?it/s]"
      ]
     },
     "metadata": {},
     "output_type": "display_data"
    },
    {
     "name": "stderr",
     "output_type": "stream",
     "text": [
      "\u001b[32m2025-02-02 22:39:30.114\u001b[0m | \u001b[1mINFO    \u001b[0m | \u001b[36mhyvideo.inference\u001b[0m:\u001b[36mpredict\u001b[0m:\u001b[36m681\u001b[0m - \u001b[1mSuccess, time: 1008.7413830757141\u001b[0m\n",
      "\u001b[32m2025-02-02 22:39:31.666\u001b[0m | \u001b[1mINFO    \u001b[0m | \u001b[36mhyvideo.inference\u001b[0m:\u001b[36mpredict\u001b[0m:\u001b[36m587\u001b[0m - \u001b[1mInput (height, width, video_length) = (480, 848, 121)\u001b[0m\n",
      "\u001b[32m2025-02-02 22:39:31.676\u001b[0m | \u001b[34m\u001b[1mDEBUG   \u001b[0m | \u001b[36mhyvideo.inference\u001b[0m:\u001b[36mpredict\u001b[0m:\u001b[36m647\u001b[0m - \u001b[34m\u001b[1m\n",
      "                        height: 480\n",
      "                         width: 848\n",
      "                  video_length: 121\n",
      "                        prompt: [\"A serene landscape unfolds, where a tranquil river flows gently through a lush forest. Ethereal figures, cloaked in robes of deep green and gold, stand by the water's edge, their reflections shimmering in the current. The air is filled with the scent of fresh pine and blooming flowers, creating an atmosphere of peace and harmony. Soft beams of sunlight filter through the leaves, casting a golden hue over the scene, inviting viewers to connect with nature's beauty. Angels stand by the river, their hands brushing the water's surface, as the gentle sounds of the forest create a soothing symphony.\"]\n",
      "                    neg_prompt: ['Aerial view, aerial view, overexposed, low quality, deformation, a poor composition, bad hands, bad teeth, bad eyes, bad limbs, distortion']\n",
      "                          seed: 936845572\n",
      "                   infer_steps: 50\n",
      "         num_videos_per_prompt: 1\n",
      "                guidance_scale: 1.0\n",
      "                      n_tokens: 49290\n",
      "                    flow_shift: 7.0\n",
      "       embedded_guidance_scale: 6.0\u001b[0m\n"
     ]
    },
    {
     "name": "stdout",
     "output_type": "stream",
     "text": [
      "Scene 15 has 2 segments\n"
     ]
    },
    {
     "data": {
      "application/vnd.jupyter.widget-view+json": {
       "model_id": "fdd1c892f619445f8e20fda4ed4ba193",
       "version_major": 2,
       "version_minor": 0
      },
      "text/plain": [
       "  0%|          | 0/50 [00:00<?, ?it/s]"
      ]
     },
     "metadata": {},
     "output_type": "display_data"
    },
    {
     "name": "stderr",
     "output_type": "stream",
     "text": [
      "\u001b[32m2025-02-02 22:56:18.131\u001b[0m | \u001b[1mINFO    \u001b[0m | \u001b[36mhyvideo.inference\u001b[0m:\u001b[36mpredict\u001b[0m:\u001b[36m681\u001b[0m - \u001b[1mSuccess, time: 1006.4545087814331\u001b[0m\n",
      "\u001b[32m2025-02-02 22:56:19.649\u001b[0m | \u001b[1mINFO    \u001b[0m | \u001b[36mhyvideo.inference\u001b[0m:\u001b[36mpredict\u001b[0m:\u001b[36m587\u001b[0m - \u001b[1mInput (height, width, video_length) = (480, 848, 121)\u001b[0m\n",
      "\u001b[32m2025-02-02 22:56:19.658\u001b[0m | \u001b[34m\u001b[1mDEBUG   \u001b[0m | \u001b[36mhyvideo.inference\u001b[0m:\u001b[36mpredict\u001b[0m:\u001b[36m647\u001b[0m - \u001b[34m\u001b[1m\n",
      "                        height: 480\n",
      "                         width: 848\n",
      "                  video_length: 121\n",
      "                        prompt: [\"A serene landscape unfolds, where a tranquil river flows gently through a lush forest. Ethereal figures, cloaked in robes of deep green and gold, stand by the water's edge, their reflections shimmering in the current. The air is filled with the scent of fresh pine and blooming flowers, creating an atmosphere of peace and harmony. Soft beams of sunlight filter through the leaves, casting a golden hue over the scene, inviting viewers to connect with nature's beauty. Angels stand by the river, their hands brushing the water's surface, as the gentle sounds of the forest create a soothing symphony.\"]\n",
      "                    neg_prompt: ['Aerial view, aerial view, overexposed, low quality, deformation, a poor composition, bad hands, bad teeth, bad eyes, bad limbs, distortion']\n",
      "                          seed: 1011684678\n",
      "                   infer_steps: 50\n",
      "         num_videos_per_prompt: 1\n",
      "                guidance_scale: 1.0\n",
      "                      n_tokens: 49290\n",
      "                    flow_shift: 7.0\n",
      "       embedded_guidance_scale: 6.0\u001b[0m\n"
     ]
    },
    {
     "data": {
      "application/vnd.jupyter.widget-view+json": {
       "model_id": "66212be6cf364e05b9f712eb59bfb2ec",
       "version_major": 2,
       "version_minor": 0
      },
      "text/plain": [
       "  0%|          | 0/50 [00:00<?, ?it/s]"
      ]
     },
     "metadata": {},
     "output_type": "display_data"
    },
    {
     "name": "stderr",
     "output_type": "stream",
     "text": [
      "\u001b[32m2025-02-02 23:13:09.003\u001b[0m | \u001b[1mINFO    \u001b[0m | \u001b[36mhyvideo.inference\u001b[0m:\u001b[36mpredict\u001b[0m:\u001b[36m681\u001b[0m - \u001b[1mSuccess, time: 1009.3444700241089\u001b[0m\n",
      "\u001b[32m2025-02-02 23:13:10.737\u001b[0m | \u001b[1mINFO    \u001b[0m | \u001b[36mhyvideo.inference\u001b[0m:\u001b[36mpredict\u001b[0m:\u001b[36m587\u001b[0m - \u001b[1mInput (height, width, video_length) = (480, 848, 121)\u001b[0m\n",
      "\u001b[32m2025-02-02 23:13:10.745\u001b[0m | \u001b[34m\u001b[1mDEBUG   \u001b[0m | \u001b[36mhyvideo.inference\u001b[0m:\u001b[36mpredict\u001b[0m:\u001b[36m647\u001b[0m - \u001b[34m\u001b[1m\n",
      "                        height: 480\n",
      "                         width: 848\n",
      "                  video_length: 121\n",
      "                        prompt: ['A vibrant field of wildflowers dances under a soft, golden sun, each petal capturing the light like precious gems. Ethereal beings, adorned in flowing robes of pastel colors, drift gracefully among the blossoms, their presence nurturing and warm. The air is fragrant with the scent of blooming flowers, creating an atmosphere of joy and compassion. As the light casts a golden hue over everything, the scene evokes feelings of love and understanding, inviting viewers to embrace the beauty of life. Angels gently touch the flowers, causing them to bloom brighter, as a soft melody fills the air, wrapping around the viewer like a warm embrace.']\n",
      "                    neg_prompt: ['Aerial view, aerial view, overexposed, low quality, deformation, a poor composition, bad hands, bad teeth, bad eyes, bad limbs, distortion']\n",
      "                          seed: 1015968742\n",
      "                   infer_steps: 50\n",
      "         num_videos_per_prompt: 1\n",
      "                guidance_scale: 1.0\n",
      "                      n_tokens: 49290\n",
      "                    flow_shift: 7.0\n",
      "       embedded_guidance_scale: 6.0\u001b[0m\n"
     ]
    },
    {
     "name": "stdout",
     "output_type": "stream",
     "text": [
      "Scene 16 has 3 segments\n"
     ]
    },
    {
     "data": {
      "application/vnd.jupyter.widget-view+json": {
       "model_id": "f2a6131de7e840178fc4ce85f2560c29",
       "version_major": 2,
       "version_minor": 0
      },
      "text/plain": [
       "  0%|          | 0/50 [00:00<?, ?it/s]"
      ]
     },
     "metadata": {},
     "output_type": "display_data"
    },
    {
     "name": "stderr",
     "output_type": "stream",
     "text": [
      "\u001b[32m2025-02-02 23:29:57.866\u001b[0m | \u001b[1mINFO    \u001b[0m | \u001b[36mhyvideo.inference\u001b[0m:\u001b[36mpredict\u001b[0m:\u001b[36m681\u001b[0m - \u001b[1mSuccess, time: 1007.119546175003\u001b[0m\n",
      "\u001b[32m2025-02-02 23:29:59.397\u001b[0m | \u001b[1mINFO    \u001b[0m | \u001b[36mhyvideo.inference\u001b[0m:\u001b[36mpredict\u001b[0m:\u001b[36m587\u001b[0m - \u001b[1mInput (height, width, video_length) = (480, 848, 121)\u001b[0m\n",
      "\u001b[32m2025-02-02 23:29:59.409\u001b[0m | \u001b[34m\u001b[1mDEBUG   \u001b[0m | \u001b[36mhyvideo.inference\u001b[0m:\u001b[36mpredict\u001b[0m:\u001b[36m647\u001b[0m - \u001b[34m\u001b[1m\n",
      "                        height: 480\n",
      "                         width: 848\n",
      "                  video_length: 121\n",
      "                        prompt: ['A vibrant field of wildflowers dances under a soft, golden sun, each petal capturing the light like precious gems. Ethereal beings, adorned in flowing robes of pastel colors, drift gracefully among the blossoms, their presence nurturing and warm. The air is fragrant with the scent of blooming flowers, creating an atmosphere of joy and compassion. As the light casts a golden hue over everything, the scene evokes feelings of love and understanding, inviting viewers to embrace the beauty of life. Angels gently touch the flowers, causing them to bloom brighter, as a soft melody fills the air, wrapping around the viewer like a warm embrace.']\n",
      "                    neg_prompt: ['Aerial view, aerial view, overexposed, low quality, deformation, a poor composition, bad hands, bad teeth, bad eyes, bad limbs, distortion']\n",
      "                          seed: 1456715335\n",
      "                   infer_steps: 50\n",
      "         num_videos_per_prompt: 1\n",
      "                guidance_scale: 1.0\n",
      "                      n_tokens: 49290\n",
      "                    flow_shift: 7.0\n",
      "       embedded_guidance_scale: 6.0\u001b[0m\n"
     ]
    },
    {
     "data": {
      "application/vnd.jupyter.widget-view+json": {
       "model_id": "e5333d7aea2642b0b38d150f417563ef",
       "version_major": 2,
       "version_minor": 0
      },
      "text/plain": [
       "  0%|          | 0/50 [00:00<?, ?it/s]"
      ]
     },
     "metadata": {},
     "output_type": "display_data"
    },
    {
     "name": "stderr",
     "output_type": "stream",
     "text": [
      "\u001b[32m2025-02-02 23:46:45.395\u001b[0m | \u001b[1mINFO    \u001b[0m | \u001b[36mhyvideo.inference\u001b[0m:\u001b[36mpredict\u001b[0m:\u001b[36m681\u001b[0m - \u001b[1mSuccess, time: 1005.9859437942505\u001b[0m\n",
      "\u001b[32m2025-02-02 23:46:49.248\u001b[0m | \u001b[1mINFO    \u001b[0m | \u001b[36mhyvideo.inference\u001b[0m:\u001b[36mpredict\u001b[0m:\u001b[36m587\u001b[0m - \u001b[1mInput (height, width, video_length) = (480, 848, 121)\u001b[0m\n",
      "\u001b[32m2025-02-02 23:46:49.257\u001b[0m | \u001b[34m\u001b[1mDEBUG   \u001b[0m | \u001b[36mhyvideo.inference\u001b[0m:\u001b[36mpredict\u001b[0m:\u001b[36m647\u001b[0m - \u001b[34m\u001b[1m\n",
      "                        height: 480\n",
      "                         width: 848\n",
      "                  video_length: 121\n",
      "                        prompt: ['A vibrant field of wildflowers dances under a soft, golden sun, each petal capturing the light like precious gems. Ethereal beings, adorned in flowing robes of pastel colors, drift gracefully among the blossoms, their presence nurturing and warm. The air is fragrant with the scent of blooming flowers, creating an atmosphere of joy and compassion. As the light casts a golden hue over everything, the scene evokes feelings of love and understanding, inviting viewers to embrace the beauty of life. Angels gently touch the flowers, causing them to bloom brighter, as a soft melody fills the air, wrapping around the viewer like a warm embrace.']\n",
      "                    neg_prompt: ['Aerial view, aerial view, overexposed, low quality, deformation, a poor composition, bad hands, bad teeth, bad eyes, bad limbs, distortion']\n",
      "                          seed: 85643406\n",
      "                   infer_steps: 50\n",
      "         num_videos_per_prompt: 1\n",
      "                guidance_scale: 1.0\n",
      "                      n_tokens: 49290\n",
      "                    flow_shift: 7.0\n",
      "       embedded_guidance_scale: 6.0\u001b[0m\n"
     ]
    },
    {
     "data": {
      "application/vnd.jupyter.widget-view+json": {
       "model_id": "64f46dc681c74919b6a15b0aed4e4213",
       "version_major": 2,
       "version_minor": 0
      },
      "text/plain": [
       "  0%|          | 0/50 [00:00<?, ?it/s]"
      ]
     },
     "metadata": {},
     "output_type": "display_data"
    },
    {
     "name": "stderr",
     "output_type": "stream",
     "text": [
      "\u001b[32m2025-02-03 00:03:36.718\u001b[0m | \u001b[1mINFO    \u001b[0m | \u001b[36mhyvideo.inference\u001b[0m:\u001b[36mpredict\u001b[0m:\u001b[36m681\u001b[0m - \u001b[1mSuccess, time: 1007.4598152637482\u001b[0m\n",
      "\u001b[32m2025-02-03 00:03:38.215\u001b[0m | \u001b[1mINFO    \u001b[0m | \u001b[36mhyvideo.inference\u001b[0m:\u001b[36mpredict\u001b[0m:\u001b[36m587\u001b[0m - \u001b[1mInput (height, width, video_length) = (480, 848, 121)\u001b[0m\n",
      "\u001b[32m2025-02-03 00:03:38.222\u001b[0m | \u001b[34m\u001b[1mDEBUG   \u001b[0m | \u001b[36mhyvideo.inference\u001b[0m:\u001b[36mpredict\u001b[0m:\u001b[36m647\u001b[0m - \u001b[34m\u001b[1m\n",
      "                        height: 480\n",
      "                         width: 848\n",
      "                  video_length: 121\n",
      "                        prompt: ['A lush meadow stretches beneath a radiant sun, where vibrant flowers sway gently in the breeze. Ethereal figures, cloaked in robes of soft colors, move gracefully among the blossoms, their wings creating a delicate rustle. The air is filled with the sweet scent of blooming petals, and the atmosphere hums with a sense of joy and abundance. Sunlight filters through the leaves, casting playful shadows on the ground, inviting viewers to bask in the warmth of love and compassion. Angels dance among the flowers, their laughter echoing softly, as the melody of nature wraps around the viewer like a gentle hug.']\n",
      "                    neg_prompt: ['Aerial view, aerial view, overexposed, low quality, deformation, a poor composition, bad hands, bad teeth, bad eyes, bad limbs, distortion']\n",
      "                          seed: 148843813\n",
      "                   infer_steps: 50\n",
      "         num_videos_per_prompt: 1\n",
      "                guidance_scale: 1.0\n",
      "                      n_tokens: 49290\n",
      "                    flow_shift: 7.0\n",
      "       embedded_guidance_scale: 6.0\u001b[0m\n"
     ]
    },
    {
     "name": "stdout",
     "output_type": "stream",
     "text": [
      "Scene 17 has 3 segments\n"
     ]
    },
    {
     "data": {
      "application/vnd.jupyter.widget-view+json": {
       "model_id": "00afe5f1dbd340328b278d40991e67b0",
       "version_major": 2,
       "version_minor": 0
      },
      "text/plain": [
       "  0%|          | 0/50 [00:00<?, ?it/s]"
      ]
     },
     "metadata": {},
     "output_type": "display_data"
    },
    {
     "name": "stderr",
     "output_type": "stream",
     "text": [
      "\u001b[32m2025-02-03 00:20:25.176\u001b[0m | \u001b[1mINFO    \u001b[0m | \u001b[36mhyvideo.inference\u001b[0m:\u001b[36mpredict\u001b[0m:\u001b[36m681\u001b[0m - \u001b[1mSuccess, time: 1006.9535834789276\u001b[0m\n",
      "\u001b[32m2025-02-03 00:20:26.673\u001b[0m | \u001b[1mINFO    \u001b[0m | \u001b[36mhyvideo.inference\u001b[0m:\u001b[36mpredict\u001b[0m:\u001b[36m587\u001b[0m - \u001b[1mInput (height, width, video_length) = (480, 848, 121)\u001b[0m\n",
      "\u001b[32m2025-02-03 00:20:26.680\u001b[0m | \u001b[34m\u001b[1mDEBUG   \u001b[0m | \u001b[36mhyvideo.inference\u001b[0m:\u001b[36mpredict\u001b[0m:\u001b[36m647\u001b[0m - \u001b[34m\u001b[1m\n",
      "                        height: 480\n",
      "                         width: 848\n",
      "                  video_length: 121\n",
      "                        prompt: ['A lush meadow stretches beneath a radiant sun, where vibrant flowers sway gently in the breeze. Ethereal figures, cloaked in robes of soft colors, move gracefully among the blossoms, their wings creating a delicate rustle. The air is filled with the sweet scent of blooming petals, and the atmosphere hums with a sense of joy and abundance. Sunlight filters through the leaves, casting playful shadows on the ground, inviting viewers to bask in the warmth of love and compassion. Angels dance among the flowers, their laughter echoing softly, as the melody of nature wraps around the viewer like a gentle hug.']\n",
      "                    neg_prompt: ['Aerial view, aerial view, overexposed, low quality, deformation, a poor composition, bad hands, bad teeth, bad eyes, bad limbs, distortion']\n",
      "                          seed: 1298196880\n",
      "                   infer_steps: 50\n",
      "         num_videos_per_prompt: 1\n",
      "                guidance_scale: 1.0\n",
      "                      n_tokens: 49290\n",
      "                    flow_shift: 7.0\n",
      "       embedded_guidance_scale: 6.0\u001b[0m\n"
     ]
    },
    {
     "data": {
      "application/vnd.jupyter.widget-view+json": {
       "model_id": "cdcaa7f27cbc485cb111ecf2895fc95c",
       "version_major": 2,
       "version_minor": 0
      },
      "text/plain": [
       "  0%|          | 0/50 [00:00<?, ?it/s]"
      ]
     },
     "metadata": {},
     "output_type": "display_data"
    },
    {
     "name": "stderr",
     "output_type": "stream",
     "text": [
      "\u001b[32m2025-02-03 00:37:14.641\u001b[0m | \u001b[1mINFO    \u001b[0m | \u001b[36mhyvideo.inference\u001b[0m:\u001b[36mpredict\u001b[0m:\u001b[36m681\u001b[0m - \u001b[1mSuccess, time: 1007.9605386257172\u001b[0m\n",
      "\u001b[32m2025-02-03 00:37:16.127\u001b[0m | \u001b[1mINFO    \u001b[0m | \u001b[36mhyvideo.inference\u001b[0m:\u001b[36mpredict\u001b[0m:\u001b[36m587\u001b[0m - \u001b[1mInput (height, width, video_length) = (480, 848, 121)\u001b[0m\n",
      "\u001b[32m2025-02-03 00:37:16.136\u001b[0m | \u001b[34m\u001b[1mDEBUG   \u001b[0m | \u001b[36mhyvideo.inference\u001b[0m:\u001b[36mpredict\u001b[0m:\u001b[36m647\u001b[0m - \u001b[34m\u001b[1m\n",
      "                        height: 480\n",
      "                         width: 848\n",
      "                  video_length: 121\n",
      "                        prompt: ['A lush meadow stretches beneath a radiant sun, where vibrant flowers sway gently in the breeze. Ethereal figures, cloaked in robes of soft colors, move gracefully among the blossoms, their wings creating a delicate rustle. The air is filled with the sweet scent of blooming petals, and the atmosphere hums with a sense of joy and abundance. Sunlight filters through the leaves, casting playful shadows on the ground, inviting viewers to bask in the warmth of love and compassion. Angels dance among the flowers, their laughter echoing softly, as the melody of nature wraps around the viewer like a gentle hug.']\n",
      "                    neg_prompt: ['Aerial view, aerial view, overexposed, low quality, deformation, a poor composition, bad hands, bad teeth, bad eyes, bad limbs, distortion']\n",
      "                          seed: 78819179\n",
      "                   infer_steps: 50\n",
      "         num_videos_per_prompt: 1\n",
      "                guidance_scale: 1.0\n",
      "                      n_tokens: 49290\n",
      "                    flow_shift: 7.0\n",
      "       embedded_guidance_scale: 6.0\u001b[0m\n"
     ]
    },
    {
     "data": {
      "application/vnd.jupyter.widget-view+json": {
       "model_id": "4a0b11615bbf4c07be8e7bc4ccf8b4fd",
       "version_major": 2,
       "version_minor": 0
      },
      "text/plain": [
       "  0%|          | 0/50 [00:00<?, ?it/s]"
      ]
     },
     "metadata": {},
     "output_type": "display_data"
    },
    {
     "name": "stderr",
     "output_type": "stream",
     "text": [
      "\u001b[32m2025-02-03 00:54:04.296\u001b[0m | \u001b[1mINFO    \u001b[0m | \u001b[36mhyvideo.inference\u001b[0m:\u001b[36mpredict\u001b[0m:\u001b[36m681\u001b[0m - \u001b[1mSuccess, time: 1008.1590254306793\u001b[0m\n",
      "\u001b[32m2025-02-03 00:54:05.819\u001b[0m | \u001b[1mINFO    \u001b[0m | \u001b[36mhyvideo.inference\u001b[0m:\u001b[36mpredict\u001b[0m:\u001b[36m587\u001b[0m - \u001b[1mInput (height, width, video_length) = (480, 848, 121)\u001b[0m\n",
      "\u001b[32m2025-02-03 00:54:05.823\u001b[0m | \u001b[34m\u001b[1mDEBUG   \u001b[0m | \u001b[36mhyvideo.inference\u001b[0m:\u001b[36mpredict\u001b[0m:\u001b[36m647\u001b[0m - \u001b[34m\u001b[1m\n",
      "                        height: 480\n",
      "                         width: 848\n",
      "                  video_length: 121\n",
      "                        prompt: ['A tranquil garden blooms under a soft, golden light, where flowers sway gently in a warm breeze. Ethereal beings, adorned in flowing robes of shimmering light, tend to the blossoms, their hands brushing against petals that shimmer like gemstones. The air is fragrant with the scent of blooming jasmine, and the atmosphere is infused with a sense of nurturing love. Sunlight filters through the leaves, casting intricate patterns on the ground, creating a serene sanctuary filled with warmth and compassion. Angels gently touch the flowers, causing them to bloom brighter, as a soft melody fills the air, wrapping around the viewer like a warm embrace.']\n",
      "                    neg_prompt: ['Aerial view, aerial view, overexposed, low quality, deformation, a poor composition, bad hands, bad teeth, bad eyes, bad limbs, distortion']\n",
      "                          seed: 534960918\n",
      "                   infer_steps: 50\n",
      "         num_videos_per_prompt: 1\n",
      "                guidance_scale: 1.0\n",
      "                      n_tokens: 49290\n",
      "                    flow_shift: 7.0\n",
      "       embedded_guidance_scale: 6.0\u001b[0m\n"
     ]
    },
    {
     "name": "stdout",
     "output_type": "stream",
     "text": [
      "Scene 18 has 3 segments\n"
     ]
    },
    {
     "data": {
      "application/vnd.jupyter.widget-view+json": {
       "model_id": "62290efbd0dc4aa2b33aa2c4bb4767b6",
       "version_major": 2,
       "version_minor": 0
      },
      "text/plain": [
       "  0%|          | 0/50 [00:00<?, ?it/s]"
      ]
     },
     "metadata": {},
     "output_type": "display_data"
    },
    {
     "name": "stderr",
     "output_type": "stream",
     "text": [
      "\u001b[32m2025-02-03 01:10:52.453\u001b[0m | \u001b[1mINFO    \u001b[0m | \u001b[36mhyvideo.inference\u001b[0m:\u001b[36mpredict\u001b[0m:\u001b[36m681\u001b[0m - \u001b[1mSuccess, time: 1006.6292922496796\u001b[0m\n",
      "\u001b[32m2025-02-03 01:10:53.954\u001b[0m | \u001b[1mINFO    \u001b[0m | \u001b[36mhyvideo.inference\u001b[0m:\u001b[36mpredict\u001b[0m:\u001b[36m587\u001b[0m - \u001b[1mInput (height, width, video_length) = (480, 848, 121)\u001b[0m\n",
      "\u001b[32m2025-02-03 01:10:53.957\u001b[0m | \u001b[34m\u001b[1mDEBUG   \u001b[0m | \u001b[36mhyvideo.inference\u001b[0m:\u001b[36mpredict\u001b[0m:\u001b[36m647\u001b[0m - \u001b[34m\u001b[1m\n",
      "                        height: 480\n",
      "                         width: 848\n",
      "                  video_length: 121\n",
      "                        prompt: ['A tranquil garden blooms under a soft, golden light, where flowers sway gently in a warm breeze. Ethereal beings, adorned in flowing robes of shimmering light, tend to the blossoms, their hands brushing against petals that shimmer like gemstones. The air is fragrant with the scent of blooming jasmine, and the atmosphere is infused with a sense of nurturing love. Sunlight filters through the leaves, casting intricate patterns on the ground, creating a serene sanctuary filled with warmth and compassion. Angels gently touch the flowers, causing them to bloom brighter, as a soft melody fills the air, wrapping around the viewer like a warm embrace.']\n",
      "                    neg_prompt: ['Aerial view, aerial view, overexposed, low quality, deformation, a poor composition, bad hands, bad teeth, bad eyes, bad limbs, distortion']\n",
      "                          seed: 1132237119\n",
      "                   infer_steps: 50\n",
      "         num_videos_per_prompt: 1\n",
      "                guidance_scale: 1.0\n",
      "                      n_tokens: 49290\n",
      "                    flow_shift: 7.0\n",
      "       embedded_guidance_scale: 6.0\u001b[0m\n"
     ]
    },
    {
     "data": {
      "application/vnd.jupyter.widget-view+json": {
       "model_id": "d51a95354079463da224c61add5dbf8e",
       "version_major": 2,
       "version_minor": 0
      },
      "text/plain": [
       "  0%|          | 0/50 [00:00<?, ?it/s]"
      ]
     },
     "metadata": {},
     "output_type": "display_data"
    },
    {
     "name": "stderr",
     "output_type": "stream",
     "text": [
      "\u001b[32m2025-02-03 01:27:43.784\u001b[0m | \u001b[1mINFO    \u001b[0m | \u001b[36mhyvideo.inference\u001b[0m:\u001b[36mpredict\u001b[0m:\u001b[36m681\u001b[0m - \u001b[1mSuccess, time: 1009.8260288238525\u001b[0m\n",
      "\u001b[32m2025-02-03 01:27:45.303\u001b[0m | \u001b[1mINFO    \u001b[0m | \u001b[36mhyvideo.inference\u001b[0m:\u001b[36mpredict\u001b[0m:\u001b[36m587\u001b[0m - \u001b[1mInput (height, width, video_length) = (480, 848, 121)\u001b[0m\n",
      "\u001b[32m2025-02-03 01:27:45.313\u001b[0m | \u001b[34m\u001b[1mDEBUG   \u001b[0m | \u001b[36mhyvideo.inference\u001b[0m:\u001b[36mpredict\u001b[0m:\u001b[36m647\u001b[0m - \u001b[34m\u001b[1m\n",
      "                        height: 480\n",
      "                         width: 848\n",
      "                  video_length: 121\n",
      "                        prompt: ['A tranquil garden blooms under a soft, golden light, where flowers sway gently in a warm breeze. Ethereal beings, adorned in flowing robes of shimmering light, tend to the blossoms, their hands brushing against petals that shimmer like gemstones. The air is fragrant with the scent of blooming jasmine, and the atmosphere is infused with a sense of nurturing love. Sunlight filters through the leaves, casting intricate patterns on the ground, creating a serene sanctuary filled with warmth and compassion. Angels gently touch the flowers, causing them to bloom brighter, as a soft melody fills the air, wrapping around the viewer like a warm embrace.']\n",
      "                    neg_prompt: ['Aerial view, aerial view, overexposed, low quality, deformation, a poor composition, bad hands, bad teeth, bad eyes, bad limbs, distortion']\n",
      "                          seed: 2068551557\n",
      "                   infer_steps: 50\n",
      "         num_videos_per_prompt: 1\n",
      "                guidance_scale: 1.0\n",
      "                      n_tokens: 49290\n",
      "                    flow_shift: 7.0\n",
      "       embedded_guidance_scale: 6.0\u001b[0m\n"
     ]
    },
    {
     "data": {
      "application/vnd.jupyter.widget-view+json": {
       "model_id": "2ceb4faec7a34ad980175f0a42000b0c",
       "version_major": 2,
       "version_minor": 0
      },
      "text/plain": [
       "  0%|          | 0/50 [00:00<?, ?it/s]"
      ]
     },
     "metadata": {},
     "output_type": "display_data"
    },
    {
     "name": "stderr",
     "output_type": "stream",
     "text": [
      "\u001b[32m2025-02-03 01:44:29.889\u001b[0m | \u001b[1mINFO    \u001b[0m | \u001b[36mhyvideo.inference\u001b[0m:\u001b[36mpredict\u001b[0m:\u001b[36m681\u001b[0m - \u001b[1mSuccess, time: 1004.575159072876\u001b[0m\n",
      "\u001b[32m2025-02-03 01:44:31.380\u001b[0m | \u001b[1mINFO    \u001b[0m | \u001b[36mhyvideo.inference\u001b[0m:\u001b[36mpredict\u001b[0m:\u001b[36m587\u001b[0m - \u001b[1mInput (height, width, video_length) = (480, 848, 121)\u001b[0m\n",
      "\u001b[32m2025-02-03 01:44:31.389\u001b[0m | \u001b[34m\u001b[1mDEBUG   \u001b[0m | \u001b[36mhyvideo.inference\u001b[0m:\u001b[36mpredict\u001b[0m:\u001b[36m647\u001b[0m - \u001b[34m\u001b[1m\n",
      "                        height: 480\n",
      "                         width: 848\n",
      "                  video_length: 121\n",
      "                        prompt: ['A vibrant field of wildflowers dances under a soft, golden sun, each petal capturing the light like precious gems. Ethereal beings, adorned in flowing robes of pastel colors, drift gracefully among the blossoms, their presence nurturing and warm. The air is fragrant with the scent of blooming flowers, creating an atmosphere of joy and compassion. As the light casts a golden hue over everything, the scene evokes feelings of love and understanding, inviting viewers to embrace the beauty of life. Angels gently touch the flowers, causing them to bloom brighter, as a soft melody fills the air, wrapping around the viewer like a warm embrace.']\n",
      "                    neg_prompt: ['Aerial view, aerial view, overexposed, low quality, deformation, a poor composition, bad hands, bad teeth, bad eyes, bad limbs, distortion']\n",
      "                          seed: 993991585\n",
      "                   infer_steps: 50\n",
      "         num_videos_per_prompt: 1\n",
      "                guidance_scale: 1.0\n",
      "                      n_tokens: 49290\n",
      "                    flow_shift: 7.0\n",
      "       embedded_guidance_scale: 6.0\u001b[0m\n"
     ]
    },
    {
     "name": "stdout",
     "output_type": "stream",
     "text": [
      "Scene 19 has 3 segments\n"
     ]
    },
    {
     "data": {
      "application/vnd.jupyter.widget-view+json": {
       "model_id": "6fea8598d419467ca1b0a1d9be665d99",
       "version_major": 2,
       "version_minor": 0
      },
      "text/plain": [
       "  0%|          | 0/50 [00:00<?, ?it/s]"
      ]
     },
     "metadata": {},
     "output_type": "display_data"
    },
    {
     "name": "stderr",
     "output_type": "stream",
     "text": [
      "\u001b[32m2025-02-03 02:01:19.912\u001b[0m | \u001b[1mINFO    \u001b[0m | \u001b[36mhyvideo.inference\u001b[0m:\u001b[36mpredict\u001b[0m:\u001b[36m681\u001b[0m - \u001b[1mSuccess, time: 1008.5223784446716\u001b[0m\n",
      "\u001b[32m2025-02-03 02:01:21.408\u001b[0m | \u001b[1mINFO    \u001b[0m | \u001b[36mhyvideo.inference\u001b[0m:\u001b[36mpredict\u001b[0m:\u001b[36m587\u001b[0m - \u001b[1mInput (height, width, video_length) = (480, 848, 121)\u001b[0m\n",
      "\u001b[32m2025-02-03 02:01:21.416\u001b[0m | \u001b[34m\u001b[1mDEBUG   \u001b[0m | \u001b[36mhyvideo.inference\u001b[0m:\u001b[36mpredict\u001b[0m:\u001b[36m647\u001b[0m - \u001b[34m\u001b[1m\n",
      "                        height: 480\n",
      "                         width: 848\n",
      "                  video_length: 121\n",
      "                        prompt: ['A vibrant field of wildflowers dances under a soft, golden sun, each petal capturing the light like precious gems. Ethereal beings, adorned in flowing robes of pastel colors, drift gracefully among the blossoms, their presence nurturing and warm. The air is fragrant with the scent of blooming flowers, creating an atmosphere of joy and compassion. As the light casts a golden hue over everything, the scene evokes feelings of love and understanding, inviting viewers to embrace the beauty of life. Angels gently touch the flowers, causing them to bloom brighter, as a soft melody fills the air, wrapping around the viewer like a warm embrace.']\n",
      "                    neg_prompt: ['Aerial view, aerial view, overexposed, low quality, deformation, a poor composition, bad hands, bad teeth, bad eyes, bad limbs, distortion']\n",
      "                          seed: 500752734\n",
      "                   infer_steps: 50\n",
      "         num_videos_per_prompt: 1\n",
      "                guidance_scale: 1.0\n",
      "                      n_tokens: 49290\n",
      "                    flow_shift: 7.0\n",
      "       embedded_guidance_scale: 6.0\u001b[0m\n"
     ]
    },
    {
     "data": {
      "application/vnd.jupyter.widget-view+json": {
       "model_id": "d6fa9d4cccae400bb5fc3827b7f70545",
       "version_major": 2,
       "version_minor": 0
      },
      "text/plain": [
       "  0%|          | 0/50 [00:00<?, ?it/s]"
      ]
     },
     "metadata": {},
     "output_type": "display_data"
    },
    {
     "name": "stderr",
     "output_type": "stream",
     "text": [
      "\u001b[32m2025-02-03 02:18:10.095\u001b[0m | \u001b[1mINFO    \u001b[0m | \u001b[36mhyvideo.inference\u001b[0m:\u001b[36mpredict\u001b[0m:\u001b[36m681\u001b[0m - \u001b[1mSuccess, time: 1008.6776804924011\u001b[0m\n",
      "\u001b[32m2025-02-03 02:18:11.617\u001b[0m | \u001b[1mINFO    \u001b[0m | \u001b[36mhyvideo.inference\u001b[0m:\u001b[36mpredict\u001b[0m:\u001b[36m587\u001b[0m - \u001b[1mInput (height, width, video_length) = (480, 848, 121)\u001b[0m\n",
      "\u001b[32m2025-02-03 02:18:11.624\u001b[0m | \u001b[34m\u001b[1mDEBUG   \u001b[0m | \u001b[36mhyvideo.inference\u001b[0m:\u001b[36mpredict\u001b[0m:\u001b[36m647\u001b[0m - \u001b[34m\u001b[1m\n",
      "                        height: 480\n",
      "                         width: 848\n",
      "                  video_length: 121\n",
      "                        prompt: ['A vibrant field of wildflowers dances under a soft, golden sun, each petal capturing the light like precious gems. Ethereal beings, adorned in flowing robes of pastel colors, drift gracefully among the blossoms, their presence nurturing and warm. The air is fragrant with the scent of blooming flowers, creating an atmosphere of joy and compassion. As the light casts a golden hue over everything, the scene evokes feelings of love and understanding, inviting viewers to embrace the beauty of life. Angels gently touch the flowers, causing them to bloom brighter, as a soft melody fills the air, wrapping around the viewer like a warm embrace.']\n",
      "                    neg_prompt: ['Aerial view, aerial view, overexposed, low quality, deformation, a poor composition, bad hands, bad teeth, bad eyes, bad limbs, distortion']\n",
      "                          seed: 1423657992\n",
      "                   infer_steps: 50\n",
      "         num_videos_per_prompt: 1\n",
      "                guidance_scale: 1.0\n",
      "                      n_tokens: 49290\n",
      "                    flow_shift: 7.0\n",
      "       embedded_guidance_scale: 6.0\u001b[0m\n"
     ]
    },
    {
     "data": {
      "application/vnd.jupyter.widget-view+json": {
       "model_id": "7a79fd2dbf4c409a8177864fab8b67b7",
       "version_major": 2,
       "version_minor": 0
      },
      "text/plain": [
       "  0%|          | 0/50 [00:00<?, ?it/s]"
      ]
     },
     "metadata": {},
     "output_type": "display_data"
    },
    {
     "name": "stderr",
     "output_type": "stream",
     "text": [
      "\u001b[32m2025-02-03 02:34:57.477\u001b[0m | \u001b[1mINFO    \u001b[0m | \u001b[36mhyvideo.inference\u001b[0m:\u001b[36mpredict\u001b[0m:\u001b[36m681\u001b[0m - \u001b[1mSuccess, time: 1005.8519771099091\u001b[0m\n",
      "\u001b[32m2025-02-03 02:34:58.948\u001b[0m | \u001b[1mINFO    \u001b[0m | \u001b[36mhyvideo.inference\u001b[0m:\u001b[36mpredict\u001b[0m:\u001b[36m587\u001b[0m - \u001b[1mInput (height, width, video_length) = (480, 848, 121)\u001b[0m\n",
      "\u001b[32m2025-02-03 02:34:58.955\u001b[0m | \u001b[34m\u001b[1mDEBUG   \u001b[0m | \u001b[36mhyvideo.inference\u001b[0m:\u001b[36mpredict\u001b[0m:\u001b[36m647\u001b[0m - \u001b[34m\u001b[1m\n",
      "                        height: 480\n",
      "                         width: 848\n",
      "                  video_length: 121\n",
      "                        prompt: ['A vibrant field of flowers sways gently under a soft, warm breeze, each petal capturing the sunlight like jewels. The colors are rich and varied, creating an atmosphere of joy and compassion. Angels drift through the blossoms, their wings creating a soft rustle, as they tend to the flowers, symbolizing care and nurturing. The scene is infused with a sense of abundance and warmth, with the light casting a golden hue over everything, evoking feelings of love and understanding. Angels gently touch the flowers, causing them to bloom brighter, as a soft melody fills the air, wrapping around the viewer like a warm embrace.']\n",
      "                    neg_prompt: ['Aerial view, aerial view, overexposed, low quality, deformation, a poor composition, bad hands, bad teeth, bad eyes, bad limbs, distortion']\n",
      "                          seed: 690969350\n",
      "                   infer_steps: 50\n",
      "         num_videos_per_prompt: 1\n",
      "                guidance_scale: 1.0\n",
      "                      n_tokens: 49290\n",
      "                    flow_shift: 7.0\n",
      "       embedded_guidance_scale: 6.0\u001b[0m\n"
     ]
    },
    {
     "name": "stdout",
     "output_type": "stream",
     "text": [
      "Scene 20 has 3 segments\n"
     ]
    },
    {
     "data": {
      "application/vnd.jupyter.widget-view+json": {
       "model_id": "a959fa25a60c4182bd1ba1bb5e473e84",
       "version_major": 2,
       "version_minor": 0
      },
      "text/plain": [
       "  0%|          | 0/50 [00:00<?, ?it/s]"
      ]
     },
     "metadata": {},
     "output_type": "display_data"
    },
    {
     "name": "stderr",
     "output_type": "stream",
     "text": [
      "\u001b[32m2025-02-03 02:51:48.387\u001b[0m | \u001b[1mINFO    \u001b[0m | \u001b[36mhyvideo.inference\u001b[0m:\u001b[36mpredict\u001b[0m:\u001b[36m681\u001b[0m - \u001b[1mSuccess, time: 1009.4319794178009\u001b[0m\n",
      "\u001b[32m2025-02-03 02:51:49.932\u001b[0m | \u001b[1mINFO    \u001b[0m | \u001b[36mhyvideo.inference\u001b[0m:\u001b[36mpredict\u001b[0m:\u001b[36m587\u001b[0m - \u001b[1mInput (height, width, video_length) = (480, 848, 121)\u001b[0m\n",
      "\u001b[32m2025-02-03 02:51:49.940\u001b[0m | \u001b[34m\u001b[1mDEBUG   \u001b[0m | \u001b[36mhyvideo.inference\u001b[0m:\u001b[36mpredict\u001b[0m:\u001b[36m647\u001b[0m - \u001b[34m\u001b[1m\n",
      "                        height: 480\n",
      "                         width: 848\n",
      "                  video_length: 121\n",
      "                        prompt: ['A vibrant field of flowers sways gently under a soft, warm breeze, each petal capturing the sunlight like jewels. The colors are rich and varied, creating an atmosphere of joy and compassion. Angels drift through the blossoms, their wings creating a soft rustle, as they tend to the flowers, symbolizing care and nurturing. The scene is infused with a sense of abundance and warmth, with the light casting a golden hue over everything, evoking feelings of love and understanding. Angels gently touch the flowers, causing them to bloom brighter, as a soft melody fills the air, wrapping around the viewer like a warm embrace.']\n",
      "                    neg_prompt: ['Aerial view, aerial view, overexposed, low quality, deformation, a poor composition, bad hands, bad teeth, bad eyes, bad limbs, distortion']\n",
      "                          seed: 968739369\n",
      "                   infer_steps: 50\n",
      "         num_videos_per_prompt: 1\n",
      "                guidance_scale: 1.0\n",
      "                      n_tokens: 49290\n",
      "                    flow_shift: 7.0\n",
      "       embedded_guidance_scale: 6.0\u001b[0m\n"
     ]
    },
    {
     "data": {
      "application/vnd.jupyter.widget-view+json": {
       "model_id": "616388bbb62048d5bb6ef07fea872b85",
       "version_major": 2,
       "version_minor": 0
      },
      "text/plain": [
       "  0%|          | 0/50 [00:00<?, ?it/s]"
      ]
     },
     "metadata": {},
     "output_type": "display_data"
    },
    {
     "name": "stderr",
     "output_type": "stream",
     "text": [
      "\u001b[32m2025-02-03 03:08:35.530\u001b[0m | \u001b[1mINFO    \u001b[0m | \u001b[36mhyvideo.inference\u001b[0m:\u001b[36mpredict\u001b[0m:\u001b[36m681\u001b[0m - \u001b[1mSuccess, time: 1005.5888245105743\u001b[0m\n",
      "\u001b[32m2025-02-03 03:08:40.155\u001b[0m | \u001b[1mINFO    \u001b[0m | \u001b[36mhyvideo.inference\u001b[0m:\u001b[36mpredict\u001b[0m:\u001b[36m587\u001b[0m - \u001b[1mInput (height, width, video_length) = (480, 848, 121)\u001b[0m\n",
      "\u001b[32m2025-02-03 03:08:40.160\u001b[0m | \u001b[34m\u001b[1mDEBUG   \u001b[0m | \u001b[36mhyvideo.inference\u001b[0m:\u001b[36mpredict\u001b[0m:\u001b[36m647\u001b[0m - \u001b[34m\u001b[1m\n",
      "                        height: 480\n",
      "                         width: 848\n",
      "                  video_length: 121\n",
      "                        prompt: ['A vibrant field of flowers sways gently under a soft, warm breeze, each petal capturing the sunlight like jewels. The colors are rich and varied, creating an atmosphere of joy and compassion. Angels drift through the blossoms, their wings creating a soft rustle, as they tend to the flowers, symbolizing care and nurturing. The scene is infused with a sense of abundance and warmth, with the light casting a golden hue over everything, evoking feelings of love and understanding. Angels gently touch the flowers, causing them to bloom brighter, as a soft melody fills the air, wrapping around the viewer like a warm embrace.']\n",
      "                    neg_prompt: ['Aerial view, aerial view, overexposed, low quality, deformation, a poor composition, bad hands, bad teeth, bad eyes, bad limbs, distortion']\n",
      "                          seed: 1534996148\n",
      "                   infer_steps: 50\n",
      "         num_videos_per_prompt: 1\n",
      "                guidance_scale: 1.0\n",
      "                      n_tokens: 49290\n",
      "                    flow_shift: 7.0\n",
      "       embedded_guidance_scale: 6.0\u001b[0m\n"
     ]
    },
    {
     "data": {
      "application/vnd.jupyter.widget-view+json": {
       "model_id": "fd4289c38eb848e5ac66c4d720951a6f",
       "version_major": 2,
       "version_minor": 0
      },
      "text/plain": [
       "  0%|          | 0/50 [00:00<?, ?it/s]"
      ]
     },
     "metadata": {},
     "output_type": "display_data"
    },
    {
     "name": "stderr",
     "output_type": "stream",
     "text": [
      "\u001b[32m2025-02-03 03:25:27.350\u001b[0m | \u001b[1mINFO    \u001b[0m | \u001b[36mhyvideo.inference\u001b[0m:\u001b[36mpredict\u001b[0m:\u001b[36m681\u001b[0m - \u001b[1mSuccess, time: 1007.1900134086609\u001b[0m\n",
      "\u001b[32m2025-02-03 03:25:28.771\u001b[0m | \u001b[1mINFO    \u001b[0m | \u001b[36mhyvideo.inference\u001b[0m:\u001b[36mpredict\u001b[0m:\u001b[36m587\u001b[0m - \u001b[1mInput (height, width, video_length) = (480, 848, 121)\u001b[0m\n",
      "\u001b[32m2025-02-03 03:25:28.777\u001b[0m | \u001b[34m\u001b[1mDEBUG   \u001b[0m | \u001b[36mhyvideo.inference\u001b[0m:\u001b[36mpredict\u001b[0m:\u001b[36m647\u001b[0m - \u001b[34m\u001b[1m\n",
      "                        height: 480\n",
      "                         width: 848\n",
      "                  video_length: 121\n",
      "                        prompt: ['A vibrant field of flowers sways gently under a soft, warm breeze, each petal capturing the sunlight like jewels. The colors are rich and varied, creating an atmosphere of joy and compassion. Angels drift through the blossoms, their wings creating a soft rustle, as they tend to the flowers, symbolizing care and nurturing. The scene is infused with a sense of abundance and warmth, with the light casting a golden hue over everything, evoking feelings of love and understanding. Angels gently touch the flowers, causing them to bloom brighter, as a soft melody fills the air, wrapping around the viewer like a warm embrace.']\n",
      "                    neg_prompt: ['Aerial view, aerial view, overexposed, low quality, deformation, a poor composition, bad hands, bad teeth, bad eyes, bad limbs, distortion']\n",
      "                          seed: 1558630058\n",
      "                   infer_steps: 50\n",
      "         num_videos_per_prompt: 1\n",
      "                guidance_scale: 1.0\n",
      "                      n_tokens: 49290\n",
      "                    flow_shift: 7.0\n",
      "       embedded_guidance_scale: 6.0\u001b[0m\n"
     ]
    },
    {
     "name": "stdout",
     "output_type": "stream",
     "text": [
      "Scene 21 has 3 segments\n"
     ]
    },
    {
     "data": {
      "application/vnd.jupyter.widget-view+json": {
       "model_id": "9cc96fcffa3747329ed55835c22408ea",
       "version_major": 2,
       "version_minor": 0
      },
      "text/plain": [
       "  0%|          | 0/50 [00:00<?, ?it/s]"
      ]
     },
     "metadata": {},
     "output_type": "display_data"
    },
    {
     "name": "stderr",
     "output_type": "stream",
     "text": [
      "\u001b[32m2025-02-03 03:42:18.513\u001b[0m | \u001b[1mINFO    \u001b[0m | \u001b[36mhyvideo.inference\u001b[0m:\u001b[36mpredict\u001b[0m:\u001b[36m681\u001b[0m - \u001b[1mSuccess, time: 1009.7354643344879\u001b[0m\n",
      "\u001b[32m2025-02-03 03:42:20.001\u001b[0m | \u001b[1mINFO    \u001b[0m | \u001b[36mhyvideo.inference\u001b[0m:\u001b[36mpredict\u001b[0m:\u001b[36m587\u001b[0m - \u001b[1mInput (height, width, video_length) = (480, 848, 121)\u001b[0m\n",
      "\u001b[32m2025-02-03 03:42:20.010\u001b[0m | \u001b[34m\u001b[1mDEBUG   \u001b[0m | \u001b[36mhyvideo.inference\u001b[0m:\u001b[36mpredict\u001b[0m:\u001b[36m647\u001b[0m - \u001b[34m\u001b[1m\n",
      "                        height: 480\n",
      "                         width: 848\n",
      "                  video_length: 121\n",
      "                        prompt: ['A vibrant field of flowers sways gently under a soft, warm breeze, each petal capturing the sunlight like jewels. The colors are rich and varied, creating an atmosphere of joy and compassion. Angels drift through the blossoms, their wings creating a soft rustle, as they tend to the flowers, symbolizing care and nurturing. The scene is infused with a sense of abundance and warmth, with the light casting a golden hue over everything, evoking feelings of love and understanding. Angels gently touch the flowers, causing them to bloom brighter, as a soft melody fills the air, wrapping around the viewer like a warm embrace.']\n",
      "                    neg_prompt: ['Aerial view, aerial view, overexposed, low quality, deformation, a poor composition, bad hands, bad teeth, bad eyes, bad limbs, distortion']\n",
      "                          seed: 721433977\n",
      "                   infer_steps: 50\n",
      "         num_videos_per_prompt: 1\n",
      "                guidance_scale: 1.0\n",
      "                      n_tokens: 49290\n",
      "                    flow_shift: 7.0\n",
      "       embedded_guidance_scale: 6.0\u001b[0m\n"
     ]
    },
    {
     "data": {
      "application/vnd.jupyter.widget-view+json": {
       "model_id": "71235023b9c3414db2a3000e2a4dfbe8",
       "version_major": 2,
       "version_minor": 0
      },
      "text/plain": [
       "  0%|          | 0/50 [00:00<?, ?it/s]"
      ]
     },
     "metadata": {},
     "output_type": "display_data"
    },
    {
     "name": "stderr",
     "output_type": "stream",
     "text": [
      "\u001b[32m2025-02-03 03:59:08.159\u001b[0m | \u001b[1mINFO    \u001b[0m | \u001b[36mhyvideo.inference\u001b[0m:\u001b[36mpredict\u001b[0m:\u001b[36m681\u001b[0m - \u001b[1mSuccess, time: 1008.1485204696655\u001b[0m\n",
      "\u001b[32m2025-02-03 03:59:09.666\u001b[0m | \u001b[1mINFO    \u001b[0m | \u001b[36mhyvideo.inference\u001b[0m:\u001b[36mpredict\u001b[0m:\u001b[36m587\u001b[0m - \u001b[1mInput (height, width, video_length) = (480, 848, 121)\u001b[0m\n",
      "\u001b[32m2025-02-03 03:59:09.672\u001b[0m | \u001b[34m\u001b[1mDEBUG   \u001b[0m | \u001b[36mhyvideo.inference\u001b[0m:\u001b[36mpredict\u001b[0m:\u001b[36m647\u001b[0m - \u001b[34m\u001b[1m\n",
      "                        height: 480\n",
      "                         width: 848\n",
      "                  video_length: 121\n",
      "                        prompt: ['A vibrant field of flowers sways gently under a soft, warm breeze, each petal capturing the sunlight like jewels. The colors are rich and varied, creating an atmosphere of joy and compassion. Angels drift through the blossoms, their wings creating a soft rustle, as they tend to the flowers, symbolizing care and nurturing. The scene is infused with a sense of abundance and warmth, with the light casting a golden hue over everything, evoking feelings of love and understanding. Angels gently touch the flowers, causing them to bloom brighter, as a soft melody fills the air, wrapping around the viewer like a warm embrace.']\n",
      "                    neg_prompt: ['Aerial view, aerial view, overexposed, low quality, deformation, a poor composition, bad hands, bad teeth, bad eyes, bad limbs, distortion']\n",
      "                          seed: 1454555997\n",
      "                   infer_steps: 50\n",
      "         num_videos_per_prompt: 1\n",
      "                guidance_scale: 1.0\n",
      "                      n_tokens: 49290\n",
      "                    flow_shift: 7.0\n",
      "       embedded_guidance_scale: 6.0\u001b[0m\n"
     ]
    },
    {
     "data": {
      "application/vnd.jupyter.widget-view+json": {
       "model_id": "41e4090b6ce440d18ef5764be93b70a2",
       "version_major": 2,
       "version_minor": 0
      },
      "text/plain": [
       "  0%|          | 0/50 [00:00<?, ?it/s]"
      ]
     },
     "metadata": {},
     "output_type": "display_data"
    },
    {
     "name": "stderr",
     "output_type": "stream",
     "text": [
      "\u001b[32m2025-02-03 04:15:57.406\u001b[0m | \u001b[1mINFO    \u001b[0m | \u001b[36mhyvideo.inference\u001b[0m:\u001b[36mpredict\u001b[0m:\u001b[36m681\u001b[0m - \u001b[1mSuccess, time: 1007.7329790592194\u001b[0m\n",
      "\u001b[32m2025-02-03 04:15:58.889\u001b[0m | \u001b[1mINFO    \u001b[0m | \u001b[36mhyvideo.inference\u001b[0m:\u001b[36mpredict\u001b[0m:\u001b[36m587\u001b[0m - \u001b[1mInput (height, width, video_length) = (480, 848, 121)\u001b[0m\n",
      "\u001b[32m2025-02-03 04:15:58.896\u001b[0m | \u001b[34m\u001b[1mDEBUG   \u001b[0m | \u001b[36mhyvideo.inference\u001b[0m:\u001b[36mpredict\u001b[0m:\u001b[36m647\u001b[0m - \u001b[34m\u001b[1m\n",
      "                        height: 480\n",
      "                         width: 848\n",
      "                  video_length: 121\n",
      "                        prompt: ['A vibrant field of flowers sways gently under a soft, warm breeze, each petal capturing the sunlight like jewels. The colors are rich and varied, creating an atmosphere of joy and compassion. Angels drift through the blossoms, their wings creating a soft rustle, as they tend to the flowers, symbolizing care and nurturing. The scene is infused with a sense of abundance and warmth, with the light casting a golden hue over everything, evoking feelings of love and understanding. Angels gently touch the flowers, causing them to bloom brighter, as a soft melody fills the air, wrapping around the viewer like a warm embrace.']\n",
      "                    neg_prompt: ['Aerial view, aerial view, overexposed, low quality, deformation, a poor composition, bad hands, bad teeth, bad eyes, bad limbs, distortion']\n",
      "                          seed: 128688561\n",
      "                   infer_steps: 50\n",
      "         num_videos_per_prompt: 1\n",
      "                guidance_scale: 1.0\n",
      "                      n_tokens: 49290\n",
      "                    flow_shift: 7.0\n",
      "       embedded_guidance_scale: 6.0\u001b[0m\n"
     ]
    },
    {
     "name": "stdout",
     "output_type": "stream",
     "text": [
      "Scene 22 has 3 segments\n"
     ]
    },
    {
     "data": {
      "application/vnd.jupyter.widget-view+json": {
       "model_id": "aa56b8d77db1448d89764e06dca49c1e",
       "version_major": 2,
       "version_minor": 0
      },
      "text/plain": [
       "  0%|          | 0/50 [00:00<?, ?it/s]"
      ]
     },
     "metadata": {},
     "output_type": "display_data"
    },
    {
     "name": "stderr",
     "output_type": "stream",
     "text": [
      "\u001b[32m2025-02-03 04:32:45.929\u001b[0m | \u001b[1mINFO    \u001b[0m | \u001b[36mhyvideo.inference\u001b[0m:\u001b[36mpredict\u001b[0m:\u001b[36m681\u001b[0m - \u001b[1mSuccess, time: 1007.0320868492126\u001b[0m\n",
      "\u001b[32m2025-02-03 04:32:47.409\u001b[0m | \u001b[1mINFO    \u001b[0m | \u001b[36mhyvideo.inference\u001b[0m:\u001b[36mpredict\u001b[0m:\u001b[36m587\u001b[0m - \u001b[1mInput (height, width, video_length) = (480, 848, 121)\u001b[0m\n",
      "\u001b[32m2025-02-03 04:32:47.416\u001b[0m | \u001b[34m\u001b[1mDEBUG   \u001b[0m | \u001b[36mhyvideo.inference\u001b[0m:\u001b[36mpredict\u001b[0m:\u001b[36m647\u001b[0m - \u001b[34m\u001b[1m\n",
      "                        height: 480\n",
      "                         width: 848\n",
      "                  video_length: 121\n",
      "                        prompt: ['A vibrant field of flowers sways gently under a soft, warm breeze, each petal capturing the sunlight like jewels. The colors are rich and varied, creating an atmosphere of joy and compassion. Angels drift through the blossoms, their wings creating a soft rustle, as they tend to the flowers, symbolizing care and nurturing. The scene is infused with a sense of abundance and warmth, with the light casting a golden hue over everything, evoking feelings of love and understanding. Angels gently touch the flowers, causing them to bloom brighter, as a soft melody fills the air, wrapping around the viewer like a warm embrace.']\n",
      "                    neg_prompt: ['Aerial view, aerial view, overexposed, low quality, deformation, a poor composition, bad hands, bad teeth, bad eyes, bad limbs, distortion']\n",
      "                          seed: 1447815516\n",
      "                   infer_steps: 50\n",
      "         num_videos_per_prompt: 1\n",
      "                guidance_scale: 1.0\n",
      "                      n_tokens: 49290\n",
      "                    flow_shift: 7.0\n",
      "       embedded_guidance_scale: 6.0\u001b[0m\n"
     ]
    },
    {
     "data": {
      "application/vnd.jupyter.widget-view+json": {
       "model_id": "f92ac2c616a34ee7b5198bbe192f759a",
       "version_major": 2,
       "version_minor": 0
      },
      "text/plain": [
       "  0%|          | 0/50 [00:00<?, ?it/s]"
      ]
     },
     "metadata": {},
     "output_type": "display_data"
    },
    {
     "name": "stderr",
     "output_type": "stream",
     "text": [
      "\u001b[32m2025-02-03 04:49:33.053\u001b[0m | \u001b[1mINFO    \u001b[0m | \u001b[36mhyvideo.inference\u001b[0m:\u001b[36mpredict\u001b[0m:\u001b[36m681\u001b[0m - \u001b[1mSuccess, time: 1005.63574051857\u001b[0m\n",
      "\u001b[32m2025-02-03 04:49:34.542\u001b[0m | \u001b[1mINFO    \u001b[0m | \u001b[36mhyvideo.inference\u001b[0m:\u001b[36mpredict\u001b[0m:\u001b[36m587\u001b[0m - \u001b[1mInput (height, width, video_length) = (480, 848, 121)\u001b[0m\n",
      "\u001b[32m2025-02-03 04:49:34.547\u001b[0m | \u001b[34m\u001b[1mDEBUG   \u001b[0m | \u001b[36mhyvideo.inference\u001b[0m:\u001b[36mpredict\u001b[0m:\u001b[36m647\u001b[0m - \u001b[34m\u001b[1m\n",
      "                        height: 480\n",
      "                         width: 848\n",
      "                  video_length: 121\n",
      "                        prompt: ['A vibrant field of flowers sways gently under a soft, warm breeze, each petal capturing the sunlight like jewels. The colors are rich and varied, creating an atmosphere of joy and compassion. Angels drift through the blossoms, their wings creating a soft rustle, as they tend to the flowers, symbolizing care and nurturing. The scene is infused with a sense of abundance and warmth, with the light casting a golden hue over everything, evoking feelings of love and understanding. Angels gently touch the flowers, causing them to bloom brighter, as a soft melody fills the air, wrapping around the viewer like a warm embrace.']\n",
      "                    neg_prompt: ['Aerial view, aerial view, overexposed, low quality, deformation, a poor composition, bad hands, bad teeth, bad eyes, bad limbs, distortion']\n",
      "                          seed: 1218491603\n",
      "                   infer_steps: 50\n",
      "         num_videos_per_prompt: 1\n",
      "                guidance_scale: 1.0\n",
      "                      n_tokens: 49290\n",
      "                    flow_shift: 7.0\n",
      "       embedded_guidance_scale: 6.0\u001b[0m\n"
     ]
    },
    {
     "data": {
      "application/vnd.jupyter.widget-view+json": {
       "model_id": "98ecaa8d8b764e8eaf6d71fe919ac27f",
       "version_major": 2,
       "version_minor": 0
      },
      "text/plain": [
       "  0%|          | 0/50 [00:00<?, ?it/s]"
      ]
     },
     "metadata": {},
     "output_type": "display_data"
    },
    {
     "name": "stderr",
     "output_type": "stream",
     "text": [
      "\u001b[32m2025-02-03 05:06:24.043\u001b[0m | \u001b[1mINFO    \u001b[0m | \u001b[36mhyvideo.inference\u001b[0m:\u001b[36mpredict\u001b[0m:\u001b[36m681\u001b[0m - \u001b[1mSuccess, time: 1009.4943416118622\u001b[0m\n",
      "\u001b[32m2025-02-03 05:06:25.483\u001b[0m | \u001b[1mINFO    \u001b[0m | \u001b[36mhyvideo.inference\u001b[0m:\u001b[36mpredict\u001b[0m:\u001b[36m587\u001b[0m - \u001b[1mInput (height, width, video_length) = (480, 848, 121)\u001b[0m\n",
      "\u001b[32m2025-02-03 05:06:25.487\u001b[0m | \u001b[34m\u001b[1mDEBUG   \u001b[0m | \u001b[36mhyvideo.inference\u001b[0m:\u001b[36mpredict\u001b[0m:\u001b[36m647\u001b[0m - \u001b[34m\u001b[1m\n",
      "                        height: 480\n",
      "                         width: 848\n",
      "                  video_length: 121\n",
      "                        prompt: ['A vibrant field of flowers sways gently under a soft, warm breeze, each petal capturing the sunlight like jewels. The colors are rich and varied, creating an atmosphere of joy and compassion. Angels drift through the blossoms, their wings creating a soft rustle, as they tend to the flowers, symbolizing care and nurturing. The scene is infused with a sense of abundance and warmth, with the light casting a golden hue over everything, evoking feelings of love and understanding. Angels gently touch the flowers, causing them to bloom brighter, as a soft melody fills the air, wrapping around the viewer like a warm embrace.']\n",
      "                    neg_prompt: ['Aerial view, aerial view, overexposed, low quality, deformation, a poor composition, bad hands, bad teeth, bad eyes, bad limbs, distortion']\n",
      "                          seed: 1884912566\n",
      "                   infer_steps: 50\n",
      "         num_videos_per_prompt: 1\n",
      "                guidance_scale: 1.0\n",
      "                      n_tokens: 49290\n",
      "                    flow_shift: 7.0\n",
      "       embedded_guidance_scale: 6.0\u001b[0m\n"
     ]
    },
    {
     "name": "stdout",
     "output_type": "stream",
     "text": [
      "Scene 23 has 3 segments\n"
     ]
    },
    {
     "data": {
      "application/vnd.jupyter.widget-view+json": {
       "model_id": "888f6b26ee024e86b60f38cd94f67cbe",
       "version_major": 2,
       "version_minor": 0
      },
      "text/plain": [
       "  0%|          | 0/50 [00:00<?, ?it/s]"
      ]
     },
     "metadata": {},
     "output_type": "display_data"
    },
    {
     "name": "stderr",
     "output_type": "stream",
     "text": [
      "\u001b[32m2025-02-03 05:23:14.960\u001b[0m | \u001b[1mINFO    \u001b[0m | \u001b[36mhyvideo.inference\u001b[0m:\u001b[36mpredict\u001b[0m:\u001b[36m681\u001b[0m - \u001b[1mSuccess, time: 1009.4727871417999\u001b[0m\n",
      "\u001b[32m2025-02-03 05:23:16.421\u001b[0m | \u001b[1mINFO    \u001b[0m | \u001b[36mhyvideo.inference\u001b[0m:\u001b[36mpredict\u001b[0m:\u001b[36m587\u001b[0m - \u001b[1mInput (height, width, video_length) = (480, 848, 121)\u001b[0m\n",
      "\u001b[32m2025-02-03 05:23:16.428\u001b[0m | \u001b[34m\u001b[1mDEBUG   \u001b[0m | \u001b[36mhyvideo.inference\u001b[0m:\u001b[36mpredict\u001b[0m:\u001b[36m647\u001b[0m - \u001b[34m\u001b[1m\n",
      "                        height: 480\n",
      "                         width: 848\n",
      "                  video_length: 121\n",
      "                        prompt: ['A vibrant field of flowers sways gently under a soft, warm breeze, each petal capturing the sunlight like jewels. The colors are rich and varied, creating an atmosphere of joy and compassion. Angels drift through the blossoms, their wings creating a soft rustle, as they tend to the flowers, symbolizing care and nurturing. The scene is infused with a sense of abundance and warmth, with the light casting a golden hue over everything, evoking feelings of love and understanding. Angels gently touch the flowers, causing them to bloom brighter, as a soft melody fills the air, wrapping around the viewer like a warm embrace.']\n",
      "                    neg_prompt: ['Aerial view, aerial view, overexposed, low quality, deformation, a poor composition, bad hands, bad teeth, bad eyes, bad limbs, distortion']\n",
      "                          seed: 1799526183\n",
      "                   infer_steps: 50\n",
      "         num_videos_per_prompt: 1\n",
      "                guidance_scale: 1.0\n",
      "                      n_tokens: 49290\n",
      "                    flow_shift: 7.0\n",
      "       embedded_guidance_scale: 6.0\u001b[0m\n"
     ]
    },
    {
     "data": {
      "application/vnd.jupyter.widget-view+json": {
       "model_id": "161a2d8b8af048f184b86c937b334348",
       "version_major": 2,
       "version_minor": 0
      },
      "text/plain": [
       "  0%|          | 0/50 [00:00<?, ?it/s]"
      ]
     },
     "metadata": {},
     "output_type": "display_data"
    },
    {
     "name": "stderr",
     "output_type": "stream",
     "text": [
      "\u001b[32m2025-02-03 05:40:03.418\u001b[0m | \u001b[1mINFO    \u001b[0m | \u001b[36mhyvideo.inference\u001b[0m:\u001b[36mpredict\u001b[0m:\u001b[36m681\u001b[0m - \u001b[1mSuccess, time: 1006.9901716709137\u001b[0m\n",
      "\u001b[32m2025-02-03 05:40:04.888\u001b[0m | \u001b[1mINFO    \u001b[0m | \u001b[36mhyvideo.inference\u001b[0m:\u001b[36mpredict\u001b[0m:\u001b[36m587\u001b[0m - \u001b[1mInput (height, width, video_length) = (480, 848, 121)\u001b[0m\n",
      "\u001b[32m2025-02-03 05:40:04.895\u001b[0m | \u001b[34m\u001b[1mDEBUG   \u001b[0m | \u001b[36mhyvideo.inference\u001b[0m:\u001b[36mpredict\u001b[0m:\u001b[36m647\u001b[0m - \u001b[34m\u001b[1m\n",
      "                        height: 480\n",
      "                         width: 848\n",
      "                  video_length: 121\n",
      "                        prompt: ['A vibrant field of flowers sways gently under a soft, warm breeze, each petal capturing the sunlight like jewels. The colors are rich and varied, creating an atmosphere of joy and compassion. Angels drift through the blossoms, their wings creating a soft rustle, as they tend to the flowers, symbolizing care and nurturing. The scene is infused with a sense of abundance and warmth, with the light casting a golden hue over everything, evoking feelings of love and understanding. Angels gently touch the flowers, causing them to bloom brighter, as a soft melody fills the air, wrapping around the viewer like a warm embrace.']\n",
      "                    neg_prompt: ['Aerial view, aerial view, overexposed, low quality, deformation, a poor composition, bad hands, bad teeth, bad eyes, bad limbs, distortion']\n",
      "                          seed: 1067536896\n",
      "                   infer_steps: 50\n",
      "         num_videos_per_prompt: 1\n",
      "                guidance_scale: 1.0\n",
      "                      n_tokens: 49290\n",
      "                    flow_shift: 7.0\n",
      "       embedded_guidance_scale: 6.0\u001b[0m\n"
     ]
    },
    {
     "data": {
      "application/vnd.jupyter.widget-view+json": {
       "model_id": "a794af5b7e4f496bb66728891120a870",
       "version_major": 2,
       "version_minor": 0
      },
      "text/plain": [
       "  0%|          | 0/50 [00:00<?, ?it/s]"
      ]
     },
     "metadata": {},
     "output_type": "display_data"
    },
    {
     "name": "stderr",
     "output_type": "stream",
     "text": [
      "\u001b[32m2025-02-03 05:56:54.083\u001b[0m | \u001b[1mINFO    \u001b[0m | \u001b[36mhyvideo.inference\u001b[0m:\u001b[36mpredict\u001b[0m:\u001b[36m681\u001b[0m - \u001b[1mSuccess, time: 1009.1875014305115\u001b[0m\n",
      "\u001b[32m2025-02-03 05:56:55.571\u001b[0m | \u001b[1mINFO    \u001b[0m | \u001b[36mhyvideo.inference\u001b[0m:\u001b[36mpredict\u001b[0m:\u001b[36m587\u001b[0m - \u001b[1mInput (height, width, video_length) = (480, 848, 121)\u001b[0m\n",
      "\u001b[32m2025-02-03 05:56:55.577\u001b[0m | \u001b[34m\u001b[1mDEBUG   \u001b[0m | \u001b[36mhyvideo.inference\u001b[0m:\u001b[36mpredict\u001b[0m:\u001b[36m647\u001b[0m - \u001b[34m\u001b[1m\n",
      "                        height: 480\n",
      "                         width: 848\n",
      "                  video_length: 121\n",
      "                        prompt: ['A vibrant field of flowers sways gently under a soft, warm breeze, each petal capturing the sunlight like jewels. The colors are rich and varied, creating an atmosphere of joy and compassion. Angels drift through the blossoms, their wings creating a soft rustle, as they tend to the flowers, symbolizing care and nurturing. The scene is infused with a sense of abundance and warmth, with the light casting a golden hue over everything, evoking feelings of love and understanding. Angels gently touch the flowers, causing them to bloom brighter, as a soft melody fills the air, wrapping around the viewer like a warm embrace.']\n",
      "                    neg_prompt: ['Aerial view, aerial view, overexposed, low quality, deformation, a poor composition, bad hands, bad teeth, bad eyes, bad limbs, distortion']\n",
      "                          seed: 724697189\n",
      "                   infer_steps: 50\n",
      "         num_videos_per_prompt: 1\n",
      "                guidance_scale: 1.0\n",
      "                      n_tokens: 49290\n",
      "                    flow_shift: 7.0\n",
      "       embedded_guidance_scale: 6.0\u001b[0m\n"
     ]
    },
    {
     "name": "stdout",
     "output_type": "stream",
     "text": [
      "Scene 24 has 3 segments\n"
     ]
    },
    {
     "data": {
      "application/vnd.jupyter.widget-view+json": {
       "model_id": "b3bd07e4f35547dabb1c725cd47c8f4f",
       "version_major": 2,
       "version_minor": 0
      },
      "text/plain": [
       "  0%|          | 0/50 [00:00<?, ?it/s]"
      ]
     },
     "metadata": {},
     "output_type": "display_data"
    },
    {
     "name": "stderr",
     "output_type": "stream",
     "text": [
      "\u001b[32m2025-02-03 06:13:42.526\u001b[0m | \u001b[1mINFO    \u001b[0m | \u001b[36mhyvideo.inference\u001b[0m:\u001b[36mpredict\u001b[0m:\u001b[36m681\u001b[0m - \u001b[1mSuccess, time: 1006.9484024047852\u001b[0m\n",
      "\u001b[32m2025-02-03 06:13:43.974\u001b[0m | \u001b[1mINFO    \u001b[0m | \u001b[36mhyvideo.inference\u001b[0m:\u001b[36mpredict\u001b[0m:\u001b[36m587\u001b[0m - \u001b[1mInput (height, width, video_length) = (480, 848, 121)\u001b[0m\n",
      "\u001b[32m2025-02-03 06:13:43.977\u001b[0m | \u001b[34m\u001b[1mDEBUG   \u001b[0m | \u001b[36mhyvideo.inference\u001b[0m:\u001b[36mpredict\u001b[0m:\u001b[36m647\u001b[0m - \u001b[34m\u001b[1m\n",
      "                        height: 480\n",
      "                         width: 848\n",
      "                  video_length: 121\n",
      "                        prompt: ['A vibrant field of flowers sways gently under a soft, warm breeze, each petal capturing the sunlight like jewels. The colors are rich and varied, creating an atmosphere of joy and compassion. Angels drift through the blossoms, their wings creating a soft rustle, as they tend to the flowers, symbolizing care and nurturing. The scene is infused with a sense of abundance and warmth, with the light casting a golden hue over everything, evoking feelings of love and understanding. Angels gently touch the flowers, causing them to bloom brighter, as a soft melody fills the air, wrapping around the viewer like a warm embrace.']\n",
      "                    neg_prompt: ['Aerial view, aerial view, overexposed, low quality, deformation, a poor composition, bad hands, bad teeth, bad eyes, bad limbs, distortion']\n",
      "                          seed: 411413441\n",
      "                   infer_steps: 50\n",
      "         num_videos_per_prompt: 1\n",
      "                guidance_scale: 1.0\n",
      "                      n_tokens: 49290\n",
      "                    flow_shift: 7.0\n",
      "       embedded_guidance_scale: 6.0\u001b[0m\n"
     ]
    },
    {
     "data": {
      "application/vnd.jupyter.widget-view+json": {
       "model_id": "3da28b8e1dbb4529a4b6a3f772d4d86d",
       "version_major": 2,
       "version_minor": 0
      },
      "text/plain": [
       "  0%|          | 0/50 [00:00<?, ?it/s]"
      ]
     },
     "metadata": {},
     "output_type": "display_data"
    },
    {
     "name": "stderr",
     "output_type": "stream",
     "text": [
      "\u001b[32m2025-02-03 06:30:33.199\u001b[0m | \u001b[1mINFO    \u001b[0m | \u001b[36mhyvideo.inference\u001b[0m:\u001b[36mpredict\u001b[0m:\u001b[36m681\u001b[0m - \u001b[1mSuccess, time: 1009.2225511074066\u001b[0m\n",
      "\u001b[32m2025-02-03 06:30:34.709\u001b[0m | \u001b[1mINFO    \u001b[0m | \u001b[36mhyvideo.inference\u001b[0m:\u001b[36mpredict\u001b[0m:\u001b[36m587\u001b[0m - \u001b[1mInput (height, width, video_length) = (480, 848, 121)\u001b[0m\n",
      "\u001b[32m2025-02-03 06:30:34.713\u001b[0m | \u001b[34m\u001b[1mDEBUG   \u001b[0m | \u001b[36mhyvideo.inference\u001b[0m:\u001b[36mpredict\u001b[0m:\u001b[36m647\u001b[0m - \u001b[34m\u001b[1m\n",
      "                        height: 480\n",
      "                         width: 848\n",
      "                  video_length: 121\n",
      "                        prompt: ['A vibrant field of flowers sways gently under a soft, warm breeze, each petal capturing the sunlight like jewels. The colors are rich and varied, creating an atmosphere of joy and compassion. Angels drift through the blossoms, their wings creating a soft rustle, as they tend to the flowers, symbolizing care and nurturing. The scene is infused with a sense of abundance and warmth, with the light casting a golden hue over everything, evoking feelings of love and understanding. Angels gently touch the flowers, causing them to bloom brighter, as a soft melody fills the air, wrapping around the viewer like a warm embrace.']\n",
      "                    neg_prompt: ['Aerial view, aerial view, overexposed, low quality, deformation, a poor composition, bad hands, bad teeth, bad eyes, bad limbs, distortion']\n",
      "                          seed: 1256762759\n",
      "                   infer_steps: 50\n",
      "         num_videos_per_prompt: 1\n",
      "                guidance_scale: 1.0\n",
      "                      n_tokens: 49290\n",
      "                    flow_shift: 7.0\n",
      "       embedded_guidance_scale: 6.0\u001b[0m\n"
     ]
    },
    {
     "data": {
      "application/vnd.jupyter.widget-view+json": {
       "model_id": "85be5e386a1a44188b7fdf12559b26d7",
       "version_major": 2,
       "version_minor": 0
      },
      "text/plain": [
       "  0%|          | 0/50 [00:00<?, ?it/s]"
      ]
     },
     "metadata": {},
     "output_type": "display_data"
    },
    {
     "name": "stderr",
     "output_type": "stream",
     "text": [
      "\u001b[32m2025-02-03 06:47:22.853\u001b[0m | \u001b[1mINFO    \u001b[0m | \u001b[36mhyvideo.inference\u001b[0m:\u001b[36mpredict\u001b[0m:\u001b[36m681\u001b[0m - \u001b[1mSuccess, time: 1008.13964676857\u001b[0m\n",
      "\u001b[32m2025-02-03 06:47:24.369\u001b[0m | \u001b[1mINFO    \u001b[0m | \u001b[36mhyvideo.inference\u001b[0m:\u001b[36mpredict\u001b[0m:\u001b[36m587\u001b[0m - \u001b[1mInput (height, width, video_length) = (480, 848, 121)\u001b[0m\n",
      "\u001b[32m2025-02-03 06:47:24.375\u001b[0m | \u001b[34m\u001b[1mDEBUG   \u001b[0m | \u001b[36mhyvideo.inference\u001b[0m:\u001b[36mpredict\u001b[0m:\u001b[36m647\u001b[0m - \u001b[34m\u001b[1m\n",
      "                        height: 480\n",
      "                         width: 848\n",
      "                  video_length: 121\n",
      "                        prompt: ['A vibrant field of flowers sways gently under a soft, warm breeze, each petal capturing the sunlight like jewels. The colors are rich and varied, creating an atmosphere of joy and compassion. Angels drift through the blossoms, their wings creating a soft rustle, as they tend to the flowers, symbolizing care and nurturing. The scene is infused with a sense of abundance and warmth, with the light casting a golden hue over everything, evoking feelings of love and understanding. Angels gently touch the flowers, causing them to bloom brighter, as a soft melody fills the air, wrapping around the viewer like a warm embrace.']\n",
      "                    neg_prompt: ['Aerial view, aerial view, overexposed, low quality, deformation, a poor composition, bad hands, bad teeth, bad eyes, bad limbs, distortion']\n",
      "                          seed: 1474541210\n",
      "                   infer_steps: 50\n",
      "         num_videos_per_prompt: 1\n",
      "                guidance_scale: 1.0\n",
      "                      n_tokens: 49290\n",
      "                    flow_shift: 7.0\n",
      "       embedded_guidance_scale: 6.0\u001b[0m\n"
     ]
    },
    {
     "name": "stdout",
     "output_type": "stream",
     "text": [
      "Scene 25 has 2 segments\n"
     ]
    },
    {
     "data": {
      "application/vnd.jupyter.widget-view+json": {
       "model_id": "297a84377dca45f89ac20e28630f42ef",
       "version_major": 2,
       "version_minor": 0
      },
      "text/plain": [
       "  0%|          | 0/50 [00:00<?, ?it/s]"
      ]
     },
     "metadata": {},
     "output_type": "display_data"
    },
    {
     "name": "stderr",
     "output_type": "stream",
     "text": [
      "\u001b[32m2025-02-03 07:04:12.349\u001b[0m | \u001b[1mINFO    \u001b[0m | \u001b[36mhyvideo.inference\u001b[0m:\u001b[36mpredict\u001b[0m:\u001b[36m681\u001b[0m - \u001b[1mSuccess, time: 1007.9732949733734\u001b[0m\n",
      "\u001b[32m2025-02-03 07:04:13.868\u001b[0m | \u001b[1mINFO    \u001b[0m | \u001b[36mhyvideo.inference\u001b[0m:\u001b[36mpredict\u001b[0m:\u001b[36m587\u001b[0m - \u001b[1mInput (height, width, video_length) = (480, 848, 121)\u001b[0m\n",
      "\u001b[32m2025-02-03 07:04:13.872\u001b[0m | \u001b[34m\u001b[1mDEBUG   \u001b[0m | \u001b[36mhyvideo.inference\u001b[0m:\u001b[36mpredict\u001b[0m:\u001b[36m647\u001b[0m - \u001b[34m\u001b[1m\n",
      "                        height: 480\n",
      "                         width: 848\n",
      "                  video_length: 121\n",
      "                        prompt: ['A vibrant field of flowers sways gently under a soft, warm breeze, each petal capturing the sunlight like jewels. The colors are rich and varied, creating an atmosphere of joy and compassion. Angels drift through the blossoms, their wings creating a soft rustle, as they tend to the flowers, symbolizing care and nurturing. The scene is infused with a sense of abundance and warmth, with the light casting a golden hue over everything, evoking feelings of love and understanding. Angels gently touch the flowers, causing them to bloom brighter, as a soft melody fills the air, wrapping around the viewer like a warm embrace.']\n",
      "                    neg_prompt: ['Aerial view, aerial view, overexposed, low quality, deformation, a poor composition, bad hands, bad teeth, bad eyes, bad limbs, distortion']\n",
      "                          seed: 1717191583\n",
      "                   infer_steps: 50\n",
      "         num_videos_per_prompt: 1\n",
      "                guidance_scale: 1.0\n",
      "                      n_tokens: 49290\n",
      "                    flow_shift: 7.0\n",
      "       embedded_guidance_scale: 6.0\u001b[0m\n"
     ]
    },
    {
     "data": {
      "application/vnd.jupyter.widget-view+json": {
       "model_id": "1207b9fef64d47b5bd1a35f9557eb0cb",
       "version_major": 2,
       "version_minor": 0
      },
      "text/plain": [
       "  0%|          | 0/50 [00:00<?, ?it/s]"
      ]
     },
     "metadata": {},
     "output_type": "display_data"
    },
    {
     "name": "stderr",
     "output_type": "stream",
     "text": [
      "\u001b[32m2025-02-03 07:21:00.810\u001b[0m | \u001b[1mINFO    \u001b[0m | \u001b[36mhyvideo.inference\u001b[0m:\u001b[36mpredict\u001b[0m:\u001b[36m681\u001b[0m - \u001b[1mSuccess, time: 1006.9379081726074\u001b[0m\n"
     ]
    },
    {
     "name": "stdout",
     "output_type": "stream",
     "text": [
      "audio_images_dir: ./images/WingsOfLight_20250202_110141\n",
      "audio_videos_dir: ./output/WingsOfLight_20250202_110141\n",
      "last_end_value: 365.04\n",
      "timestamp: 20250202_110141\n",
      "Processing audio file: /mnt/d/Share/Audio/WingsOfLight.mp3\n",
      "Create unique directories for images and videos\n",
      "Transcribe audio using Whisper\n"
     ]
    },
    {
     "name": "stderr",
     "output_type": "stream",
     "text": [
      "/home/silwa/anaconda3/lib/python3.11/site-packages/whisper/__init__.py:150: FutureWarning: You are using `torch.load` with `weights_only=False` (the current default value), which uses the default pickle module implicitly. It is possible to construct malicious pickle data which will execute arbitrary code during unpickling (See https://github.com/pytorch/pytorch/blob/main/SECURITY.md#untrusted-models for more details). In a future release, the default value for `weights_only` will be flipped to `True`. This limits the functions that could be executed during unpickling. Arbitrary objects will no longer be allowed to be loaded via this mode unless they are explicitly allowlisted by the user via `torch.serialization.add_safe_globals`. We recommend you start setting `weights_only=True` for any use case where you don't have full control of the loaded file. Please open an issue on GitHub for any issues related to this experimental feature.\n",
      "  checkpoint = torch.load(fp, map_location=device)\n"
     ]
    },
    {
     "name": "stdout",
     "output_type": "stream",
     "text": [
      "Generate video summary using OpenAI\n",
      "Create scenes based on lyrics\n",
      "revised scenes\n",
      "26 scenes:\n",
      "[\n",
      "    {\n",
      "        \"start\": 0,\n",
      "        \"text\": \"Angels, some see them as baby-faced protectors, others envision them locked in battle with demons.\",\n",
      "        \"scene_description\": \"In a dreamlike watercolor world, soft pastels swirl into a twilight sky where luminous angels glide through ethereal clouds. Their wings shimmer with a celestial glow, casting gentle light on the encroaching shadows of demons below. The atmosphere is thick with tension, as beams of hope pierce the darkness, illuminating the serene yet haunting landscape, where chaos and tranquility coexist.\",\n",
      "        \"action_sequence\": \"Angels unfurl their wings, radiating soft light that encircles the lurking shadows, creating a dance of illumination and darkness.\"\n",
      "    },\n",
      "    {\n",
      "        \"start\": 15,\n",
      "        \"text\": \"Angels, some see them as baby-faced protectors, others envision them locked in battle with demons.\",\n",
      "        \"scene_description\": \"In a dreamlike watercolor world, soft pastels swirl into a twilight sky where luminous angels glide through ethereal clouds. Their wings shimmer with a celestial glow, casting gentle light on the encroaching shadows of demons below. The atmosphere is thick with tension, as beams of hope pierce the darkness, illuminating the serene yet haunting landscape, where chaos and tranquility coexist.\",\n",
      "        \"action_sequence\": \"Angels unfurl their wings, radiating soft light that encircles the lurking shadows, creating a dance of illumination and darkness.\"\n",
      "    },\n",
      "    {\n",
      "        \"start\": 30.0,\n",
      "        \"text\": \"Let's break the illusion. Misconceptions fill the air. Little cherubs trembling, so scared. But they're not fragile, they're not small. They're a brilliant glow beyond our walls.\",\n",
      "        \"scene_description\": \"In a whimsical garden painted in vibrant oils, towering flowers sway gently, their colors alive with energy. Cherubic figures hover anxiously among the blossoms, their wide eyes reflecting both fear and a flickering inner light. As the sun dips low, casting a golden hue, the garden transforms into a realm where innocence meets the powerful glow of courage, inviting hope to blossom.\",\n",
      "        \"action_sequence\": \"Cherubs gather their strength, their forms rising as the inner glow intensifies, illuminating the garden with newfound bravery.\"\n",
      "    },\n",
      "    {\n",
      "        \"start\": 45.0,\n",
      "        \"text\": \"Let's break the illusion. Misconceptions fill the air. Little cherubs trembling, so scared. But they're not fragile, they're not small. They're a brilliant glow beyond our walls.\",\n",
      "        \"scene_description\": \"In a whimsical garden painted in vibrant oils, towering flowers sway gently, their colors alive with energy. Cherubic figures hover anxiously among the blossoms, their wide eyes reflecting both fear and a flickering inner light. As the sun dips low, casting a golden hue, the garden transforms into a realm where innocence meets the powerful glow of courage, inviting hope to blossom.\",\n",
      "        \"action_sequence\": \"Cherubs gather their strength, their forms rising as the inner glow intensifies, illuminating the garden with newfound bravery.\"\n",
      "    },\n",
      "    {\n",
      "        \"start\": 60.0,\n",
      "        \"text\": \"In another plain too high to see, where hatred can ever truly be. Their language is love, no room for war.\",\n",
      "        \"scene_description\": \"A breathtaking celestial realm unfolds above the clouds, painted in vibrant hues that blend seamlessly into a tapestry of love. Floating orbs of light pulse gently, their harmonious patterns illuminating the vast expanse. Soft, billowing clouds shimmer with a warm luminescence, creating a sanctuary untouched by hatred, where peace reigns supreme and love flows freely like a gentle breeze.\",\n",
      "        \"action_sequence\": \"Light orbs drift gracefully, sending ripples of love through the ethereal landscape, creating a serene symphony of light.\"\n",
      "    },\n",
      "    {\n",
      "        \"start\": 75.0,\n",
      "        \"text\": \"In another plain too high to see, where hatred can ever truly be. Their language is love, no room for war.\",\n",
      "        \"scene_description\": \"A breathtaking celestial realm unfolds above the clouds, painted in vibrant hues that blend seamlessly into a tapestry of love. Floating orbs of light pulse gently, their harmonious patterns illuminating the vast expanse. Soft, billowing clouds shimmer with a warm luminescence, creating a sanctuary untouched by hatred, where peace reigns supreme and love flows freely like a gentle breeze.\",\n",
      "        \"action_sequence\": \"Light orbs drift gracefully, sending ripples of love through the ethereal landscape, creating a serene symphony of light.\"\n",
      "    },\n",
      "    {\n",
      "        \"start\": 90.0,\n",
      "        \"text\": \"In another plain too high to see, where hatred can ever truly be. Their language is love, no room for war.\",\n",
      "        \"scene_description\": \"A breathtaking celestial realm unfolds above the clouds, painted in vibrant hues that blend seamlessly into a tapestry of love. Floating orbs of light pulse gently, their harmonious patterns illuminating the vast expanse. Soft, billowing clouds shimmer with a warm luminescence, creating a sanctuary untouched by hatred, where peace reigns supreme and love flows freely like a gentle breeze.\",\n",
      "        \"action_sequence\": \"Light orbs drift gracefully, sending ripples of love through the ethereal landscape, creating a serene symphony of light.\"\n",
      "    },\n",
      "    {\n",
      "        \"start\": 105.0,\n",
      "        \"text\": \"In another plain too high to see, where hatred can ever truly be. Their language is love, no room for war.\",\n",
      "        \"scene_description\": \"A breathtaking celestial realm unfolds above the clouds, painted in vibrant hues that blend seamlessly into a tapestry of love. Floating orbs of light pulse gently, their harmonious patterns illuminating the vast expanse. Soft, billowing clouds shimmer with a warm luminescence, creating a sanctuary untouched by hatred, where peace reigns supreme and love flows freely like a gentle breeze.\",\n",
      "        \"action_sequence\": \"Light orbs drift gracefully, sending ripples of love through the ethereal landscape, creating a serene symphony of light.\"\n",
      "    },\n",
      "    {\n",
      "        \"start\": 120.0,\n",
      "        \"text\": \"But angels hold a different grace. They cradle hope in empty space.\",\n",
      "        \"scene_description\": \"In an expansive void, a solitary angelic figure glows softly, cradling a radiant orb of hope. The emptiness around them sparkles with distant stars, each twinkling like a whispered dream. The atmosphere is tranquil, imbued with a sense of grace as the angel's gentle embrace radiates warmth, casting a golden light that dispels the surrounding darkness, inviting serenity into the void.\",\n",
      "        \"action_sequence\": \"The angel rocks the orb tenderly, releasing soft waves of light that ripple through the vast emptiness, spreading tranquility.\"\n",
      "    },\n",
      "    {\n",
      "        \"start\": 135.0,\n",
      "        \"text\": \"But angels hold a different grace. They cradle hope in empty space.\",\n",
      "        \"scene_description\": \"In an expansive void, a solitary angelic figure glows softly, cradling a radiant orb of hope. The emptiness around them sparkles with distant stars, each twinkling like a whispered dream. The atmosphere is tranquil, imbued with a sense of grace as the angel's gentle embrace radiates warmth, casting a golden light that dispels the surrounding darkness, inviting serenity into the void.\",\n",
      "        \"action_sequence\": \"The angel rocks the orb tenderly, releasing soft waves of light that ripple through the vast emptiness, spreading tranquility.\"\n",
      "    },\n",
      "    {\n",
      "        \"start\": 150.0,\n",
      "        \"text\": \"But angels hold a different grace. They cradle hope in empty space.\",\n",
      "        \"scene_description\": \"In an expansive void, a solitary angelic figure glows softly, cradling a radiant orb of hope. The emptiness around them sparkles with distant stars, each twinkling like a whispered dream. The atmosphere is tranquil, imbued with a sense of grace as the angel's gentle embrace radiates warmth, casting a golden light that dispels the surrounding darkness, inviting serenity into the void.\",\n",
      "        \"action_sequence\": \"The angel rocks the orb tenderly, releasing soft waves of light that ripple through the vast emptiness, spreading tranquility.\"\n",
      "    },\n",
      "    {\n",
      "        \"start\": 161.0,\n",
      "        \"text\": \"Bringers of mercy, cosmic art. Their love incarnate from the start.\",\n",
      "        \"scene_description\": \"An abstract cosmic tapestry unfolds, where vibrant threads of color intertwine to create a celestial mural. Swirling galaxies and radiant stars illuminate the scene, evoking a sense of unity among all beings. The atmosphere is filled with awe, as the beauty of love manifests in every brushstroke, creating a mesmerizing dance of light and color across the cosmic canvas.\",\n",
      "        \"action_sequence\": \"Colors swirl and blend, forming intricate patterns that flow gracefully across the cosmic tapestry, celebrating interconnectedness.\"\n",
      "    },\n",
      "    {\n",
      "        \"start\": 176.0,\n",
      "        \"text\": \"Bringers of mercy, cosmic art. Their love incarnate from the start.\",\n",
      "        \"scene_description\": \"An abstract cosmic tapestry unfolds, where vibrant threads of color intertwine to create a celestial mural. Swirling galaxies and radiant stars illuminate the scene, evoking a sense of unity among all beings. The atmosphere is filled with awe, as the beauty of love manifests in every brushstroke, creating a mesmerizing dance of light and color across the cosmic canvas.\",\n",
      "        \"action_sequence\": \"Colors swirl and blend, forming intricate patterns that flow gracefully across the cosmic tapestry, celebrating interconnectedness.\"\n",
      "    },\n",
      "    {\n",
      "        \"start\": 191.0,\n",
      "        \"text\": \"Bringers of mercy, cosmic art. Their love incarnate from the start.\",\n",
      "        \"scene_description\": \"An abstract cosmic tapestry unfolds, where vibrant threads of color intertwine to create a celestial mural. Swirling galaxies and radiant stars illuminate the scene, evoking a sense of unity among all beings. The atmosphere is filled with awe, as the beauty of love manifests in every brushstroke, creating a mesmerizing dance of light and color across the cosmic canvas.\",\n",
      "        \"action_sequence\": \"Colors swirl and blend, forming intricate patterns that flow gracefully across the cosmic tapestry, celebrating interconnectedness.\"\n",
      "    },\n",
      "    {\n",
      "        \"start\": 206.0,\n",
      "        \"text\": \"Bringers of mercy, cosmic art. Their love incarnate from the start.\",\n",
      "        \"scene_description\": \"An abstract cosmic tapestry unfolds, where vibrant threads of color intertwine to create a celestial mural. Swirling galaxies and radiant stars illuminate the scene, evoking a sense of unity among all beings. The atmosphere is filled with awe, as the beauty of love manifests in every brushstroke, creating a mesmerizing dance of light and color across the cosmic canvas.\",\n",
      "        \"action_sequence\": \"Colors swirl and blend, forming intricate patterns that flow gracefully across the cosmic tapestry, celebrating interconnectedness.\"\n",
      "    },\n",
      "    {\n",
      "        \"start\": 221.0,\n",
      "        \"text\": \"Bringers of mercy, cosmic art. Their love incarnate from the start.\",\n",
      "        \"scene_description\": \"An abstract cosmic tapestry unfolds, where vibrant threads of color intertwine to create a celestial mural. Swirling galaxies and radiant stars illuminate the scene, evoking a sense of unity among all beings. The atmosphere is filled with awe, as the beauty of love manifests in every brushstroke, creating a mesmerizing dance of light and color across the cosmic canvas.\",\n",
      "        \"action_sequence\": \"Colors swirl and blend, forming intricate patterns that flow gracefully across the cosmic tapestry, celebrating interconnectedness.\"\n",
      "    },\n",
      "    {\n",
      "        \"start\": 230.0,\n",
      "        \"text\": \"Their essence is service and their melody is compassion.\",\n",
      "        \"scene_description\": \"A tranquil, ethereal landscape emerges, where flowing streams of light weave through a lush, enchanted forest. The air is filled with gentle whispers of wind that carry the melody of compassion, while luminescent flowers bloom in response to the angelic presence. The lighting transitions from soft pastels to deep, rich hues, creating a harmonious balance that evokes a profound sense of peace.\",\n",
      "        \"action_sequence\": \"Light streams flow gracefully through the forest, illuminating flowers that sway gently in rhythm with the melody of compassion.\"\n",
      "    },\n",
      "    {\n",
      "        \"start\": 245.0,\n",
      "        \"text\": \"Their essence is service and their melody is compassion.\",\n",
      "        \"scene_description\": \"A tranquil, ethereal landscape emerges, where flowing streams of light weave through a lush, enchanted forest. The air is filled with gentle whispers of wind that carry the melody of compassion, while luminescent flowers bloom in response to the angelic presence. The lighting transitions from soft pastels to deep, rich hues, creating a harmonious balance that evokes a profound sense of peace.\",\n",
      "        \"action_sequence\": \"Light streams flow gracefully through the forest, illuminating flowers that sway gently in rhythm with the melody of compassion.\"\n",
      "    },\n",
      "    {\n",
      "        \"start\": 260.0,\n",
      "        \"text\": \"Their essence is service and their melody is compassion.\",\n",
      "        \"scene_description\": \"A tranquil, ethereal landscape emerges, where flowing streams of light weave through a lush, enchanted forest. The air is filled with gentle whispers of wind that carry the melody of compassion, while luminescent flowers bloom in response to the angelic presence. The lighting transitions from soft pastels to deep, rich hues, creating a harmonious balance that evokes a profound sense of peace.\",\n",
      "        \"action_sequence\": \"Light streams flow gracefully through the forest, illuminating flowers that sway gently in rhythm with the melody of compassion.\"\n",
      "    },\n",
      "    {\n",
      "        \"start\": 275.0,\n",
      "        \"text\": \"Their essence is service and their melody is compassion.\",\n",
      "        \"scene_description\": \"A tranquil, ethereal landscape emerges, where flowing streams of light weave through a lush, enchanted forest. The air is filled with gentle whispers of wind that carry the melody of compassion, while luminescent flowers bloom in response to the angelic presence. The lighting transitions from soft pastels to deep, rich hues, creating a harmonious balance that evokes a profound sense of peace.\",\n",
      "        \"action_sequence\": \"Light streams flow gracefully through the forest, illuminating flowers that sway gently in rhythm with the melody of compassion.\"\n",
      "    },\n",
      "    {\n",
      "        \"start\": 290.0,\n",
      "        \"text\": \"Their essence is service and their melody is compassion.\",\n",
      "        \"scene_description\": \"A tranquil, ethereal landscape emerges, where flowing streams of light weave through a lush, enchanted forest. The air is filled with gentle whispers of wind that carry the melody of compassion, while luminescent flowers bloom in response to the angelic presence. The lighting transitions from soft pastels to deep, rich hues, creating a harmonious balance that evokes a profound sense of peace.\",\n",
      "        \"action_sequence\": \"Light streams flow gracefully through the forest, illuminating flowers that sway gently in rhythm with the melody of compassion.\"\n",
      "    },\n",
      "    {\n",
      "        \"start\": 305.0,\n",
      "        \"text\": \"Their essence is service and their melody is compassion.\",\n",
      "        \"scene_description\": \"A tranquil, ethereal landscape emerges, where flowing streams of light weave through a lush, enchanted forest. The air is filled with gentle whispers of wind that carry the melody of compassion, while luminescent flowers bloom in response to the angelic presence. The lighting transitions from soft pastels to deep, rich hues, creating a harmonious balance that evokes a profound sense of peace.\",\n",
      "        \"action_sequence\": \"Light streams flow gracefully through the forest, illuminating flowers that sway gently in rhythm with the melody of compassion.\"\n",
      "    },\n",
      "    {\n",
      "        \"start\": 320.0,\n",
      "        \"text\": \"Their essence is service and their melody is compassion.\",\n",
      "        \"scene_description\": \"A tranquil, ethereal landscape emerges, where flowing streams of light weave through a lush, enchanted forest. The air is filled with gentle whispers of wind that carry the melody of compassion, while luminescent flowers bloom in response to the angelic presence. The lighting transitions from soft pastels to deep, rich hues, creating a harmonious balance that evokes a profound sense of peace.\",\n",
      "        \"action_sequence\": \"Light streams flow gracefully through the forest, illuminating flowers that sway gently in rhythm with the melody of compassion.\"\n",
      "    },\n",
      "    {\n",
      "        \"start\": 335.0,\n",
      "        \"text\": \"Their essence is service and their melody is compassion.\",\n",
      "        \"scene_description\": \"A tranquil, ethereal landscape emerges, where flowing streams of light weave through a lush, enchanted forest. The air is filled with gentle whispers of wind that carry the melody of compassion, while luminescent flowers bloom in response to the angelic presence. The lighting transitions from soft pastels to deep, rich hues, creating a harmonious balance that evokes a profound sense of peace.\",\n",
      "        \"action_sequence\": \"Light streams flow gracefully through the forest, illuminating flowers that sway gently in rhythm with the melody of compassion.\"\n",
      "    },\n",
      "    {\n",
      "        \"start\": 350.0,\n",
      "        \"text\": \"Their essence is service and their melody is compassion.\",\n",
      "        \"scene_description\": \"A tranquil, ethereal landscape emerges, where flowing streams of light weave through a lush, enchanted forest. The air is filled with gentle whispers of wind that carry the melody of compassion, while luminescent flowers bloom in response to the angelic presence. The lighting transitions from soft pastels to deep, rich hues, creating a harmonious balance that evokes a profound sense of peace.\",\n",
      "        \"action_sequence\": \"Light streams flow gracefully through the forest, illuminating flowers that sway gently in rhythm with the melody of compassion.\"\n",
      "    },\n",
      "    {\n",
      "        \"start\": 365.0,\n",
      "        \"text\": \"Their essence is service and their melody is compassion.\",\n",
      "        \"scene_description\": \"A tranquil, ethereal landscape emerges, where flowing streams of light weave through a lush, enchanted forest. The air is filled with gentle whispers of wind that carry the melody of compassion, while luminescent flowers bloom in response to the angelic presence. The lighting transitions from soft pastels to deep, rich hues, creating a harmonious balance that evokes a profound sense of peace.\",\n",
      "        \"action_sequence\": \"Light streams flow gracefully through the forest, illuminating flowers that sway gently in rhythm with the melody of compassion.\"\n",
      "    }\n",
      "]\n",
      "Load Flux pipeline and generate images\n"
     ]
    },
    {
     "data": {
      "application/vnd.jupyter.widget-view+json": {
       "model_id": "38716c0a05914bbd95da4efbb2f1092c",
       "version_major": 2,
       "version_minor": 0
      },
      "text/plain": [
       "Downloading shards:   0%|          | 0/2 [00:00<?, ?it/s]"
      ]
     },
     "metadata": {},
     "output_type": "display_data"
    },
    {
     "data": {
      "application/vnd.jupyter.widget-view+json": {
       "model_id": "d9d3fa4fbb81424e8abb0b1da3a990d9",
       "version_major": 2,
       "version_minor": 0
      },
      "text/plain": [
       "Loading checkpoint shards:   0%|          | 0/2 [00:00<?, ?it/s]"
      ]
     },
     "metadata": {},
     "output_type": "display_data"
    },
    {
     "ename": "HfHubHTTPError",
     "evalue": "503 Server Error: Service Temporarily Unavailable for url: https://huggingface.co/api/models/black-forest-labs/FLUX.1-dev/revision/refs%2Fpr%2F3",
     "output_type": "error",
     "traceback": [
      "\u001b[0;31m---------------------------------------------------------------------------\u001b[0m",
      "\u001b[0;31mHTTPError\u001b[0m                                 Traceback (most recent call last)",
      "File \u001b[0;32m~/anaconda3/lib/python3.11/site-packages/huggingface_hub/utils/_http.py:406\u001b[0m, in \u001b[0;36mhf_raise_for_status\u001b[0;34m(response, endpoint_name)\u001b[0m\n\u001b[1;32m    405\u001b[0m \u001b[38;5;28;01mtry\u001b[39;00m:\n\u001b[0;32m--> 406\u001b[0m     \u001b[43mresponse\u001b[49m\u001b[38;5;241;43m.\u001b[39;49m\u001b[43mraise_for_status\u001b[49m\u001b[43m(\u001b[49m\u001b[43m)\u001b[49m\n\u001b[1;32m    407\u001b[0m \u001b[38;5;28;01mexcept\u001b[39;00m HTTPError \u001b[38;5;28;01mas\u001b[39;00m e:\n",
      "File \u001b[0;32m~/anaconda3/lib/python3.11/site-packages/requests/models.py:1024\u001b[0m, in \u001b[0;36mResponse.raise_for_status\u001b[0;34m(self)\u001b[0m\n\u001b[1;32m   1023\u001b[0m \u001b[38;5;28;01mif\u001b[39;00m http_error_msg:\n\u001b[0;32m-> 1024\u001b[0m     \u001b[38;5;28;01mraise\u001b[39;00m HTTPError(http_error_msg, response\u001b[38;5;241m=\u001b[39m\u001b[38;5;28mself\u001b[39m)\n",
      "\u001b[0;31mHTTPError\u001b[0m: 503 Server Error: Service Temporarily Unavailable for url: https://huggingface.co/api/models/black-forest-labs/FLUX.1-dev/revision/refs%2Fpr%2F3",
      "\nThe above exception was the direct cause of the following exception:\n",
      "\u001b[0;31mHfHubHTTPError\u001b[0m                            Traceback (most recent call last)",
      "Cell \u001b[0;32mIn[5], line 4\u001b[0m\n\u001b[1;32m      2\u001b[0m human_in_loop \u001b[38;5;241m=\u001b[39m \u001b[38;5;28;01mFalse\u001b[39;00m\n\u001b[1;32m      3\u001b[0m \u001b[38;5;28;01mfor\u001b[39;00m audio_file \u001b[38;5;129;01min\u001b[39;00m CONFIG[\u001b[38;5;124m\"\u001b[39m\u001b[38;5;124maudio_files\u001b[39m\u001b[38;5;124m\"\u001b[39m]:\n\u001b[0;32m----> 4\u001b[0m     \u001b[43mcreate_video\u001b[49m\u001b[43m(\u001b[49m\u001b[43mhuman_in_loop\u001b[49m\u001b[43m)\u001b[49m\n\u001b[1;32m      6\u001b[0m reset_memory(device)\n",
      "Cell \u001b[0;32mIn[4], line 556\u001b[0m, in \u001b[0;36mcreate_video\u001b[0;34m(images_only)\u001b[0m\n\u001b[1;32m    555\u001b[0m \u001b[38;5;28;01mdef\u001b[39;00m \u001b[38;5;21mcreate_video\u001b[39m(images_only):\n\u001b[0;32m--> 556\u001b[0m     config, scenes, audio_images_dir, audio_videos_dir, last_end_value, timestamp \u001b[38;5;241m=\u001b[39m \u001b[43mprocess_all_audios\u001b[49m\u001b[43m(\u001b[49m\u001b[43maudio_file\u001b[49m\u001b[43m,\u001b[49m\u001b[43m \u001b[49m\u001b[43mCONFIG\u001b[49m\u001b[43m)\u001b[49m\n\u001b[1;32m    557\u001b[0m     \u001b[38;5;28;01mif\u001b[39;00m \u001b[38;5;129;01mnot\u001b[39;00m images_only:\n\u001b[1;32m    558\u001b[0m         process_audio_video(config, scenes, audio_images_dir, audio_videos_dir, last_end_value, timestamp, \u001b[38;5;241m0\u001b[39m)\n",
      "Cell \u001b[0;32mIn[4], line 552\u001b[0m, in \u001b[0;36mprocess_all_audios\u001b[0;34m(audio_file, config)\u001b[0m\n\u001b[1;32m    550\u001b[0m \u001b[38;5;28mprint\u001b[39m(\u001b[38;5;124mf\u001b[39m\u001b[38;5;124m'\u001b[39m\u001b[38;5;132;01m{\u001b[39;00m\u001b[38;5;28mlen\u001b[39m(scenes)\u001b[38;5;132;01m}\u001b[39;00m\u001b[38;5;124m scenes:\u001b[39m\u001b[38;5;130;01m\\n\u001b[39;00m\u001b[38;5;132;01m{\u001b[39;00mjson\u001b[38;5;241m.\u001b[39mdumps(scenes,\u001b[38;5;250m \u001b[39mindent\u001b[38;5;241m=\u001b[39m\u001b[38;5;241m4\u001b[39m)\u001b[38;5;132;01m}\u001b[39;00m\u001b[38;5;124m'\u001b[39m)\n\u001b[1;32m    551\u001b[0m \u001b[38;5;66;03m# Create starting images for scenes\u001b[39;00m\n\u001b[0;32m--> 552\u001b[0m \u001b[43mprocess_audio_images\u001b[49m\u001b[43m(\u001b[49m\u001b[43mconfig\u001b[49m\u001b[43m,\u001b[49m\u001b[43m \u001b[49m\u001b[43mscenes\u001b[49m\u001b[43m,\u001b[49m\u001b[43m \u001b[49m\u001b[43maudio_images_dir\u001b[49m\u001b[43m)\u001b[49m\n\u001b[1;32m    553\u001b[0m \u001b[38;5;28;01mreturn\u001b[39;00m config, scenes, audio_images_dir, audio_videos_dir, last_end_value, timestamp\n",
      "Cell \u001b[0;32mIn[4], line 469\u001b[0m, in \u001b[0;36mprocess_audio_images\u001b[0;34m(config, scenes, audio_images_dir)\u001b[0m\n\u001b[1;32m    466\u001b[0m \u001b[38;5;28;01mdef\u001b[39;00m \u001b[38;5;21mprocess_audio_images\u001b[39m(config: \u001b[38;5;28mdict\u001b[39m, scenes, audio_images_dir):\n\u001b[1;32m    467\u001b[0m     \u001b[38;5;66;03m# Step 4: Load Flux pipeline and generate images\u001b[39;00m\n\u001b[1;32m    468\u001b[0m     \u001b[38;5;28mprint\u001b[39m(\u001b[38;5;124mf\u001b[39m\u001b[38;5;124m\"\u001b[39m\u001b[38;5;124mLoad Flux pipeline and generate images\u001b[39m\u001b[38;5;124m\"\u001b[39m)\n\u001b[0;32m--> 469\u001b[0m     flux_pipe \u001b[38;5;241m=\u001b[39m \u001b[43mload_flux_pipe\u001b[49m\u001b[43m(\u001b[49m\u001b[43m)\u001b[49m\n\u001b[1;32m    470\u001b[0m     height \u001b[38;5;241m=\u001b[39m HEIGHT\n\u001b[1;32m    471\u001b[0m     width \u001b[38;5;241m=\u001b[39m WIDTH\n",
      "Cell \u001b[0;32mIn[4], line 68\u001b[0m, in \u001b[0;36mload_flux_pipe\u001b[0;34m()\u001b[0m\n\u001b[1;32m     66\u001b[0m tokenizer_2 \u001b[38;5;241m=\u001b[39m T5TokenizerFast\u001b[38;5;241m.\u001b[39mfrom_pretrained(bfl_repo, subfolder\u001b[38;5;241m=\u001b[39m\u001b[38;5;124m\"\u001b[39m\u001b[38;5;124mtokenizer_2\u001b[39m\u001b[38;5;124m\"\u001b[39m, torch_dtype\u001b[38;5;241m=\u001b[39mdtype, revision\u001b[38;5;241m=\u001b[39mrevision)\n\u001b[1;32m     67\u001b[0m vae \u001b[38;5;241m=\u001b[39m AutoencoderKL\u001b[38;5;241m.\u001b[39mfrom_pretrained(bfl_repo, subfolder\u001b[38;5;241m=\u001b[39m\u001b[38;5;124m\"\u001b[39m\u001b[38;5;124mvae\u001b[39m\u001b[38;5;124m\"\u001b[39m, torch_dtype\u001b[38;5;241m=\u001b[39mdtype, revision\u001b[38;5;241m=\u001b[39mrevision)\n\u001b[0;32m---> 68\u001b[0m transformer \u001b[38;5;241m=\u001b[39m \u001b[43mFluxTransformer2DModel\u001b[49m\u001b[38;5;241;43m.\u001b[39;49m\u001b[43mfrom_pretrained\u001b[49m\u001b[43m(\u001b[49m\u001b[43mbfl_repo\u001b[49m\u001b[43m,\u001b[49m\u001b[43m \u001b[49m\u001b[43msubfolder\u001b[49m\u001b[38;5;241;43m=\u001b[39;49m\u001b[38;5;124;43m\"\u001b[39;49m\u001b[38;5;124;43mtransformer\u001b[39;49m\u001b[38;5;124;43m\"\u001b[39;49m\u001b[43m,\u001b[49m\u001b[43m \u001b[49m\u001b[43mtorch_dtype\u001b[49m\u001b[38;5;241;43m=\u001b[39;49m\u001b[43mdtype\u001b[49m\u001b[43m,\u001b[49m\u001b[43m \u001b[49m\u001b[43mrevision\u001b[49m\u001b[38;5;241;43m=\u001b[39;49m\u001b[43mrevision\u001b[49m\u001b[43m)\u001b[49m\n\u001b[1;32m     70\u001b[0m quantize_(transformer, quantization())\n\u001b[1;32m     71\u001b[0m quantize_(text_encoder_2, quantization())\n",
      "File \u001b[0;32m~/anaconda3/lib/python3.11/site-packages/huggingface_hub/utils/_validators.py:114\u001b[0m, in \u001b[0;36mvalidate_hf_hub_args.<locals>._inner_fn\u001b[0;34m(*args, **kwargs)\u001b[0m\n\u001b[1;32m    111\u001b[0m \u001b[38;5;28;01mif\u001b[39;00m check_use_auth_token:\n\u001b[1;32m    112\u001b[0m     kwargs \u001b[38;5;241m=\u001b[39m smoothly_deprecate_use_auth_token(fn_name\u001b[38;5;241m=\u001b[39mfn\u001b[38;5;241m.\u001b[39m\u001b[38;5;18m__name__\u001b[39m, has_token\u001b[38;5;241m=\u001b[39mhas_token, kwargs\u001b[38;5;241m=\u001b[39mkwargs)\n\u001b[0;32m--> 114\u001b[0m \u001b[38;5;28;01mreturn\u001b[39;00m \u001b[43mfn\u001b[49m\u001b[43m(\u001b[49m\u001b[38;5;241;43m*\u001b[39;49m\u001b[43margs\u001b[49m\u001b[43m,\u001b[49m\u001b[43m \u001b[49m\u001b[38;5;241;43m*\u001b[39;49m\u001b[38;5;241;43m*\u001b[39;49m\u001b[43mkwargs\u001b[49m\u001b[43m)\u001b[49m\n",
      "File \u001b[0;32m~/anaconda3/lib/python3.11/site-packages/diffusers/models/modeling_utils.py:811\u001b[0m, in \u001b[0;36mModelMixin.from_pretrained\u001b[0;34m(cls, pretrained_model_name_or_path, **kwargs)\u001b[0m\n\u001b[1;32m    809\u001b[0m \u001b[38;5;28;01melse\u001b[39;00m:\n\u001b[1;32m    810\u001b[0m     \u001b[38;5;28;01mif\u001b[39;00m is_sharded:\n\u001b[0;32m--> 811\u001b[0m         sharded_ckpt_cached_folder, sharded_metadata \u001b[38;5;241m=\u001b[39m \u001b[43m_get_checkpoint_shard_files\u001b[49m\u001b[43m(\u001b[49m\n\u001b[1;32m    812\u001b[0m \u001b[43m            \u001b[49m\u001b[43mpretrained_model_name_or_path\u001b[49m\u001b[43m,\u001b[49m\n\u001b[1;32m    813\u001b[0m \u001b[43m            \u001b[49m\u001b[43mindex_file\u001b[49m\u001b[43m,\u001b[49m\n\u001b[1;32m    814\u001b[0m \u001b[43m            \u001b[49m\u001b[43mcache_dir\u001b[49m\u001b[38;5;241;43m=\u001b[39;49m\u001b[43mcache_dir\u001b[49m\u001b[43m,\u001b[49m\n\u001b[1;32m    815\u001b[0m \u001b[43m            \u001b[49m\u001b[43mproxies\u001b[49m\u001b[38;5;241;43m=\u001b[39;49m\u001b[43mproxies\u001b[49m\u001b[43m,\u001b[49m\n\u001b[1;32m    816\u001b[0m \u001b[43m            \u001b[49m\u001b[43mlocal_files_only\u001b[49m\u001b[38;5;241;43m=\u001b[39;49m\u001b[43mlocal_files_only\u001b[49m\u001b[43m,\u001b[49m\n\u001b[1;32m    817\u001b[0m \u001b[43m            \u001b[49m\u001b[43mtoken\u001b[49m\u001b[38;5;241;43m=\u001b[39;49m\u001b[43mtoken\u001b[49m\u001b[43m,\u001b[49m\n\u001b[1;32m    818\u001b[0m \u001b[43m            \u001b[49m\u001b[43muser_agent\u001b[49m\u001b[38;5;241;43m=\u001b[39;49m\u001b[43muser_agent\u001b[49m\u001b[43m,\u001b[49m\n\u001b[1;32m    819\u001b[0m \u001b[43m            \u001b[49m\u001b[43mrevision\u001b[49m\u001b[38;5;241;43m=\u001b[39;49m\u001b[43mrevision\u001b[49m\u001b[43m,\u001b[49m\n\u001b[1;32m    820\u001b[0m \u001b[43m            \u001b[49m\u001b[43msubfolder\u001b[49m\u001b[38;5;241;43m=\u001b[39;49m\u001b[43msubfolder\u001b[49m\u001b[43m \u001b[49m\u001b[38;5;129;43;01mor\u001b[39;49;00m\u001b[43m \u001b[49m\u001b[38;5;124;43m\"\u001b[39;49m\u001b[38;5;124;43m\"\u001b[39;49m\u001b[43m,\u001b[49m\n\u001b[1;32m    821\u001b[0m \u001b[43m        \u001b[49m\u001b[43m)\u001b[49m\n\u001b[1;32m    822\u001b[0m         \u001b[38;5;66;03m# TODO: https://github.com/huggingface/diffusers/issues/10013\u001b[39;00m\n\u001b[1;32m    823\u001b[0m         \u001b[38;5;28;01mif\u001b[39;00m hf_quantizer \u001b[38;5;129;01mis\u001b[39;00m \u001b[38;5;129;01mnot\u001b[39;00m \u001b[38;5;28;01mNone\u001b[39;00m:\n",
      "File \u001b[0;32m~/anaconda3/lib/python3.11/site-packages/diffusers/utils/hub_utils.py:459\u001b[0m, in \u001b[0;36m_get_checkpoint_shard_files\u001b[0;34m(pretrained_model_name_or_path, index_filename, cache_dir, proxies, local_files_only, token, user_agent, revision, subfolder)\u001b[0m\n\u001b[1;32m    457\u001b[0m ignore_patterns \u001b[38;5;241m=\u001b[39m [\u001b[38;5;124m\"\u001b[39m\u001b[38;5;124m*.json\u001b[39m\u001b[38;5;124m\"\u001b[39m, \u001b[38;5;124m\"\u001b[39m\u001b[38;5;124m*.md\u001b[39m\u001b[38;5;124m\"\u001b[39m]\n\u001b[1;32m    458\u001b[0m \u001b[38;5;66;03m# `model_info` call must guarded with the above condition.\u001b[39;00m\n\u001b[0;32m--> 459\u001b[0m model_files_info \u001b[38;5;241m=\u001b[39m \u001b[43mmodel_info\u001b[49m\u001b[43m(\u001b[49m\u001b[43mpretrained_model_name_or_path\u001b[49m\u001b[43m,\u001b[49m\u001b[43m \u001b[49m\u001b[43mrevision\u001b[49m\u001b[38;5;241;43m=\u001b[39;49m\u001b[43mrevision\u001b[49m\u001b[43m,\u001b[49m\u001b[43m \u001b[49m\u001b[43mtoken\u001b[49m\u001b[38;5;241;43m=\u001b[39;49m\u001b[43mtoken\u001b[49m\u001b[43m)\u001b[49m\n\u001b[1;32m    460\u001b[0m \u001b[38;5;28;01mfor\u001b[39;00m shard_file \u001b[38;5;129;01min\u001b[39;00m original_shard_filenames:\n\u001b[1;32m    461\u001b[0m     shard_file_present \u001b[38;5;241m=\u001b[39m \u001b[38;5;28many\u001b[39m(shard_file \u001b[38;5;129;01min\u001b[39;00m k\u001b[38;5;241m.\u001b[39mrfilename \u001b[38;5;28;01mfor\u001b[39;00m k \u001b[38;5;129;01min\u001b[39;00m model_files_info\u001b[38;5;241m.\u001b[39msiblings)\n",
      "File \u001b[0;32m~/anaconda3/lib/python3.11/site-packages/huggingface_hub/utils/_validators.py:114\u001b[0m, in \u001b[0;36mvalidate_hf_hub_args.<locals>._inner_fn\u001b[0;34m(*args, **kwargs)\u001b[0m\n\u001b[1;32m    111\u001b[0m \u001b[38;5;28;01mif\u001b[39;00m check_use_auth_token:\n\u001b[1;32m    112\u001b[0m     kwargs \u001b[38;5;241m=\u001b[39m smoothly_deprecate_use_auth_token(fn_name\u001b[38;5;241m=\u001b[39mfn\u001b[38;5;241m.\u001b[39m\u001b[38;5;18m__name__\u001b[39m, has_token\u001b[38;5;241m=\u001b[39mhas_token, kwargs\u001b[38;5;241m=\u001b[39mkwargs)\n\u001b[0;32m--> 114\u001b[0m \u001b[38;5;28;01mreturn\u001b[39;00m \u001b[43mfn\u001b[49m\u001b[43m(\u001b[49m\u001b[38;5;241;43m*\u001b[39;49m\u001b[43margs\u001b[49m\u001b[43m,\u001b[49m\u001b[43m \u001b[49m\u001b[38;5;241;43m*\u001b[39;49m\u001b[38;5;241;43m*\u001b[39;49m\u001b[43mkwargs\u001b[49m\u001b[43m)\u001b[49m\n",
      "File \u001b[0;32m~/anaconda3/lib/python3.11/site-packages/huggingface_hub/hf_api.py:2533\u001b[0m, in \u001b[0;36mHfApi.model_info\u001b[0;34m(self, repo_id, revision, timeout, securityStatus, files_metadata, expand, token)\u001b[0m\n\u001b[1;32m   2531\u001b[0m     params[\u001b[38;5;124m\"\u001b[39m\u001b[38;5;124mexpand\u001b[39m\u001b[38;5;124m\"\u001b[39m] \u001b[38;5;241m=\u001b[39m expand\n\u001b[1;32m   2532\u001b[0m r \u001b[38;5;241m=\u001b[39m get_session()\u001b[38;5;241m.\u001b[39mget(path, headers\u001b[38;5;241m=\u001b[39mheaders, timeout\u001b[38;5;241m=\u001b[39mtimeout, params\u001b[38;5;241m=\u001b[39mparams)\n\u001b[0;32m-> 2533\u001b[0m \u001b[43mhf_raise_for_status\u001b[49m\u001b[43m(\u001b[49m\u001b[43mr\u001b[49m\u001b[43m)\u001b[49m\n\u001b[1;32m   2534\u001b[0m data \u001b[38;5;241m=\u001b[39m r\u001b[38;5;241m.\u001b[39mjson()\n\u001b[1;32m   2535\u001b[0m \u001b[38;5;28;01mreturn\u001b[39;00m ModelInfo(\u001b[38;5;241m*\u001b[39m\u001b[38;5;241m*\u001b[39mdata)\n",
      "File \u001b[0;32m~/anaconda3/lib/python3.11/site-packages/huggingface_hub/utils/_http.py:477\u001b[0m, in \u001b[0;36mhf_raise_for_status\u001b[0;34m(response, endpoint_name)\u001b[0m\n\u001b[1;32m    473\u001b[0m     \u001b[38;5;28;01mraise\u001b[39;00m _format(HfHubHTTPError, message, response) \u001b[38;5;28;01mfrom\u001b[39;00m \u001b[38;5;21;01me\u001b[39;00m\n\u001b[1;32m    475\u001b[0m \u001b[38;5;66;03m# Convert `HTTPError` into a `HfHubHTTPError` to display request information\u001b[39;00m\n\u001b[1;32m    476\u001b[0m \u001b[38;5;66;03m# as well (request id and/or server error message)\u001b[39;00m\n\u001b[0;32m--> 477\u001b[0m \u001b[38;5;28;01mraise\u001b[39;00m _format(HfHubHTTPError, \u001b[38;5;28mstr\u001b[39m(e), response) \u001b[38;5;28;01mfrom\u001b[39;00m \u001b[38;5;21;01me\u001b[39;00m\n",
      "\u001b[0;31mHfHubHTTPError\u001b[0m: 503 Server Error: Service Temporarily Unavailable for url: https://huggingface.co/api/models/black-forest-labs/FLUX.1-dev/revision/refs%2Fpr%2F3"
     ]
    }
   ],
   "source": [
    "# run and curate images for scenes\n",
    "human_in_loop = False\n",
    "for audio_file in CONFIG[\"audio_files\"]:\n",
    "    create_video(human_in_loop)\n",
    "\n",
    "reset_memory(device)"
   ]
  },
  {
   "cell_type": "markdown",
   "id": "c7eb4c19-a206-4882-9e44-a8b0e169033d",
   "metadata": {},
   "source": [
    "## Video is expensive, only process after curating scenes and images"
   ]
  },
  {
   "cell_type": "code",
   "execution_count": null,
   "id": "8a97267f-5524-4701-a96a-c509a40fe4e6",
   "metadata": {},
   "outputs": [],
   "source": [
    "human_in_loop = True\n",
    "skip_first = 0\n",
    "if human_in_loop:\n",
    "    scenes_file_path = './images/RememberUs_20250122_202916/scenes.json'\n",
    "    audio_images_dir = './images/RememberUs_20250122_202916'\n",
    "    audio_videos_dir = './output/RememberUs_20250122_202916'\n",
    "    timestamp = '20250122_202916'\n",
    "    last_end_value = 156.0\n",
    "    \n",
    "    with open(scenes_file_path, \"r\") as scenes_file:\n",
    "        scenes = json.load(scenes_file)\n",
    "    process_audio_video(CONFIG, scenes, audio_images_dir, audio_videos_dir, last_end_value, timestamp, skip_first)"
   ]
  },
  {
   "cell_type": "code",
   "execution_count": null,
   "id": "1e7a0750-5e16-4713-8ac3-825cb8713762",
   "metadata": {},
   "outputs": [],
   "source": []
  }
 ],
 "metadata": {
  "kernelspec": {
   "display_name": "Python 3 (ipykernel)",
   "language": "python",
   "name": "python3"
  },
  "language_info": {
   "codemirror_mode": {
    "name": "ipython",
    "version": 3
   },
   "file_extension": ".py",
   "mimetype": "text/x-python",
   "name": "python",
   "nbconvert_exporter": "python",
   "pygments_lexer": "ipython3",
   "version": "3.11.11"
  }
 },
 "nbformat": 4,
 "nbformat_minor": 5
}

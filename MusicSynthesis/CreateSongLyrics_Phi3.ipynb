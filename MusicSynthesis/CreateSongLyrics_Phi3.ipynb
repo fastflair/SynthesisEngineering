{
 "cells": [
  {
   "cell_type": "code",
   "execution_count": 1,
   "id": "c54d8929",
   "metadata": {},
   "outputs": [
    {
     "name": "stderr",
     "output_type": "stream",
     "text": [
      "2024-04-24 21:16:21.137276: I tensorflow/core/platform/cpu_feature_guard.cc:210] This TensorFlow binary is optimized to use available CPU instructions in performance-critical operations.\n",
      "To enable the following instructions: AVX2 FMA, in other operations, rebuild TensorFlow with the appropriate compiler flags.\n"
     ]
    }
   ],
   "source": [
    "import torch\n",
    "from transformers import AutoModelForCausalLM, AutoTokenizer, pipeline\n",
    "\n",
    "from torch import cuda"
   ]
  },
  {
   "cell_type": "code",
   "execution_count": 2,
   "id": "7f7fc90d",
   "metadata": {},
   "outputs": [
    {
     "data": {
      "application/vnd.jupyter.widget-view+json": {
       "model_id": "74572a9d40504746ac5ab5745d635d47",
       "version_major": 2,
       "version_minor": 0
      },
      "text/plain": [
       "Loading checkpoint shards:   0%|          | 0/2 [00:00<?, ?it/s]"
      ]
     },
     "metadata": {},
     "output_type": "display_data"
    },
    {
     "name": "stderr",
     "output_type": "stream",
     "text": [
      "Special tokens have been added in the vocabulary, make sure the associated word embeddings are fine-tuned or trained.\n"
     ]
    }
   ],
   "source": [
    "torch.random.manual_seed(0)\n",
    "model_id = 'microsoft/Phi-3-mini-128k-instruct'\n",
    "\n",
    "device = f'cuda:{cuda.current_device()}' if cuda.is_available() else 'cpu'\n",
    "\n",
    "model = AutoModelForCausalLM.from_pretrained(\n",
    "    \"microsoft/Phi-3-mini-128k-instruct\", \n",
    "    device_map=\"cuda\", \n",
    "    torch_dtype=\"auto\", \n",
    "    trust_remote_code=True\n",
    ")\n",
    "tokenizer = AutoTokenizer.from_pretrained(\"microsoft/Phi-3-mini-128k-instruct\")\n",
    "\n",
    "pipe = pipeline(\n",
    "    \"text-generation\",\n",
    "    model=model,\n",
    "    tokenizer=tokenizer\n",
    ")\n",
    "\n",
    "generation_args = {\n",
    "    \"max_new_tokens\": 1000,\n",
    "    \"return_full_text\": False,\n",
    "    \"do_sample\": False,\n",
    "}"
   ]
  },
  {
   "cell_type": "code",
   "execution_count": 3,
   "id": "1af1b1a2-c6f5-4341-a8e3-bf8f8da38f8a",
   "metadata": {},
   "outputs": [
    {
     "name": "stderr",
     "output_type": "stream",
     "text": [
      "You are not running the flash-attention implementation, expect numerical differences.\n"
     ]
    },
    {
     "name": "stdout",
     "output_type": "stream",
     "text": [
      " 1. Blue Whale: The blue whale is the largest animal on Earth, growing up to 100 feet long and weighing as much as 200 tons. Fun fact: A blue whale's heart is as large as a small car!\n",
      "\n",
      "2. Clownfish: Known for their vibrant orange and white stripes, clownfish are famous for their symbiotic relationship with sea anemones. Fun fact: Clownfish can change their sex from male to female, and vice versa, to maintain a balanced social structure.\n",
      "\n",
      "3. Great White Shark: The great white shark is one of the most feared predators in the ocean, with a powerful jaw and razor-sharp teeth. Fun fact: Great white sharks have been known to leap out of the water to catch seals or birds.\n",
      "\n",
      "4. Octopus: Octopuses are highly intelligent and can change their color and texture to blend in with their surroundings. Fun fact: Some species of octopus have three hearts and blue blood!\n",
      "\n",
      "5. Sea Turtle: Sea turtles are ancient reptiles that have been around for over 100 million years. Fun fact: The leatherback sea turtle can dive up to 4,500 feet deep in search of food.\n",
      "\n",
      "6. Dolphin: Dolphins are highly social and intelligent marine mammals known for their playful behavior. Fun fact: Dolphins use a complex system of clicks and whistles to communicate with each other.\n",
      "\n",
      "7. Jellyfish: Jellyfish are gelatinous creatures that drift with ocean currents. Fun fact: Some species of jellyfish have been known to sting humans, causing painful rashes and even paralysis.\n",
      "\n",
      "8. Sea Otter: Sea otters are the only marine mammals that use tools, using rocks to break open shellfish and clams. Fun fact: Sea otters have the warmest fur of any mammal, which helps them survive in cold ocean waters.\n",
      "\n",
      "9. Penguin: Penguins are flightless birds that are well adapted to life in the ocean. Fun fact: Emperor penguins can hold their breath for up to 20 minutes while diving for food.\n",
      "\n",
      "10. Sea Lion: Sea lions are large, agile marine mammals known for their loud barking and playful behavior. Fun fact: Male sea lions have a thick layer of blubber that can be up to 10 inches thick, providing insulation and buoyancy in cold waters.\n"
     ]
    }
   ],
   "source": [
    "messages = [\n",
    "    {\"role\": \"system\", \"content\": \"You are an expert assistant that provides helps.\"},\n",
    "    {\"role\": \"user\", \"content\": \"Create a top 10 list of animals that live in the ocean with a fun fact about each.\"},\n",
    "]\n",
    "\n",
    "output = pipe(messages, **generation_args)\n",
    "print(output[0]['generated_text'])"
   ]
  },
  {
   "cell_type": "code",
   "execution_count": null,
   "id": "d2f33a38-8982-445c-96e2-1e9ff6d14a93",
   "metadata": {},
   "outputs": [],
   "source": [
    "theme = \"Sea Otter: Sea otters are the only marine mammals that use tools, using rocks to break open shellfish and clams. Fun fact: Sea otters have the warmest fur of any mammal, which helps them survive in cold ocean waters.\"\n",
    "goal = \"The goal is a fun song for kids to learn about sea otters.\"\n",
    "messages = [\n",
    "    {\"role\": \"system\", \"content\": \"You are an expert assistant and song writer that writes amazing hit songs that are number one in the charts.  You are poetic and use rhymes, a world renowned song writer and intellectual, the world's smartest and best.\"},\n",
    "    {\"role\": \"user\", \"content\": f\"Create a title and lyrics for a hit pop song about {theme}  {goal}  Use labels like [Verse] [Chorus] [Solo] [Instrumental] [Bridge] [Outro] [drop] [guitar solo] [instrumental riff] [metal riff] [violin solo] [spoken word] [piano solo] [violin interlude] [rap beat drop] [rap beat] [rhythm beat] [interlude] [break] [saxophone solo] [organ solo] [fast guitar riff] [lead guitar] [guitar interlude] [retrowave beat] [synthwave drop] [keyboard solo] [melodic interlude] [heavy breakdown] [guitar riff] [thrash metal breakdown] [build up] [Electric Guitar solo] or others for the song sections.\"},\n",
    "]\n",
    "\n",
    "generation_args = {\n",
    "    \"max_new_tokens\": 1000,\n",
    "    \"return_full_text\": False,\n",
    "    \"temperature\": 0.67,\n",
    "    \"do_sample\": True,\n",
    "}\n",
    "\n",
    "output = pipe(messages, **generation_args)\n",
    "lyrics = output[0]['generated_text']\n",
    "\n",
    "messages.append({\"role\": \"assistant\", \"content\": lyrics})\n",
    "messages.append({\"role\": \"user\", \"content\": \"act as an expert music critic and suggest changes to improve the song lyrics to be a number one hit\"})\n",
    "\n",
    "output = pipe(messages, **generation_args)\n",
    "criticism = output[0]['generated_text']\n",
    "\n",
    "messages.append({\"role\": \"assistant\", \"content\": criticism})\n",
    "messages.append({\"role\": \"user\", \"content\": \"act as an expert song writer and revise the title and lyrics with the criticisms.\"})\n",
    "\n",
    "output = pipe(messages, **generation_args)\n",
    "revised_lyrics = output[0]['generated_text']\n",
    "print(revised_lyrics)"
   ]
  },
  {
   "cell_type": "code",
   "execution_count": null,
   "id": "f76b6715-6703-413b-a3bb-a77cfd06e810",
   "metadata": {},
   "outputs": [],
   "source": [
    "messages = [\n",
    "    {\"role\": \"system\", \"content\": \"You are an expert assistant and song writer that writes amazing hit songs that are number one in the charts.\"},\n",
    "    {\"role\": \"user\", \"content\": f\"Describe a music genre and instruments to make a hit song about {theme} with these lyrics: {revised_lyrics}\"},\n",
    "]\n",
    "\n",
    "generation_args = {\n",
    "    \"max_new_tokens\": 1000,\n",
    "    \"return_full_text\": False,\n",
    "    \"temperature\": 0.5,\n",
    "    \"do_sample\": True,\n",
    "}\n",
    "\n",
    "output = pipe(messages, **generation_args)\n",
    "genre = output[0]['generated_text']\n",
    "print(genre)"
   ]
  },
  {
   "cell_type": "code",
   "execution_count": null,
   "id": "8f590bd4-e2ca-408e-bcdf-14dbcb9ca602",
   "metadata": {},
   "outputs": [],
   "source": []
  }
 ],
 "metadata": {
  "kernelspec": {
   "display_name": "Python 3 (ipykernel)",
   "language": "python",
   "name": "python3"
  },
  "language_info": {
   "codemirror_mode": {
    "name": "ipython",
    "version": 3
   },
   "file_extension": ".py",
   "mimetype": "text/x-python",
   "name": "python",
   "nbconvert_exporter": "python",
   "pygments_lexer": "ipython3",
   "version": "3.11.4"
  }
 },
 "nbformat": 4,
 "nbformat_minor": 5
}

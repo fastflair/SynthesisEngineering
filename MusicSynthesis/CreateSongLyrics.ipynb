{
 "cells": [
  {
   "cell_type": "code",
   "execution_count": 1,
   "id": "c54d8929",
   "metadata": {},
   "outputs": [],
   "source": [
    "import transformers\n",
    "import torch\n",
    "\n",
    "from torch import cuda"
   ]
  },
  {
   "cell_type": "code",
   "execution_count": 2,
   "id": "7f7fc90d",
   "metadata": {},
   "outputs": [
    {
     "name": "stderr",
     "output_type": "stream",
     "text": [
      "2024-04-22 20:53:12.986680: I tensorflow/core/platform/cpu_feature_guard.cc:210] This TensorFlow binary is optimized to use available CPU instructions in performance-critical operations.\n",
      "To enable the following instructions: AVX2 FMA, in other operations, rebuild TensorFlow with the appropriate compiler flags.\n"
     ]
    },
    {
     "data": {
      "application/vnd.jupyter.widget-view+json": {
       "model_id": "9b6be870ec014d16b282fcf7ee1ab476",
       "version_major": 2,
       "version_minor": 0
      },
      "text/plain": [
       "Loading checkpoint shards:   0%|          | 0/4 [00:00<?, ?it/s]"
      ]
     },
     "metadata": {},
     "output_type": "display_data"
    },
    {
     "name": "stderr",
     "output_type": "stream",
     "text": [
      "Special tokens have been added in the vocabulary, make sure the associated word embeddings are fine-tuned or trained.\n"
     ]
    }
   ],
   "source": [
    "#model_id = \"meta-llama/Meta-Llama-3-70B-Instruct\"\n",
    "model_id = 'meta-llama/Meta-Llama-3-8B-Instruct'\n",
    "\n",
    "device = f'cuda:{cuda.current_device()}' if cuda.is_available() else 'cpu'\n",
    "\n",
    "pipeline = transformers.pipeline(\n",
    "    \"text-generation\",\n",
    "    model=model_id,\n",
    "    model_kwargs={\"torch_dtype\": torch.bfloat16},\n",
    "    device=device,\n",
    ")\n",
    "\n"
   ]
  },
  {
   "cell_type": "code",
   "execution_count": 3,
   "id": "1af1b1a2-c6f5-4341-a8e3-bf8f8da38f8a",
   "metadata": {},
   "outputs": [],
   "source": [
    "messages = [\n",
    "    {\"role\": \"system\", \"content\": \"You are an expert assistant that provides helps.\"},\n",
    "    {\"role\": \"user\", \"content\": \"Create a top 10 list of animals that live in the ocean with a fun fact about each.\"},\n",
    "]\n",
    "\n",
    "prompt = pipeline.tokenizer.apply_chat_template(\n",
    "        messages, \n",
    "        tokenize=False, \n",
    "        add_generation_prompt=True\n",
    ")\n",
    "\n",
    "terminators = [\n",
    "    pipeline.tokenizer.eos_token_id,\n",
    "    pipeline.tokenizer.convert_tokens_to_ids(\"<|eot_id|>\")\n",
    "]"
   ]
  },
  {
   "cell_type": "code",
   "execution_count": 4,
   "id": "0e716e8f",
   "metadata": {},
   "outputs": [
    {
     "name": "stderr",
     "output_type": "stream",
     "text": [
      "Setting `pad_token_id` to `eos_token_id`:128001 for open-end generation.\n"
     ]
    },
    {
     "name": "stdout",
     "output_type": "stream",
     "text": [
      "I'd be delighted to help you with that! Here's a list of the top 10 animals that live in the ocean, along with a fun fact about each:\n",
      "\n",
      "1. **Blue Whale**: The blue whale is the largest animal that has ever lived on Earth, with some individuals reaching lengths of up to 100 feet (30 meters). Fun fact: Despite their massive size, blue whales can dive as deep as 3,000 feet (914 meters) in search of food!\n",
      "\n",
      "2. **Octopus**: With over 300 species, octopuses are one of the most diverse groups of animals in the ocean. Fun fact: Octopuses have three hearts, which pump blue-green blood through their bodies!\n",
      "\n",
      "3. **Sea Turtles**: These slow-moving reptiles have been on the planet for over 100 million years. Fun fact: Sea turtles can live up to 80 years in the wild, making them one of the longest-living vertebrates on the planet!\n",
      "\n",
      "4. **Jellyfish**: With their stinging tentacles, jellyfish are often feared by humans. Fun fact: Jellyfish have been around for over 650 million years, making them one of the oldest animal groups on the planet!\n",
      "\n",
      "5. **Dolphins**: These intelligent mammals are known for their playful behavior. Fun fact: Dolphins have their own signature whistles, which serve as a form of identification and communication!\n",
      "\n",
      "6. **Squid**: These cephalopods are often mistaken for octopuses, but they're actually a different species. Fun fact: Squid have the largest eyes of any animal on the planet, with some species having eyes that are up to 10 inches (25 cm) in diameter!\n",
      "\n",
      "7. **Clownfish**: These brightly colored fish are made famous by the movie Finding Nemo. Fun fact: Clownfish are sequential hermaphrodites, meaning they start as males and can change sex to become females if the dominant female in their group dies!\n",
      "\n",
      "8. **Sharks**: With over 500 species, sharks are one of the most diverse groups of fish in the ocean. Fun fact: Sharks have been on the planet for over 400 million years, long before humans!\n",
      "\n",
      "9. **Sea Stars**: These slow-moving animals are often found in shallow waters. Fun fact: Sea stars have the ability to regrow their arms if they're injured or attacked by predators!\n",
      "\n",
      "10. **Corals**: These tiny animals are responsible for creating the world's largest ecosystem. Fun fact: Corals are actually tiny animals called polyps, which are related to sea anemones and jellyfish!\n",
      "\n",
      "There you have it! Each of these ocean animals has its own unique characteristics and abilities that make them fascinating to learn about.\n"
     ]
    }
   ],
   "source": [
    "outputs = pipeline(\n",
    "    prompt,\n",
    "    max_new_tokens=1000,\n",
    "    eos_token_id=terminators,\n",
    "    do_sample=True,\n",
    "    temperature=0.6,\n",
    "    top_p=0.9,\n",
    ")\n",
    "print(outputs[0][\"generated_text\"][len(prompt):])"
   ]
  },
  {
   "cell_type": "code",
   "execution_count": 7,
   "id": "d2f33a38-8982-445c-96e2-1e9ff6d14a93",
   "metadata": {},
   "outputs": [
    {
     "name": "stderr",
     "output_type": "stream",
     "text": [
      "Setting `pad_token_id` to `eos_token_id`:128001 for open-end generation.\n"
     ]
    },
    {
     "name": "stdout",
     "output_type": "stream",
     "text": [
      "Here's a fun pop song about the blue whale for kids:\n",
      "\n",
      "**Title:** \"Deep Down in the Blue\"\n",
      "\n",
      "**Verse 1:**\n",
      "In the ocean, where the waves do play\n",
      "Lives a creature, in a special way\n",
      "It's the blue whale, the biggest of all\n",
      "Reaching 100 feet, standing tall\n",
      "\n",
      "**Chorus:**\n",
      "Deep down in the blue, where the pressure's high\n",
      "The blue whale swims, with a gentle sigh\n",
      "It's a giant, but gentle as can be\n",
      "Deep down in the blue, that's where it's meant to be\n",
      "\n",
      "**Verse 2:**\n",
      "With a voice that's loud, and a heart that's true\n",
      "The blue whale sings, a song for me and you\n",
      "It dives down deep, to the ocean floor\n",
      " Searching for food, and exploring more\n",
      "\n",
      "**Chorus:**\n",
      "Deep down in the blue, where the pressure's high\n",
      "The blue whale swims, with a gentle sigh\n",
      "It's a giant, but gentle as can be\n",
      "Deep down in the blue, that's where it's meant to be\n",
      "\n",
      "**Solo:**\n",
      "(Upbeat, funky guitar riff)\n",
      "\n",
      "**Instrumental:**\n",
      "(A short instrumental break with a fun, bouncy melody)\n",
      "\n",
      "**Bridge:**\n",
      "It's a big world, but we're all connected too\n",
      "The blue whale's home, is our home too\n",
      "Let's take care, of this ocean blue\n",
      "And the blue whale, and all the creatures too\n",
      "\n",
      "**Chorus:**\n",
      "Deep down in the blue, where the pressure's high\n",
      "The blue whale swims, with a gentle sigh\n",
      "It's a giant, but gentle as can be\n",
      "Deep down in the blue, that's where it's meant to be\n",
      "\n",
      "**Outro:**\n",
      "So let's go, and explore the sea\n",
      "And learn about, the blue whale's family\n",
      "Deep down in the blue, where it's meant to be\n",
      "The blue whale's home, is where it's meant to be\n",
      "\n",
      "This song is designed to be catchy and easy to remember, with a simple and repetitive melody that kids can sing along to. The lyrics are fun and educational, highlighting the unique features of the blue whale and its importance in the ocean ecosystem. The solo and instrumental breaks add a fun and energetic touch, making the song perfect for kids to dance and sing along to!\n"
     ]
    }
   ],
   "source": [
    "theme = \"Blue Whale: The blue whale is the largest animal that has ever lived on Earth, with some individuals reaching lengths of up to 100 feet (30 meters). Fun fact: Despite their massive size, blue whales can dive as deep as 3,000 feet (914 meters) in search of food!  The goal is a fun song for kids to learn about a blue whale.\"\n",
    "messages = [\n",
    "    {\"role\": \"system\", \"content\": \"You are an expert assistant and song writer that writes amazing hit songs that are number one in the charts.\"},\n",
    "    {\"role\": \"user\", \"content\": f\"Create lyrics for a hit pop song about {theme} Use labels like [Verse] [Chorus] [Solo] [Instrumental] [Bridge] [Outro] or others for the song sections, do not use *.\"},\n",
    "]\n",
    "\n",
    "prompt = pipeline.tokenizer.apply_chat_template(\n",
    "        messages, \n",
    "        tokenize=False, \n",
    "        add_generation_prompt=True\n",
    ")\n",
    "\n",
    "outputs = pipeline(\n",
    "    prompt,\n",
    "    max_new_tokens=1000,\n",
    "    eos_token_id=terminators,\n",
    "    do_sample=True,\n",
    "    temperature=0.6,\n",
    "    top_p=0.9,\n",
    ")\n",
    "print(outputs[0][\"generated_text\"][len(prompt):])"
   ]
  },
  {
   "cell_type": "code",
   "execution_count": 8,
   "id": "f76b6715-6703-413b-a3bb-a77cfd06e810",
   "metadata": {},
   "outputs": [
    {
     "name": "stderr",
     "output_type": "stream",
     "text": [
      "Setting `pad_token_id` to `eos_token_id`:128001 for open-end generation.\n"
     ]
    },
    {
     "name": "stdout",
     "output_type": "stream",
     "text": [
      "What an exciting project! I'd love to help you create a hit song about the blue whale that's both fun and educational for kids. Here's a concept:\n",
      "\n",
      "**Music Genre:** Upbeat, catchy Pop-Rock with a hint of Reggae\n",
      "\n",
      "**Instruments:**\n",
      "\n",
      "1. Electric Guitar: Provides the main melody and rhythm, with a bright, bouncy tone to match the whale's playful nature.\n",
      "2. Bass Guitar: Adds depth and energy to the track, emphasizing the whale's massive size and powerful movements.\n",
      "3. Drums: Features a mix of driving beats and laid-back rhythms to capture the whale's ability to dive deep and swim effortlessly.\n",
      "4. Keyboards/Synths: Adds a touch of whimsy and playfulness, incorporating sounds reminiscent of ocean waves and sea creatures.\n",
      "5. Percussion: Incorporates elements like shakers, tambourines, and marimbas to evoke the sounds of the ocean and add texture to the track.\n",
      "\n",
      "**Song Structure:**\n",
      "\n",
      "Verse 1:\n",
      "(0:00 - 0:30)\n",
      "Introduce the blue whale, highlighting its massive size and incredible diving abilities.\n",
      "Example lyrics: \"Meet the blue whale, the biggest of them all / Reaches 100 feet, that's a whale of a fall / It dives down deep, to find its favorite treat / Krill and plankton, can't be beat\"\n",
      "\n",
      "Chorus:\n",
      "(0:30 - 1:00)\n",
      "Catchy, sing-along melody that emphasizes the whale's impressive feats.\n",
      "Example lyrics: \"Blue whale, blue whale, swimming deep / Finding food, in the ocean's keep / With a voice so loud, it echoes wide / Blue whale, blue whale, gliding with pride\"\n",
      "\n",
      "Verse 2:\n",
      "(1:00 - 1:30)\n",
      "Explore the whale's habitat, highlighting its importance in the ocean ecosystem.\n",
      "Example lyrics: \"In the open sea, it roams so free / A gentle giant, for you and me / It filters the water, with its baleen so fine / Helping the ocean, all the time\"\n",
      "\n",
      "Chorus:\n",
      "(1:30 - 2:00)\n",
      "Repeat the catchy chorus, with added harmonies and instrumentation.\n",
      "\n",
      "Bridge:\n",
      "(2:00 - 2:30)\n",
      "A short, fun section that incorporates sound effects and ocean-inspired sounds to create a sense of immersion.\n",
      "Example lyrics: \"Whoosh, whoosh, the whale's on the move / Click, click, its tongue is a groove / Splish, splash, it's having a ball / In the ocean, it's the biggest of all\"\n",
      "\n",
      "Chorus:\n",
      "(2:30 - 3:00)\n",
      "Final repetition of the chorus, with added energy and a sense of celebration.\n",
      "\n",
      "**Outro:**\n",
      "(3:00 - 3:30)\n",
      "A short, instrumental section that fades out, leaving the listener with a lasting impression of the blue whale's majesty.\n",
      "\n",
      "This concept combines engaging lyrics, catchy melodies, and an infectious rhythm to create a hit song that kids will love learning about the blue whale. The instruments and sound design will transport listeners to the ocean, making them feel like they're swimming alongside the whale itself!\n"
     ]
    }
   ],
   "source": [
    "messages = [\n",
    "    {\"role\": \"system\", \"content\": \"You are an expert assistant and song writer that writes amazing hit songs that are number one in the charts.\"},\n",
    "    {\"role\": \"user\", \"content\": f\"Describe a music genre and instruments for a hit song about {theme}\"},\n",
    "]\n",
    "\n",
    "prompt = pipeline.tokenizer.apply_chat_template(\n",
    "        messages, \n",
    "        tokenize=False, \n",
    "        add_generation_prompt=True\n",
    ")\n",
    "\n",
    "outputs = pipeline(\n",
    "    prompt,\n",
    "    max_new_tokens=1000,\n",
    "    eos_token_id=terminators,\n",
    "    do_sample=True,\n",
    "    temperature=0.6,\n",
    "    top_p=0.9,\n",
    ")\n",
    "print(outputs[0][\"generated_text\"][len(prompt):])"
   ]
  },
  {
   "cell_type": "code",
   "execution_count": null,
   "id": "f8694ab8-5ab8-4c0f-a43f-46187b318af2",
   "metadata": {},
   "outputs": [],
   "source": []
  }
 ],
 "metadata": {
  "kernelspec": {
   "display_name": "Python 3 (ipykernel)",
   "language": "python",
   "name": "python3"
  },
  "language_info": {
   "codemirror_mode": {
    "name": "ipython",
    "version": 3
   },
   "file_extension": ".py",
   "mimetype": "text/x-python",
   "name": "python",
   "nbconvert_exporter": "python",
   "pygments_lexer": "ipython3",
   "version": "3.11.4"
  }
 },
 "nbformat": 4,
 "nbformat_minor": 5
}

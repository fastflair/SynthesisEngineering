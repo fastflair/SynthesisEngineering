{
 "cells": [
  {
   "cell_type": "code",
   "execution_count": 1,
   "id": "c54d8929",
   "metadata": {},
   "outputs": [],
   "source": [
    "import transformers\n",
    "import torch\n",
    "\n",
    "from torch import cuda"
   ]
  },
  {
   "cell_type": "code",
   "execution_count": 2,
   "id": "7f7fc90d",
   "metadata": {},
   "outputs": [
    {
     "name": "stderr",
     "output_type": "stream",
     "text": [
      "2024-04-22 21:53:24.500855: I tensorflow/core/platform/cpu_feature_guard.cc:210] This TensorFlow binary is optimized to use available CPU instructions in performance-critical operations.\n",
      "To enable the following instructions: AVX2 FMA, in other operations, rebuild TensorFlow with the appropriate compiler flags.\n"
     ]
    },
    {
     "data": {
      "application/vnd.jupyter.widget-view+json": {
       "model_id": "7dc20297af3a405f821e16d772805f7e",
       "version_major": 2,
       "version_minor": 0
      },
      "text/plain": [
       "Loading checkpoint shards:   0%|          | 0/4 [00:00<?, ?it/s]"
      ]
     },
     "metadata": {},
     "output_type": "display_data"
    },
    {
     "name": "stderr",
     "output_type": "stream",
     "text": [
      "Special tokens have been added in the vocabulary, make sure the associated word embeddings are fine-tuned or trained.\n"
     ]
    }
   ],
   "source": [
    "#model_id = \"meta-llama/Meta-Llama-3-70B-Instruct\"\n",
    "model_id = 'meta-llama/Meta-Llama-3-8B-Instruct'\n",
    "\n",
    "device = f'cuda:{cuda.current_device()}' if cuda.is_available() else 'cpu'\n",
    "\n",
    "pipeline = transformers.pipeline(\n",
    "    \"text-generation\",\n",
    "    model=model_id,\n",
    "    model_kwargs={\"torch_dtype\": torch.bfloat16},\n",
    "    device=device,\n",
    ")"
   ]
  },
  {
   "cell_type": "code",
   "execution_count": 3,
   "id": "1af1b1a2-c6f5-4341-a8e3-bf8f8da38f8a",
   "metadata": {},
   "outputs": [],
   "source": [
    "messages = [\n",
    "    {\"role\": \"system\", \"content\": \"You are an expert assistant that provides helps.\"},\n",
    "    {\"role\": \"user\", \"content\": \"Create a top 10 list of animals that live in the ocean with a fun fact about each.\"},\n",
    "]\n",
    "\n",
    "prompt = pipeline.tokenizer.apply_chat_template(\n",
    "        messages, \n",
    "        tokenize=False, \n",
    "        add_generation_prompt=True\n",
    ")\n",
    "\n",
    "terminators = [\n",
    "    pipeline.tokenizer.eos_token_id,\n",
    "    pipeline.tokenizer.convert_tokens_to_ids(\"<|eot_id|>\")\n",
    "]"
   ]
  },
  {
   "cell_type": "code",
   "execution_count": 4,
   "id": "0e716e8f",
   "metadata": {},
   "outputs": [
    {
     "name": "stderr",
     "output_type": "stream",
     "text": [
      "Setting `pad_token_id` to `eos_token_id`:128001 for open-end generation.\n"
     ]
    },
    {
     "name": "stdout",
     "output_type": "stream",
     "text": [
      "What a fin-tastic request! Here's a list of the top 10 ocean animals, along with a fun fact about each:\n",
      "\n",
      "1. **Blue Whale**: The blue whale is the largest animal on Earth, with some individuals reaching lengths of up to 100 feet (30 meters). They can also be heard from over 10 miles (16 kilometers) away, as their songs can travel that far underwater!\n",
      "\n",
      "2. **Octopus**: Octopuses have three hearts, which pump blue-green blood throughout their bodies. They also have nine brains – one for each arm, plus a central brain! Talk about being well-connected!\n",
      "\n",
      "3. **Sea Turtles**: Sea turtles have been on our planet for over 100 million years, making them one of the oldest species on Earth. They can also migrate thousands of miles each year to reach their breeding grounds.\n",
      "\n",
      "4. **Clownfish**: Clownfish are born male and can actually change sex to become females if the dominant female in their group dies. This unique trait is called sequential hermaphroditism.\n",
      "\n",
      "5. **Jellyfish**: Jellyfish have been around for over 650 million years, making them one of the oldest living things on the planet. They also have a unique way of moving through the water, using a process called \"jet propulsion.\"\n",
      "\n",
      "6. **Dolphins**: Dolphins are highly social animals that live in groups called pods. They have been observed showing empathy and self-awareness, and have even been known to help other animals, including humans, in distress.\n",
      "\n",
      "7. **Squid**: Squid have the largest eyes of any animal on the planet, with some species having eyes that are up to 10 inches (25 centimeters) in diameter. They can also change the color and texture of their skin to blend in with their surroundings.\n",
      "\n",
      "8. **Sharks**: Sharks have been on the planet for over 400 million years, and have been around since before dinosaurs roamed the Earth. They also have a special sense called \"electroreception,\" which allows them to detect the electrical signals of other animals.\n",
      "\n",
      "9. **Sea Stars**: Sea stars, also known as starfish, have the unique ability to regrow their arms if they're injured or attacked. They can also move using a process called \"wave-like motion,\" where they contract and relax their muscles to create a slow, wavelike movement.\n",
      "\n",
      "10. **Anglerfish**: Anglerfish have a special organ on their head that's used as a lure to attract prey. This organ is called an \"illicium,\" and it's often used to catch fish and other small animals that swim too close.\n",
      "\n",
      "There you have it – the top 10 ocean animals, each with a fascinating fact that showcases their unique characteristics and abilities!\n"
     ]
    }
   ],
   "source": [
    "outputs = pipeline(\n",
    "    prompt,\n",
    "    max_new_tokens=1000,\n",
    "    eos_token_id=terminators,\n",
    "    do_sample=True,\n",
    "    temperature=0.6,\n",
    "    top_p=0.9,\n",
    ")\n",
    "print(outputs[0][\"generated_text\"][len(prompt):])"
   ]
  },
  {
   "cell_type": "code",
   "execution_count": 15,
   "id": "d2f33a38-8982-445c-96e2-1e9ff6d14a93",
   "metadata": {},
   "outputs": [
    {
     "name": "stderr",
     "output_type": "stream",
     "text": [
      "Setting `pad_token_id` to `eos_token_id`:128001 for open-end generation.\n"
     ]
    },
    {
     "name": "stdout",
     "output_type": "stream",
     "text": [
      "**Clownfish Boogie**\n",
      "\n",
      "[Verse 1]\n",
      "In the coral reef, where the seaweed sways\n",
      "Lives a little fish, with a special way\n",
      "They're born as boys, but don't you know\n",
      "They can change their sex, and grow to be a girl, don't you know!\n",
      "\n",
      "[Chorus]\n",
      "Clownfish, clownfish, living in harmony\n",
      "With their anemone friends, so happily\n",
      "They change their sex, to fit the crowd\n",
      "Clownfish, clownfish, the ocean's proud!\n",
      "\n",
      "[Verse 2]\n",
      "In a school of fish, there's a pecking order too\n",
      "The dominant female, leads the crew\n",
      "But if she disappears, or gets too old\n",
      "The next in line, becomes the new gold!\n",
      "\n",
      "[Chorus]\n",
      "Clownfish, clownfish, living in harmony\n",
      "With their anemone friends, so happily\n",
      "They change their sex, to fit the crowd\n",
      "Clownfish, clownfish, the ocean's proud!\n",
      "\n",
      "[Instrumental Break]\n",
      "(Drum solo, with a funky bassline)\n",
      "\n",
      "[Verse 3]\n",
      "Nemo's dad, Marlin, told us the tale\n",
      "About the clownfish, with a story to hail\n",
      "They're sequential hermies, it's true\n",
      "But they're happy, and that's what matters to you!\n",
      "\n",
      "[Chorus]\n",
      "Clownfish, clownfish, living in harmony\n",
      "With their anemone friends, so happily\n",
      "They change their sex, to fit the crowd\n",
      "Clownfish, clownfish, the ocean's proud!\n",
      "\n",
      "[Bridge]\n",
      "We can learn from them, about being brave\n",
      "And adapting to change, it's a lesson we can crave\n",
      "In a world of differences, we can thrive\n",
      "Just like the clownfish, side by side!\n",
      "\n",
      "[Chorus]\n",
      "Clownfish, clownfish, living in harmony\n",
      "With their anemone friends, so happily\n",
      "They change their sex, to fit the crowd\n",
      "Clownfish, clownfish, the ocean's proud!\n",
      "\n",
      "[Outro]\n",
      "So next time you're near, the ocean's blue\n",
      "Look for the clownfish, with their story anew\n",
      "They're living proof, of a world so grand\n",
      "Where change is possible, hand in fin, hand in hand!\n"
     ]
    }
   ],
   "source": [
    "theme = \"Clownfish: Clownfish are born male and can actually change sex to become females if the dominant female in their group dies. This unique trait is called sequential hermaphroditism.\"\n",
    "goal = \"The goal is a fun song for kids to learn about Clownfish.\"\n",
    "messages = [\n",
    "    {\"role\": \"system\", \"content\": \"You are an expert assistant and song writer that writes amazing hit songs that are number one in the charts.  You are poetic and use rhymes, a world renowned song writer and intellectual, the world's smartest and best.\"},\n",
    "    {\"role\": \"user\", \"content\": f\"Create lyrics for a hit pop song about {theme}  {goal}  Use labels like [Verse] [Chorus] [Solo] [Instrumental] [Bridge] [Outro] or others for the song sections, do not use *.\"},\n",
    "]\n",
    "\n",
    "prompt = pipeline.tokenizer.apply_chat_template(\n",
    "        messages, \n",
    "        tokenize=False, \n",
    "        add_generation_prompt=True\n",
    ")\n",
    "\n",
    "outputs = pipeline(\n",
    "    prompt,\n",
    "    max_new_tokens=1000,\n",
    "    eos_token_id=terminators,\n",
    "    do_sample=True,\n",
    "    temperature=0.6,\n",
    "    top_p=0.95,\n",
    ")\n",
    "lyrics = outputs[0][\"generated_text\"][len(prompt):]\n",
    "print(lyrics)"
   ]
  },
  {
   "cell_type": "code",
   "execution_count": 16,
   "id": "f76b6715-6703-413b-a3bb-a77cfd06e810",
   "metadata": {},
   "outputs": [
    {
     "name": "stderr",
     "output_type": "stream",
     "text": [
      "Setting `pad_token_id` to `eos_token_id`:128001 for open-end generation.\n"
     ]
    },
    {
     "name": "stdout",
     "output_type": "stream",
     "text": [
      "What a fantastic concept for a song! I can already imagine the catchy melody and infectious rhythm. To bring this song to life, I'd recommend the following music genre and instruments:\n",
      "\n",
      "**Genre:** Tropical Pop/Rock with a hint of Reggae\n",
      "\n",
      "**Instruments:**\n",
      "\n",
      "1. Electric Guitar: A bright, punchy guitar sound to drive the rhythm and provide a funky, laid-back vibe.\n",
      "2. Bass Guitar: A slapping, funky bassline to add depth and energy to the track.\n",
      "3. Drums: A mix of acoustic and electronic drums to create a dynamic, pulsing rhythm.\n",
      "4. Keyboards/Synths: Adding a touch of tropical flavor with bright, shimmering synths and a hint of retro flair.\n",
      "5. Percussion: Incorporating traditional Latin American percussion elements like congas, bongos, and shakers to give the song a lively, island feel.\n",
      "6. Horns: Adding a splash of color with a trumpet or saxophone solo to punctuate key moments in the song.\n",
      "7. Strings: A subtle, atmospheric string section to enhance the emotional impact of the lyrics and add a sense of grandeur.\n",
      "\n",
      "**Production Tips:**\n",
      "\n",
      "1. Use a moderate tempo (around 110-115 BPM) to create a sense of movement and energy.\n",
      "2. Experiment with different time signatures to create a sense of tension and release.\n",
      "3. Add a touch of reverb and delay to the vocals to give them a sense of space and depth.\n",
      "4. Use the horns and percussion to create a sense of build and release, particularly during the choruses.\n",
      "5. Consider adding a brief, atmospheric instrumental break (like the \"drum solo\" in the original lyrics) to give the song a sense of breathing room.\n",
      "\n",
      "With these elements in place, \"Clownfish Boogie\" is sure to be a hit! The catchy melody, infectious rhythm, and inspiring lyrics will have listeners singing along and dancing to the beat.\n"
     ]
    }
   ],
   "source": [
    "messages = [\n",
    "    {\"role\": \"system\", \"content\": \"You are an expert assistant and song writer that writes amazing hit songs that are number one in the charts.\"},\n",
    "    {\"role\": \"user\", \"content\": f\"Describe a music genre and instruments to make a hit song about {theme} with these lyrics: {lyrics}\"},\n",
    "]\n",
    "\n",
    "prompt = pipeline.tokenizer.apply_chat_template(\n",
    "        messages, \n",
    "        tokenize=False, \n",
    "        add_generation_prompt=True\n",
    ")\n",
    "\n",
    "outputs = pipeline(\n",
    "    prompt,\n",
    "    max_new_tokens=1000,\n",
    "    eos_token_id=terminators,\n",
    "    do_sample=True,\n",
    "    temperature=0.5,\n",
    "    top_p=0.9,\n",
    ")\n",
    "print(outputs[0][\"generated_text\"][len(prompt):])"
   ]
  },
  {
   "cell_type": "code",
   "execution_count": null,
   "id": "f8694ab8-5ab8-4c0f-a43f-46187b318af2",
   "metadata": {},
   "outputs": [],
   "source": []
  }
 ],
 "metadata": {
  "kernelspec": {
   "display_name": "Python 3 (ipykernel)",
   "language": "python",
   "name": "python3"
  },
  "language_info": {
   "codemirror_mode": {
    "name": "ipython",
    "version": 3
   },
   "file_extension": ".py",
   "mimetype": "text/x-python",
   "name": "python",
   "nbconvert_exporter": "python",
   "pygments_lexer": "ipython3",
   "version": "3.11.4"
  }
 },
 "nbformat": 4,
 "nbformat_minor": 5
}
